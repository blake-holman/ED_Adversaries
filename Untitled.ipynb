{
 "cells": [
  {
   "cell_type": "markdown",
   "id": "681f064a-1d1a-4f82-bd1c-72f08dfa46b8",
   "metadata": {},
   "source": [
    "# "
   ]
  },
  {
   "cell_type": "code",
   "execution_count": 14,
   "id": "a815598d-992c-4844-8b61-72fe4524c373",
   "metadata": {},
   "outputs": [],
   "source": [
    "import itertools\n",
    "from copy import deepcopy as copy\n",
    "import highspy\n",
    "# from netgraph import InteactiveGraph # pip \"install netgraph\n",
    "from functools import reduce\n",
    "from itertools import product\n",
    "from operator import itemgetter\n",
    "\n",
    "import cvxpy as cp\n",
    "import matplotlib as mpl\n",
    "import matplotlib.pyplot as plt\n",
    "import networkx as nx\n",
    "import numpy as np\n",
    "import scipy\n",
    "from numpy.linalg import matrix_rank as rank\n",
    "from scipy.linalg import block_diag, fractional_matrix_power\n",
    "from utils.Adversary import Adversary\n",
    "from utils.Conversions import hamming_dist as dist\n",
    "from utils.Conversions import to_str, visualize\n",
    "from utils.Problems import Problem, exact_k, threshold_k\n",
    "import random\n",
    "from utils.Solvers import (np.array([vect]).T@np.array([vect])\n",
    "    adv_solver,\n",
    "    instance_mask,\n",
    "    ket,\n",
    "    partial,\n",
    "    span_solver,\n",
    "    type_mask,\n",
    ")\n",
    "\n",
    "import networkx as nx"
   ]
  },
  {
   "cell_type": "code",
   "execution_count": 22,
   "id": "f0be9497-642b-4688-89a5-b6e76bfd2b2b",
   "metadata": {},
   "outputs": [],
   "source": [
    "def relax_peb(A, T=None):\n",
    "    N = A.shape[0]\n",
    "    if T is None:\n",
    "        T = N**2\n",
    "    peb = cp.Variable((T, N))\n",
    "    constraints = [peb <= 1, peb >= 0, peb[-1,-1]==1]\n",
    "    for i in range(T-1):\n",
    "        for v in range(N):\n",
    "            for u in range(v):\n",
    "                # if u is a parent of v\n",
    "                if A[u,v] == 1:\n",
    "                    constraints += [peb[i+1, v] <= peb[i, u]]\n",
    "    opt_prob = cp.Problem(cp.Minimize(cp.sum(peb[:, :-1])), constraints)\n",
    "    opt_prob.solve(solver=\"MOSEK\", verbose=True,  mosek_params={\"MSK_IPAR_NUM_THREADS\": 12})\n",
    "    return peb.value\n",
    "\n",
    "def cleanup_peb(peb, eps = 0.0001):\n",
    "    time, nodes = peb.shape\n",
    "    peb = np.round(peb, 5)\n",
    "    for step in range(time-1, -1, -1):\n",
    "        # if pebbling completed\n",
    "        if np.abs(peb[step, -1] - 1) < eps:\n",
    "            peb[step, :-1] = 0\n",
    "        # if skipped:\n",
    "        if np.linalg.norm(peb[step, :])< eps:\n",
    "            peb = np.delete(peb, step, axis=0)\n",
    "    # peb = np.delete(peb, 0, axis=0)\n",
    "    return peb"
   ]
  },
  {
   "cell_type": "code",
   "execution_count": 32,
   "id": "0287c4ad-96e3-4d30-8f8e-bafd35d84a7a",
   "metadata": {},
   "outputs": [],
   "source": [
    "def line_graph(N):\n",
    "    A = np.zeros((N, N))\n",
    "    for i in range(N-1):\n",
    "        A[i, i+1] = 1\n",
    "    return A\n",
    "def complete(N):\n",
    "    A = np.zeros((N,N))\n",
    "    for v in range(1, N):\n",
    "        for u in range(v):\n",
    "            A[u,v] = 1\n",
    "    return A\n",
    "def argon2a(N):\n",
    "    A = line_graph(N)\n",
    "    for v in range(2, N):\n",
    "        u = np.random.randint(v-1)\n",
    "        A[u,v] = 1\n",
    "    return A\n",
    "\n",
    "def sparse_MHF(N, incoming):\n",
    "    A = line_graph(N)\n",
    "    incoming_nodes = random.sample(list(range(2,N)), incoming)\n",
    "    print(incoming_nodes)\n",
    "    for v in incoming_nodes:\n",
    "        A[np.random.randint(v-1), v] = 1\n",
    "    return A"
   ]
  },
  {
   "cell_type": "code",
   "execution_count": 33,
   "id": "3d6f3bb4-7dbb-4f00-a251-0f496d1b49e4",
   "metadata": {},
   "outputs": [
    {
     "name": "stdout",
     "output_type": "stream",
     "text": [
      "[2, 6, 7]\n"
     ]
    },
    {
     "data": {
      "image/png": "[encoded data removed]",
      "text/plain": [
       "<Figure size 640x480 with 1 Axes>"
      ]
     },
     "metadata": {},
     "output_type": "display_data"
    },
    {
     "name": "stdout",
     "output_type": "stream",
     "text": [
      "===============================================================================\n",
      "                                     CVXPY                                     \n",
      "                                     v1.5.3                                    \n",
      "===============================================================================\n",
      "(CVXPY) Jun 12 07:06:50 PM: Your problem has 1000 variables, 3189 constraints, and 0 parameters.\n",
      "(CVXPY) Jun 12 07:06:50 PM: It is compliant with the following grammars: DCP, DQCP\n",
      "(CVXPY) Jun 12 07:06:50 PM: (If you need to solve this problem multiple times, but with different data, consider using parameters.)\n",
      "(CVXPY) Jun 12 07:06:50 PM: CVXPY will first compile your problem; then, it will invoke a numerical solver to obtain a solution.\n",
      "(CVXPY) Jun 12 07:06:50 PM: Your problem is compiled with the CPP canonicalization backend.\n",
      "-------------------------------------------------------------------------------\n",
      "                                  Compilation                                  \n",
      "-------------------------------------------------------------------------------\n",
      "(CVXPY) Jun 12 07:06:50 PM: Compiling problem (target solver=MOSEK).\n",
      "(CVXPY) Jun 12 07:06:50 PM: Reduction chain: Dcp2Cone -> CvxAttr2Constr -> ConeMatrixStuffing -> MOSEK\n",
      "(CVXPY) Jun 12 07:06:50 PM: Applying reduction Dcp2Cone\n",
      "(CVXPY) Jun 12 07:06:50 PM: Applying reduction CvxAttr2Constr\n",
      "(CVXPY) Jun 12 07:06:50 PM: Applying reduction ConeMatrixStuffing\n",
      "(CVXPY) Jun 12 07:06:50 PM: Applying reduction MOSEK\n",
      "(CVXPY) Jun 12 07:06:50 PM: Finished problem compilation (took 3.102e-01 seconds).\n",
      "-------------------------------------------------------------------------------\n",
      "                                Numerical solver                               \n",
      "-------------------------------------------------------------------------------\n",
      "(CVXPY) Jun 12 07:06:50 PM: Invoking solver MOSEK  to obtain a solution.\n",
      "\n",
      "\n",
      "(CVXPY) Jun 12 07:06:50 PM: Problem\n",
      "(CVXPY) Jun 12 07:06:50 PM:   Name                   :                 \n",
      "(CVXPY) Jun 12 07:06:50 PM:   Objective sense        : maximize        \n",
      "(CVXPY) Jun 12 07:06:50 PM:   Type                   : LO (linear optimization problem)\n",
      "(CVXPY) Jun 12 07:06:50 PM:   Constraints            : 1000            \n",
      "(CVXPY) Jun 12 07:06:50 PM:   Affine conic cons.     : 0               \n",
      "(CVXPY) Jun 12 07:06:50 PM:   Disjunctive cons.      : 0               \n",
      "(CVXPY) Jun 12 07:06:50 PM:   Cones                  : 0               \n",
      "(CVXPY) Jun 12 07:06:50 PM:   Scalar variables       : 3189            \n",
      "(CVXPY) Jun 12 07:06:50 PM:   Matrix variables       : 0               \n",
      "(CVXPY) Jun 12 07:06:50 PM:   Integer variables      : 0               \n",
      "(CVXPY) Jun 12 07:06:50 PM: \n",
      "(CVXPY) Jun 12 07:06:50 PM: Optimizer started.\n",
      "(CVXPY) Jun 12 07:06:50 PM: Presolve started.\n",
      "(CVXPY) Jun 12 07:06:50 PM: Eliminator started.\n",
      "(CVXPY) Jun 12 07:06:50 PM: Freed constraints in eliminator : 0\n",
      "(CVXPY) Jun 12 07:06:50 PM: Eliminator terminated.\n",
      "(CVXPY) Jun 12 07:06:50 PM: Linear dependency checker started.\n",
      "(CVXPY) Jun 12 07:06:50 PM: Linear dependency checker terminated.\n",
      "(CVXPY) Jun 12 07:06:50 PM: Eliminator started.\n",
      "(CVXPY) Jun 12 07:06:50 PM: Freed constraints in eliminator : 0\n",
      "(CVXPY) Jun 12 07:06:50 PM: Eliminator terminated.\n",
      "(CVXPY) Jun 12 07:06:50 PM: Eliminator - tries                  : 2                 time                   : 0.00            \n",
      "(CVXPY) Jun 12 07:06:50 PM: Lin. dep.  - tries                  : 1                 time                   : 0.00            \n",
      "(CVXPY) Jun 12 07:06:50 PM: Lin. dep.  - primal attempts        : 1                 successes              : 1               \n",
      "(CVXPY) Jun 12 07:06:50 PM: Lin. dep.  - dual attempts          : 0                 successes              : 0               \n",
      "(CVXPY) Jun 12 07:06:50 PM: Lin. dep.  - primal deps.           : 0                 dual deps.             : 0               \n",
      "(CVXPY) Jun 12 07:06:50 PM: Presolve terminated. Time: 0.00    \n",
      "(CVXPY) Jun 12 07:06:50 PM: Optimizer  - threads                : 12              \n",
      "(CVXPY) Jun 12 07:06:50 PM: Optimizer  - solved problem         : the primal      \n",
      "(CVXPY) Jun 12 07:06:50 PM: Optimizer  - Constraints            : 872             \n",
      "(CVXPY) Jun 12 07:06:50 PM: Optimizer  - Cones                  : 0               \n",
      "(CVXPY) Jun 12 07:06:50 PM: Optimizer  - Scalar variables       : 2795              conic                  : 0               \n",
      "(CVXPY) Jun 12 07:06:50 PM: Optimizer  - Semi-definite variables: 0                 scalarized             : 0               \n",
      "(CVXPY) Jun 12 07:06:50 PM: Factor     - setup time             : 0.00            \n",
      "(CVXPY) Jun 12 07:06:50 PM: Factor     - dense det. time        : 0.00              GP order time          : 0.00            \n",
      "(CVXPY) Jun 12 07:06:50 PM: Factor     - nonzeros before factor : 1923              after factor           : 2755            \n",
      "(CVXPY) Jun 12 07:06:50 PM: Factor     - dense dim.             : 0                 flops                  : 1.91e+04        \n",
      "(CVXPY) Jun 12 07:06:50 PM: ITE PFEAS    DFEAS    GFEAS    PRSTATUS   POBJ              DOBJ              MU       TIME  \n",
      "(CVXPY) Jun 12 07:06:50 PM: 0   7.6e-01  5.6e-01  1.8e+02  0.00e+00   -1.596874851e+02  1.700000000e+01   1.8e-01  0.00  \n",
      "(CVXPY) Jun 12 07:06:50 PM: 1   1.6e-01  1.2e-01  3.7e+01  1.19e+00   -6.474892682e+00  2.781675299e+01   3.8e-02  0.01  \n",
      "(CVXPY) Jun 12 07:06:50 PM: 2   1.1e-03  8.0e-04  2.5e-01  1.02e+00   1.672235218e+01   1.695376472e+01   2.6e-04  0.01  \n",
      "(CVXPY) Jun 12 07:06:50 PM: 3   1.1e-07  8.0e-08  2.5e-05  1.00e+00   1.699997215e+01   1.699999539e+01   2.6e-08  0.01  \n",
      "(CVXPY) Jun 12 07:06:50 PM: 4   1.1e-11  8.0e-12  2.5e-09  1.00e+00   1.700000000e+01   1.700000000e+01   2.6e-12  0.01  \n",
      "(CVXPY) Jun 12 07:06:50 PM: 5   2.9e-15  8.0e-16  2.5e-13  1.00e+00   1.700000000e+01   1.700000000e+01   2.6e-16  0.01  \n",
      "(CVXPY) Jun 12 07:06:50 PM: Optimizer terminated. Time: 0.01    \n",
      "(CVXPY) Jun 12 07:06:50 PM: \n",
      "(CVXPY) Jun 12 07:06:50 PM: \n",
      "(CVXPY) Jun 12 07:06:50 PM: Interior-point solution summary\n",
      "(CVXPY) Jun 12 07:06:50 PM:   Problem status  : PRIMAL_AND_DUAL_FEASIBLE\n",
      "(CVXPY) Jun 12 07:06:50 PM:   Solution status : OPTIMAL\n",
      "(CVXPY) Jun 12 07:06:50 PM:   Primal.  obj: 1.7000000000e+01    nrm: 2e+01    Viol.  con: 3e-15    var: 0e+00  \n",
      "(CVXPY) Jun 12 07:06:50 PM:   Dual.    obj: 1.7000000000e+01    nrm: 1e+00    Viol.  con: 0e+00    var: 7e-16  \n",
      "-------------------------------------------------------------------------------\n",
      "                                    Summary                                    \n",
      "-------------------------------------------------------------------------------\n",
      "(CVXPY) Jun 12 07:06:50 PM: Problem status: optimal\n",
      "(CVXPY) Jun 12 07:06:50 PM: Optimal value: 1.700e+01\n",
      "(CVXPY) Jun 12 07:06:50 PM: Compilation took 3.102e-01 seconds\n",
      "(CVXPY) Jun 12 07:06:50 PM: Solver (including time spent in interface) took 1.858e-02 seconds\n"
     ]
    }
   ],
   "source": [
    "N= 10\n",
    "A = sparse_MHF(N, 3)\n",
    "G = nx.DiGraph(A)\n",
    "pos=[(i, 0) for i in range(N)]\n",
    "nx.draw_networkx_nodes(G, pos, node_size = 1200/N)\n",
    "nx.draw_networkx_edges(nx.DiGraph(line_graph(N)), pos)\n",
    "nx.draw_networkx_edges(nx.DiGraph(A-line_graph(N)), pos, connectionstyle=\"arc3, rad=-0.5\")\n",
    "nx.draw_networkx_labels(G, pos)\n",
    "plt.show()\n",
    "peb = relax_peb(A, T=N**2)\n",
    "peb = cleanup_peb(peb)"
   ]
  },
  {
   "cell_type": "code",
   "execution_count": 36,
   "id": "4fa8defb-d582-4a7c-b781-9201c492cae1",
   "metadata": {},
   "outputs": [
    {
     "data": {
      "image/png": "[encoded data removed]",
      "text/plain": [
       "<Figure size 640x480 with 2 Axes>"
      ]
     },
     "metadata": {},
     "output_type": "display_data"
    }
   ],
   "source": [
    "visualize(peb, xlabel=\"Nodes\", ylabel=\"Steps\", title=\"Sandy Pebbling\", labels=(list(range(peb.shape[1])), list(range(peb.shape[0]))))"
   ]
  },
  {
   "cell_type": "code",
   "execution_count": null,
   "id": "6e232efe-9fbb-4a62-9254-c75b86ce2ebb",
   "metadata": {},
   "outputs": [],
   "source": []
  },
  {
   "cell_type": "code",
   "execution_count": null,
   "id": "ec84c086-ed80-47a2-b510-870f44781dc8",
   "metadata": {},
   "outputs": [],
   "source": []
  },
  {
   "cell_type": "code",
   "execution_count": null,
   "id": "ad5c9535-089b-4a18-bc50-5627b2f7118c",
   "metadata": {},
   "outputs": [],
   "source": []
  },
  {
   "cell_type": "code",
   "execution_count": null,
   "id": "3d4a0181-18b2-4efb-a275-c446695e0dc2",
   "metadata": {},
   "outputs": [],
   "source": []
  },
  {
   "cell_type": "code",
   "execution_count": null,
   "id": "f2112a12-f6b1-47ec-a746-d35b43c08ec1",
   "metadata": {},
   "outputs": [],
   "source": []
  }
 ],
 "metadata": {
  "kernelspec": {
   "display_name": "Python 3 (ipykernel)",
   "language": "python",
   "name": "python3"
  },
  "language_info": {
   "codemirror_mode": {
    "name": "ipython",
    "version": 3
   },
   "file_extension": ".py",
   "mimetype": "text/x-python",
   "name": "python",
   "nbconvert_exporter": "python",
   "pygments_lexer": "ipython3",
   "version": "3.12.7"
  }
 },
 "nbformat": 4,
 "nbformat_minor": 5
}
