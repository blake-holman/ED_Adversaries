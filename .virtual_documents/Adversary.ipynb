import numpy as np
import itertools 
from math import comb
import matplotlib.pyplot as plt
import scipy
import scipy.linalg

from Adversary import Adversary, Problem
from ElementDistinctness import ED
from Solvers import adv_solver, span_solver, space_adv_solver









# generates a list of all partial injective functions [n] to [n] with domain size k
# format: (inputs, outputs) such that f(intputs[i]) = f(outputs[i])
def all_injective(n, k):
    print(k)
    injectives_single = list(itertools.combinations(list(range(n)), k))
    ranges = list(itertools.permutations(list(range(n)), k))
    return list(set(itertools.product(injectives_single, ranges)))

# outputs ids for the functions from family agree with the partial function
def get_agreeable_indices(partial_injective, family):
    indices = []
    for function, i in family.items():
        # print(i, function)
        agree = True
        for index, output in zip(*partial_injective):
            if function[index] != output:
                agree = False
                break

        if agree:
            indices.append(i)
    return indices

# outputs the v_a and w_a vectors. In retrospect, these vectors aren't orthogonal
def get_basis_vector(partial_injective, family, n):
    agreeable = get_agreeable_indices(partial_injective, family)
    basis_vector = np.zeros(len(family))
    for i in agreeable:
        # print('ag', len(agreeable))
        basis_vector[i] = 1
    return basis_vector / np.sqrt(len(agreeable))
    


# outputs projection onto the space spanned by no-instances that agree with k-sized partial injective functions
def no_space_projection(k, no_fam, n):
    projection = np.zeros((len(no_fam), len(no_fam)))
    all_partial_injectives = all_injective(n, k)
    no_vects = [get_basis_vector(injective, no_fam, n) for injective in all_partial_injectives]
    no_vects = np.array(no_vects).T

    # print(no_vects)
    ortho_basis = scipy.linalg.orth(no_vects)
    # print(ortho_basis)
    # print('mat', ortho_basis)
    basis_vectors = [np.array([ortho_basis.T[i]]).T for i in range(ortho_basis.shape[1])]
    # print(ortho_basis)
    
    for v in basis_vectors:
        # print(v)
        # print(v@ v.T)
        # plt.imshow( v@ v.T)
        # plt.show()
        projection += v @ v.T
    plt.imshow(projection)
    return projection
                          
def L_matrix(k, yes_fam, no_fam, n):
    projection = np.zeros((len(yes_fam), len(no_fam)))
    all_partial_injectives = all_injective(n, k)
    for injective_1 in all_partial_injectives:
        w = get_basis_vector(injective_1, yes_fam, n)
        v = get_basis_vector(injective_1, no_fam, n)
        # plt.imshow(np.asmatrix(v).T)
        # plt.show()
        # print(w.T)
        # print(v)
        # input(np.asmatrix(w).T @ np.asmatrix(v))
        projection = projection + np.asmatrix(w).T @ np.asmatrix(v)
        
    return projection
    
def H_projection(k, no_fam, n):
    A_k = no_space_projection(k, no_fam, n)
    if k==0:
          return A_k
    I = np.identity(len(no_fam))
    A_km1 = no_space_projection(k-1, no_fam, n)
    return 2 *(A_k- A_k @ scipy.linalg.pinv(A_k+ (I-A_km1))) @ A_k

def get_adversary_matrix(n, yes_fam, no_fam):
    adv_mat = np.zeros((len(yes_fam), len(no_fam)))
    target = int(n**(2/3))+ 1
    print('target', target)
    for k in range(target):
        print('k', k)
        adv_mat = adv_mat + (target - k) * L_matrix(k, yes_fam, no_fam, n) @ H_projection(k, no_fam, n)
    return adv_mat
    
    



def partial_vectors(k, yes_fam, no_fam, n):
    projection = np.zeros((len(yes_fam), len(no_fam)))
    all_partial_injectives = all_injective(n, k)
    W = []
    V = []
    for injective_1 in all_partial_injectives:
        w = get_basis_vector(injective_1, yes_fam, n)
        v = get_basis_vector(injective_1, no_fam, n)
        W.append(w)
        V.append(v)
    return np.array(W).T, np.array(V).T

def plot_partial_vectors(k, yes_fam, no_fam, n):
    fam = [yes_fam, no_fam]
    fig, axs = plt.subplots(2, 1)
    vects = partial_vectors(k, yes_fam, no_fam, n)
    for i in range(len(axs)):
        ax = axs[i]
        ax.imshow(vects[i])
        ax.tick_params(axis='both', which='major', labelsize=3)
        ax.tick_params(axis='both', which='minor', labelsize=1)
        ax.set_xticks(np.arange(vects[i].shape[1]), minor=False)
        ax.set_yticks(np.arange(vects[i].shape[0]), minor=False)
        y_labels = [to_str(func) for func in fam[i]]
        x_labels = [to_str(dom) + '-->' + to_str(ran) for dom, ran in all_injective(n, k)]
        print(y_labels)
        print(all_injective(n, k))
        ax.set_yticklabels(y_labels)
        ax.set_xticklabels(x_labels)
        # ax.set_xticklabels(xlabels, rotation=90)
        # ax.set_yticklabels(ylabels)
    plt.show()

    


n=5
problem = ED(n)
yes_dict = {problem.yes_instances[i]: i for i in range(problem.yes_len)}
no_dict = {problem.no_instances[i]: i for i in range(problem.no_len)}
G = get_adversary_matrix(n, yes_dict, no_dict)
# H = H_projection(0, no_dict, n)
# plt.imshow(H)
# plt.colorbar()
# plt.show()
# print(np.min(H), np.max(H))
# print('H' ,L_matrix(0, yes_dict, no_dict, n)[0,0])
# print(no_family, '\n', yes_family)
adv = Adversary(problem, lambda yes, no: G[yes_dict[yes], no_dict[no]])
full = np.block([
    [np.zeros((problem.no_len, problem.no_len)), G.T],
    [G, np.zeros((problem.yes_len, problem.yes_len))]
])

plt.imshow(adv.matrix)
plt.colorbar()
plt.show()



# plt.imshow(full)
# plt.colorbar()
# plt.show()
# for i in range(3):
    # plt.imshow(H_projection(i, no_family, 3))
    # plt.show()
# plot_partial_vectors(1, yes_family, no_family, 3)
# for i in range(3):
    # plt.imshow(L_matrix(i, yes_family, no_family, 3))
#     plt.colorbar()
#     plt.show()

# target = int(n**(2/3))+2
# fig, axs = plt.subplots(target, 1)
# fig.suptitle('L_k Matrices')
# for k in range(target):
    # plt.imshow(L_matrix(k, yes_family, no_family, n))
#     plt.colorbar()
#     plt.show()

# plt.savefig('L_k.png')
    
# H=no_space_projection(k, no_family, n)
# L=L_matrix(k, yes_family, no_family, n)
# print(np.max(L@H))
# plt.imshow((L@H).T)
# plt.colorbar()


U, s, Vh = np.linalg.svd(adv.matrix)
print(s)
plt.imshow(U)
plt.colorbar()
plt.show()

plt.imshow(Vh)
plt.colorbar()
plt.show()


vals, vects = scipy.linalg.eigh(full)
i = np.argmax(vals)
print(vals)
plt.imshow(vects.real[:, i:i+1].reshape((np.math.factorial(problem.n), (problem.yes_len + problem.no_len)//np.math.factorial(problem.n))))
plt.colorbar()
# vects = vects * np.sqrt(3)
big = vects.real[:, i][0]
small = vects.real[:, i][-1]
print(big, small, big/small)
# print(vects[:,0])


plt.imshow(adv.matrix)
plt.colorbar()
plt.savefig('bigadv.png')


def to_str(L):
    return ''.join(str(e) for e in L)

def get_equiv_classes(adv):
    equiv_classes = {}
    for yes in range(adv.matrix.shape[0]):
        for no in range(adv.matrix.shape[1]):
            adv_val = np.round(adv.matrix[yes, no], 5)
            if adv_val not in equiv_classes:
                equiv_classes[adv_val] = [(to_str(adv.problem.yes_instances[yes]), (to_str(adv.problem.no_instances[no])))]
            else:
                equiv_classes[adv_val].append((to_str(adv.problem.yes_instances[yes]), (to_str(adv.problem.no_instances[no]))))
    return equiv_classes

def hamming_dist(a, b):
    return len([i for i in range(len(a)) if a[i]!=b[i]])

classes = get_equiv_classes(adv)
for val, pair in classes.items():
    print(set(hamming_dist(a, b) for a,b in pair))
    print(val, pair)
    print()


print(adv.matrix[0,4], problem.no_len, problem.yes_len)
print(24*144)


np.linalg.norm(adv.matrix, 2)
adv.adv()


all_injective(3, 2)


for i, o in all_injective(3, 2):
    print(i, o)





ez_adv = Adversary(problem, lambda yes, no: 1 if hamming_dist(yes, no)==1 else 0)


plt.imshow(ez_adv.matrix @ ez_adv.matrix.T)
plt.colorbar()
# np.linalg.eig(ez_adv.matrpok


plt.imshow(ez_adv.partial_matrix(0)@ ez_adv.partial_matrix(0).T)
# plt.imshow(ez_adv.partial_matrix(0))
plt.colorbar()


problem = ED(3)
opt_adv = adv_solver(problem)



v, X = span_solver(problem)
print(v)


print(np.linalg.matrix_rank(X))


adv.visualize_matrix(save='ros_mat.png')


get_equiv_classes(adv)


opt_mat = L[problem.no_len:, :problem.no_len]
print(opt_mat)
print(opt_mat[0][1])
opt_adv = Adversary(problem, lambda yes, no: opt_mat[problem.yes_instance_to_index[yes]][problem.no_instance_to_index[no]])


opt_adv.visualize_matrix(save='opt_mat.png')


get_equiv_classes(opt_adv)


print(opt_adv.matrix[0,0]/opt_adv.matrix[0,1])


def how_many_hamming(problem, ham):
    counter = 0
    for yes in problem.yes_instances:
        for no in problem.no_instances:
            if hamming_dist(no, yes)==ham:
                counter += 1
    return counter


how_many_hamming(problem,0)


print(len(problem.yes_instances), len(problem.no_instances))










































