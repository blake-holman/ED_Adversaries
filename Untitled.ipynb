{
 "cells": [
  {
   "cell_type": "code",
   "execution_count": 68,
   "id": "8f90aedf-9c95-4ff1-9af9-be7ac2a51c9c",
   "metadata": {},
   "outputs": [],
   "source": [
    "# Import packages.\n",
    "import cvxpy as cp\n",
    "import numpy as np\n",
    "from Adversary import Adversary, Problem\n",
    "from Examples import exact_k, threshold_k\n",
    "import matplotlib.pyplot as plt\n",
    "import itertools\n",
    "from ElementDistinctness import ED"
   ]
  },
  {
   "cell_type": "code",
   "execution_count": 69,
   "id": "a550be5d-5830-4037-8961-7cff6122a45a",
   "metadata": {},
   "outputs": [],
   "source": [
    "def partial(problem, i):\n",
    "    lang_size = problem.yes_len + problem.no_len\n",
    "    D = np.zeros((lang_size, lang_size))\n",
    "    for j in range(prob.yes_len):\n",
    "        for k in range(prob.no_len):\n",
    "            yes = problem.yes_instances[j]\n",
    "            no = problem.no_instances[k]\n",
    "            if yes[i] != no[i]:\n",
    "                D[j + problem.no_len][k] = 1\n",
    "                D[k][j + problem.no_len] = 1 \n",
    "    return D\n",
    "def big_mask_index_disagree(problem, i):\n",
    "    lang_size = problem.yes_len + problem.no_len\n",
    "    n = problem.n\n",
    "    target = [np.zeros((lang_size, lang_size))]*i + [partial(problem, i)] + [np.zeros((lang_size, lang_size))]*(n-i-1)\n",
    "    return np.block([target if j==i else [np.zeros((lang_size, lang_size))] * n for j in range(n)])\n",
    "\n",
    "\n",
    "    \n",
    "def type_mask(problem):\n",
    "    lang_size = problem.yes_len + problem.no_len\n",
    "    mask = np.zeros((lang_size, lang_size))\n",
    "    for i in range(problem.yes_len):\n",
    "        for j in range(problem.no_len):\n",
    "            mask[i + problem.no_len][j] = 1\n",
    "            mask[j][i + problem.no_len] = 1 \n",
    "    return mask\n",
    "\n",
    "def instance_mask(problem, instance):\n",
    "    lang_size = problem.yes_len + problem.no_len\n",
    "    mask = np.zeros((lang_size, lang_size))\n",
    "    mask[problem.instance_to_index[instance]][problem.instance_to_index[instance]] = 1\n",
    "    return mask \n",
    "\n",
    "def big_mask_instance(problem, instance):\n",
    "    lang_size = problem.yes_len + problem.no_len\n",
    "    n = problem.n\n",
    "    \n",
    "    # target = [np.zeros((lang_size, lang_size))]*i + [partial(problem, i)] + [np.zeros((lang_size, lang_size))]*(n-i-1)\n",
    "    return np.block([[np.zeros((lang_size, lang_size))]*i + [instance_mask(problem, instance)] + [np.zeros((lang_size, lang_size))]*(n-i-1) for i in range(n)])\n",
    "    \n",
    "def big_mask_type(problem):\n",
    "    lang_size = problem.yes_len + problem.no_len\n",
    "    n = problem.n\n",
    "\n",
    "def big_mask_index_disagree_type(problem, yes_instance, no_instance):\n",
    "    yes = problem.instance_to_index[yes_instance]\n",
    "    no = problem.instance_to_index[no_instance]\n",
    "    lang_size = problem.yes_len + problem.no_len\n",
    "    n = problem.n\n",
    "    mask = np.zeros((lang_size, lang_size))\n",
    "    mask[yes, no] = 1\n",
    "    big = []\n",
    "    for i in range(n):\n",
    "        if yes_instance[i] != no_instance[i]:\n",
    "            big.append([np.zeros((lang_size, lang_size))]*i + [mask] + [np.zeros((lang_size, lang_size))]*(n-i-1))\n",
    "        else:\n",
    "            big.append([np.zeros((lang_size, lang_size))]*n)\n",
    "    return np.block(big)\n",
    "    # target = [np.zeros((lang_size, lang_size))]*i + [partial(problem, i)] + [np.zeros((lang_size, lang_size))]*(n-i-1)\n",
    "    # return np.block([[np.zeros((lang_size, lang_size))]*i + [type_mask(problem)] + [np.zeros((lang_size, lang_size))]*(n-i-1) for i in range(n)])\n",
    "\n",
    "def span_solver(problem, s):\n",
    "    lang_size = problem.yes_len + problem.no_len\n",
    "    n = problem.n\n",
    "    mat_size = lang_size * n\n",
    "    X = cp.Variable((mat_size, mat_size), symmetric=True)\n",
    "    t = cp.Variable()\n",
    "    I = np.identity(mat_size)\n",
    "    constraints = [X >> 0, cp.trace(X) <= s]\n",
    "    constraints += [cp.sum(cp.multiply(big_mask_index_disagree_type(problem, yes_i, no_i), X)) == 1 for yes_i, no_i in itertools.product(problem.yes_instances, problem.no_instances)]\n",
    "    constraints += [cp.trace(cp.multiply(big_mask_instance(problem, instance), X)) <= t for instance in problem.no_instances + problem.yes_instances]\n",
    "    prob = cp.Problem(cp.Minimize(t), constraints)\n",
    "    prob.solve()\n",
    "    return prob.value, X.value\n",
    "\n",
    "def span_experiment(problem):\n",
    "    lang_size = problem.yes_len + problem.no_len\n",
    "    n = problem.n\n",
    "    mat_size = lang_size * n\n",
    "    X = cp.Variable((mat_size, mat_size), symmetric=True)\n",
    "    # t = cp.Variable()\n",
    "    I = np.identity(mat_size)\n",
    "    constraints = [X >> 0, ]\n",
    "    constraints += [cp.sum(cp.multiply(big_mask_index_disagree_type(problem, yes_i, no_i), X)) == 1 for yes_i, no_i in itertools.product(problem.yes_instances, problem.no_instances)]\n",
    "    # constraints += [cp.trace(cp.multiply(big_mask_instance(problem, instance), X)) <= t for instance in problem.no_instances + problem.yes_instances]\n",
    "    prob = cp.Problem(cp.Minimize(cp.trace(X)), constraints)\n",
    "    prob.solve()\n",
    "    return prob.value, X.value\n",
    "\n",
    "\n",
    "def adv_solver(problem):\n",
    "    lang_size = problem.yes_len + problem.no_len\n",
    "    n = problem.n\n",
    "    mat_size = lang_size \n",
    "    L = cp.Variable((lang_size, lang_size), symmetric=True)\n",
    "    M = cp.Variable((lang_size))\n",
    "    constraints = [cp.diag(M) >> cp.multiply(L, partial(problem, j)) for j in range(n)]\n",
    "    constraints += [cp.sum(M) == 1]\n",
    "    constraints += [M >= 0]\n",
    "    # L is an adversary matrix\n",
    "    constraints += [\n",
    "        cp.multiply(L, np.ones((mat_size, mat_size)) - type_mask(problem)) == 0 \n",
    "    ]\n",
    "    opt_func = cp.sum(\n",
    "        cp.multiply(\n",
    "            type_mask(problem), L\n",
    "        ))\n",
    "    prob = cp.Problem(cp.Maximize(opt_func), constraints)\n",
    "    prob.solve()\n",
    "    return prob.value, L.value, M.value\n",
    "    "
   ]
  },
  {
   "cell_type": "code",
   "execution_count": 94,
   "id": "0183b7a2-d929-468d-a4b6-ca0c509f309f",
   "metadata": {},
   "outputs": [
    {
     "name": "stdout",
     "output_type": "stream",
     "text": [
      "[(0, 1, 2), (0, 2, 1), (1, 0, 2), (1, 2, 0), (2, 0, 1), (2, 1, 0)]\n"
     ]
    },
    {
     "data": {
      "image/png": "[encoded data removed]",
      "text/plain": [
       "<Figure size 432x288 with 2 Axes>"
      ]
     },
     "metadata": {
      "needs_background": "light"
     },
     "output_type": "display_data"
    },
    {
     "data": {
      "image/png": "[encoded data removed]",
      "text/plain": [
       "<Figure size 432x288 with 2 Axes>"
      ]
     },
     "metadata": {
      "needs_background": "light"
     },
     "output_type": "display_data"
    }
   ],
   "source": [
    "prob = ED(3)\n",
    "val, M = span_solver(prob, 1000)\n",
    "val1, M1 = span_experiment(prob)\n",
    "M = np.round(M, 7)\n",
    "M1 = np.round(M1, 7)\n",
    "plt.imshow(M)\n",
    "plt.colorbar()\n",
    "plt.show()\n",
    "\n",
    "plt.imshow(M1)\n",
    "plt.colorbar()\n",
    "plt.show()"
   ]
  },
  {
   "cell_type": "code",
   "execution_count": 95,
   "id": "c9a2353e-8d95-49f8-bd1a-ebd1c9f3dcb1",
   "metadata": {},
   "outputs": [
    {
     "name": "stdout",
     "output_type": "stream",
     "text": [
      "2.4684119944465834 51.304978396573155\n",
      "66 39\n",
      "59.241889799999996 51.30498059999999\n"
     ]
    }
   ],
   "source": [
    "print(val, val1)\n",
    "print(np.linalg.matrix_rank(M), np.linalg.matrix_rank(M1))\n",
    "print(np.trace(M), np.trace(M1))"
   ]
  },
  {
   "cell_type": "code",
   "execution_count": 89,
   "id": "c2c50b9e-d73c-4638-94ab-20f93b3add69",
   "metadata": {},
   "outputs": [
    {
     "name": "stdout",
     "output_type": "stream",
     "text": [
      "{1: 'a', 2: 'b'}\n"
     ]
    }
   ],
   "source": [
    "a = {1:'a'}\n",
    "a.update({2: 'b'})\n",
    "print(a)"
   ]
  },
  {
   "cell_type": "code",
   "execution_count": 37,
   "id": "c9976fbd-8107-44cb-abde-4ccca932c9f7",
   "metadata": {},
   "outputs": [],
   "source": [
    "def gram(V):\n",
    "    mat = np.zeros((len(V), len(V)))\n",
    "    for i in range(len(V)):\n",
    "        for j in range(len(V)):\n",
    "            mat[i, j] = V[i] @ V[j].T\n",
    "    return mat"
   ]
  },
  {
   "cell_type": "code",
   "execution_count": 41,
   "id": "2f904f2e-37be-4437-a422-39c0557b7630",
   "metadata": {},
   "outputs": [],
   "source": [
    "V = [\n",
    "np.array([1,0,0]),\n",
    "np.array([0,1, 0]),\n",
    "np.array([1,1, 0])\n",
    "]\n",
    "\n",
    "g = gram(V)"
   ]
  },
  {
   "cell_type": "code",
   "execution_count": 42,
   "id": "2b327422-f8ea-4d7a-9639-f08bfbf9a57e",
   "metadata": {},
   "outputs": [
    {
     "name": "stdout",
     "output_type": "stream",
     "text": [
      "2\n"
     ]
    }
   ],
   "source": [
    "print(np.linalg.matrix_rank(g))"
   ]
  },
  {
   "cell_type": "code",
   "execution_count": 50,
   "id": "8217fa86-ab9e-4901-8a6d-ba108a9379ea",
   "metadata": {},
   "outputs": [],
   "source": [
    "mask = big_mask_type(prob)"
   ]
  },
  {
   "cell_type": "code",
   "execution_count": 51,
   "id": "6f49aded-066a-4b31-b661-5fe5d80493f0",
   "metadata": {},
   "outputs": [
    {
     "name": "stdout",
     "output_type": "stream",
     "text": [
      "None\n"
     ]
    }
   ],
   "source": [
    "print(mask)"
   ]
  },
  {
   "cell_type": "code",
   "execution_count": 59,
   "id": "6493d663-f398-4ab0-bf61-0b8454f27f96",
   "metadata": {},
   "outputs": [
    {
     "name": "stderr",
     "output_type": "stream",
     "text": [
      "C:\\Users\\blake\\AppData\\Local\\Temp/ipykernel_31112/3577447844.py:1: DeprecationWarning: Calling np.sum(generator) is deprecated, and in the future will give a different result. Use np.sum(np.fromiter(generator)) or the python sum builtin instead.\n",
      "  M = np.sum(big_mask_index_disagree_type(prob, yes_i, no_i) for yes_i, no_i in itertools.product(prob.yes_instances, prob.no_instances))\n"
     ]
    }
   ],
   "source": [
    "M = np.sum(big_mask_index_disagree_type(prob, yes_i, no_i) for yes_i, no_i in itertools.product(prob.yes_instances, prob.no_instances))\n",
    "M = M + M.T"
   ]
  },
  {
   "cell_type": "code",
   "execution_count": 67,
   "id": "72cb1f85-0aea-4ebd-af03-ac6ed423637b",
   "metadata": {},
   "outputs": [
    {
     "data": {
      "text/plain": [
       "<matplotlib.colorbar.Colorbar at 0x17e1d1bfd90>"
      ]
     },
     "execution_count": 67,
     "metadata": {},
     "output_type": "execute_result"
    },
    {
     "data": {
      "image/png": "[encoded data removed]",
      "text/plain": [
       "<Figure size 432x288 with 2 Axes>"
      ]
     },
     "metadata": {
      "needs_background": "light"
     },
     "output_type": "display_data"
    }
   ],
   "source": [
    "plt.imshow(np.real(np.linalg.eig(M)[1]))\n",
    "plt.colorbar()"
   ]
  },
  {
   "cell_type": "code",
   "execution_count": 61,
   "id": "f5de6a2d-fb44-47ef-a968-3135235de300",
   "metadata": {},
   "outputs": [
    {
     "name": "stdout",
     "output_type": "stream",
     "text": [
      "18\n"
     ]
    }
   ],
   "source": [
    "print(np.linalg.matrix_rank(M))"
   ]
  },
  {
   "cell_type": "code",
   "execution_count": null,
   "id": "41079824-ebf0-4f39-95a5-73c668fea365",
   "metadata": {},
   "outputs": [],
   "source": []
  }
 ],
 "metadata": {
  "kernelspec": {
   "display_name": "Python 3 (ipykernel)",
   "language": "python",
   "name": "python3"
  },
  "language_info": {
   "codemirror_mode": {
    "name": "ipython",
    "version": 3
   },
   "file_extension": ".py",
   "mimetype": "text/x-python",
   "name": "python",
   "nbconvert_exporter": "python",
   "pygments_lexer": "ipython3",
   "version": "3.9.7"
  }
 },
 "nbformat": 4,
 "nbformat_minor": 5
}
