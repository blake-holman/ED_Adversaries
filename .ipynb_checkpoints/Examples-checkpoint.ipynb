{
 "cells": [
  {
   "cell_type": "code",
   "execution_count": 11,
   "metadata": {
    "pycharm": {
     "is_executing": true
    },
    "tags": []
   },
   "outputs": [],
   "source": [
    "import matplotlib.pyplot as plt\n",
    "from Adversary import Adversary, Problem, hamming_dist, visualize\n",
    "import itertools\n",
    "import numpy as np"
   ]
  },
  {
   "cell_type": "code",
   "execution_count": 2,
   "metadata": {
    "collapsed": false,
    "jupyter": {
     "outputs_hidden": false
    },
    "pycharm": {
     "name": "#%%\n"
    }
   },
   "outputs": [],
   "source": [
    "def exact_k(n, k):\n",
    "    no_instances = [tuple([0] * n)]\n",
    "    yes_instances = list(set(itertools.permutations(tuple([0] * (n-k) + [1] * k))))\n",
    "    return Problem(no_instances, yes_instances)\n",
    "\n",
    "def threshold_k(n, k):\n",
    "    no_instances = set()\n",
    "    yes_instances = set()\n",
    "\n",
    "    for i in range(k):\n",
    "        no_instances = no_instances.union(itertools.permutations(tuple([0] * (n-i) + [1] * i)))\n",
    "\n",
    "    no_instances = list(no_instances)\n",
    "    yes_instances = set(itertools.permutations(tuple([0]* (n-k) + [1]*k)))\n",
    "    return Problem(no_instances, list(yes_instances))\n",
    "\n",
    "thresh = threshold_k(4, 2)"
   ]
  },
  {
   "cell_type": "code",
   "execution_count": 3,
   "metadata": {
    "collapsed": false,
    "jupyter": {
     "outputs_hidden": false
    },
    "pycharm": {
     "name": "#%%\n"
    }
   },
   "outputs": [
    {
     "name": "stdout",
     "output_type": "stream",
     "text": [
      "No:[(0, 0, 0, 0), (0, 0, 0, 1), (0, 0, 1, 0), (0, 1, 0, 0), (1, 0, 0, 0)]\n",
      "Yes:[(0, 0, 1, 1), (0, 1, 0, 1), (0, 1, 1, 0), (1, 0, 0, 1), (1, 0, 1, 0), (1, 1, 0, 0)]\n"
     ]
    }
   ],
   "source": [
    "print(thresh)"
   ]
  },
  {
   "cell_type": "code",
   "execution_count": 4,
   "metadata": {
    "collapsed": false,
    "jupyter": {
     "outputs_hidden": false
    },
    "pycharm": {
     "name": "#%%\n"
    }
   },
   "outputs": [],
   "source": [
    "thresh_adversary = Adversary(thresh, lambda yes, no: 1 if )"
   ]
  },
  {
   "cell_type": "code",
   "execution_count": 5,
   "metadata": {
    "collapsed": false,
    "jupyter": {
     "outputs_hidden": false
    },
    "pycharm": {
     "name": "#%%\n"
    }
   },
   "outputs": [
    {
     "data": {
      "image/png": "[encoded data removed]",
      "text/plain": [
       "<Figure size 432x288 with 2 Axes>"
      ]
     },
     "metadata": {
      "needs_background": "light"
     },
     "output_type": "display_data"
    }
   ],
   "source": [
    "thresh_adversary.visualize_matrix()"
   ]
  },
  {
   "cell_type": "code",
   "execution_count": 8,
   "metadata": {
    "collapsed": false,
    "jupyter": {
     "outputs_hidden": false
    },
    "pycharm": {
     "name": "#%%\n"
    }
   },
   "outputs": [],
   "source": [
    "full = np.block([[np.zeros((thresh_adversary.matrix.shape[0], thresh_adversary.matrix.shape[0])), thresh_adversary.matrix],\n",
    "                [thresh_adversary.matrix.T, np.zeros((thresh_adversary.matrix.shape[1], thresh_adversary.matrix.shape[1]))]])"
   ]
  },
  {
   "cell_type": "code",
   "execution_count": 9,
   "metadata": {},
   "outputs": [
    {
     "name": "stdout",
     "output_type": "stream",
     "text": [
      "[[0. 0. 0. 0. 0. 0. 2. 1. 1. 3. 3.]\n",
      " [0. 0. 0. 0. 0. 0. 2. 1. 3. 1. 3.]\n",
      " [0. 0. 0. 0. 0. 0. 2. 3. 1. 1. 3.]\n",
      " [0. 0. 0. 0. 0. 0. 2. 1. 3. 3. 1.]\n",
      " [0. 0. 0. 0. 0. 0. 2. 3. 1. 3. 1.]\n",
      " [0. 0. 0. 0. 0. 0. 2. 3. 3. 1. 1.]\n",
      " [2. 2. 2. 2. 2. 2. 0. 0. 0. 0. 0.]\n",
      " [1. 1. 3. 1. 3. 3. 0. 0. 0. 0. 0.]\n",
      " [1. 3. 1. 3. 1. 3. 0. 0. 0. 0. 0.]\n",
      " [3. 1. 1. 3. 3. 1. 0. 0. 0. 0. 0.]\n",
      " [3. 3. 3. 1. 1. 1. 0. 0. 0. 0. 0.]]\n"
     ]
    },
    {
     "data": {
      "image/png": "[encoded data removed]",
      "text/plain": [
       "<Figure size 432x288 with 2 Axes>"
      ]
     },
     "metadata": {
      "needs_background": "light"
     },
     "output_type": "display_data"
    }
   ],
   "source": [
    "print(full)\n",
    "visualize(full)"
   ]
  },
  {
   "cell_type": "code",
   "execution_count": 19,
   "metadata": {},
   "outputs": [
    {
     "name": "stdout",
     "output_type": "stream",
     "text": [
      "[[ 2.88675135e-01  2.88675135e-01  1.95130163e-02 -3.74376553e-01\n",
      "  -5.00000000e-01 -1.61867958e-01 -5.00000000e-01 -3.17712745e-03\n",
      "  -8.34534275e-02 -4.08692023e-02 -3.65372776e-01]\n",
      " [ 2.88675135e-01  2.88675135e-01 -1.74861940e-01  6.14272048e-02\n",
      "   5.60383812e-16 -3.83582117e-01 -1.79111924e-16  4.86235150e-01\n",
      "   4.21523997e-01  1.19678978e-02  3.48392177e-02]\n",
      " [ 2.88675135e-01  2.88675135e-01  1.55348924e-01  3.12949348e-01\n",
      "  -3.08926353e-16  2.76881787e-01  9.62250126e-17 -1.16470102e-01\n",
      "   2.55642416e-01  4.98183177e-01  3.30533559e-01]\n",
      " [ 2.88675135e-01  2.88675135e-01  1.55348924e-01  3.12949348e-01\n",
      "   4.82785668e-16 -2.76881787e-01  1.67811120e-16  1.16470102e-01\n",
      "  -2.55642416e-01 -4.98183177e-01  3.30533559e-01]\n",
      " [ 2.88675135e-01  2.88675135e-01 -1.74861940e-01  6.14272048e-02\n",
      "  -2.94863519e-16  3.83582117e-01  2.14140465e-16 -4.86235150e-01\n",
      "  -4.21523997e-01 -1.19678978e-02  3.48392177e-02]\n",
      " [ 2.88675135e-01  2.88675135e-01  1.95130163e-02 -3.74376553e-01\n",
      "   5.00000000e-01  1.61867958e-01  5.00000000e-01  3.17712745e-03\n",
      "   8.34534275e-02  4.08692023e-02 -3.65372776e-01]\n",
      " [ 3.16227766e-01 -3.16227766e-01  8.43714886e-01  6.42658977e-01\n",
      "  -1.05566764e-16 -4.69972463e-16 -7.64396407e-17  9.61762688e-17\n",
      "   3.30907017e-16  1.36248969e-16  6.40045661e-01]\n",
      " [ 3.16227766e-01 -3.16227766e-01 -2.10928722e-01 -1.60664744e-01\n",
      "   3.53553391e-01  5.81476436e-01 -3.53553391e-01  4.23930402e-01\n",
      "  -5.82855063e-02 -3.72705011e-01 -1.60011415e-01]\n",
      " [ 3.16227766e-01 -3.16227766e-01 -2.10928722e-01 -1.60664744e-01\n",
      "   3.53553391e-01 -3.52560574e-01 -3.53553391e-01 -4.28423539e-01\n",
      "   1.76306475e-01  3.14907231e-01 -1.60011415e-01]\n",
      " [ 3.16227766e-01 -3.16227766e-01 -2.10928722e-01 -1.60664744e-01\n",
      "  -3.53553391e-01 -3.90094036e-02  3.53553391e-01  2.63709941e-01\n",
      "  -5.37839448e-01  3.89630174e-01 -1.60011415e-01]\n",
      " [ 3.16227766e-01 -3.16227766e-01 -2.10928722e-01 -1.60664744e-01\n",
      "  -3.53553391e-01 -1.89906458e-01  3.53553391e-01 -2.59216805e-01\n",
      "   4.19818479e-01 -3.31832394e-01 -1.60011415e-01]]\n"
     ]
    }
   ],
   "source": [
    "evects = np.linalg.eig(full)[1]\n",
    "print(evects)"
   ]
  },
  {
   "cell_type": "code",
   "execution_count": 23,
   "metadata": {},
   "outputs": [
    {
     "data": {
      "text/plain": [
       "<matplotlib.colorbar.Colorbar at 0x1f046acaa90>"
      ]
     },
     "execution_count": 23,
     "metadata": {},
     "output_type": "execute_result"
    },
    {
     "data": {
      "image/png": "[encoded data removed]",
      "text/plain": [
       "<Figure size 432x288 with 2 Axes>"
      ]
     },
     "metadata": {
      "needs_background": "light"
     },
     "output_type": "display_data"
    }
   ],
   "source": [
    "plt.imshow(evects)\n",
    "plt.colorbar()"
   ]
  },
  {
   "cell_type": "code",
   "execution_count": null,
   "metadata": {},
   "outputs": [],
   "source": []
  }
 ],
 "metadata": {
  "kernelspec": {
   "display_name": "Python 3 (ipykernel)",
   "language": "python",
   "name": "python3"
  },
  "language_info": {
   "codemirror_mode": {
    "name": "ipython",
    "version": 3
   },
   "file_extension": ".py",
   "mimetype": "text/x-python",
   "name": "python",
   "nbconvert_exporter": "python",
   "pygments_lexer": "ipython3",
   "version": "3.9.7"
  }
 },
 "nbformat": 4,
 "nbformat_minor": 4
}