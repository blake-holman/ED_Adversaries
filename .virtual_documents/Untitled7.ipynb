import cvxpy as cp
from copy import deepcopy as copy
from scipy.linalg import fractional_matrix_power, block_diag
import networkx as nx
import cvxpy as cp
import matplotlib as mpl
import matplotlib.pyplot as plt 
import numpy as np
from operator import itemgetter
# from netgraph import InteactiveGraph # pip install netgraph
from functools import reduce
import scipy 
from numpy.linalg import matrix_rank as rank 
from Adversary import Problem, to_str, visualize, Adversary, hamming_dist as dist
from Solvers import type_mask, partial, ket, instance_mask, adv_solver
from Examples import exact_k, threshold_k



def partial_identity(size, id_size, index):
    sub_mat = np.zeros((size, size))
    sub_mat[index, index] = 1
    return np.kron(sub_mat, np.eye(id_size))

def ppt_span_adv_bound(problem, p, r):
    n = problem.n
    lang_size = problem.len
    orig_size = n * langsize
    pure_size = orig_X_size * r
    sep_size = pure_size * pure_size 
    X = cp.Variable((sep_size, sep_size), PSD=True)


visualize(partial_identity(3,2,1))



