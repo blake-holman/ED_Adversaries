{
 "cells": [
  {
   "cell_type": "code",
   "execution_count": null,
   "id": "5fc147ce-d9b4-4fc7-8f71-be4b2f3d4181",
   "metadata": {},
   "outputs": [],
   "source": [
    "import matplotlib.pyplot as plt\n",
    "import matplotlib\n",
    "import numpy as np\n",
    "from operator import itemgetter\n",
    "from itertools import permutations, product\n",
    "from Adversary import visualize\n",
    "matplotlib.rcParams[\"figure.dpi\"] = 120\n",
    "import networkx as nx"
   ]
  },
  {
   "cell_type": "code",
   "execution_count": null,
   "id": "fa09d8db-2a1c-432e-bb89-b43e17c049a5",
   "metadata": {},
   "outputs": [],
   "source": [
    "def get_cycles(n):\n",
    "    cycles = []\n",
    "    for perm in permutations(range(1, n)):\n",
    "        cycles.append((0,) + perm)\n",
    "    return cycles\n",
    "def to_str(l):\n",
    "    return ''.join(str(a) for a in l)\n",
    "def list_to_str(L):\n",
    "    return [to_str(l) for l in L]\n",
    "    \n",
    "def get_special_cycles(n, m):\n",
    "    perm_items = list(product(range(n), range(m)))\n",
    "    # print(perm_items)\n",
    "    index_cycles = get_cycles(n*m)\n",
    "    # print('got all cycles')\n",
    "    # print(index_cycles)\n",
    "    cycles = [tuple(to_str(perm_items[index_cycle[i]]) for i in range(n*m)) for index_cycle in index_cycles]\n",
    "    special_cycles = []\n",
    "    # print(cycles)\n",
    "    for cycle in cycles:\n",
    "        if cycle[-1][1]=='0':\n",
    "            # print(cycle)\n",
    "            special_cycles.append(cycle)\n",
    "    assignment = cycle_sort(special_cycles)\n",
    "    # print('returning special cycles')\n",
    "    return special_cycles, assignment\n",
    "\n",
    "def cycle_map(cycles):\n",
    "    # n = len(cycles[0])\n",
    "    preimage_dict = {}\n",
    "    for cycle in cycles:\n",
    "        val = cycle[-1][0]\n",
    "        if val not in preimage_dict:\n",
    "            preimage_dict[val] = [cycle]\n",
    "        else:\n",
    "            preimage_dict[val].append(cycle)\n",
    "    return preimage_dict\n",
    "    \n",
    "def cycle_sort(cycles):\n",
    "    cycles.sort(key=itemgetter(-1))\n",
    "    return {cycles[i]: i for i in range(len(cycles))}\n",
    "\n",
    "def shift(cycle, l, k):\n",
    "    cycle2 = cycle[:k+1] + cycle[l+1:] + cycle[k+1:l+1]\n",
    "    return cycle2\n",
    "def cycle_mat_l(cycles, assignment, i):\n",
    "    mat = np.zeros((len(cycles), len(cycles)))\n",
    "    for cycle in cycles:\n",
    "        # print('cycle?', cycle)\n",
    "        # print(cycle[i])\n",
    "        if cycle[i][1] == '0':\n",
    "            # print('cycle', cycle)\n",
    "            cyclei = assignment[cycle]\n",
    "            for k in range(i):\n",
    "                cycle2 = shift(cycle, i, k)\n",
    "                cycle2i = assignment[cycle2] \n",
    "                # print(cycle2)\n",
    "                mat[cyclei, cycle2i] = 1\n",
    "                # mat[cycle2i, cyclei] = 1\n",
    "                mat[cyclei, cyclei] = 2\n",
    "                # mat[cycle2i, cycle2i] = 2\n",
    "\n",
    "    return mat\n",
    "\n",
    "def cycle_mat_k(cycles, assignment, k):\n",
    "    mat = np.zeros((len(cycles), len(cycles)))\n",
    "    for cycle in cycles:\n",
    "        for l in range(k+1, len(cycles[0])-1):\n",
    "            # print('l', l, cycle[l])\n",
    "            if cycle[l][1] == '0':\n",
    "                cycle2 = shift(cycle, l, k)\n",
    "                # print('here', cycles.index(cycle),cycles.index(cycle2))\n",
    "                mat[assignment[cycle], assignment[cycle2]] = 1\n",
    "                # print('max', np.max(mat))\n",
    "    return mat\n",
    "\n",
    "# print(special_cycles)\n",
    "# # print(assignment)\n",
    "# mat = 0*cycle_mat_l(special_cycles, 1)\n",
    "# for i in range(1, n*m-1):\n",
    "#     mat = mat + cycle_mat_l(special_cycles, i)\n",
    "# plt.imshow(mat)\n",
    "# # plt.imshow(mat-mat.T)"
   ]
  },
  {
   "cell_type": "code",
   "execution_count": null,
   "id": "a3f52664-edf1-4781-ab8f-a664f77150f7",
   "metadata": {},
   "outputs": [],
   "source": [
    "n=5\n",
    "m=1\n",
    "special_cycles, assignment = get_special_cycles(n,m)\n",
    "# print(special_cycles)\n",
    "# assignment = cycle_map(special_cycles)\n",
    "# print(special_cycles)\n",
    "# print(assignment)"
   ]
  },
  {
   "cell_type": "code",
   "execution_count": null,
   "id": "8979bfd7-2d00-44d1-a992-0d6cf812f0d0",
   "metadata": {},
   "outputs": [],
   "source": [
    "k_mats = [cycle_mat_k(special_cycles,assignment, k) for k in range(n*m-2)]\n",
    "k_sum = np.sum(k_mats, 0)\n",
    "print('done')\n",
    "# l_mats = [cycle_mat_l(special_cycles, assignment, l) for l in range(1, n*m-1)]\n",
    "# l_sum = np.sum(l_mats, 0)"
   ]
  },
  {
   "cell_type": "code",
   "execution_count": null,
   "id": "3d8a94c2-ed1d-445b-9570-79749f7da806",
   "metadata": {},
   "outputs": [],
   "source": [
    "def remove_zeros(mat):\n",
    "    eps = 0.00000000001\n",
    "    num_rows, num_cols = mat.shape\n",
    "    rows = np.array([r for r in range(num_rows) if np.linalg.norm(mat[r,:])>=eps])\n",
    "    cols = np.array([c for c in range(num_rows) if np.linalg.norm(mat[:,c])>=eps])\n",
    "    mat = mat[rows, :]\n",
    "    mat = mat[:, cols]\n",
    "    return mat"
   ]
  },
  {
   "cell_type": "code",
   "execution_count": null,
   "id": "90c1d3bd-21bf-4c43-9353-172612071bd6",
   "metadata": {},
   "outputs": [],
   "source": [
    "# plt.imshow(k_sum)\n",
    "# plt.show()\n",
    "special_cycles_str = list_to_str(special_cycles)\n",
    "for k in range(len(k_mats)):\n",
    "    print(k)\n",
    "    reduced = remove_zeros(k_mats[k])\n",
    "    evals = np.linalg.eigvals(reduced)\n",
    "    # L =np.linalg.cholesky(1*np.eye(reduced.shape[0])+reduced)\n",
    "    # print(set(np.round(L, 7).flatten()))\n",
    "    print(set(reduced.flatten()))\n",
    "    print('sym', np.sum(np.abs(reduced -reduced.T)))\n",
    "    print(np.min(evals), np.max(evals))\n",
    "    square = reduced@reduced\n",
    "    print('square', np.sum(np.abs((np.ones(reduced.shape[0])-np.eye(reduced.shape[0]))*square)))\n",
    "    visualize(reduced)\n",
    "    G = nx.from_numpy_array(reduced)\n",
    "    pos = nx.nx_pydot.graphviz_layout(G)\n",
    "    \n",
    "    nx.draw(G ,pos)\n",
    "    # visualize( square, (special_cycles_str, special_cycles_str))\n",
    "    # plt.colorbar()\n",
    "    # plt.show()\n",
    "    # plt.imshow(np.linalg.eig(reduced)[1])\n",
    "    # plt.colorbar()\n",
    "    # plt.show()"
   ]
  },
  {
   "cell_type": "code",
   "execution_count": null,
   "id": "cde7bb6e-4a5a-42a4-9ad6-e9fcbc4e7bc1",
   "metadata": {},
   "outputs": [],
   "source": [
    "plt.imshow(l_sum-l_sum.T)\n",
    "plt.show()\n",
    "np.min(np.linalg.eigvals(l_sum))"
   ]
  },
  {
   "cell_type": "code",
   "execution_count": 53,
   "id": "1ac085d4-fc0e-41ae-b182-b63a16777619",
   "metadata": {},
   "outputs": [
    {
     "data": {
      "text/plain": [
       "4.879385241571814"
      ]
     },
     "execution_count": 53,
     "metadata": {},
     "output_type": "execute_result"
    }
   ],
   "source": [
    "np.max(np.linalg.eigvals(l_sum))"
   ]
  },
  {
   "cell_type": "code",
   "execution_count": 7,
   "id": "f052c5d0-d056-451e-981d-d9e63d1c0bda",
   "metadata": {},
   "outputs": [
    {
     "name": "stdout",
     "output_type": "stream",
     "text": [
      "[[0.08705945 0.1885719  0.24297608 0.59341819]\n",
      " [0.03886692 0.87073954 0.23663985 0.28113241]\n",
      " [0.20668787 0.84606035 0.67248508 0.46901606]\n",
      " [0.50186163 0.45046278 0.86116594 0.01316572]]\n"
     ]
    }
   ],
   "source": [
    "A = np.random.random((4,4))\n",
    "print(A)"
   ]
  },
  {
   "cell_type": "code",
   "execution_count": 11,
   "id": "4b39005d-0fdf-4405-8529-24bac7f164e2",
   "metadata": {},
   "outputs": [
    {
     "name": "stdout",
     "output_type": "stream",
     "text": [
      "[[0.03886692 0.87073954 0.23663985 0.28113241]\n",
      " [0.20668787 0.84606035 0.67248508 0.46901606]\n",
      " [0.50186163 0.45046278 0.86116594 0.01316572]]\n",
      "[[0.23663985 0.28113241]\n",
      " [0.67248508 0.46901606]\n",
      " [0.86116594 0.01316572]]\n"
     ]
    }
   ],
   "source": [
    "B = A[[1,2,3],:]\n",
    "print(B)\n",
    "C = B[:, [2,3]]\n",
    "print(C)"
   ]
  },
  {
   "cell_type": "code",
   "execution_count": null,
   "id": "2aa71b3e-2955-4bda-bdaa-b6ea78a4b341",
   "metadata": {},
   "outputs": [],
   "source": []
  }
 ],
 "metadata": {
  "kernelspec": {
   "display_name": "Python 3 (ipykernel)",
   "language": "python",
   "name": "python3"
  },
  "language_info": {
   "codemirror_mode": {
    "name": "ipython",
    "version": 3
   },
   "file_extension": ".py",
   "mimetype": "text/x-python",
   "name": "python",
   "nbconvert_exporter": "python",
   "pygments_lexer": "ipython3",
   "version": "3.9.7"
  }
 },
 "nbformat": 4,
 "nbformat_minor": 5
}
