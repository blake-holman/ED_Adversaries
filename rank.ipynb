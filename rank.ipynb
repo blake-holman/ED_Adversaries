{
 "cells": [
  {
   "cell_type": "code",
   "execution_count": 6,
   "metadata": {},
   "outputs": [],
   "source": [
    "from Solvers import adv_solver, span_solver\n",
    "from Adversary import Adversary, Problem, to_str, visualize, hamming_dist\n",
    "import numpy as np\n",
    "import matplotlib.pyplot as plt\n",
    "import itertools\n",
    "from Examples import exact_k, threshold_k\n",
    "from ElementDistinctness import ED\n",
    "from copy import deepcopy as copy\n",
    "import scipy\n",
    "import cvxpy as cp\n",
    "import itertools\n",
    "import matplotlib as mpl\n",
    "mpl.rcParams['figure.dpi'] =200"
   ]
  },
  {
   "cell_type": "code",
   "execution_count": 8,
   "metadata": {},
   "outputs": [],
   "source": [
    "n = 4 \n",
    "k = 2\n",
    "prob = threshold_k(n, k)\n"
   ]
  },
  {
   "cell_type": "code",
   "execution_count": null,
   "metadata": {},
   "outputs": [],
   "source": [
    "mat = np.zeros((prob.len, prob.len))\n",
    "for no, yes in itertools.product(prob.no_instances, prob.yes_instances):\n",
    "    no_i = prob.instances_to_index[no]\n",
    "    yes_i = prob.instances_to_index[yes]\n",
    "    if hamming_dist(no, yes) == 1:\n",
    "        mat[no_i][yes_i] = 1"
   ]
  }
 ],
 "metadata": {
  "kernelspec": {
   "display_name": "Python 3",
   "language": "python",
   "name": "python3"
  },
  "language_info": {
   "codemirror_mode": {
    "name": "ipython",
    "version": 3
   },
   "file_extension": ".py",
   "mimetype": "text/x-python",
   "name": "python",
   "nbconvert_exporter": "python",
   "pygments_lexer": "ipython3",
   "version": "3.8.3"
  }
 },
 "nbformat": 4,
 "nbformat_minor": 4
}
