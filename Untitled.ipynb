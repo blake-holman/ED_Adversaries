{
 "cells": [
  {
   "cell_type": "markdown",
   "id": "681f064a-1d1a-4f82-bd1c-72f08dfa46b8",
   "metadata": {},
   "source": [
    "# "
   ]
  },
  {
   "cell_type": "code",
   "execution_count": 1,
   "id": "a815598d-992c-4844-8b61-72fe4524c373",
   "metadata": {},
   "outputs": [],
   "source": [
    "import itertools\n",
    "from copy import deepcopy as copy\n",
    "\n",
    "# from netgraph import InteactiveGraph # pip install netgraph\n",
    "from functools import reduce\n",
    "from itertools import product\n",
    "from operator import itemgetter\n",
    "\n",
    "import cvxpy as cp\n",
    "import matplotlib as mpl\n",
    "import matplotlib.pyplot as plt\n",
    "import networkx as nx\n",
    "import numpy as np\n",
    "import scipy\n",
    "from numpy.linalg import matrix_rank as rank\n",
    "from scipy.linalg import block_diag, fractional_matrix_power\n",
    "from utils.Adversary import Adversary\n",
    "from utils.Conversions import hamming_dist as dist\n",
    "from utils.Conversions import to_str, visualize\n",
    "from utils.Problems import Problem, exact_k, threshold_k\n",
    "from utils.Solvers import (\n",
    "    adv_solver,\n",
    "    instance_mask,\n",
    "    ket,\n",
    "    partial,\n",
    "    span_solver,\n",
    "    type_mask,\n",
    ")"
   ]
  },
  {
   "cell_type": "code",
   "execution_count": 18,
   "id": "f0be9497-642b-4688-89a5-b6e76bfd2b2b",
   "metadata": {},
   "outputs": [],
   "source": [
    "def relax_peb(A, T=None):\n",
    "    N = A.shape[0]\n",
    "    if T is None:\n",
    "        T = N**2\n",
    "    peb = cp.Variable((T, N))\n",
    "    constraints = [peb[0,0]==1, peb <= 1, peb >= 0, peb[-1,-1]==1, cp.norm(peb)<=N**2]\n",
    "    for i in range(1, T-1):\n",
    "        for v in range(N):\n",
    "            for u in range(N):\n",
    "                if A[u,v] == 1:\n",
    "                    constraints += [peb[i+1, v] <= peb[i, u]]\n",
    "    opt_prob = cp.Problem(cp.Minimize(cp.sum(peb)), constraints)\n",
    "    opt_prob.solve(solver=\"MOSEK\", verbose=True)\n",
    "    return peb.value\n"
   ]
  },
  {
   "cell_type": "code",
   "execution_count": 19,
   "id": "0287c4ad-96e3-4d30-8f8e-bafd35d84a7a",
   "metadata": {},
   "outputs": [],
   "source": [
    "def line_graph(N):\n",
    "    A = np.zeros((N, N))\n",
    "    for i in range(N-1):\n",
    "        A[i, i+1] = 1\n",
    "    return A"
   ]
  },
  {
   "cell_type": "code",
   "execution_count": 24,
   "id": "3d6f3bb4-7dbb-4f00-a251-0f496d1b49e4",
   "metadata": {},
   "outputs": [
    {
     "name": "stdout",
     "output_type": "stream",
     "text": [
      "[[0. 1. 0. 0. 0.]\n",
      " [0. 0. 1. 1. 0.]\n",
      " [0. 0. 0. 1. 1.]\n",
      " [0. 0. 0. 0. 1.]\n",
      " [0. 0. 0. 0. 0.]]\n",
      "===============================================================================\n",
      "                                     CVXPY                                     \n",
      "                                     v1.5.3                                    \n",
      "===============================================================================\n",
      "(CVXPY) Jun 11 09:08:25 PM: Your problem has 25 variables, 71 constraints, and 0 parameters.\n",
      "(CVXPY) Jun 11 09:08:25 PM: It is compliant with the following grammars: DCP, DQCP\n",
      "(CVXPY) Jun 11 09:08:25 PM: (If you need to solve this problem multiple times, but with different data, consider using parameters.)\n",
      "(CVXPY) Jun 11 09:08:25 PM: CVXPY will first compile your problem; then, it will invoke a numerical solver to obtain a solution.\n",
      "(CVXPY) Jun 11 09:08:25 PM: Your problem is compiled with the CPP canonicalization backend.\n",
      "-------------------------------------------------------------------------------\n",
      "                                  Compilation                                  \n",
      "-------------------------------------------------------------------------------\n",
      "(CVXPY) Jun 11 09:08:25 PM: Compiling problem (target solver=MOSEK).\n",
      "(CVXPY) Jun 11 09:08:25 PM: Reduction chain: Dcp2Cone -> CvxAttr2Constr -> ConeMatrixStuffing -> MOSEK\n",
      "(CVXPY) Jun 11 09:08:25 PM: Applying reduction Dcp2Cone\n",
      "(CVXPY) Jun 11 09:08:25 PM: Applying reduction CvxAttr2Constr\n",
      "(CVXPY) Jun 11 09:08:25 PM: Applying reduction ConeMatrixStuffing\n",
      "(CVXPY) Jun 11 09:08:25 PM: Applying reduction MOSEK\n",
      "(CVXPY) Jun 11 09:08:25 PM: Finished problem compilation (took 1.319e-02 seconds).\n",
      "-------------------------------------------------------------------------------\n",
      "                                Numerical solver                               \n",
      "-------------------------------------------------------------------------------\n",
      "(CVXPY) Jun 11 09:08:25 PM: Invoking solver MOSEK  to obtain a solution.\n",
      "\n",
      "\n",
      "(CVXPY) Jun 11 09:08:25 PM: Problem\n",
      "(CVXPY) Jun 11 09:08:25 PM:   Name                   :                 \n",
      "(CVXPY) Jun 11 09:08:25 PM:   Objective sense        : maximize        \n",
      "(CVXPY) Jun 11 09:08:25 PM:   Type                   : CONIC (conic optimization problem)\n",
      "(CVXPY) Jun 11 09:08:25 PM:   Constraints            : 26              \n",
      "(CVXPY) Jun 11 09:08:25 PM:   Affine conic cons.     : 0               \n",
      "(CVXPY) Jun 11 09:08:25 PM:   Disjunctive cons.      : 0               \n",
      "(CVXPY) Jun 11 09:08:25 PM:   Cones                  : 0               \n",
      "(CVXPY) Jun 11 09:08:25 PM:   Scalar variables       : 71              \n",
      "(CVXPY) Jun 11 09:08:25 PM:   Matrix variables       : 1 (scalarized: 55)\n",
      "(CVXPY) Jun 11 09:08:25 PM:   Integer variables      : 0               \n",
      "(CVXPY) Jun 11 09:08:25 PM: \n",
      "(CVXPY) Jun 11 09:08:25 PM: Optimizer started.\n",
      "(CVXPY) Jun 11 09:08:25 PM: Presolve started.\n",
      "(CVXPY) Jun 11 09:08:25 PM: Linear dependency checker started.\n",
      "(CVXPY) Jun 11 09:08:25 PM: Linear dependency checker terminated.\n",
      "(CVXPY) Jun 11 09:08:25 PM: Eliminator started.\n",
      "(CVXPY) Jun 11 09:08:25 PM: Freed constraints in eliminator : 0\n",
      "(CVXPY) Jun 11 09:08:25 PM: Eliminator terminated.\n",
      "(CVXPY) Jun 11 09:08:25 PM: Eliminator - tries                  : 1                 time                   : 0.00            \n",
      "(CVXPY) Jun 11 09:08:25 PM: Lin. dep.  - tries                  : 1                 time                   : 0.00            \n",
      "(CVXPY) Jun 11 09:08:25 PM: Lin. dep.  - primal attempts        : 1                 successes              : 1               \n",
      "(CVXPY) Jun 11 09:08:25 PM: Lin. dep.  - dual attempts          : 0                 successes              : 0               \n",
      "(CVXPY) Jun 11 09:08:25 PM: Lin. dep.  - primal deps.           : 0                 dual deps.             : 0               \n",
      "(CVXPY) Jun 11 09:08:25 PM: Presolve terminated. Time: 0.00    \n",
      "(CVXPY) Jun 11 09:08:25 PM: Optimizer  - threads                : 6               \n",
      "(CVXPY) Jun 11 09:08:25 PM: Optimizer  - solved problem         : the primal      \n",
      "(CVXPY) Jun 11 09:08:25 PM: Optimizer  - Constraints            : 26              \n",
      "(CVXPY) Jun 11 09:08:25 PM: Optimizer  - Cones                  : 1               \n",
      "(CVXPY) Jun 11 09:08:25 PM: Optimizer  - Scalar variables       : 67                conic                  : 3               \n",
      "(CVXPY) Jun 11 09:08:25 PM: Optimizer  - Semi-definite variables: 1                 scalarized             : 55              \n",
      "(CVXPY) Jun 11 09:08:25 PM: Factor     - setup time             : 0.00            \n",
      "(CVXPY) Jun 11 09:08:25 PM: Factor     - dense det. time        : 0.00              GP order time          : 0.00            \n",
      "(CVXPY) Jun 11 09:08:25 PM: Factor     - nonzeros before factor : 351               after factor           : 351             \n",
      "(CVXPY) Jun 11 09:08:25 PM: Factor     - dense dim.             : 0                 flops                  : 1.07e+04        \n",
      "(CVXPY) Jun 11 09:08:25 PM: ITE PFEAS    DFEAS    GFEAS    PRSTATUS   POBJ              DOBJ              MU       TIME  \n",
      "(CVXPY) Jun 11 09:08:25 PM: 0   1.0e+01  2.5e+01  1.0e+00  0.00e+00   -0.000000000e+00  -0.000000000e+00  1.0e+00  0.02  \n",
      "(CVXPY) Jun 11 09:08:25 PM: 1   4.4e+00  1.1e+01  5.5e-01  -7.67e-01  1.219001274e+00   5.125168220e-01   4.4e-01  0.02  \n",
      "(CVXPY) Jun 11 09:08:25 PM: 2   3.0e+00  7.4e+00  1.5e-01  9.65e-01   4.273532291e+00   4.406291570e+00   3.0e-01  0.02  \n",
      "(CVXPY) Jun 11 09:08:25 PM: 3   1.2e+00  3.1e+00  4.8e-02  5.37e-01   6.890275202e+00   6.923732575e+00   1.2e-01  0.02  \n",
      "(CVXPY) Jun 11 09:08:25 PM: 4   3.5e-01  8.7e-01  7.7e-03  7.99e-01   8.030051258e+00   8.036048057e+00   3.5e-02  0.02  \n",
      "(CVXPY) Jun 11 09:08:25 PM: 5   2.1e-02  5.3e-02  1.2e-04  9.50e-01   7.999243774e+00   7.999435423e+00   2.1e-03  0.02  \n",
      "(CVXPY) Jun 11 09:08:25 PM: 6   2.3e-06  5.7e-06  1.4e-10  9.96e-01   7.999998652e+00   7.999998620e+00   2.3e-07  0.02  \n",
      "(CVXPY) Jun 11 09:08:25 PM: 7   2.0e-12  5.0e-12  1.3e-16  1.00e+00   8.000000000e+00   8.000000000e+00   2.0e-13  0.02  \n",
      "(CVXPY) Jun 11 09:08:25 PM: Optimizer terminated. Time: 0.02    \n",
      "(CVXPY) Jun 11 09:08:25 PM: \n",
      "(CVXPY) Jun 11 09:08:25 PM: \n",
      "(CVXPY) Jun 11 09:08:25 PM: Interior-point solution summary\n",
      "(CVXPY) Jun 11 09:08:25 PM:   Problem status  : PRIMAL_AND_DUAL_FEASIBLE\n",
      "(CVXPY) Jun 11 09:08:25 PM:   Solution status : OPTIMAL\n",
      "(CVXPY) Jun 11 09:08:25 PM:   Primal.  obj: 8.0000000000e+00    nrm: 1e+01    Viol.  con: 3e-12    var: 2e-13    barvar: 0e+00  \n",
      "(CVXPY) Jun 11 09:08:25 PM:   Dual.    obj: 8.0000000000e+00    nrm: 2e+01    Viol.  con: 0e+00    var: 8e-12    barvar: 3e-13  \n",
      "-------------------------------------------------------------------------------\n",
      "                                    Summary                                    \n",
      "-------------------------------------------------------------------------------\n",
      "(CVXPY) Jun 11 09:08:25 PM: Problem status: optimal\n",
      "(CVXPY) Jun 11 09:08:25 PM: Optimal value: 8.000e+00\n",
      "(CVXPY) Jun 11 09:08:25 PM: Compilation took 1.319e-02 seconds\n",
      "(CVXPY) Jun 11 09:08:25 PM: Solver (including time spent in interface) took 1.347e-02 seconds\n"
     ]
    }
   ],
   "source": [
    "N= 5\n",
    "A = line_graph(N)\n",
    "A[1,3] = 1\n",
    "A[2,4] =1\n",
    "print(A)\n",
    "peb = relax_peb(A, T=N)"
   ]
  },
  {
   "cell_type": "code",
   "execution_count": 25,
   "id": "4fa8defb-d582-4a7c-b781-9201c492cae1",
   "metadata": {},
   "outputs": [
    {
     "data": {
      "image/png": "[encoded data removed]",
      "text/plain": [
       "<Figure size 640x480 with 2 Axes>"
      ]
     },
     "metadata": {},
     "output_type": "display_data"
    }
   ],
   "source": [
    "visualize(peb)"
   ]
  },
  {
   "cell_type": "code",
   "execution_count": null,
   "id": "7dfd46f5-993d-4682-a9e7-e6af6eaa6330",
   "metadata": {},
   "outputs": [],
   "source": []
  }
 ],
 "metadata": {
  "kernelspec": {
   "display_name": "Python 3 (ipykernel)",
   "language": "python",
   "name": "python3"
  },
  "language_info": {
   "codemirror_mode": {
    "name": "ipython",
    "version": 3
   },
   "file_extension": ".py",
   "mimetype": "text/x-python",
   "name": "python",
   "nbconvert_exporter": "python",
   "pygments_lexer": "ipython3",
   "version": "3.12.7"
  }
 },
 "nbformat": 4,
 "nbformat_minor": 5
}
