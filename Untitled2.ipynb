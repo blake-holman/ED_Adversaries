{
 "cells": [
  {
   "cell_type": "code",
   "execution_count": 7,
   "id": "e278406a-f287-49ae-87d0-59575340c648",
   "metadata": {},
   "outputs": [],
   "source": [
    "import numpy as np\n",
    "import itertools"
   ]
  },
  {
   "cell_type": "code",
   "execution_count": 22,
   "id": "c31f9fb4-61b0-4e1e-bdb5-e81bc411a92b",
   "metadata": {},
   "outputs": [],
   "source": [
    "def bit_proj(b, q):\n",
    "    if b == '0': \n",
    "        return 1/q * np.ones((q,q))\n",
    "    else:\n",
    "        return np.eye(q) - bit_proj('0', q)\n",
    "    \n",
    "def str_proj(s, q):\n",
    "    print('blah')\n",
    "    proj = np.array([1])\n",
    "    print(proj)\n",
    "    for b in s:\n",
    "        print(b)\n",
    "        proj = np.kron(proj, bit_proj(b, q))\n",
    "    return proj\n",
    "\n",
    "def hamming_proj(k, n, q):\n",
    "    strs = set(itertools.permutations([1] * k + [0] * (n - k)))\n",
    "    print(strs)\n",
    "    return np.sum(str_proj(s, q) for s in strs)\n",
    "\n",
    "def pair_proj(b, q):\n",
    "    if b=='0':\n",
    "        return 1/np.sqrt(q) * np.kron(np.ones(q).T, bit_proj(b, q))\n",
    "    else:\n",
    "        return 1/np.sqrt(q) * np.kron(np.ones(q).T, bit_proj(b, q)) + 1/np.sqrt(q) * np.kron(bit_proj(b, q), np.ones(q).T)"
   ]
  },
  {
   "cell_type": "code",
   "execution_count": 23,
   "id": "66ffe9cf-062a-43b8-a290-33275b7c1b5f",
   "metadata": {},
   "outputs": [
    {
     "name": "stdout",
     "output_type": "stream",
     "text": [
      "boop\n"
     ]
    },
    {
     "data": {
      "text/plain": [
       "array([[ 0.76980036,  0.19245009,  0.19245009,  0.19245009, -0.38490018,\n",
       "        -0.38490018,  0.19245009, -0.38490018, -0.38490018],\n",
       "       [-0.38490018,  0.19245009, -0.38490018,  0.19245009,  0.76980036,\n",
       "         0.19245009, -0.38490018,  0.19245009, -0.38490018],\n",
       "       [-0.38490018, -0.38490018,  0.19245009, -0.38490018, -0.38490018,\n",
       "         0.19245009,  0.19245009,  0.19245009,  0.76980036]])"
      ]
     },
     "execution_count": 23,
     "metadata": {},
     "output_type": "execute_result"
    }
   ],
   "source": [
    "print('boop')\n",
    "pair_proj('1', 3)"
   ]
  },
  {
   "cell_type": "code",
   "execution_count": 8,
   "id": "57cc1385-d3fb-4b87-b990-e2708cf1b6b6",
   "metadata": {},
   "outputs": [
    {
     "data": {
      "text/plain": [
       "array([], dtype=float64)"
      ]
     },
     "execution_count": 8,
     "metadata": {},
     "output_type": "execute_result"
    }
   ],
   "source": [
    "np.array([])"
   ]
  },
  {
   "cell_type": "code",
   "execution_count": null,
   "id": "924d255e-e36d-41d7-8c47-57daf1a3f205",
   "metadata": {},
   "outputs": [],
   "source": []
  }
 ],
 "metadata": {
  "kernelspec": {
   "display_name": "Python 3 (ipykernel)",
   "language": "python",
   "name": "python3"
  },
  "language_info": {
   "codemirror_mode": {
    "name": "ipython",
    "version": 3
   },
   "file_extension": ".py",
   "mimetype": "text/x-python",
   "name": "python",
   "nbconvert_exporter": "python",
   "pygments_lexer": "ipython3",
   "version": "3.10.9"
  }
 },
 "nbformat": 4,
 "nbformat_minor": 5
}
