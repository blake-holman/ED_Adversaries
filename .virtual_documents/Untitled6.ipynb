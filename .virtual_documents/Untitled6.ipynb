import itertools
from copy import deepcopy as copy
from scipy.linalg import fractional_matrix_power, block_diag
import networkx as nx
import cvxpy as cp
import matplotlib as mpl
import matplotlib.pyplot as plt 
import numpy as np
from operator import itemgetter
# from netgraph import InteractiveGraph # pip install netgraph

import scipy 
from numpy.linalg import matrix_rank as rank 
from Adversary import Problem, to_str, visualize, Adversary, hamming_dist as dist
from Solvers import type_mask, partial, ket, instance_mask, adv_solver
from ElementDistinctness import ED
from Examples import exact_k, threshold_k
from time import time
from itertools import product, permutations
mpl.rcParams["figure.dpi"] = 120
from multiprocessing.pool import ThreadPool as Pool
def nthRootsOfUnity(n): # constant space, serial
    from cmath import exp, pi
    c = 2j * pi / n
    return [exp(k * c) for k in range(n)]


def boolean_phase_oracles(problem):
    n = problem.n
    oracles = {}
    for instance in problem.instances:
        oracle = np.zeros((n,n))
        for i in range(n):
            oracle[i] == (-1)**instance[i]
        oracles[instance] = oracle
    return oracles
    
def unitary_relax_opt(problem, workspace_bits, t):
    n = problem.n
    workspace_size = 2**workspace_bits
    size = n * workspace_size
    oracles = boolean_phase_oracles(problem)
    oracles = {instance: np.kron(oracles[instance], np.ones((workspace_size, workspace_size))) for instance in oracles}
    no_vect = np.eye(1, size, 0).T
    yes_vect = np.eye(1, size, 1).T
    C = cp.Variable((size, size))
    constraints = [cp.norm(C,2)<=1]
    root = nthRootsOfUnity(t)[-1]
    print('root', root)
    eps = 1/n
    for instance in problem.no_instances:
        constraints += [cp.norm(oracles[instance] @ C @ no_vect - root * no_vect, 2) <= eps]
    
    for instance in problem.yes_instances:
        constraints += [cp.norm(oracles[instance] @ C @ yes_vect - root * yes_vect, 2) <= eps]
    
    opt_prob = cp.Problem(cp.Minimize(1), constraints)
    opt_prob.solve(solver='MOSEK', verbose=True)
    return C.value
n=5
prob = threshold_k(n, 1)
C = unitary_relax_opt(prob, 5, 10)
        
    
    


visualize(C)



