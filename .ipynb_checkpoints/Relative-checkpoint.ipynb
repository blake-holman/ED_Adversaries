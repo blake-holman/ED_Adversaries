{
 "cells": [
  {
   "cell_type": "code",
   "execution_count": 1,
   "id": "d171839f-19ff-4d48-9567-79cdf64d48ab",
   "metadata": {
    "tags": []
   },
   "outputs": [],
   "source": [
    "import itertools\n",
    "from copy import deepcopy as copy\n",
    "from scipy.linalg import fractional_matrix_power, block_diag\n",
    "import networkx as nx\n",
    "import cvxpy as cp\n",
    "import matplotlib as mpl\n",
    "import matplotlib.pyplot as plt\n",
    "import numpy as np\n",
    "import scipy \n",
    "from numpy.linalg import matrix_rank as rank \n",
    "from Adversary import Problem, to_str, visualize, Adversary, hamming_dist as dist\n",
    "from Solvers import type_mask, partial, ket, instance_mask, adv_solver\n",
    "from ElementDistinctness import ED\n",
    "from Examples import exact_k, threshold_k\n",
    "from time import time\n",
    "mpl.rcParams[\"figure.dpi\"] = 120"
   ]
  },
  {
   "cell_type": "code",
   "execution_count": 13,
   "id": "dc148724-9a05-48bb-9221-5261ce2ca528",
   "metadata": {
    "tags": []
   },
   "outputs": [],
   "source": [
    "def get_oracles(funcs, oracle_getter):\n",
    "    print('get_oracles', len(funcs))\n",
    "    return {func: oracle_getter(func) for func in funcs}\n",
    "\n",
    "def get_phase_oracles(problem):\n",
    "    oracles = {}\n",
    "    # roots = nthRootsOfUnity(n)\n",
    "    if isinstance(problem, Problem):\n",
    "        instances = problem.instances\n",
    "    n = len(instances[0])\n",
    "    for instance in instances:\n",
    "        oracle = np.zeros((n,n))\n",
    "        for i in range(n):\n",
    "            oracle[i, i] =-1 if instance[i] == 1 else 1\n",
    "        oracles[instance] = oracle\n",
    "        \n",
    "    return oracles\n",
    "def phase_oracle(func):\n",
    "    oracle = np.zeros((len(func),len(func)))\n",
    "    for i in range(len(func)):\n",
    "        oracle[i,i] = 1 if func[i] == 0 else -1\n",
    "    return oracle \n",
    "def get_standard_oracles(problem):\n",
    "    oracles = {}\n",
    "    n = problem.n\n",
    "    alpha_len = len(problem.alphabet)\n",
    "    for instance in problem.instances:\n",
    "        oracle = []\n",
    "        for i in range(n):\n",
    "            curr_oracle = np.zeros((alpha_len, alpha_len))\n",
    "            for a in problem.alphabet:\n",
    "                curr_oracle[a, (instance[i] + a) % alpha_len] = 1\n",
    "            # print(curr_oracle)\n",
    "            oracle.append(copy(curr_oracle))\n",
    "        oracles[instance] = block_diag(*oracle)\n",
    "        # print(oracles[instance])\n",
    "    return oracles\n",
    "def standard_oracle(func, alpha_len=None):\n",
    "    n = len(func)\n",
    "    if alpha_len is None:\n",
    "        alpha_len = n\n",
    "    oracle = []\n",
    "    for i in range(n):\n",
    "        curr_oracle = np.zeros((alpha_len, alpha_len))\n",
    "        for a in range(alpha_len):\n",
    "            curr_oracle[a, (func[i] + a) % alpha_len] = 1\n",
    "            # print(curr_oracle)\n",
    "        oracle.append(copy(curr_oracle))\n",
    "    return block_diag(*oracle)\n",
    "\n",
    "def get_oracle_diffs(oracles, prod=True, mat=False, keys=None):\n",
    "    oracle_diffs = {} \n",
    "    if keys is None:\n",
    "        print(\"keys\", keys)\n",
    "        keys = list(oracles.keys())\n",
    "    # keys.sort()\n",
    "    for v1 in keys:\n",
    "        for v2 in keys:\n",
    "            if prod:\n",
    "                oracle_diffs[(v1, v2)] = np.eye(oracles[v1].shape[0])- oracles[v1].T @ oracles[v2]\n",
    "            else:\n",
    "                # print('normal diff')\n",
    "                oracle_diffs[(v1, v2)] = oracles[v1] - oracles[v2]\n",
    "    if mat:\n",
    "        oracle_diffs =  [\n",
    "            [\n",
    "                oracle_diffs[(k1, k2)] for k1 in keys\n",
    "            ] for k2 in keys\n",
    "        ]\n",
    "    return oracle_diffs\n",
    "def permutation_oracle(perm):\n",
    "    n = len(perm)\n",
    "    oracle = np.zeros((n, n))\n",
    "    for i in range(n):\n",
    "        oracle[i, perm[i]] = 1\n",
    "    return oracle\n",
    "\n",
    "def get_permutation_oracles(instances):\n",
    "    # assuming instances are all lists representing permutations\n",
    "    oracles = {}\n",
    "    n = len(instances[0])\n",
    "    print(n)\n",
    "    # assert tuple(range(n)) == problem.alphabet\n",
    "    for instance in instances:\n",
    "        oracle = np.zeros((n, n))\n",
    "        for i in range(n):\n",
    "            oracle[i, instance[i]] = 1\n",
    "        oracles[instance] = oracle\n",
    "        # assert oracle@oracle.T - np.eye(n)\n",
    "    return oracles\n",
    "\n",
    "def preimage_even_odd(n):\n",
    "    perms = itertools.permutations(range(n))\n",
    "    no_instances = []\n",
    "    yes_instances = []\n",
    "    for perm in get_cycles(n,n):\n",
    "        # print(to_str(perm))\n",
    "        if perm.index(0) >= n//2:\n",
    "            yes_instances.append(perm)\n",
    "        else:\n",
    "            no_instances.append(perm)\n",
    "    return Problem(no_instances, yes_instances)"
   ]
  },
  {
   "cell_type": "code",
   "execution_count": 14,
   "id": "6f5f3f16-011d-45ea-835c-ac9751166808",
   "metadata": {},
   "outputs": [],
   "source": [
    "def get_cycles(n, k):\n",
    "    perm = tuple(range(n))\n",
    "    yes_instances = set()\n",
    "    for cycle_points in itertools.permutations(perm, k):\n",
    "        curr_cycle = list(perm)\n",
    "        for i in range(k-1):\n",
    "            curr_cycle[cycle_points[i]] = cycle_points[i+1]\n",
    "        curr_cycle[cycle_points[-1]] = cycle_points[0]\n",
    "        yes_instances.add(tuple(curr_cycle))\n",
    "    return list(yes_instances)\n",
    "def num_fixed_points(perm):\n",
    "    curr_sum = 0\n",
    "    for i in range(len(perm)):\n",
    "        if perm[i] == i:\n",
    "            curr_sum += 1\n",
    "    return curr_sum\n",
    "\n",
    "def permutation_thresh(n, k):\n",
    "    # perm = nkp.array(range(n))\n",
    "    no_instances = set()\n",
    "    yes_instances = set()\n",
    "    for perm in itertools.permutations(tuple(range(n))):\n",
    "        num_fixed = num_fixed_points(perm)\n",
    "        if num_fixed == k:\n",
    "            no_instances.add(perm)\n",
    "        elif num_fixed == k + 1:\n",
    "            yes_instances.add(perm)\n",
    "    return Problem(list(no_instances), list(yes_instances))\n",
    "def equality(n):\n",
    "    perms = list(itertools.permutations(list(range(n))))\n",
    "    no_instances = []\n",
    "    yes_instances = [tuple(perm + tuple(p + n for p in perm)) for perm in perms]\n",
    "    for perm1, perm2 in itertools.combinations_with_replacement(perms, 2):\n",
    "        instance = tuple(perm1+ tuple(p + n for p in perm2))\n",
    "        if dist(perm1, perm2) == 2:\n",
    "            no_instances.append(instance)\n",
    "    return Problem(no_instances, yes_instances)\n",
    "\n",
    "\n",
    "def fixed_points(n, k):\n",
    "    no_instances = []\n",
    "    yes_instances = []\n",
    "    for perm in itertools.permutations(range(n)):\n",
    "        fp = num_fixed_points(perm)\n",
    "        if fp == k:\n",
    "            no_instances.append(perm)\n",
    "        elif fp == k+1:\n",
    "            yes_instances.append(perm)\n",
    "    return Problem(no_instances, yes_instances)\n",
    "        \n",
    "def cycle0(n, k):\n",
    "    no_instances = [cycle for cycle in get_cycles(n, k) if cycle[0] != 0]\n",
    "    yes_instances = [cycle for cycle in get_cycles(n, k+1) if cycle[0] != 0]\n",
    "    return Problem(no_instances, yes_instances)\n",
    "def cycle(n, k, k2=None):\n",
    "    if k2 is None:\n",
    "        k2 = k+1\n",
    "    no_instances = get_cycles(n,k)\n",
    "    yes_instances = get_cycles(n, k2)\n",
    "    return Problem(no_instances, yes_instances)\n",
    "\n",
    "def preimage(n, k):\n",
    "    # perms = list(itertools.permutations(range(n)))\n",
    "    no_instances = []\n",
    "    yes_instances = []\n",
    "    for perm in get_cycles(n, k):\n",
    "        preimage0 = perm.index(0)\n",
    "        # print(preimage0, perm)\n",
    "        if preimage0 % 2:\n",
    "            yes_instances.append(perm)\n",
    "        else:\n",
    "            no_instances.append(perm)\n",
    "    # print(no_instances)\n",
    "    # print(yes_instances)\n",
    "    return Problem(no_instances, yes_instances)\n",
    "def get_all_cycles(perm):\n",
    "    cycles =[]\n",
    "    points_in_cycles = set()\n",
    "    for i in range(n):\n",
    "        if i not in points_in_cycles and perm[i] != i:\n",
    "            cycle = [i]\n",
    "            j = perm[i]\n",
    "            points_in_cycles.add(j)\n",
    "            while j not in cycle:\n",
    "                cycle.append(j)\n",
    "                j = perm[j]\n",
    "                points_in_cycles.add(j)\n",
    "            cycles.append(tuple(cycle))\n",
    "    return cycles\n",
    "\n",
    "def num_cycles(perm):\n",
    "    return len(get_all_cycles(perm))\n",
    "        \n",
    "def transpose_thresh(n, k):\n",
    "    perms = itertools.permutations(range(n))\n",
    "    no_instances = []\n",
    "    yes_instances = []\n",
    "    for perm in perms:\n",
    "        cycles = get_all_cycles(perm)\n",
    "        cycle_lengths = set(len(cycle)  for cycle in cycles)\n",
    "        if cycle_lengths == set([2]):\n",
    "            if len(cycles) == k:\n",
    "                no_instances.append(perm)\n",
    "            elif len(cycles) == k+1:\n",
    "                yes_instances.append(perm)\n",
    "    return Problem(no_instances, yes_instances)\n",
    "\n",
    "def transpose(n, easy=False):\n",
    "    perm = tuple(range(n))\n",
    "    no_instances = []\n",
    "    if easy:\n",
    "        for i in range(n//2):\n",
    "            instance = list(perm)\n",
    "            instance[2*i] = 2*i + 1\n",
    "            instance[2*i+1] = 2*i\n",
    "            no_instances.append(tuple(instance))\n",
    "    else:\n",
    "        for i,j in itertools.combinations(perm, 2):\n",
    "            # print(i,j)\n",
    "            instance = list(perm)\n",
    "            instance[i] = j\n",
    "            instance[j] = i\n",
    "            no_instances.append(tuple(instance))\n",
    "    return Problem([perm], list(no_instances))\n",
    "\n",
    "def relative_hadamard_norm_min(mat, relative, D1_len):\n",
    "    mat_len = mat.shape[0]\n",
    "    mat_size = mat_len\n",
    "    D1 = list(range(D1_len))\n",
    "    D2 = list(range(D1_len, mat_size))\n",
    "    relative_shape = relative[0][0].shape\n",
    "    t = cp.Variable(nonneg=True)\n",
    "    X = [[cp.Variable(relative_shape) for _ in range(mat_len)] for _ in range(mat_len)]\n",
    "    for x in D1:\n",
    "        for y in D2:\n",
    "            X[x][y] = cp.Variable(relative_shape)\n",
    "    constraints = [cp.bmat(X) >> 0]\n",
    "    constraints += [\n",
    "        mat[x][y] == cp.trace(X[x][y].T @ relative[x][y]) \n",
    "        for x in range(mat_size) for y in range(mat_size)\n",
    "    ]\n",
    "    constraints += [\n",
    "        t >= cp.trace(X[z][z]) for z in range(mat_size)\n",
    "    ]\n",
    "    \n",
    "    opt_prob = cp.Problem(cp.Minimize(t), constraints)\n",
    "    opt_prob.solve(verbose=True) \n",
    "    for x in range(mat_size):\n",
    "        for y in range(mat_size):\n",
    "            X[x][y] = X[x][y].value\n",
    "    return X\n",
    "    \n",
    "def relative_hadamard_norm_max(mat, relative_mat, D_len, solver=\"MOSEK\", uni=True):\n",
    "    print('shapes', )\n",
    "    relative_shape = [0,0]\n",
    "    relative_shape[0] = relative_mat.shape[0] // mat.shape[0]\n",
    "    relative_shape[1] = relative_mat.shape[1] // mat.shape[1]\n",
    "    relative_shape = tuple(relative_shape)\n",
    "    \n",
    "    # print(D1_len, len(D2), relative.shape)\n",
    "    # relative_mat = np.block(relative)\n",
    "\n",
    "    print(relative_mat.shape)\n",
    "    mu = cp.Variable(D_len, nonneg=True)\n",
    "    Lambda = cp.Variable((D_len, D_len), symmetric=True)\n",
    "    print(relative_shape)\n",
    "    Lambda_relative = cp.kron(Lambda, np.ones(relative_shape))\n",
    "    Lambda_relative = cp.multiply(Lambda_relative, relative_mat)\n",
    "    diag = cp.kron(cp.diag(mu), np.eye(relative_shape[0]))\n",
    "    # print(W.shape, diag.shape)\n",
    "    W = Lambda_relative - diag\n",
    "    # print(W)\n",
    "    constraints = [cp.sum(mu) == 1, W >> 0]\n",
    "    opt_prob = cp.Problem(cp.Maximize(2 * cp.sum(cp.multiply(Lambda.T, mat))), constraints)\n",
    "    opt_prob.solve(verbose=True, solver=solver, mosek_params= {\"MSK_IPAR_NUM_THREADS\": 8}) \n",
    "    return Lambda.value, mu.value, W.value\n",
    "\n",
    "\n",
    "def to_adversary_mat(Lambda, mu):\n",
    "    G = np.zeros(Lambda.shape)\n",
    "    for x in range(Lambda.shape[0]):\n",
    "        for y in range(Lambda.shape[1]):\n",
    "            G[x,y] = Lambda[x,y]/np.sqrt(mu[x] * mu[ y])\n",
    "            \n",
    "    return G"
   ]
  },
  {
   "cell_type": "code",
   "execution_count": 15,
   "id": "b535828f-779a-4525-8dc6-e3f2565d83c0",
   "metadata": {
    "tags": []
   },
   "outputs": [],
   "source": [
    "def search_perm_sorter(perms):\n",
    "    n = len(perms[0])\n",
    "    print('n', n)\n",
    "    perm_types = {i:[] for i in range(n)}\n",
    "    for perm in perms:\n",
    "        perm_types[perm.index(0)].append( perm)\n",
    "    for t in perm_types:\n",
    "        perm_types[t].sort()\n",
    "    perm_assignment = {}\n",
    "    curr_perm = 0\n",
    "    for i, permsi in perm_types.items():\n",
    "        permsi = list(permsi)\n",
    "        for perm in permsi:\n",
    "            perm_assignment[perm] = curr_perm\n",
    "            curr_perm += 1\n",
    "    # print(perm_assignment)\n",
    "    return perm_assignment, perm_types\n",
    "\n",
    "def search_mask(funcs, assignment=None, marker=0):\n",
    "    size = len(funcs)\n",
    "    if assignment is None:\n",
    "        assignment = search_perm_sorter(funcs)\n",
    "    if assignment == 'same':\n",
    "        assignment = {funcs[i]: i for i in range(len(funcs))}\n",
    "    # print(size)\n",
    "    mask = np.zeros((size, size))\n",
    "    for f in funcs:\n",
    "        f0 = f.index(marker)\n",
    "        for g in funcs:\n",
    "            g0 = g.index(marker)\n",
    "            if f0 != g0:\n",
    "                mask[assignment[f], assignment[g]] = 1\n",
    "    return mask\n",
    "def index_or(n):\n",
    "    funcs = list(set(itertools.permutations([1] + [0] * (n-1))))\n",
    "    funcs.sort()\n",
    "    print(funcs)\n",
    "    size = len(funcs)\n",
    "    return funcs, search_mask(funcs, assignment='same', marker=1)\n",
    "# print(index_or(n))\n",
    "def cycle_to_standard(cycle):\n",
    "    n = len(cycle)\n",
    "    perm = list(range(n))\n",
    "    for i in range(n):\n",
    "        perm[cycle[i]] = cycle[(i+1)%n]\n",
    "    return perm\n",
    "def get_shift(perm, k, l):\n",
    "    # take p_{k+1}->...->p_l and insert and put it at the end\n",
    "    cycle_perm = get_all_cycles(perm)[0]\n",
    "    print('get_all cycles', perm, cycle_perm)\n",
    "    shifted_cycle = cycle_perm[:k+1] + cycle_perm[l+1:] + cycle_perm[k+1: l+1]\n",
    "    print('shift', cycle_perm, shifted_cycle)\n",
    "    print(k, l, cycle_perm, shifted_cycle)\n",
    "    # print(k,l, get_all_cycles(cyclecycle_perm)[0], get_all_cycles(shifted_cycle))\n",
    "    # print(shifted_cycle)\n",
    "    # print(cycle_to_standard(shifted_cycle)\n",
    "    assert len(perm) == len(shifted_cycle) \n",
    "    return tuple(cycle_to_standard(shifted_cycle))\n",
    "\n",
    "def get_all_k_shift(perm, k):\n",
    "    n = len(perm)\n",
    "    # print('shift', list({get_shift(perm, k, j) for j in range(k+1, n-1)}))\n",
    "    return list({get_shift(perm, k, j) for j in range(k+1, n-1)})\n",
    "\n",
    "def get_n_cycles(n):\n",
    "    cycles = itertools.permutations(range(n))\n",
    "    perms = set()\n",
    "    for cycle in cycles:\n",
    "        perm = list(range(n))\n",
    "        for i in range(n):\n",
    "            perm[cycle[i]] = cycle[(i+1)%n]\n",
    "        perms.add(tuple(perm))\n",
    "    return list(perms)\n",
    "\n",
    "def lv_search_mat(n, shift=None):\n",
    "    cycles = get_n_cycles(n)\n",
    "    # print(cycles)\n",
    "    search_perm_sorter(cycles)\n",
    "    assignment, perm_types = search_perm_sorter(cycles)\n",
    "    one_pairs = dict()\n",
    "    for cycle in cycles:\n",
    "        # print(cycle)\n",
    "        # print(get_all_k_shift(cycle))\n",
    "        one_pairs[cycle] = []\n",
    "        if shift is None:\n",
    "            for k in range(1, n-1):\n",
    "                one_pairs[cycle] = one_pairs[cycle] + get_all_k_shift(cycle, k)\n",
    "        else: \n",
    "            one_pairs[cycle] = get_all_k_shift(cycle, shift)\n",
    "    # print('pairs', one_pairs)\n",
    "    mat = np.zeros((len(cycles), len(cycles)))\n",
    "    for cycle in cycles:\n",
    "        for pair in one_pairs[cycle]:\n",
    "            # print(cycles, pair)\n",
    "            mat[assignment[cycle], assignment[pair]] = 1\n",
    "    return mat\n",
    "            "
   ]
  },
  {
   "cell_type": "code",
   "execution_count": 16,
   "id": "cfc63b54-4085-480e-b864-718648594382",
   "metadata": {
    "tags": []
   },
   "outputs": [
    {
     "name": "stdout",
     "output_type": "stream",
     "text": [
      "n 3\n",
      "{(0, 1, 2): 0, (0, 2, 1): 1, (1, 0, 2): 2, (2, 0, 1): 3, (1, 2, 0): 4, (2, 1, 0): 5}\n",
      "get_oracles 6\n",
      "{(0, 1, 2): array([[1., 0., 0.],\n",
      "       [0., 1., 0.],\n",
      "       [0., 0., 1.]]), (0, 2, 1): array([[1., 0., 0.],\n",
      "       [0., 0., 1.],\n",
      "       [0., 1., 0.]]), (1, 0, 2): array([[0., 1., 0.],\n",
      "       [1., 0., 0.],\n",
      "       [0., 0., 1.]]), (1, 2, 0): array([[0., 1., 0.],\n",
      "       [0., 0., 1.],\n",
      "       [1., 0., 0.]]), (2, 0, 1): array([[0., 0., 1.],\n",
      "       [1., 0., 0.],\n",
      "       [0., 1., 0.]]), (2, 1, 0): array([[0., 0., 1.],\n",
      "       [0., 1., 0.],\n",
      "       [1., 0., 0.]])}\n"
     ]
    },
    {
     "data": {
      "image/png": "[encoded data removed]",
      "text/plain": [
       "<Figure size 720x480 with 2 Axes>"
      ]
     },
     "metadata": {
      "needs_background": "light"
     },
     "output_type": "display_data"
    },
    {
     "data": {
      "image/png": "[encoded data removed]",
      "text/plain": [
       "<Figure size 720x480 with 2 Axes>"
      ]
     },
     "metadata": {
      "needs_background": "light"
     },
     "output_type": "display_data"
    },
    {
     "name": "stdout",
     "output_type": "stream",
     "text": [
      "shapes\n",
      "(18, 18)\n",
      "(3, 3)\n",
      "===============================================================================\n",
      "                                     CVXPY                                     \n",
      "                                     v1.5.2                                    \n",
      "===============================================================================\n",
      "(CVXPY) Jul 05 06:59:59 PM: Your problem has 42 variables, 325 constraints, and 0 parameters.\n",
      "(CVXPY) Jul 05 06:59:59 PM: It is compliant with the following grammars: DCP, DQCP\n",
      "(CVXPY) Jul 05 06:59:59 PM: (If you need to solve this problem multiple times, but with different data, consider using parameters.)\n",
      "(CVXPY) Jul 05 06:59:59 PM: CVXPY will first compile your problem; then, it will invoke a numerical solver to obtain a solution.\n",
      "(CVXPY) Jul 05 06:59:59 PM: Your problem is compiled with the CPP canonicalization backend.\n",
      "-------------------------------------------------------------------------------\n",
      "                                  Compilation                                  \n",
      "-------------------------------------------------------------------------------\n",
      "(CVXPY) Jul 05 06:59:59 PM: Compiling problem (target solver=MOSEK).\n",
      "(CVXPY) Jul 05 06:59:59 PM: Reduction chain: FlipObjective -> Dcp2Cone -> CvxAttr2Constr -> ConeMatrixStuffing -> MOSEK\n",
      "(CVXPY) Jul 05 06:59:59 PM: Applying reduction FlipObjective\n",
      "(CVXPY) Jul 05 06:59:59 PM: Applying reduction Dcp2Cone\n",
      "(CVXPY) Jul 05 06:59:59 PM: Applying reduction CvxAttr2Constr\n",
      "(CVXPY) Jul 05 06:59:59 PM: Applying reduction ConeMatrixStuffing\n",
      "(CVXPY) Jul 05 06:59:59 PM: Applying reduction MOSEK\n",
      "(CVXPY) Jul 05 07:00:00 PM: Finished problem compilation (took 1.390e-01 seconds).\n",
      "-------------------------------------------------------------------------------\n",
      "                                Numerical solver                               \n",
      "-------------------------------------------------------------------------------\n",
      "(CVXPY) Jul 05 07:00:00 PM: Invoking solver MOSEK  to obtain a solution.\n",
      "\n",
      "\n",
      "(CVXPY) Jul 05 07:00:00 PM: Problem\n",
      "(CVXPY) Jul 05 07:00:00 PM:   Name                   :                 \n",
      "(CVXPY) Jul 05 07:00:00 PM:   Objective sense        : maximize        \n",
      "(CVXPY) Jul 05 07:00:00 PM:   Type                   : CONIC (conic optimization problem)\n",
      "(CVXPY) Jul 05 07:00:00 PM:   Constraints            : 27              \n",
      "(CVXPY) Jul 05 07:00:00 PM:   Affine conic cons.     : 0               \n",
      "(CVXPY) Jul 05 07:00:00 PM:   Disjunctive cons.      : 0               \n",
      "(CVXPY) Jul 05 07:00:00 PM:   Cones                  : 0               \n",
      "(CVXPY) Jul 05 07:00:00 PM:   Scalar variables       : 7               \n",
      "(CVXPY) Jul 05 07:00:00 PM:   Matrix variables       : 1               \n",
      "(CVXPY) Jul 05 07:00:00 PM:   Integer variables      : 0               \n",
      "(CVXPY) Jul 05 07:00:00 PM: \n",
      "(CVXPY) Jul 05 07:00:00 PM: Optimizer started.\n",
      "(CVXPY) Jul 05 07:00:00 PM: Presolve started.\n",
      "(CVXPY) Jul 05 07:00:00 PM: Linear dependency checker started.\n",
      "(CVXPY) Jul 05 07:00:00 PM: Linear dependency checker terminated.\n",
      "(CVXPY) Jul 05 07:00:00 PM: Eliminator started.\n",
      "(CVXPY) Jul 05 07:00:00 PM: Freed constraints in eliminator : 0\n",
      "(CVXPY) Jul 05 07:00:00 PM: Eliminator terminated.\n",
      "(CVXPY) Jul 05 07:00:00 PM: Eliminator - tries                  : 1                 time                   : 0.00            \n",
      "(CVXPY) Jul 05 07:00:00 PM: Lin. dep.  - tries                  : 1                 time                   : 0.00            \n",
      "(CVXPY) Jul 05 07:00:00 PM: Lin. dep.  - number                 : 0               \n",
      "(CVXPY) Jul 05 07:00:00 PM: Presolve terminated. Time: 0.02    \n",
      "(CVXPY) Jul 05 07:00:00 PM: Problem\n",
      "(CVXPY) Jul 05 07:00:00 PM:   Name                   :                 \n",
      "(CVXPY) Jul 05 07:00:00 PM:   Objective sense        : maximize        \n",
      "(CVXPY) Jul 05 07:00:00 PM:   Type                   : CONIC (conic optimization problem)\n",
      "(CVXPY) Jul 05 07:00:00 PM:   Constraints            : 27              \n",
      "(CVXPY) Jul 05 07:00:00 PM:   Affine conic cons.     : 0               \n",
      "(CVXPY) Jul 05 07:00:00 PM:   Disjunctive cons.      : 0               \n",
      "(CVXPY) Jul 05 07:00:00 PM:   Cones                  : 0               \n",
      "(CVXPY) Jul 05 07:00:00 PM:   Scalar variables       : 7               \n",
      "(CVXPY) Jul 05 07:00:00 PM:   Matrix variables       : 1               \n",
      "(CVXPY) Jul 05 07:00:00 PM:   Integer variables      : 0               \n",
      "(CVXPY) Jul 05 07:00:00 PM: \n",
      "(CVXPY) Jul 05 07:00:00 PM: Optimizer  - threads                : 8               \n",
      "(CVXPY) Jul 05 07:00:00 PM: Optimizer  - solved problem         : the primal      \n",
      "(CVXPY) Jul 05 07:00:00 PM: Optimizer  - Constraints            : 21\n",
      "(CVXPY) Jul 05 07:00:00 PM: Optimizer  - Cones                  : 1\n",
      "(CVXPY) Jul 05 07:00:00 PM: Optimizer  - Scalar variables       : 8                 conic                  : 2               \n",
      "(CVXPY) Jul 05 07:00:00 PM: Optimizer  - Semi-definite variables: 1                 scalarized             : 171             \n",
      "(CVXPY) Jul 05 07:00:00 PM: Factor     - setup time             : 0.00              dense det. time        : 0.00            \n",
      "(CVXPY) Jul 05 07:00:00 PM: Factor     - ML order time          : 0.00              GP order time          : 0.00            \n",
      "(CVXPY) Jul 05 07:00:00 PM: Factor     - nonzeros before factor : 231               after factor           : 231             \n",
      "(CVXPY) Jul 05 07:00:00 PM: Factor     - dense dim.             : 0                 flops                  : 1.61e+04        \n",
      "(CVXPY) Jul 05 07:00:00 PM: ITE PFEAS    DFEAS    GFEAS    PRSTATUS   POBJ              DOBJ              MU       TIME  \n",
      "(CVXPY) Jul 05 07:00:00 PM: 0   4.0e+00  1.0e+00  1.0e+00  0.00e+00   0.000000000e+00   0.000000000e+00   1.0e+00  0.03  \n",
      "(CVXPY) Jul 05 07:00:00 PM: 1   5.4e-01  1.4e-01  4.0e-01  -1.02e+00  8.875156230e+00   1.545078694e+00   1.4e-01  0.06  \n",
      "(CVXPY) Jul 05 07:00:00 PM: 2   2.5e-02  6.2e-03  1.3e-01  -1.35e+00  4.139764984e+02   -1.253798939e+01  6.2e-03  0.06  \n",
      "(CVXPY) Jul 05 07:00:00 PM: 3   6.4e-06  1.6e-06  1.1e-03  -9.62e-01  4.830422357e+05   2.690082030e-01   1.6e-06  0.06  \n",
      "(CVXPY) Jul 05 07:00:00 PM: 4   1.5e-15  4.9e-17  3.9e-08  -1.00e+00  3.147004803e+16   -8.408529363e-01  4.9e-17  0.06  \n",
      "(CVXPY) Jul 05 07:00:00 PM: Optimizer terminated. Time: 0.11    \n",
      "(CVXPY) Jul 05 07:00:00 PM: \n",
      "(CVXPY) Jul 05 07:00:00 PM: \n",
      "(CVXPY) Jul 05 07:00:00 PM: Interior-point solution summary\n",
      "(CVXPY) Jul 05 07:00:00 PM:   Problem status  : DUAL_INFEASIBLE\n",
      "(CVXPY) Jul 05 07:00:00 PM:   Solution status : DUAL_INFEASIBLE_CER\n",
      "(CVXPY) Jul 05 07:00:00 PM:   Primal.  obj: 1.2258686525e+00    nrm: 1e+00    Viol.  con: 2e-15    var: 0e+00    barvar: 0e+00  \n",
      "-------------------------------------------------------------------------------\n",
      "                                    Summary                                    \n",
      "-------------------------------------------------------------------------------\n",
      "(CVXPY) Jul 05 07:00:00 PM: Problem status: infeasible\n",
      "(CVXPY) Jul 05 07:00:00 PM: Optimal value: -inf\n",
      "(CVXPY) Jul 05 07:00:00 PM: Compilation took 1.390e-01 seconds\n",
      "(CVXPY) Jul 05 07:00:00 PM: Solver (including time spent in interface) took 1.080e-01 seconds\n"
     ]
    },
    {
     "ename": "TypeError",
     "evalue": "Image data of dtype object cannot be converted to float",
     "output_type": "error",
     "traceback": [
      "\u001b[1;31m---------------------------------------------------------------------------\u001b[0m",
      "\u001b[1;31mTypeError\u001b[0m                                 Traceback (most recent call last)",
      "\u001b[1;32m~\\AppData\\Local\\Temp/ipykernel_8344/578884704.py\u001b[0m in \u001b[0;36m<module>\u001b[1;34m\u001b[0m\n\u001b[0;32m     34\u001b[0m \u001b[1;31m# start = time()\u001b[0m\u001b[1;33m\u001b[0m\u001b[1;33m\u001b[0m\u001b[0m\n\u001b[0;32m     35\u001b[0m \u001b[0mLambda\u001b[0m\u001b[1;33m,\u001b[0m \u001b[0mmu\u001b[0m\u001b[1;33m,\u001b[0m \u001b[0mW\u001b[0m \u001b[1;33m=\u001b[0m \u001b[0mrelative_hadamard_norm_max\u001b[0m\u001b[1;33m(\u001b[0m\u001b[0mmat\u001b[0m\u001b[1;33m,\u001b[0m \u001b[0moracle_diffs\u001b[0m\u001b[1;33m,\u001b[0m \u001b[0mlen\u001b[0m\u001b[1;33m(\u001b[0m\u001b[0mperms\u001b[0m\u001b[1;33m)\u001b[0m\u001b[1;33m)\u001b[0m\u001b[1;33m\u001b[0m\u001b[1;33m\u001b[0m\u001b[0m\n\u001b[1;32m---> 36\u001b[1;33m \u001b[0mvisualize\u001b[0m\u001b[1;33m(\u001b[0m\u001b[0mLambda\u001b[0m\u001b[1;33m,\u001b[0m \u001b[1;33m(\u001b[0m\u001b[0mperms\u001b[0m\u001b[1;33m,\u001b[0m \u001b[0mperms\u001b[0m\u001b[1;33m)\u001b[0m\u001b[1;33m,\u001b[0m \u001b[0mto_string\u001b[0m\u001b[1;33m=\u001b[0m\u001b[1;32mTrue\u001b[0m\u001b[1;33m)\u001b[0m\u001b[1;33m\u001b[0m\u001b[1;33m\u001b[0m\u001b[0m\n\u001b[0m\u001b[0;32m     37\u001b[0m \u001b[0mvisualize\u001b[0m\u001b[1;33m(\u001b[0m\u001b[0mW\u001b[0m\u001b[1;33m)\u001b[0m\u001b[1;33m\u001b[0m\u001b[1;33m\u001b[0m\u001b[0m\n\u001b[0;32m     38\u001b[0m \u001b[1;31m# # visualize(W[] * oracle_diffs)\u001b[0m\u001b[1;33m\u001b[0m\u001b[1;33m\u001b[0m\u001b[0m\n",
      "\u001b[1;32m~\\ED_Adversaries\\Adversary.py\u001b[0m in \u001b[0;36mvisualize\u001b[1;34m(mat, labels, to_string, save)\u001b[0m\n\u001b[0;32m     53\u001b[0m \u001b[1;32mdef\u001b[0m \u001b[0mvisualize\u001b[0m\u001b[1;33m(\u001b[0m\u001b[0mmat\u001b[0m\u001b[1;33m,\u001b[0m \u001b[0mlabels\u001b[0m\u001b[1;33m=\u001b[0m\u001b[1;32mNone\u001b[0m\u001b[1;33m,\u001b[0m \u001b[0mto_string\u001b[0m\u001b[1;33m=\u001b[0m\u001b[1;32mFalse\u001b[0m\u001b[1;33m,\u001b[0m \u001b[0msave\u001b[0m\u001b[1;33m=\u001b[0m\u001b[1;32mNone\u001b[0m\u001b[1;33m)\u001b[0m\u001b[1;33m:\u001b[0m\u001b[1;33m\u001b[0m\u001b[1;33m\u001b[0m\u001b[0m\n\u001b[0;32m     54\u001b[0m     \u001b[0mfig\u001b[0m\u001b[1;33m,\u001b[0m \u001b[0max\u001b[0m \u001b[1;33m=\u001b[0m \u001b[0mplt\u001b[0m\u001b[1;33m.\u001b[0m\u001b[0msubplots\u001b[0m\u001b[1;33m(\u001b[0m\u001b[1;33m)\u001b[0m\u001b[1;33m\u001b[0m\u001b[1;33m\u001b[0m\u001b[0m\n\u001b[1;32m---> 55\u001b[1;33m     \u001b[0mheatmap\u001b[0m \u001b[1;33m=\u001b[0m \u001b[0max\u001b[0m\u001b[1;33m.\u001b[0m\u001b[0mimshow\u001b[0m\u001b[1;33m(\u001b[0m\u001b[0mmat\u001b[0m\u001b[1;33m)\u001b[0m\u001b[1;33m\u001b[0m\u001b[1;33m\u001b[0m\u001b[0m\n\u001b[0m\u001b[0;32m     56\u001b[0m     \u001b[0mplt\u001b[0m\u001b[1;33m.\u001b[0m\u001b[0mtight_layout\u001b[0m\u001b[1;33m(\u001b[0m\u001b[1;33m)\u001b[0m\u001b[1;33m\u001b[0m\u001b[1;33m\u001b[0m\u001b[0m\n\u001b[0;32m     57\u001b[0m     \u001b[0mfigh\u001b[0m\u001b[1;33m,\u001b[0m \u001b[0mfigw\u001b[0m \u001b[1;33m=\u001b[0m \u001b[0mfig\u001b[0m\u001b[1;33m.\u001b[0m\u001b[0mget_size_inches\u001b[0m\u001b[1;33m(\u001b[0m\u001b[1;33m)\u001b[0m\u001b[1;33m\u001b[0m\u001b[1;33m\u001b[0m\u001b[0m\n",
      "\u001b[1;32m~\\anaconda3\\lib\\site-packages\\matplotlib\\__init__.py\u001b[0m in \u001b[0;36minner\u001b[1;34m(ax, data, *args, **kwargs)\u001b[0m\n\u001b[0;32m   1359\u001b[0m     \u001b[1;32mdef\u001b[0m \u001b[0minner\u001b[0m\u001b[1;33m(\u001b[0m\u001b[0max\u001b[0m\u001b[1;33m,\u001b[0m \u001b[1;33m*\u001b[0m\u001b[0margs\u001b[0m\u001b[1;33m,\u001b[0m \u001b[0mdata\u001b[0m\u001b[1;33m=\u001b[0m\u001b[1;32mNone\u001b[0m\u001b[1;33m,\u001b[0m \u001b[1;33m**\u001b[0m\u001b[0mkwargs\u001b[0m\u001b[1;33m)\u001b[0m\u001b[1;33m:\u001b[0m\u001b[1;33m\u001b[0m\u001b[1;33m\u001b[0m\u001b[0m\n\u001b[0;32m   1360\u001b[0m         \u001b[1;32mif\u001b[0m \u001b[0mdata\u001b[0m \u001b[1;32mis\u001b[0m \u001b[1;32mNone\u001b[0m\u001b[1;33m:\u001b[0m\u001b[1;33m\u001b[0m\u001b[1;33m\u001b[0m\u001b[0m\n\u001b[1;32m-> 1361\u001b[1;33m             \u001b[1;32mreturn\u001b[0m \u001b[0mfunc\u001b[0m\u001b[1;33m(\u001b[0m\u001b[0max\u001b[0m\u001b[1;33m,\u001b[0m \u001b[1;33m*\u001b[0m\u001b[0mmap\u001b[0m\u001b[1;33m(\u001b[0m\u001b[0msanitize_sequence\u001b[0m\u001b[1;33m,\u001b[0m \u001b[0margs\u001b[0m\u001b[1;33m)\u001b[0m\u001b[1;33m,\u001b[0m \u001b[1;33m**\u001b[0m\u001b[0mkwargs\u001b[0m\u001b[1;33m)\u001b[0m\u001b[1;33m\u001b[0m\u001b[1;33m\u001b[0m\u001b[0m\n\u001b[0m\u001b[0;32m   1362\u001b[0m \u001b[1;33m\u001b[0m\u001b[0m\n\u001b[0;32m   1363\u001b[0m         \u001b[0mbound\u001b[0m \u001b[1;33m=\u001b[0m \u001b[0mnew_sig\u001b[0m\u001b[1;33m.\u001b[0m\u001b[0mbind\u001b[0m\u001b[1;33m(\u001b[0m\u001b[0max\u001b[0m\u001b[1;33m,\u001b[0m \u001b[1;33m*\u001b[0m\u001b[0margs\u001b[0m\u001b[1;33m,\u001b[0m \u001b[1;33m**\u001b[0m\u001b[0mkwargs\u001b[0m\u001b[1;33m)\u001b[0m\u001b[1;33m\u001b[0m\u001b[1;33m\u001b[0m\u001b[0m\n",
      "\u001b[1;32m~\\anaconda3\\lib\\site-packages\\matplotlib\\axes\\_axes.py\u001b[0m in \u001b[0;36mimshow\u001b[1;34m(self, X, cmap, norm, aspect, interpolation, alpha, vmin, vmax, origin, extent, filternorm, filterrad, resample, url, **kwargs)\u001b[0m\n\u001b[0;32m   5607\u001b[0m                               resample=resample, **kwargs)\n\u001b[0;32m   5608\u001b[0m \u001b[1;33m\u001b[0m\u001b[0m\n\u001b[1;32m-> 5609\u001b[1;33m         \u001b[0mim\u001b[0m\u001b[1;33m.\u001b[0m\u001b[0mset_data\u001b[0m\u001b[1;33m(\u001b[0m\u001b[0mX\u001b[0m\u001b[1;33m)\u001b[0m\u001b[1;33m\u001b[0m\u001b[1;33m\u001b[0m\u001b[0m\n\u001b[0m\u001b[0;32m   5610\u001b[0m         \u001b[0mim\u001b[0m\u001b[1;33m.\u001b[0m\u001b[0mset_alpha\u001b[0m\u001b[1;33m(\u001b[0m\u001b[0malpha\u001b[0m\u001b[1;33m)\u001b[0m\u001b[1;33m\u001b[0m\u001b[1;33m\u001b[0m\u001b[0m\n\u001b[0;32m   5611\u001b[0m         \u001b[1;32mif\u001b[0m \u001b[0mim\u001b[0m\u001b[1;33m.\u001b[0m\u001b[0mget_clip_path\u001b[0m\u001b[1;33m(\u001b[0m\u001b[1;33m)\u001b[0m \u001b[1;32mis\u001b[0m \u001b[1;32mNone\u001b[0m\u001b[1;33m:\u001b[0m\u001b[1;33m\u001b[0m\u001b[1;33m\u001b[0m\u001b[0m\n",
      "\u001b[1;32m~\\anaconda3\\lib\\site-packages\\matplotlib\\image.py\u001b[0m in \u001b[0;36mset_data\u001b[1;34m(self, A)\u001b[0m\n\u001b[0;32m    698\u001b[0m         if (self._A.dtype != np.uint8 and\n\u001b[0;32m    699\u001b[0m                 not np.can_cast(self._A.dtype, float, \"same_kind\")):\n\u001b[1;32m--> 700\u001b[1;33m             raise TypeError(\"Image data of dtype {} cannot be converted to \"\n\u001b[0m\u001b[0;32m    701\u001b[0m                             \"float\".format(self._A.dtype))\n\u001b[0;32m    702\u001b[0m \u001b[1;33m\u001b[0m\u001b[0m\n",
      "\u001b[1;31mTypeError\u001b[0m: Image data of dtype object cannot be converted to float"
     ]
    },
    {
     "data": {
      "image/png": "[encoded data removed]",
      "text/plain": [
       "<Figure size 720x480 with 1 Axes>"
      ]
     },
     "metadata": {
      "needs_background": "light"
     },
     "output_type": "display_data"
    }
   ],
   "source": [
    "n = 3\n",
    "k = 1\n",
    "# print(get_n_cycles(n))\n",
    "# cycles = get_cycles(n, n)\n",
    "# print(cycles)\n",
    "# mat = lv_search_mat(n, shift=k)\n",
    "# visualize(mat, (cycles, cycles), to_string=True)\n",
    "# perms, mat = index_or(n)\n",
    "# perms = list(itertools.permutations)\n",
    "# # perms = [perm for perm in perms.instances if perm.index(0)!=0]\n",
    "\n",
    "# # prob = equality(n)\n",
    "\n",
    "perms = list(itertools.permutations(range(n)))\n",
    "# perms = get_cycles(n,n)\n",
    "# # # perms = perms[:3] + perms[-2:]\n",
    "keys, perm_types = search_perm_sorter(perms)\n",
    "print(keys)\n",
    "# # # print(len(perms), len(keys))\n",
    "oracles = get_oracles(perms, permutation_oracle)\n",
    "print(oracles)\n",
    "# # # print(len(oracles))\n",
    "oracle_diffs_list = get_oracle_diffs(oracles, prod=True, mat=True, keys=keys)\n",
    "# # print(keys)\n",
    "# # # print('blah', len(oracle_diffs_list), len(oracle_diffs_list[0]), oracle_diffs_list[0][0].shape)\n",
    "# # # print(oracle_diffs_list)\n",
    "oracle_diffs = np.block(oracle_diffs_list)\n",
    "\n",
    "visualize(oracle_diffs)\n",
    "\n",
    "mat = search_mask(perms, assignment='same')\n",
    "visualize(mat)\n",
    "# print('boop')\n",
    "# start = time()\n",
    "Lambda, mu, W = relative_hadamard_norm_max(mat, oracle_diffs, len(perms))\n",
    "visualize(Lambda, (perms, perms), to_string=True)\n",
    "visualize(W)\n",
    "# # visualize(W[] * oracle_diffs)\n",
    "# print(mu)\n",
    "# print(\"time\",  time()-start)\n",
    "# print(set(np.round(W.flatten(), 7)))"
   ]
  },
  {
   "cell_type": "code",
   "execution_count": null,
   "id": "ddc4e926-03bd-439c-afa6-a75945b28781",
   "metadata": {
    "tags": []
   },
   "outputs": [],
   "source": [
    "\n",
    "def to_str(L):\n",
    "    return ''.join([str(x) for x in L])\n",
    "    \n",
    "\n",
    "\n",
    "plt.imshow(Lambda)\n",
    "plt.colorbar()\n",
    "plt.show()\n",
    "print(np.min(Lambda))\n",
    "print(mu)\n",
    "# print(len(set(prob.yes_instances)))\n",
    "# print(prob.yes_instances)\n",
    "# print(Lambda.shape)\n",
    "\n",
    "# print(2*np.sum(Lambda))\n",
    "# print(Lambda[0,1])\n",
    "# print(np.linalg.eig(G))\n",
    "G = to_adversary_mat(Lambda, mu)\n",
    "# plt.imshow(G)\n",
    "# plt.colorbar()\n",
    "# plt.show()\n",
    "# print(mat)\n",
    "t = .5\n",
    "print('G', np.linalg.eigvals(G)[0])\n",
    "print('Gmat', np.linalg.eigvals(G*mat)[0])\n",
    "visualize(G*mat,  (perms, perms), to_string=True, save=\"mat.png\")\n",
    "big_mat = np.kron(G, np.ones((n ,n)))*oracle_diffs\n",
    "# big_mat = t*np.eye(big_mat.shape[0]) + big_mat\n",
    "print('bigmat')\n",
    "visualize(big_mat)\n",
    "print('eig')\n",
    "print(np.max(np.real(np.linalg.eigvals(big_mat))))\n",
    "visualize(np.real(np.linalg.eig(big_mat)[1]))\n",
    "print((np.real(np.linalg.eig(big_mat)[1][:, 0])))\n",
    "# print(Lambda.shape)\n",
    "# A,_ = adv_solver(prob)"
   ]
  },
  {
   "cell_type": "code",
   "execution_count": 9,
   "id": "8637fd3a-5cbd-462d-b4b4-a8b3fd7733dd",
   "metadata": {
    "tags": []
   },
   "outputs": [
    {
     "name": "stdout",
     "output_type": "stream",
     "text": [
      "{0.0, 1.0, 0.3966395, -0.1065396, -0.0996414, 0.5851194, 0.3881925, 0.3966394, 0.3881926}\n"
     ]
    }
   ],
   "source": [
    "print(set(np.round(G.flatten()/np.max(G), 7)))"
   ]
  },
  {
   "cell_type": "code",
   "execution_count": 10,
   "id": "b50305f9-1c0f-4a38-b87b-b205fc95efe7",
   "metadata": {
    "tags": []
   },
   "outputs": [
    {
     "name": "stdout",
     "output_type": "stream",
     "text": [
      "-0.007450912152840727\n"
     ]
    }
   ],
   "source": [
    "print(G[0,1])"
   ]
  },
  {
   "cell_type": "code",
   "execution_count": null,
   "id": "40c42cd3-35fb-4e7d-9257-08670d71cb6b",
   "metadata": {},
   "outputs": [],
   "source": []
  },
  {
   "cell_type": "code",
   "execution_count": 11,
   "id": "c9870d3b-2e5e-4c85-8c90-5df9385df61e",
   "metadata": {},
   "outputs": [
    {
     "name": "stdout",
     "output_type": "stream",
     "text": [
      "24 2\n",
      "0 2.0627689033473415\n"
     ]
    },
    {
     "data": {
      "image/png": "[encoded data removed]",
      "text/plain": [
       "<Figure size 720x480 with 2 Axes>"
      ]
     },
     "metadata": {
      "needs_background": "light"
     },
     "output_type": "display_data"
    },
    {
     "name": "stdout",
     "output_type": "stream",
     "text": [
      "1 2.032838993646588\n"
     ]
    },
    {
     "data": {
      "image/png": "[encoded data removed]",
      "text/plain": [
       "<Figure size 720x480 with 2 Axes>"
      ]
     },
     "metadata": {
      "needs_background": "light"
     },
     "output_type": "display_data"
    },
    {
     "name": "stdout",
     "output_type": "stream",
     "text": [
      "2 2.153032965278958\n"
     ]
    },
    {
     "data": {
      "image/png": "[encoded data removed]",
      "text/plain": [
       "<Figure size 720x480 with 2 Axes>"
      ]
     },
     "metadata": {
      "needs_background": "light"
     },
     "output_type": "display_data"
    },
    {
     "name": "stdout",
     "output_type": "stream",
     "text": [
      "3 2.1530329659190954\n"
     ]
    },
    {
     "data": {
      "image/png": "[encoded data removed]",
      "text/plain": [
       "<Figure size 720x480 with 2 Axes>"
      ]
     },
     "metadata": {
      "needs_background": "light"
     },
     "output_type": "display_data"
    }
   ],
   "source": [
    "# print(oracle_diffs)\n",
    "# print(oracle_diffs_list)\n",
    "print(len(oracle_diffs_list), np.math.factorial(n-2))\n",
    "fac = len(perm_types[0])\n",
    "# print('fac', fac)\n",
    "for j in range(n):\n",
    "    curr_sum =  np.zeros((n, n))\n",
    "    for i in list(range(0, j*fac)) + list(range((j+1)*fac, len(oracle_diffs_list))):\n",
    "        curr_sum =G[j, i] * curr_sum + oracle_diffs_list[j][i]\n",
    "    print(j, np.linalg.norm(curr_sum, 2))\n",
    "    visualize(curr_sum)"
   ]
  },
  {
   "cell_type": "code",
   "execution_count": 46,
   "id": "cd886be4-6628-4b3c-8a53-a2d184d1aa26",
   "metadata": {},
   "outputs": [
    {
     "name": "stdout",
     "output_type": "stream",
     "text": [
      "10.95445115\n"
     ]
    },
    {
     "ename": "NameError",
     "evalue": "name 'evects' is not defined",
     "output_type": "error",
     "traceback": [
      "\u001b[1;31m---------------------------------------------------------------------------\u001b[0m",
      "\u001b[1;31mNameError\u001b[0m                                 Traceback (most recent call last)",
      "\u001b[1;32m~\\AppData\\Local\\Temp/ipykernel_24760/2448067276.py\u001b[0m in \u001b[0;36m<module>\u001b[1;34m\u001b[0m\n\u001b[0;32m      2\u001b[0m \u001b[0mcevals\u001b[0m\u001b[1;33m,\u001b[0m \u001b[0mcevects\u001b[0m \u001b[1;33m=\u001b[0m \u001b[0mnp\u001b[0m\u001b[1;33m.\u001b[0m\u001b[0mlinalg\u001b[0m\u001b[1;33m.\u001b[0m\u001b[0meig\u001b[0m\u001b[1;33m(\u001b[0m\u001b[0mmat\u001b[0m\u001b[1;33m)\u001b[0m\u001b[1;33m\u001b[0m\u001b[1;33m\u001b[0m\u001b[0m\n\u001b[0;32m      3\u001b[0m \u001b[0mprint\u001b[0m\u001b[1;33m(\u001b[0m\u001b[1;33m(\u001b[0m\u001b[0mnp\u001b[0m\u001b[1;33m.\u001b[0m\u001b[0mround\u001b[0m\u001b[1;33m(\u001b[0m\u001b[0mnp\u001b[0m\u001b[1;33m.\u001b[0m\u001b[0mreal\u001b[0m\u001b[1;33m(\u001b[0m\u001b[1;36m1\u001b[0m\u001b[1;33m/\u001b[0m\u001b[0mcevects\u001b[0m\u001b[1;33m[\u001b[0m\u001b[1;36m0\u001b[0m\u001b[1;33m,\u001b[0m\u001b[1;36m0\u001b[0m\u001b[1;33m]\u001b[0m\u001b[1;33m)\u001b[0m\u001b[1;33m,\u001b[0m \u001b[1;36m9\u001b[0m\u001b[1;33m)\u001b[0m\u001b[1;33m)\u001b[0m\u001b[1;33m)\u001b[0m\u001b[1;33m\u001b[0m\u001b[1;33m\u001b[0m\u001b[0m\n\u001b[1;32m----> 4\u001b[1;33m \u001b[0mprint\u001b[0m\u001b[1;33m(\u001b[0m\u001b[0mset\u001b[0m\u001b[1;33m(\u001b[0m\u001b[0mnp\u001b[0m\u001b[1;33m.\u001b[0m\u001b[0mround\u001b[0m\u001b[1;33m(\u001b[0m\u001b[0mnp\u001b[0m\u001b[1;33m.\u001b[0m\u001b[0mreal\u001b[0m\u001b[1;33m(\u001b[0m\u001b[0mevects\u001b[0m\u001b[1;33m[\u001b[0m\u001b[1;33m:\u001b[0m\u001b[1;33m,\u001b[0m \u001b[1;36m0\u001b[0m\u001b[1;33m]\u001b[0m\u001b[1;33m)\u001b[0m\u001b[1;33m,\u001b[0m \u001b[1;36m9\u001b[0m\u001b[1;33m)\u001b[0m\u001b[1;33m)\u001b[0m\u001b[1;33m)\u001b[0m\u001b[1;33m\u001b[0m\u001b[1;33m\u001b[0m\u001b[0m\n\u001b[0m\u001b[0;32m      5\u001b[0m \u001b[1;31m# visualize(perm_mat)\u001b[0m\u001b[1;33m\u001b[0m\u001b[1;33m\u001b[0m\u001b[0m\n\u001b[0;32m      6\u001b[0m \u001b[0mevals\u001b[0m\u001b[1;33m,\u001b[0m \u001b[0mevects\u001b[0m \u001b[1;33m=\u001b[0m \u001b[0mnp\u001b[0m\u001b[1;33m.\u001b[0m\u001b[0mlinalg\u001b[0m\u001b[1;33m.\u001b[0m\u001b[0meig\u001b[0m\u001b[1;33m(\u001b[0m\u001b[0mperm_mat\u001b[0m\u001b[1;33m)\u001b[0m\u001b[1;33m\u001b[0m\u001b[1;33m\u001b[0m\u001b[0m\n",
      "\u001b[1;31mNameError\u001b[0m: name 'evects' is not defined"
     ]
    }
   ],
   "source": [
    "perm_mat = oracle_diffs * np.kron(mat, np.ones((n, n)))\n",
    "cevals, cevects = np.linalg.eig(mat)\n",
    "print((np.round(np.real(1/cevects[0,0]), 9)))\n",
    "print(set(np.round(np.real(evects[:, 0]), 9)))\n",
    "# visualize(perm_mat)\n",
    "evals, evects = np.linalg.eig(perm_mat)\n",
    "# visualize(np.real(evects))\n",
    "# visualize(oracle_diffs)\n",
    "print(evals[0], cevals[0])\n",
    "visualize(np.real(cevects))\n",
    "\n",
    "\n",
    "# print(evals[0])\n",
    "# print(evects[0, :])"
   ]
  },
  {
   "cell_type": "code",
   "execution_count": 47,
   "id": "b1d99b2b-8c87-4365-af7f-6ddb1c8e120a",
   "metadata": {},
   "outputs": [
    {
     "data": {
      "image/png": "[encoded data removed]",
      "text/plain": [
       "<Figure size 720x480 with 1 Axes>"
      ]
     },
     "metadata": {
      "needs_background": "light"
     },
     "output_type": "display_data"
    },
    {
     "data": {
      "image/png": "[encoded data removed]",
      "text/plain": [
       "<Figure size 720x480 with 2 Axes>"
      ]
     },
     "metadata": {
      "needs_background": "light"
     },
     "output_type": "display_data"
    }
   ],
   "source": [
    "M = np.array([\n",
    "[1,2,3],\n",
    "[4,5,6]\n",
    "])\n",
    "plt.imshow(M)\n",
    "plt.show()\n",
    "visualize(M)"
   ]
  },
  {
   "cell_type": "code",
   "execution_count": 48,
   "id": "59e889e8-5065-47ab-9c00-c3d9b1cc99d7",
   "metadata": {},
   "outputs": [
    {
     "ename": "NameError",
     "evalue": "name 'sym_perm_mat' is not defined",
     "output_type": "error",
     "traceback": [
      "\u001b[1;31m---------------------------------------------------------------------------\u001b[0m",
      "\u001b[1;31mNameError\u001b[0m                                 Traceback (most recent call last)",
      "\u001b[1;32m~\\AppData\\Local\\Temp/ipykernel_24760/2729609156.py\u001b[0m in \u001b[0;36m<module>\u001b[1;34m\u001b[0m\n\u001b[1;32m----> 1\u001b[1;33m \u001b[0msym_perm_mat\u001b[0m\u001b[1;33m.\u001b[0m\u001b[0meigenvals\u001b[0m\u001b[1;33m(\u001b[0m\u001b[1;33m)\u001b[0m\u001b[1;33m\u001b[0m\u001b[1;33m\u001b[0m\u001b[0m\n\u001b[0m",
      "\u001b[1;31mNameError\u001b[0m: name 'sym_perm_mat' is not defined"
     ]
    }
   ],
   "source": [
    "sym_perm_mat.eigenvals()"
   ]
  },
  {
   "cell_type": "code",
   "execution_count": 49,
   "id": "683010ed-2d2b-47f9-9112-bedabbcc4244",
   "metadata": {},
   "outputs": [
    {
     "ename": "NameError",
     "evalue": "name 'Matrix' is not defined",
     "output_type": "error",
     "traceback": [
      "\u001b[1;31m---------------------------------------------------------------------------\u001b[0m",
      "\u001b[1;31mNameError\u001b[0m                                 Traceback (most recent call last)",
      "\u001b[1;32m~\\AppData\\Local\\Temp/ipykernel_24760/131411535.py\u001b[0m in \u001b[0;36m<module>\u001b[1;34m\u001b[0m\n\u001b[1;32m----> 1\u001b[1;33m \u001b[0mM\u001b[0m \u001b[1;33m=\u001b[0m \u001b[0mMatrix\u001b[0m\u001b[1;33m(\u001b[0m\u001b[1;33m[\u001b[0m\u001b[1;33m[\u001b[0m\u001b[1;36m1\u001b[0m\u001b[1;33m,\u001b[0m\u001b[1;36m0\u001b[0m\u001b[1;33m,\u001b[0m\u001b[1;36m0\u001b[0m\u001b[1;33m]\u001b[0m\u001b[1;33m,\u001b[0m\u001b[1;33m[\u001b[0m\u001b[1;36m1\u001b[0m\u001b[1;33m,\u001b[0m\u001b[1;36m2\u001b[0m\u001b[1;33m,\u001b[0m\u001b[1;36m2\u001b[0m\u001b[1;33m]\u001b[0m\u001b[1;33m,\u001b[0m \u001b[1;33m[\u001b[0m\u001b[1;36m3\u001b[0m\u001b[1;33m,\u001b[0m\u001b[1;36m2\u001b[0m\u001b[1;33m,\u001b[0m\u001b[1;36m1\u001b[0m\u001b[1;33m]\u001b[0m\u001b[1;33m]\u001b[0m\u001b[1;33m)\u001b[0m\u001b[1;33m\u001b[0m\u001b[1;33m\u001b[0m\u001b[0m\n\u001b[0m",
      "\u001b[1;31mNameError\u001b[0m: name 'Matrix' is not defined"
     ]
    }
   ],
   "source": [
    "M = Matrix([[1,0,0],[1,2,2], [3,2,1]])"
   ]
  },
  {
   "cell_type": "code",
   "execution_count": 50,
   "id": "e32d7d9f-7d06-49cd-82aa-9d128c286c39",
   "metadata": {},
   "outputs": [
    {
     "name": "stdout",
     "output_type": "stream",
     "text": [
      "[[1 2 3]\n",
      " [4 5 6]]\n"
     ]
    }
   ],
   "source": [
    "print(M)"
   ]
  },
  {
   "cell_type": "code",
   "execution_count": 51,
   "id": "3bac1d95-a174-4ceb-a4d5-1afcfba38daf",
   "metadata": {},
   "outputs": [
    {
     "ename": "AttributeError",
     "evalue": "'numpy.ndarray' object has no attribute 'eigenvals'",
     "output_type": "error",
     "traceback": [
      "\u001b[1;31m---------------------------------------------------------------------------\u001b[0m",
      "\u001b[1;31mAttributeError\u001b[0m                            Traceback (most recent call last)",
      "\u001b[1;32m~\\AppData\\Local\\Temp/ipykernel_24760/459220128.py\u001b[0m in \u001b[0;36m<module>\u001b[1;34m\u001b[0m\n\u001b[1;32m----> 1\u001b[1;33m \u001b[0mM\u001b[0m\u001b[1;33m.\u001b[0m\u001b[0meigenvals\u001b[0m\u001b[1;33m(\u001b[0m\u001b[1;33m)\u001b[0m\u001b[1;33m\u001b[0m\u001b[1;33m\u001b[0m\u001b[0m\n\u001b[0m",
      "\u001b[1;31mAttributeError\u001b[0m: 'numpy.ndarray' object has no attribute 'eigenvals'"
     ]
    }
   ],
   "source": [
    "M.eigenvals()"
   ]
  },
  {
   "cell_type": "code",
   "execution_count": 52,
   "id": "bc84ec17-0ca7-41c4-afeb-78946e4bb14b",
   "metadata": {},
   "outputs": [
    {
     "data": {
      "text/plain": [
       "array([[ 0.,  0.,  0., ...,  0.,  0., -1.],\n",
       "       [ 0.,  0.,  0., ...,  0., -1.,  0.],\n",
       "       [ 0.,  0.,  0., ...,  0.,  0.,  0.],\n",
       "       ...,\n",
       "       [ 0.,  0.,  0., ...,  0.,  0.,  0.],\n",
       "       [ 0., -1.,  0., ...,  0.,  0.,  0.],\n",
       "       [-1.,  0.,  0., ...,  0.,  0.,  0.]])"
      ]
     },
     "execution_count": 52,
     "metadata": {},
     "output_type": "execute_result"
    }
   ],
   "source": [
    "perm_mat"
   ]
  },
  {
   "cell_type": "code",
   "execution_count": 53,
   "id": "2341a1ef-1b38-404d-ba69-e9ba8bff2dcf",
   "metadata": {},
   "outputs": [
    {
     "name": "stdout",
     "output_type": "stream",
     "text": [
      "{0: [(0, 1, 2, 3, 4), (0, 1, 2, 4, 3), (0, 1, 3, 2, 4), (0, 1, 3, 4, 2), (0, 1, 4, 2, 3), (0, 1, 4, 3, 2), (0, 2, 1, 3, 4), (0, 2, 1, 4, 3), (0, 2, 3, 1, 4), (0, 2, 3, 4, 1), (0, 2, 4, 1, 3), (0, 2, 4, 3, 1), (0, 3, 1, 2, 4), (0, 3, 1, 4, 2), (0, 3, 2, 1, 4), (0, 3, 2, 4, 1), (0, 3, 4, 1, 2), (0, 3, 4, 2, 1), (0, 4, 1, 2, 3), (0, 4, 1, 3, 2), (0, 4, 2, 1, 3), (0, 4, 2, 3, 1), (0, 4, 3, 1, 2), (0, 4, 3, 2, 1)], 1: [(1, 0, 2, 3, 4), (1, 0, 2, 4, 3), (1, 0, 3, 2, 4), (1, 0, 3, 4, 2), (1, 0, 4, 2, 3), (1, 0, 4, 3, 2), (2, 0, 1, 3, 4), (2, 0, 1, 4, 3), (2, 0, 3, 1, 4), (2, 0, 3, 4, 1), (2, 0, 4, 1, 3), (2, 0, 4, 3, 1), (3, 0, 1, 2, 4), (3, 0, 1, 4, 2), (3, 0, 2, 1, 4), (3, 0, 2, 4, 1), (3, 0, 4, 1, 2), (3, 0, 4, 2, 1), (4, 0, 1, 2, 3), (4, 0, 1, 3, 2), (4, 0, 2, 1, 3), (4, 0, 2, 3, 1), (4, 0, 3, 1, 2), (4, 0, 3, 2, 1)], 2: [(1, 2, 0, 3, 4), (1, 2, 0, 4, 3), (1, 3, 0, 2, 4), (1, 3, 0, 4, 2), (1, 4, 0, 2, 3), (1, 4, 0, 3, 2), (2, 1, 0, 3, 4), (2, 1, 0, 4, 3), (2, 3, 0, 1, 4), (2, 3, 0, 4, 1), (2, 4, 0, 1, 3), (2, 4, 0, 3, 1), (3, 1, 0, 2, 4), (3, 1, 0, 4, 2), (3, 2, 0, 1, 4), (3, 2, 0, 4, 1), (3, 4, 0, 1, 2), (3, 4, 0, 2, 1), (4, 1, 0, 2, 3), (4, 1, 0, 3, 2), (4, 2, 0, 1, 3), (4, 2, 0, 3, 1), (4, 3, 0, 1, 2), (4, 3, 0, 2, 1)], 3: [(1, 2, 3, 0, 4), (1, 2, 4, 0, 3), (1, 3, 2, 0, 4), (1, 3, 4, 0, 2), (1, 4, 2, 0, 3), (1, 4, 3, 0, 2), (2, 1, 3, 0, 4), (2, 1, 4, 0, 3), (2, 3, 1, 0, 4), (2, 3, 4, 0, 1), (2, 4, 1, 0, 3), (2, 4, 3, 0, 1), (3, 1, 2, 0, 4), (3, 1, 4, 0, 2), (3, 2, 1, 0, 4), (3, 2, 4, 0, 1), (3, 4, 1, 0, 2), (3, 4, 2, 0, 1), (4, 1, 2, 0, 3), (4, 1, 3, 0, 2), (4, 2, 1, 0, 3), (4, 2, 3, 0, 1), (4, 3, 1, 0, 2), (4, 3, 2, 0, 1)], 4: [(1, 2, 3, 4, 0), (1, 2, 4, 3, 0), (1, 3, 2, 4, 0), (1, 3, 4, 2, 0), (1, 4, 2, 3, 0), (1, 4, 3, 2, 0), (2, 1, 3, 4, 0), (2, 1, 4, 3, 0), (2, 3, 1, 4, 0), (2, 3, 4, 1, 0), (2, 4, 1, 3, 0), (2, 4, 3, 1, 0), (3, 1, 2, 4, 0), (3, 1, 4, 2, 0), (3, 2, 1, 4, 0), (3, 2, 4, 1, 0), (3, 4, 1, 2, 0), (3, 4, 2, 1, 0), (4, 1, 2, 3, 0), (4, 1, 3, 2, 0), (4, 2, 1, 3, 0), (4, 2, 3, 1, 0), (4, 3, 1, 2, 0), (4, 3, 2, 1, 0)]}\n"
     ]
    }
   ],
   "source": [
    "print(perm_types)"
   ]
  },
  {
   "cell_type": "code",
   "execution_count": 54,
   "id": "e31bc76e-cae6-4c1a-919e-e23e39c67937",
   "metadata": {},
   "outputs": [],
   "source": [
    "global_perm_assignment = {}\n",
    "count = 0\n",
    "for t, ps in perm_types.items():\n",
    "    for p in ps:\n",
    "        global_perm_assignment[p] = count\n",
    "        count += 1\n",
    "# print(global_perm_assignment)"
   ]
  },
  {
   "cell_type": "code",
   "execution_count": 55,
   "id": "9946e894-5ee2-4782-ba2f-66e23492ee97",
   "metadata": {},
   "outputs": [
    {
     "name": "stdout",
     "output_type": "stream",
     "text": [
      "completed perms\n",
      "perm types\n",
      "get_oracles 5040\n",
      "oracles\n",
      "diff list\n"
     ]
    },
    {
     "ename": "KeyboardInterrupt",
     "evalue": "",
     "output_type": "error",
     "traceback": [
      "\u001b[1;31m---------------------------------------------------------------------------\u001b[0m",
      "\u001b[1;31mKeyboardInterrupt\u001b[0m                         Traceback (most recent call last)",
      "\u001b[1;32m~\\AppData\\Local\\Temp/ipykernel_24760/3656292091.py\u001b[0m in \u001b[0;36m<module>\u001b[1;34m\u001b[0m\n\u001b[0;32m     21\u001b[0m \u001b[1;31m# # print('blah', len(oracle_diffs_list), len(oracle_diffs_list[0]), oracle_diffs_list[0][0].shape)\u001b[0m\u001b[1;33m\u001b[0m\u001b[1;33m\u001b[0m\u001b[0m\n\u001b[0;32m     22\u001b[0m \u001b[1;31m# # print(oracle_diffs_list)\u001b[0m\u001b[1;33m\u001b[0m\u001b[1;33m\u001b[0m\u001b[0m\n\u001b[1;32m---> 23\u001b[1;33m \u001b[0moracle_diffs\u001b[0m \u001b[1;33m=\u001b[0m \u001b[0mnp\u001b[0m\u001b[1;33m.\u001b[0m\u001b[0mblock\u001b[0m\u001b[1;33m(\u001b[0m\u001b[0moracle_diffs_list\u001b[0m\u001b[1;33m)\u001b[0m\u001b[1;33m\u001b[0m\u001b[1;33m\u001b[0m\u001b[0m\n\u001b[0m\u001b[0;32m     24\u001b[0m \u001b[0mprint\u001b[0m\u001b[1;33m(\u001b[0m\u001b[1;34m\"block\"\u001b[0m\u001b[1;33m)\u001b[0m\u001b[1;33m\u001b[0m\u001b[1;33m\u001b[0m\u001b[0m\n\u001b[0;32m     25\u001b[0m \u001b[1;31m# visualize(oracle_diffs)\u001b[0m\u001b[1;33m\u001b[0m\u001b[1;33m\u001b[0m\u001b[0m\n",
      "\u001b[1;32m<__array_function__ internals>\u001b[0m in \u001b[0;36mblock\u001b[1;34m(*args, **kwargs)\u001b[0m\n",
      "\u001b[1;32m~\\anaconda3\\lib\\site-packages\\numpy\\core\\shape_base.py\u001b[0m in \u001b[0;36mblock\u001b[1;34m(arrays)\u001b[0m\n\u001b[0;32m    846\u001b[0m     \u001b[1;31m# version.\u001b[0m\u001b[1;33m\u001b[0m\u001b[1;33m\u001b[0m\u001b[0m\n\u001b[0;32m    847\u001b[0m     \u001b[1;32mif\u001b[0m \u001b[0mlist_ndim\u001b[0m \u001b[1;33m*\u001b[0m \u001b[0mfinal_size\u001b[0m \u001b[1;33m>\u001b[0m \u001b[1;33m(\u001b[0m\u001b[1;36m2\u001b[0m \u001b[1;33m*\u001b[0m \u001b[1;36m512\u001b[0m \u001b[1;33m*\u001b[0m \u001b[1;36m512\u001b[0m\u001b[1;33m)\u001b[0m\u001b[1;33m:\u001b[0m\u001b[1;33m\u001b[0m\u001b[1;33m\u001b[0m\u001b[0m\n\u001b[1;32m--> 848\u001b[1;33m         \u001b[1;32mreturn\u001b[0m \u001b[0m_block_slicing\u001b[0m\u001b[1;33m(\u001b[0m\u001b[0marrays\u001b[0m\u001b[1;33m,\u001b[0m \u001b[0mlist_ndim\u001b[0m\u001b[1;33m,\u001b[0m \u001b[0mresult_ndim\u001b[0m\u001b[1;33m)\u001b[0m\u001b[1;33m\u001b[0m\u001b[1;33m\u001b[0m\u001b[0m\n\u001b[0m\u001b[0;32m    849\u001b[0m     \u001b[1;32melse\u001b[0m\u001b[1;33m:\u001b[0m\u001b[1;33m\u001b[0m\u001b[1;33m\u001b[0m\u001b[0m\n\u001b[0;32m    850\u001b[0m         \u001b[1;32mreturn\u001b[0m \u001b[0m_block_concatenate\u001b[0m\u001b[1;33m(\u001b[0m\u001b[0marrays\u001b[0m\u001b[1;33m,\u001b[0m \u001b[0mlist_ndim\u001b[0m\u001b[1;33m,\u001b[0m \u001b[0mresult_ndim\u001b[0m\u001b[1;33m)\u001b[0m\u001b[1;33m\u001b[0m\u001b[1;33m\u001b[0m\u001b[0m\n",
      "\u001b[1;32m~\\anaconda3\\lib\\site-packages\\numpy\\core\\shape_base.py\u001b[0m in \u001b[0;36m_block_slicing\u001b[1;34m(arrays, list_ndim, result_ndim)\u001b[0m\n\u001b[0;32m    873\u001b[0m \u001b[1;33m\u001b[0m\u001b[0m\n\u001b[0;32m    874\u001b[0m \u001b[1;32mdef\u001b[0m \u001b[0m_block_slicing\u001b[0m\u001b[1;33m(\u001b[0m\u001b[0marrays\u001b[0m\u001b[1;33m,\u001b[0m \u001b[0mlist_ndim\u001b[0m\u001b[1;33m,\u001b[0m \u001b[0mresult_ndim\u001b[0m\u001b[1;33m)\u001b[0m\u001b[1;33m:\u001b[0m\u001b[1;33m\u001b[0m\u001b[1;33m\u001b[0m\u001b[0m\n\u001b[1;32m--> 875\u001b[1;33m     shape, slices, arrays = _block_info_recursion(\n\u001b[0m\u001b[0;32m    876\u001b[0m         arrays, list_ndim, result_ndim)\n\u001b[0;32m    877\u001b[0m     \u001b[0mdtype\u001b[0m \u001b[1;33m=\u001b[0m \u001b[0m_nx\u001b[0m\u001b[1;33m.\u001b[0m\u001b[0mresult_type\u001b[0m\u001b[1;33m(\u001b[0m\u001b[1;33m*\u001b[0m\u001b[1;33m[\u001b[0m\u001b[0marr\u001b[0m\u001b[1;33m.\u001b[0m\u001b[0mdtype\u001b[0m \u001b[1;32mfor\u001b[0m \u001b[0marr\u001b[0m \u001b[1;32min\u001b[0m \u001b[0marrays\u001b[0m\u001b[1;33m]\u001b[0m\u001b[1;33m)\u001b[0m\u001b[1;33m\u001b[0m\u001b[1;33m\u001b[0m\u001b[0m\n",
      "\u001b[1;32m~\\anaconda3\\lib\\site-packages\\numpy\\core\\shape_base.py\u001b[0m in \u001b[0;36m_block_info_recursion\u001b[1;34m(arrays, max_depth, result_ndim, depth)\u001b[0m\n\u001b[0;32m    625\u001b[0m     \u001b[1;32mif\u001b[0m \u001b[0mdepth\u001b[0m \u001b[1;33m<\u001b[0m \u001b[0mmax_depth\u001b[0m\u001b[1;33m:\u001b[0m\u001b[1;33m\u001b[0m\u001b[1;33m\u001b[0m\u001b[0m\n\u001b[0;32m    626\u001b[0m         shapes, slices, arrays = zip(\n\u001b[1;32m--> 627\u001b[1;33m             *[_block_info_recursion(arr, max_depth, result_ndim, depth+1)\n\u001b[0m\u001b[0;32m    628\u001b[0m               for arr in arrays])\n\u001b[0;32m    629\u001b[0m \u001b[1;33m\u001b[0m\u001b[0m\n",
      "\u001b[1;32m~\\anaconda3\\lib\\site-packages\\numpy\\core\\shape_base.py\u001b[0m in \u001b[0;36m<listcomp>\u001b[1;34m(.0)\u001b[0m\n\u001b[0;32m    625\u001b[0m     \u001b[1;32mif\u001b[0m \u001b[0mdepth\u001b[0m \u001b[1;33m<\u001b[0m \u001b[0mmax_depth\u001b[0m\u001b[1;33m:\u001b[0m\u001b[1;33m\u001b[0m\u001b[1;33m\u001b[0m\u001b[0m\n\u001b[0;32m    626\u001b[0m         shapes, slices, arrays = zip(\n\u001b[1;32m--> 627\u001b[1;33m             *[_block_info_recursion(arr, max_depth, result_ndim, depth+1)\n\u001b[0m\u001b[0;32m    628\u001b[0m               for arr in arrays])\n\u001b[0;32m    629\u001b[0m \u001b[1;33m\u001b[0m\u001b[0m\n",
      "\u001b[1;32m~\\anaconda3\\lib\\site-packages\\numpy\\core\\shape_base.py\u001b[0m in \u001b[0;36m_block_info_recursion\u001b[1;34m(arrays, max_depth, result_ndim, depth)\u001b[0m\n\u001b[0;32m    639\u001b[0m         \u001b[0marrays\u001b[0m \u001b[1;33m=\u001b[0m \u001b[0mfunctools\u001b[0m\u001b[1;33m.\u001b[0m\u001b[0mreduce\u001b[0m\u001b[1;33m(\u001b[0m\u001b[0moperator\u001b[0m\u001b[1;33m.\u001b[0m\u001b[0madd\u001b[0m\u001b[1;33m,\u001b[0m \u001b[0marrays\u001b[0m\u001b[1;33m)\u001b[0m\u001b[1;33m\u001b[0m\u001b[1;33m\u001b[0m\u001b[0m\n\u001b[0;32m    640\u001b[0m \u001b[1;33m\u001b[0m\u001b[0m\n\u001b[1;32m--> 641\u001b[1;33m         \u001b[1;32mreturn\u001b[0m \u001b[0mshape\u001b[0m\u001b[1;33m,\u001b[0m \u001b[0mslices\u001b[0m\u001b[1;33m,\u001b[0m \u001b[0marrays\u001b[0m\u001b[1;33m\u001b[0m\u001b[1;33m\u001b[0m\u001b[0m\n\u001b[0m\u001b[0;32m    642\u001b[0m     \u001b[1;32melse\u001b[0m\u001b[1;33m:\u001b[0m\u001b[1;33m\u001b[0m\u001b[1;33m\u001b[0m\u001b[0m\n\u001b[0;32m    643\u001b[0m         \u001b[1;31m# We've 'bottomed out' - arrays is either a scalar or an array\u001b[0m\u001b[1;33m\u001b[0m\u001b[1;33m\u001b[0m\u001b[0m\n",
      "\u001b[1;31mKeyboardInterrupt\u001b[0m: "
     ]
    }
   ],
   "source": [
    "n =7\n",
    "k = 2\n",
    "\n",
    "# perms, mat = index_or(n)\n",
    "# perms = list(itertools.permutations)\n",
    "# perms = [perm for perm in perms.instances if perm.index(0)!=0]\n",
    "\n",
    "\n",
    "perms = list(itertools.permutations(range(n)))\n",
    "print('completed perms')\n",
    "# # perms = perms[:3] + perms[-2:]\n",
    "keys, perm_types = search_perm_sorter(perms)\n",
    "print('perm types')\n",
    "# # print(len(perms), len(keys))\n",
    "oracles = get_oracles(perms, permutation_oracle)\n",
    "print(\"oracles\")\n",
    "# # print(len(oracles))\n",
    "oracle_diffs_list = get_oracle_diffs(oracles, keys=keys, prod=True, mat=True)\n",
    "print(\"diff list\")\n",
    "# print(keys)\n",
    "# # print('blah', len(oracle_diffs_list), len(oracle_diffs_list[0]), oracle_diffs_list[0][0].shape)\n",
    "# # print(oracle_diffs_list)\n",
    "oracle_diffs = np.block(oracle_diffs_list)\n",
    "print(\"block\")\n",
    "# visualize(oracle_diffs)\n",
    "mat = search_mask(perms, assignment=keys)\n",
    "# print(mat)\n",
    "diff_mat = oracle_diffs*np.kron(mat, np.ones((n,n)))\n",
    "\n",
    "print(np.linalg.norm(diff_mat, 2), np.linalg.norm(oracle_diffs, 2), np.linalg.norm(np.ones(mat.shape), 2))\n",
    "\n",
    "# visualize(diff_mat)\n",
    "# visualize(oracle_diffs)\n",
    "\n",
    "block_size = len(perm_types[1])\n",
    "for i in range(n):\n",
    "    for j in range(n):\n",
    "        if i != j:\n",
    "            starti = i * block_size * n\n",
    "            endi = starti + block_size * n\n",
    "            startj = j * block_size * n\n",
    "            endj = startj + block_size *n\n",
    "            curr_block = oracle_diffs[starti: endi, startj:endj]\n",
    "            print(i,j, np.linalg.norm(curr_block, 2))\n",
    "            # visualize(curr_block)\n",
    "            "
   ]
  },
  {
   "cell_type": "code",
   "execution_count": null,
   "id": "e6299ba8-483a-41f5-9916-fe078c744795",
   "metadata": {},
   "outputs": [],
   "source": []
  },
  {
   "cell_type": "code",
   "execution_count": null,
   "id": "51c8b43d-6e24-49d9-99b6-2e8a41ef2b61",
   "metadata": {},
   "outputs": [],
   "source": []
  },
  {
   "cell_type": "code",
   "execution_count": null,
   "id": "d4ba680b-35af-4f9d-b1c1-74b863eaf813",
   "metadata": {},
   "outputs": [],
   "source": []
  }
 ],
 "metadata": {
  "kernelspec": {
   "display_name": "Python 3 (ipykernel)",
   "language": "python",
   "name": "python3"
  },
  "language_info": {
   "codemirror_mode": {
    "name": "ipython",
    "version": 3
   },
   "file_extension": ".py",
   "mimetype": "text/x-python",
   "name": "python",
   "nbconvert_exporter": "python",
   "pygments_lexer": "ipython3",
   "version": "3.9.7"
  }
 },
 "nbformat": 4,
 "nbformat_minor": 5
}
