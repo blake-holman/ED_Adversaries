{
 "cells": [
  {
   "cell_type": "code",
   "execution_count": 46,
   "id": "e3750695-fb22-4eb6-9ebd-7f52b65b37b4",
   "metadata": {},
   "outputs": [],
   "source": [
    "import numpy as np\n",
    "import itertools \n",
    "from math import comb\n",
    "import matplotlib.pyplot as plt\n",
    "import scipy\n",
    "import scipy.linalg\n",
    "import matplotlib as mpl\n",
    "from Adversary import Adversary, Problem\n",
    "from ElementDistinctness import ED\n",
    "from Solvers import adv_solver, span_solver"
   ]
  },
  {
   "cell_type": "code",
   "execution_count": null,
   "id": "36262daa-31ae-426b-8a10-ee4d1eecbb3f",
   "metadata": {},
   "outputs": [],
   "source": []
  },
  {
   "cell_type": "code",
   "execution_count": null,
   "id": "f8189bd9-cb6a-48fd-82a8-fc1e4321cb1c",
   "metadata": {},
   "outputs": [],
   "source": []
  },
  {
   "cell_type": "code",
   "execution_count": 47,
   "id": "4cfb0ef4-5125-4412-98e6-91e34e8be149",
   "metadata": {},
   "outputs": [],
   "source": [
    "# generates a list of all partial injective functions [n] to [n] with domain size k\n",
    "# format: (inputs, outputs) such that f(intputs[i]) = f(outputs[i])\n",
    "def all_injective(n, k):\n",
    "    print(k)\n",
    "    injectives_single = list(itertools.combinations(list(range(n)), k))\n",
    "    ranges = list(itertools.permutations(list(range(n)), k))\n",
    "    return list(set(itertools.product(injectives_single, ranges)))\n",
    "\n",
    "# outputs ids for the functions from family agree with the partial function\n",
    "def get_agreeable_indices(partial_injective, family):\n",
    "    indices = []\n",
    "    for function, i in family.items():\n",
    "        # print(i, function)\n",
    "        agree = True\n",
    "        for index, output in zip(*partial_injective):\n",
    "            if function[index] != output:\n",
    "                agree = False\n",
    "                break\n",
    "\n",
    "        if agree:\n",
    "            indices.append(i)\n",
    "    return indices\n",
    "\n",
    "# outputs the v_a and w_a vectors. In retrospect, these vectors aren't orthogonal\n",
    "def get_basis_vector(partial_injective, family, n):\n",
    "    agreeable = get_agreeable_indices(partial_injective, family)\n",
    "    basis_vector = np.zeros(len(family))\n",
    "    for i in agreeable:\n",
    "        # print('ag', len(agreeable))\n",
    "        basis_vector[i] = 1\n",
    "    return basis_vector / np.sqrt(len(agreeable))\n",
    "    \n",
    "\n",
    "\n",
    "# outputs projection onto the space spanned by no-instances that agree with k-sized partial injective functions\n",
    "def no_space_projection(k, no_fam, n):\n",
    "    projection = np.zeros((len(no_fam), len(no_fam)))\n",
    "    all_partial_injectives = all_injective(n, k)\n",
    "    no_vects = [get_basis_vector(injective, no_fam, n) for injective in all_partial_injectives]\n",
    "    no_vects = np.array(no_vects).T\n",
    "\n",
    "    # print(no_vects)\n",
    "    ortho_basis = scipy.linalg.orth(no_vects)\n",
    "    # print(ortho_basis)\n",
    "    # print('mat', ortho_basis)\n",
    "    basis_vectors = [np.array([ortho_basis.T[i]]).T for i in range(ortho_basis.shape[1])]\n",
    "    # print(ortho_basis)\n",
    "    \n",
    "    for v in basis_vectors:\n",
    "        # print(v)\n",
    "        # print(v@ v.T)\n",
    "        # plt.imshow( v@ v.T)\n",
    "        # plt.show()\n",
    "        projection += v @ v.T\n",
    "    plt.imshow(projection)\n",
    "    return projection\n",
    "                          \n",
    "def L_matrix(k, yes_fam, no_fam, n):\n",
    "    projection = np.zeros((len(yes_fam), len(no_fam)))\n",
    "    all_partial_injectives = all_injective(n, k)\n",
    "    for injective_1 in all_partial_injectives:\n",
    "        w = get_basis_vector(injective_1, yes_fam, n)\n",
    "        v = get_basis_vector(injective_1, no_fam, n)\n",
    "        # plt.imshow(np.asmatrix(v).T)\n",
    "        # plt.show()\n",
    "        # print(w.T)\n",
    "        # print(v)\n",
    "        # input(np.asmatrix(w).T @ np.asmatrix(v))\n",
    "        projection = projection + np.asmatrix(w).T @ np.asmatrix(v)\n",
    "        \n",
    "    return projection\n",
    "    \n",
    "def H_projection(k, no_fam, n):\n",
    "    A_k = no_space_projection(k, no_fam, n)\n",
    "    if k==0:\n",
    "          return A_k\n",
    "    I = np.identity(len(no_fam))\n",
    "    A_km1 = no_space_projection(k-1, no_fam, n)\n",
    "    return 2 *(A_k- A_k @ scipy.linalg.pinv(A_k+ A_km1)) @ A_k\n",
    "\n",
    "def get_adversary_matrix(n, yes_fam, no_fam):\n",
    "    adv_mat = np.zeros((len(yes_fam), len(no_fam)))\n",
    "    target = int(n**(2/3))+ 1\n",
    "    print('target', target)\n",
    "    for k in range(target):\n",
    "        adv_mat = adv_mat + (target - k) * L_matrix(k, yes_fam, no_fam, n) @ H_projection(k, no_fam, n)\n",
    "    return adv_mat\n",
    "    \n",
    "    \n"
   ]
  },
  {
   "cell_type": "code",
   "execution_count": 48,
   "id": "e7930356-df38-4432-adb8-e782b0e76926",
   "metadata": {},
   "outputs": [],
   "source": [
    "def partial_vectors(k, yes_fam, no_fam, n):\n",
    "    projection = np.zeros((len(yes_fam), len(no_fam)))\n",
    "    all_partial_injectives = all_injective(n, k)\n",
    "    W = []\n",
    "    V = []\n",
    "    for injective_1 in all_partial_injectives:\n",
    "        w = get_basis_vector(injective_1, yes_fam, n)\n",
    "        v = get_basis_vector(injective_1, no_fam, n)\n",
    "        W.append(w)\n",
    "        V.append(v)\n",
    "    return np.array(W).T, np.array(V).T\n",
    "\n",
    "def plot_partial_vectors(k, yes_fam, no_fam, n):\n",
    "    fam = [yes_fam, no_fam]\n",
    "    fig, axs = plt.subplots(2, 1)\n",
    "    vects = partial_vectors(k, yes_fam, no_fam, n)\n",
    "    for i in range(len(axs)):\n",
    "        ax = axs[i]\n",
    "        ax.imshow(vects[i])\n",
    "        ax.tick_params(axis='both', which='major', labelsize=3)\n",
    "        ax.tick_params(axis='both', which='minor', labelsize=1)\n",
    "        ax.set_xticks(np.arange(vects[i].shape[1]), minor=False)\n",
    "        ax.set_yticks(np.arange(vects[i].shape[0]), minor=False)\n",
    "        y_labels = [to_str(func) for func in fam[i]]\n",
    "        x_labels = [to_str(dom) + '-->' + to_str(ran) for dom, ran in all_injective(n, k)]\n",
    "        print(y_labels)\n",
    "        print(all_injective(n, k))\n",
    "        ax.set_yticklabels(y_labels)\n",
    "        ax.set_xticklabels(x_labels)\n",
    "        # ax.set_xticklabels(xlabels, rotation=90)\n",
    "        # ax.set_yticklabels(ylabels)\n",
    "    plt.show()\n",
    "\n",
    "    "
   ]
  },
  {
   "cell_type": "code",
   "execution_count": 49,
   "id": "763cd16c-7639-4e3a-b4c2-42a7ffaa714a",
   "metadata": {},
   "outputs": [
    {
     "name": "stdout",
     "output_type": "stream",
     "text": [
      "[(0, 1, 2), (0, 2, 1), (1, 0, 2), (1, 2, 0), (2, 0, 1), (2, 1, 0)]\n",
      "target 3\n",
      "0\n",
      "0\n",
      "1\n",
      "1\n",
      "0\n",
      "2\n",
      "2\n",
      "1\n"
     ]
    },
    {
     "data": {
      "text/plain": [
       "<matplotlib.colorbar.Colorbar at 0x2725a4cf9d0>"
      ]
     },
     "execution_count": 49,
     "metadata": {},
     "output_type": "execute_result"
    },
    {
     "data": {
      "image/png": "[encoded data removed]",
      "text/plain": [
       "<Figure size 432x288 with 2 Axes>"
      ]
     },
     "metadata": {
      "needs_background": "light"
     },
     "output_type": "display_data"
    }
   ],
   "source": [
    "n=3\n",
    "problem = ED(n)\n",
    "yes_dict = {problem.yes_instances[i]: i for i in range(problem.yes_len)}\n",
    "no_dict = {problem.no_instances[i]: i for i in range(problem.no_len)}\n",
    "G = get_adversary_matrix(n, yes_dict, no_dict)\n",
    "\n",
    "# print(no_family, '\\n', yes_family)\n",
    "adv = Adversary(problem, lambda yes, no: G[yes_dict[yes], no_dict[no]])\n",
    "plt.imshow(adv.matrix)\n",
    "plt.colorbar()\n",
    "\n",
    "# for i in range(3):\n",
    "    # plt.imshow(H_projection(i, no_family, 3))\n",
    "    # plt.show()\n",
    "# plot_partial_vectors(1, yes_family, no_family, 3)\n",
    "# for i in range(3):\n",
    "    # plt.imshow(L_matrix(i, yes_family, no_family, 3))\n",
    "#     plt.colorbar()\n",
    "#     plt.show()\n",
    "\n",
    "# target = int(n**(2/3))+2\n",
    "# fig, axs = plt.subplots(target, 1)\n",
    "# fig.suptitle('L_k Matrices')\n",
    "# for k in range(target):\n",
    "    # plt.imshow(L_matrix(k, yes_family, no_family, n))\n",
    "#     plt.colorbar()\n",
    "#     plt.show()\n",
    "\n",
    "# plt.savefig('L_k.png')\n",
    "    \n",
    "# H=no_space_projection(k, no_family, n)\n",
    "# L=L_matrix(k, yes_family, no_family, n)\n",
    "# print(np.max(L@H))\n",
    "# plt.imshow((L@H).T)\n",
    "# plt.colorbar()"
   ]
  },
  {
   "cell_type": "code",
   "execution_count": 29,
   "id": "9dad3ce0-e9b6-4f07-a754-510965369d62",
   "metadata": {},
   "outputs": [
    {
     "data": {
      "text/plain": [
       "0.11257820054594293"
      ]
     },
     "execution_count": 29,
     "metadata": {},
     "output_type": "execute_result"
    }
   ],
   "source": [
    "np.min(adv.matrix)"
   ]
  },
  {
   "cell_type": "code",
   "execution_count": null,
   "id": "9bdb32c0-b1d1-4032-a868-1c97653a83c0",
   "metadata": {},
   "outputs": [],
   "source": [
    "mpl.rcParams['figure.dpi'] =300\n",
    "plt.imshow(adv.matrix)\n",
    "plt.colorbar()\n",
    "plt.savefig('bigadv.png')"
   ]
  },
  {
   "cell_type": "code",
   "execution_count": 5,
   "id": "ff223342-ec7a-4267-b68d-db3270d8f8f0",
   "metadata": {},
   "outputs": [
    {
     "ename": "NameError",
     "evalue": "name 'adv' is not defined",
     "output_type": "error",
     "traceback": [
      "\u001b[1;31m---------------------------------------------------------------------------\u001b[0m",
      "\u001b[1;31mNameError\u001b[0m                                 Traceback (most recent call last)",
      "\u001b[1;32m~\\AppData\\Local\\Temp/ipykernel_29084/4270691044.py\u001b[0m in \u001b[0;36m<module>\u001b[1;34m\u001b[0m\n\u001b[0;32m     16\u001b[0m     \u001b[1;32mreturn\u001b[0m \u001b[0mlen\u001b[0m\u001b[1;33m(\u001b[0m\u001b[1;33m[\u001b[0m\u001b[0mi\u001b[0m \u001b[1;32mfor\u001b[0m \u001b[0mi\u001b[0m \u001b[1;32min\u001b[0m \u001b[0mrange\u001b[0m\u001b[1;33m(\u001b[0m\u001b[0mlen\u001b[0m\u001b[1;33m(\u001b[0m\u001b[0ma\u001b[0m\u001b[1;33m)\u001b[0m\u001b[1;33m)\u001b[0m \u001b[1;32mif\u001b[0m \u001b[0ma\u001b[0m\u001b[1;33m[\u001b[0m\u001b[0mi\u001b[0m\u001b[1;33m]\u001b[0m\u001b[1;33m!=\u001b[0m\u001b[0mb\u001b[0m\u001b[1;33m[\u001b[0m\u001b[0mi\u001b[0m\u001b[1;33m]\u001b[0m\u001b[1;33m]\u001b[0m\u001b[1;33m)\u001b[0m\u001b[1;33m\u001b[0m\u001b[1;33m\u001b[0m\u001b[0m\n\u001b[0;32m     17\u001b[0m \u001b[1;33m\u001b[0m\u001b[0m\n\u001b[1;32m---> 18\u001b[1;33m \u001b[0mclasses\u001b[0m \u001b[1;33m=\u001b[0m \u001b[0mget_equiv_classes\u001b[0m\u001b[1;33m(\u001b[0m\u001b[0madv\u001b[0m\u001b[1;33m)\u001b[0m\u001b[1;33m\u001b[0m\u001b[1;33m\u001b[0m\u001b[0m\n\u001b[0m\u001b[0;32m     19\u001b[0m \u001b[1;32mfor\u001b[0m \u001b[0mval\u001b[0m\u001b[1;33m,\u001b[0m \u001b[0mpair\u001b[0m \u001b[1;32min\u001b[0m \u001b[0mclasses\u001b[0m\u001b[1;33m.\u001b[0m\u001b[0mitems\u001b[0m\u001b[1;33m(\u001b[0m\u001b[1;33m)\u001b[0m\u001b[1;33m:\u001b[0m\u001b[1;33m\u001b[0m\u001b[1;33m\u001b[0m\u001b[0m\n\u001b[0;32m     20\u001b[0m     \u001b[0mprint\u001b[0m\u001b[1;33m(\u001b[0m\u001b[0mset\u001b[0m\u001b[1;33m(\u001b[0m\u001b[0mhamming_dist\u001b[0m\u001b[1;33m(\u001b[0m\u001b[0ma\u001b[0m\u001b[1;33m,\u001b[0m \u001b[0mb\u001b[0m\u001b[1;33m)\u001b[0m \u001b[1;32mfor\u001b[0m \u001b[0ma\u001b[0m\u001b[1;33m,\u001b[0m\u001b[0mb\u001b[0m \u001b[1;32min\u001b[0m \u001b[0mpair\u001b[0m\u001b[1;33m)\u001b[0m\u001b[1;33m)\u001b[0m\u001b[1;33m\u001b[0m\u001b[1;33m\u001b[0m\u001b[0m\n",
      "\u001b[1;31mNameError\u001b[0m: name 'adv' is not defined"
     ]
    }
   ],
   "source": [
    "def to_str(L):\n",
    "    return ''.join(str(e) for e in L)\n",
    "\n",
    "def get_equiv_classes(adv):\n",
    "    equiv_classes = {}\n",
    "    for yes in range(adv.matrix.shape[0]):\n",
    "        for no in range(adv.matrix.shape[1]):\n",
    "            adv_val = np.round(adv.matrix[yes, no], 5)\n",
    "            if adv_val not in equiv_classes:\n",
    "                equiv_classes[adv_val] = [(to_str(adv.problem.yes_instances[yes]), (to_str(adv.problem.no_instances[no])))]\n",
    "            else:\n",
    "                equiv_classes[adv_val].append((to_str(adv.problem.yes_instances[yes]), (to_str(adv.problem.no_instances[no]))))\n",
    "    return equiv_classes\n",
    "\n",
    "def hamming_dist(a, b):\n",
    "    return len([i for i in range(len(a)) if a[i]!=b[i]])\n",
    "\n",
    "classes = get_equiv_classes(adv)\n",
    "for val, pair in classes.items():\n",
    "    print(set(hamming_dist(a, b) for a,b in pair))\n",
    "    print(val, pair)\n",
    "    print()"
   ]
  },
  {
   "cell_type": "code",
   "execution_count": 6,
   "id": "2ffab3a5-bcfd-4f01-9be6-af1b6ede420b",
   "metadata": {},
   "outputs": [
    {
     "ename": "NameError",
     "evalue": "name 'classes' is not defined",
     "output_type": "error",
     "traceback": [
      "\u001b[1;31m---------------------------------------------------------------------------\u001b[0m",
      "\u001b[1;31mNameError\u001b[0m                                 Traceback (most recent call last)",
      "\u001b[1;32m~\\AppData\\Local\\Temp/ipykernel_29084/1319541284.py\u001b[0m in \u001b[0;36m<module>\u001b[1;34m\u001b[0m\n\u001b[1;32m----> 1\u001b[1;33m \u001b[1;32mfor\u001b[0m \u001b[0mval\u001b[0m\u001b[1;33m,\u001b[0m \u001b[0mpair\u001b[0m \u001b[1;32min\u001b[0m \u001b[0mclasses\u001b[0m\u001b[1;33m.\u001b[0m\u001b[0mitems\u001b[0m\u001b[1;33m(\u001b[0m\u001b[1;33m)\u001b[0m\u001b[1;33m:\u001b[0m\u001b[1;33m\u001b[0m\u001b[1;33m\u001b[0m\u001b[0m\n\u001b[0m\u001b[0;32m      2\u001b[0m     \u001b[1;32mif\u001b[0m \u001b[0mlen\u001b[0m\u001b[1;33m(\u001b[0m\u001b[0mpair\u001b[0m\u001b[1;33m)\u001b[0m\u001b[1;33m:\u001b[0m\u001b[1;33m\u001b[0m\u001b[1;33m\u001b[0m\u001b[0m\n\u001b[0;32m      3\u001b[0m         \u001b[0mprint\u001b[0m\u001b[1;33m(\u001b[0m\u001b[0mval\u001b[0m\u001b[1;33m,\u001b[0m \u001b[0mpair\u001b[0m\u001b[1;33m)\u001b[0m\u001b[1;33m\u001b[0m\u001b[1;33m\u001b[0m\u001b[0m\n",
      "\u001b[1;31mNameError\u001b[0m: name 'classes' is not defined"
     ]
    }
   ],
   "source": [
    "for val, pair in classes.items():\n",
    "    if len(pair):\n",
    "        print(val, pair)"
   ]
  },
  {
   "cell_type": "code",
   "execution_count": 7,
   "id": "12dedd3b-4932-48dc-9ed8-0c5b1a46fb4e",
   "metadata": {},
   "outputs": [
    {
     "ename": "NameError",
     "evalue": "name 'adv' is not defined",
     "output_type": "error",
     "traceback": [
      "\u001b[1;31m---------------------------------------------------------------------------\u001b[0m",
      "\u001b[1;31mNameError\u001b[0m                                 Traceback (most recent call last)",
      "\u001b[1;32m~\\AppData\\Local\\Temp/ipykernel_29084/3132937209.py\u001b[0m in \u001b[0;36m<module>\u001b[1;34m\u001b[0m\n\u001b[1;32m----> 1\u001b[1;33m \u001b[0mnp\u001b[0m\u001b[1;33m.\u001b[0m\u001b[0mlinalg\u001b[0m\u001b[1;33m.\u001b[0m\u001b[0mnorm\u001b[0m\u001b[1;33m(\u001b[0m\u001b[0madv\u001b[0m\u001b[1;33m.\u001b[0m\u001b[0mmatrix\u001b[0m\u001b[1;33m,\u001b[0m \u001b[1;36m2\u001b[0m\u001b[1;33m)\u001b[0m\u001b[1;33m\u001b[0m\u001b[1;33m\u001b[0m\u001b[0m\n\u001b[0m\u001b[0;32m      2\u001b[0m \u001b[0madv\u001b[0m\u001b[1;33m.\u001b[0m\u001b[0madv\u001b[0m\u001b[1;33m(\u001b[0m\u001b[1;33m)\u001b[0m\u001b[1;33m\u001b[0m\u001b[1;33m\u001b[0m\u001b[0m\n",
      "\u001b[1;31mNameError\u001b[0m: name 'adv' is not defined"
     ]
    }
   ],
   "source": [
    "np.linalg.norm(adv.matrix, 2)\n",
    "adv.adv()"
   ]
  },
  {
   "cell_type": "code",
   "execution_count": 8,
   "id": "24258b49-c721-44d5-91cc-a140fa2e8bfb",
   "metadata": {},
   "outputs": [
    {
     "name": "stdout",
     "output_type": "stream",
     "text": [
      "2\n"
     ]
    },
    {
     "data": {
      "text/plain": [
       "[((1, 2), (1, 0)),\n",
       " ((0, 2), (1, 0)),\n",
       " ((1, 2), (1, 2)),\n",
       " ((0, 1), (1, 0)),\n",
       " ((0, 2), (1, 2)),\n",
       " ((0, 1), (1, 2)),\n",
       " ((1, 2), (0, 2)),\n",
       " ((0, 2), (0, 2)),\n",
       " ((0, 2), (2, 1)),\n",
       " ((1, 2), (2, 1)),\n",
       " ((0, 1), (0, 2)),\n",
       " ((0, 1), (2, 1)),\n",
       " ((0, 2), (0, 1)),\n",
       " ((0, 2), (2, 0)),\n",
       " ((1, 2), (0, 1)),\n",
       " ((1, 2), (2, 0)),\n",
       " ((0, 1), (2, 0)),\n",
       " ((0, 1), (0, 1))]"
      ]
     },
     "execution_count": 8,
     "metadata": {},
     "output_type": "execute_result"
    }
   ],
   "source": [
    "all_injective(3, 2)"
   ]
  },
  {
   "cell_type": "code",
   "execution_count": 25,
   "id": "881fffb9-993f-47d7-990e-035adaa31d1b",
   "metadata": {},
   "outputs": [
    {
     "name": "stdout",
     "output_type": "stream",
     "text": [
      "2\n",
      "(1, 2) (1, 0)\n",
      "(0, 2) (1, 0)\n",
      "(1, 2) (1, 2)\n",
      "(0, 1) (1, 0)\n",
      "(0, 2) (1, 2)\n",
      "(0, 1) (1, 2)\n",
      "(1, 2) (0, 2)\n",
      "(0, 2) (0, 2)\n",
      "(0, 2) (2, 1)\n",
      "(1, 2) (2, 1)\n",
      "(0, 1) (0, 2)\n",
      "(0, 1) (2, 1)\n",
      "(0, 2) (0, 1)\n",
      "(0, 2) (2, 0)\n",
      "(1, 2) (0, 1)\n",
      "(1, 2) (2, 0)\n",
      "(0, 1) (2, 0)\n",
      "(0, 1) (0, 1)\n"
     ]
    }
   ],
   "source": [
    "for i, o in all_injective(3, 2):\n",
    "    print(i, o)"
   ]
  },
  {
   "cell_type": "markdown",
   "id": "aaca56a7-0c85-424e-8fd1-7759c1e53d7d",
   "metadata": {},
   "source": []
  },
  {
   "cell_type": "code",
   "execution_count": 27,
   "id": "88c1421f-5d60-4322-af3e-d11c811c86e7",
   "metadata": {},
   "outputs": [],
   "source": [
    "ez_adv = Adversary(problem, lambda yes, no: 1 if hamming_dist(yes, no)==1 else 0)"
   ]
  },
  {
   "cell_type": "code",
   "execution_count": 45,
   "id": "64881803-0919-45b3-b50f-d0beaccd4805",
   "metadata": {},
   "outputs": [
    {
     "data": {
      "text/plain": [
       "<matplotlib.colorbar.Colorbar at 0x250829e84c0>"
      ]
     },
     "execution_count": 45,
     "metadata": {},
     "output_type": "execute_result"
    },
    {
     "data": {
      "image/png": "[encoded data removed]",
      "text/plain": [
       "<Figure size 1800x1200 with 2 Axes>"
      ]
     },
     "metadata": {
      "needs_background": "light"
     },
     "output_type": "display_data"
    }
   ],
   "source": [
    "plt.imshow(ez_adv.matrix @ ez_adv.matrix.T)\n",
    "plt.colorbar()\n",
    "# np.linalg.eig(ez_adv.matrpok"
   ]
  },
  {
   "cell_type": "code",
   "execution_count": 46,
   "id": "f1f09153-1f6c-47b6-9325-8b8d28aba790",
   "metadata": {},
   "outputs": [
    {
     "data": {
      "text/plain": [
       "<matplotlib.colorbar.Colorbar at 0x25081776550>"
      ]
     },
     "execution_count": 46,
     "metadata": {},
     "output_type": "execute_result"
    },
    {
     "data": {
      "image/png": "[encoded data removed]",
      "text/plain": [
       "<Figure size 1800x1200 with 2 Axes>"
      ]
     },
     "metadata": {
      "needs_background": "light"
     },
     "output_type": "display_data"
    }
   ],
   "source": [
    "plt.imshow(ez_adv.partial_matrix(0)@ ez_adv.partial_matrix(0).T)\n",
    "# plt.imshow(ez_adv.partial_matrix(0))\n",
    "plt.colorbar()"
   ]
  },
  {
   "cell_type": "code",
   "execution_count": 7,
   "id": "dc0b8027-db7a-4ef4-90c6-a6becb644080",
   "metadata": {},
   "outputs": [
    {
     "name": "stdout",
     "output_type": "stream",
     "text": [
      "[(0, 1, 2), (0, 2, 1), (1, 0, 2), (1, 2, 0), (2, 0, 1), (2, 1, 0)]\n",
      "2.468401725127318\n"
     ]
    }
   ],
   "source": [
    "problem = ED(3)\n",
    "v, L, M = adv_solver(problem)\n",
    "print(v)"
   ]
  },
  {
   "cell_type": "code",
   "execution_count": 8,
   "id": "9e0b556a-0cd9-496a-933b-365ba9318737",
   "metadata": {},
   "outputs": [
    {
     "name": "stdout",
     "output_type": "stream",
     "text": [
      "2.468407220075232\n"
     ]
    }
   ],
   "source": [
    "v, X = span_solver(problem)\n",
    "print(v)"
   ]
  },
  {
   "cell_type": "code",
   "execution_count": 9,
   "id": "e6b38916-cf23-4cc4-a28d-be74154e37cf",
   "metadata": {},
   "outputs": [
    {
     "data": {
      "text/plain": [
       "<matplotlib.colorbar.Colorbar at 0x27250928550>"
      ]
     },
     "execution_count": 9,
     "metadata": {},
     "output_type": "execute_result"
    },
    {
     "data": {
      "image/png": "[encoded data removed]",
      "text/plain": [
       "<Figure size 432x288 with 2 Axes>"
      ]
     },
     "metadata": {
      "needs_background": "light"
     },
     "output_type": "display_data"
    }
   ],
   "source": [
    "plt.imshow(L)\n",
    "plt.colorbar()"
   ]
  },
  {
   "cell_type": "code",
   "execution_count": 12,
   "id": "fdb953e8-25c2-4d3a-8d06-c39e9bda6f29",
   "metadata": {},
   "outputs": [
    {
     "data": {
      "text/plain": [
       "<matplotlib.colorbar.Colorbar at 0x2725083c670>"
      ]
     },
     "execution_count": 12,
     "metadata": {},
     "output_type": "execute_result"
    },
    {
     "data": {
      "image/png": "[encoded data removed]",
      "text/plain": [
       "<Figure size 432x288 with 2 Axes>"
      ]
     },
     "metadata": {
      "needs_background": "light"
     },
     "output_type": "display_data"
    }
   ],
   "source": [
    "for i in range(L.shape[0]):\n",
    "    for j in range(L.shape[1]):\n",
    "        if L[i][j]>0:\n",
    "            L[i][j] = 0\n",
    "plt.imshow(L)\n",
    "plt.colorbar()"
   ]
  },
  {
   "cell_type": "code",
   "execution_count": null,
   "id": "d85c121e-f603-48ff-82f3-3d45a71e36a4",
   "metadata": {},
   "outputs": [],
   "source": []
  }
 ],
 "metadata": {
  "kernelspec": {
   "display_name": "Python 3 (ipykernel)",
   "language": "python",
   "name": "python3"
  },
  "language_info": {
   "codemirror_mode": {
    "name": "ipython",
    "version": 3
   },
   "file_extension": ".py",
   "mimetype": "text/x-python",
   "name": "python",
   "nbconvert_exporter": "python",
   "pygments_lexer": "ipython3",
   "version": "3.9.7"
  }
 },
 "nbformat": 4,
 "nbformat_minor": 5
}
