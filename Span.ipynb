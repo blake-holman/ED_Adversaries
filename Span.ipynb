{
 "cells": [
  {
   "cell_type": "code",
   "execution_count": 1,
   "id": "84c82d4a-b974-4a3b-9f07-d48d00356a77",
   "metadata": {},
   "outputs": [],
   "source": [
    "from Solvers import adv_solver, span_solver, span_solver2\n",
    "from Adversary import Adversary, Problem, to_str, visualize\n",
    "import numpy as np\n",
    "import matplotlib.pyplot as plt\n",
    "import itertools\n",
    "from Examples import exact_k, threshold_k\n",
    "from ElementDistinctness import ED\n",
    "from copy import deepcopy as copy\n",
    "import scipy\n",
    "import cvxpy as cp\n",
    "import itertools\n",
    "import matplotlib as mpl\n",
    "mpl.rcParams['figure.dpi'] =200"
   ]
  },
  {
   "cell_type": "code",
   "execution_count": 2,
   "id": "b110524d-b8aa-4c9a-ad31-d85fb6a66ad2",
   "metadata": {},
   "outputs": [],
   "source": [
    "class SpanProgram():\n",
    "    def __init__(self, problem, I_dict, witnesses=None):\n",
    "        self.witnesses = witnesses\n",
    "        self.target = np.ones(problem.no_len)\n",
    "        self.num_vects = np.sum([len(v) for i, v in I_dict.items()])\n",
    "        self.ordered_I = [pair for pair in itertools.product(tuple(range(problem.n)), problem.alphabet)]\n",
    "        self.I_to_mat = {}\n",
    "        self.counter = 0\n",
    "        self.vect_list = []\n",
    "        self.ticks = []\n",
    "        self.I_dict = I_dict\n",
    "        self.problem = problem\n",
    "        for pair, v_set in I_dict.items():\n",
    "            self.ticks.append(self.counter)\n",
    "            self.I_to_mat[pair] = list(range(self.counter, self.counter + len(v_set)))\n",
    "            self.counter += len(v_set)\n",
    "            for vect in v_set:\n",
    "                self.vect_list.append(vect)\n",
    "            # self.vect_list.append(*v_set)\n",
    "        self.A = np.array(self.vect_list).T \n",
    "    \n",
    "    def get_activated_A(self, x):\n",
    "        activated_A = np.zeros(self.A.shape)\n",
    "        for i in range(len(x)):\n",
    "            interval = self.I_to_mat[(i, x[i])]\n",
    "            activated_A[:, interval] = self.A[:, interval]\n",
    "        return activated_A\n",
    "        \n",
    "    def apply(x, witness):\n",
    "        return get_activated_A(x) @ witness\n",
    "    \n",
    "    def visualize_A(self):\n",
    "        x_ticks = []\n",
    "        for i in self.ordered_I:\n",
    "            x_ticks.append(i)\n",
    "            x_ticks += [''] * (len(self.I_dict[i])-1)\n",
    "        visualize(self.A, (x_ticks, [to_str(no) for no in self.problem.no_instances]))\n",
    "    \n",
    "    def visualize_witnesses(self):\n",
    "        y_ticks = []\n",
    "        for i in self.ordered_I:\n",
    "            y_ticks.append(i)\n",
    "            y_ticks += [''] * (len(self.I_dict[i])-1)\n",
    "        print('y:',len(y_ticks), self.witnesses[0].shape)\n",
    "        print('x:',len(self.problem.yes_instances), len(self.witnesses))\n",
    "        \n",
    "        visualize(np.array(self.witnesses).T, ([ to_str(yes) for yes in self.problem.yes_instances], y_ticks))"
   ]
  },
  {
   "cell_type": "code",
   "execution_count": 3,
   "id": "a7ded97e-e873-425d-9a01-890edbcabfbe",
   "metadata": {},
   "outputs": [],
   "source": [
    "def rand_function(n, alpha='01'):\n",
    "    yes = []\n",
    "    no = []\n",
    "    for s in itertools.product(*[alpha]*n):\n",
    "        if np.random.randint(2):\n",
    "            yes.append(s)\n",
    "        else:\n",
    "            no.append(s)\n",
    "    return Problem(no, yes)"
   ]
  },
  {
   "cell_type": "code",
   "execution_count": 4,
   "id": "79d868ef-7a0d-4698-842b-bf82b9ee0d81",
   "metadata": {},
   "outputs": [
    {
     "name": "stdout",
     "output_type": "stream",
     "text": [
      "No:[(0, 0, 0, 0, 0, 1, 1), (0, 0, 0, 0, 1, 0, 1), (0, 0, 0, 0, 1, 1, 0), (0, 0, 0, 1, 0, 0, 1), (0, 0, 0, 1, 0, 1, 0), (0, 0, 0, 1, 1, 0, 0), (0, 0, 1, 0, 0, 0, 1), (0, 0, 1, 0, 0, 1, 0), (0, 0, 1, 0, 1, 0, 0), (0, 0, 1, 1, 0, 0, 0), (0, 1, 0, 0, 0, 0, 1), (0, 1, 0, 0, 0, 1, 0), (0, 1, 0, 0, 1, 0, 0), (0, 1, 0, 1, 0, 0, 0), (0, 1, 1, 0, 0, 0, 0), (1, 0, 0, 0, 0, 0, 1), (1, 0, 0, 0, 0, 1, 0), (1, 0, 0, 0, 1, 0, 0), (1, 0, 0, 1, 0, 0, 0), (1, 0, 1, 0, 0, 0, 0), (1, 1, 0, 0, 0, 0, 0)]\n",
      "Yes:[(0, 0, 0, 0, 1, 1, 1), (0, 0, 0, 1, 0, 1, 1), (0, 0, 0, 1, 1, 0, 1), (0, 0, 0, 1, 1, 1, 0), (0, 0, 1, 0, 0, 1, 1), (0, 0, 1, 0, 1, 0, 1), (0, 0, 1, 0, 1, 1, 0), (0, 0, 1, 1, 0, 0, 1), (0, 0, 1, 1, 0, 1, 0), (0, 0, 1, 1, 1, 0, 0), (0, 1, 0, 0, 0, 1, 1), (0, 1, 0, 0, 1, 0, 1), (0, 1, 0, 0, 1, 1, 0), (0, 1, 0, 1, 0, 0, 1), (0, 1, 0, 1, 0, 1, 0), (0, 1, 0, 1, 1, 0, 0), (0, 1, 1, 0, 0, 0, 1), (0, 1, 1, 0, 0, 1, 0), (0, 1, 1, 0, 1, 0, 0), (0, 1, 1, 1, 0, 0, 0), (1, 0, 0, 0, 0, 1, 1), (1, 0, 0, 0, 1, 0, 1), (1, 0, 0, 0, 1, 1, 0), (1, 0, 0, 1, 0, 0, 1), (1, 0, 0, 1, 0, 1, 0), (1, 0, 0, 1, 1, 0, 0), (1, 0, 1, 0, 0, 0, 1), (1, 0, 1, 0, 0, 1, 0), (1, 0, 1, 0, 1, 0, 0), (1, 0, 1, 1, 0, 0, 0), (1, 1, 0, 0, 0, 0, 1), (1, 1, 0, 0, 0, 1, 0), (1, 1, 0, 0, 1, 0, 0), (1, 1, 0, 1, 0, 0, 0), (1, 1, 1, 0, 0, 0, 0)]\n",
      "===============================================================================\n",
      "                                     CVXPY                                     \n",
      "                                     v1.3.1                                    \n",
      "===============================================================================\n",
      "(CVXPY) Jul 24 04:32:08 PM: Your problem has 153665 variables, 791 constraints, and 0 parameters.\n",
      "(CVXPY) Jul 24 04:32:08 PM: It is compliant with the following grammars: DCP, DQCP\n",
      "(CVXPY) Jul 24 04:32:08 PM: (If you need to solve this problem multiple times, but with different data, consider using parameters.)\n",
      "(CVXPY) Jul 24 04:32:08 PM: CVXPY will first compile your problem; then, it will invoke a numerical solver to obtain a solution.\n",
      "-------------------------------------------------------------------------------\n",
      "                                  Compilation                                  \n",
      "-------------------------------------------------------------------------------\n",
      "(CVXPY) Jul 24 04:32:08 PM: Compiling problem (target solver=SCS).\n",
      "(CVXPY) Jul 24 04:32:08 PM: Reduction chain: Dcp2Cone -> CvxAttr2Constr -> ConeMatrixStuffing -> SCS\n",
      "(CVXPY) Jul 24 04:32:08 PM: Applying reduction Dcp2Cone\n",
      "(CVXPY) Jul 24 04:32:08 PM: Applying reduction CvxAttr2Constr\n",
      "(CVXPY) Jul 24 04:32:08 PM: Applying reduction ConeMatrixStuffing\n",
      "(CVXPY) Jul 24 04:32:18 PM: Applying reduction SCS\n",
      "(CVXPY) Jul 24 04:32:18 PM: Finished problem compilation (took 1.042e+01 seconds).\n",
      "-------------------------------------------------------------------------------\n",
      "                                Numerical solver                               \n",
      "-------------------------------------------------------------------------------\n",
      "(CVXPY) Jul 24 04:32:18 PM: Invoking solver SCS  to obtain a solution.\n",
      "------------------------------------------------------------------\n",
      "\t       SCS v3.2.3 - Splitting Conic Solver\n",
      "\t(c) Brendan O'Donoghue, Stanford University, 2012\n",
      "------------------------------------------------------------------\n",
      "problem:  variables n: 77029, constraints m: 77819\n",
      "cones: \t  z: primal zero / dual free vars: 735\n",
      "\t  l: linear vars: 56\n",
      "\t  s: psd vars: 77028, ssize: 1\n",
      "settings: eps_abs: 1.0e-05, eps_rel: 1.0e-05, eps_infeas: 1.0e-07\n",
      "\t  alpha: 1.50, scale: 1.00e-01, adaptive_scale: 1\n",
      "\t  max_iters: 100000, normalize: 1, rho_x: 1.00e-06\n",
      "\t  acceleration_lookback: 10, acceleration_interval: 10\n",
      "lin-sys:  sparse-direct-amd-qdldl\n",
      "\t  nnz(A): 79891, nnz(P): 0\n",
      "------------------------------------------------------------------\n",
      " iter | pri res | dua res |   gap   |   obj   |  scale  | time (s)\n",
      "------------------------------------------------------------------\n",
      "     0| 2.83e+01  1.00e+00  1.12e+04 -5.50e+03  1.00e-01  1.72e-01 \n",
      "   100| 3.58e-06  6.05e-07  1.94e-07  2.10e+02  1.00e-01  2.21e+00 \n",
      "------------------------------------------------------------------\n",
      "status:  solved\n",
      "timings: total: 2.21e+00s = setup: 1.01e-01s + solve: 2.11e+00s\n",
      "\t lin-sys: 1.15e-01s, cones: 1.93e+00s, accel: 1.07e-02s\n",
      "------------------------------------------------------------------\n",
      "objective = 209.999873\n",
      "------------------------------------------------------------------\n",
      "-------------------------------------------------------------------------------\n",
      "                                    Summary                                    \n",
      "-------------------------------------------------------------------------------\n",
      "(CVXPY) Jul 24 04:32:21 PM: Problem status: optimal\n",
      "(CVXPY) Jul 24 04:32:21 PM: Optimal value: 2.100e+02\n",
      "(CVXPY) Jul 24 04:32:21 PM: Compilation took 1.042e+01 seconds\n",
      "(CVXPY) Jul 24 04:32:21 PM: Solver (including time spent in interface) took 2.216e+00 seconds\n"
     ]
    }
   ],
   "source": [
    "prob = threshold_k(7, 3)\n",
    "print(prob)\n",
    "v, X = span_solver(prob, {'solver': 'SCS', 'verbose': True}, 'min_trace')"
   ]
  },
  {
   "cell_type": "code",
   "execution_count": 6,
   "id": "49b56730-4f17-47dc-b595-6c551b2bbab7",
   "metadata": {
    "tags": []
   },
   "outputs": [
    {
     "name": "stdout",
     "output_type": "stream",
     "text": [
      "rank 392\n",
      "15\n",
      "14\n",
      "13\n",
      "12\n",
      "11\n",
      "10\n",
      "9\n",
      "8\n",
      "7\n",
      "6\n",
      "5\n",
      "4\n",
      "yes 35 no 21\n",
      "{0.0, 1.0, 0.866, 0.5, 0.289, 0.817, 0.272, 0.77, 0.333, 0.791, 0.263, 0.186, 0.34, 0.183, 0.053, 0.385, 0.683, 0.241, 0.693, 0.068, 0.048, 0.722, 0.115, 0.037, 0.745, 0.136, 0.096, 0.204, 0.144, 0.158, 0.149, 0.258, 0.141, 0.224, 0.029, 0.707, 0.316, 0.075, 0.73, 0.775, 0.01, 0.192, 0.173}\n",
      "{0.0, 1.0, 0.5, 0.866, 0.289, 0.816, 0.272, 0.77, 0.791, 0.385, 0.186, 0.34, 0.183, 0.053, 0.683, 0.241, 0.693, 0.068, 0.048, 0.722, 0.115, 0.037, 0.264, 0.745, 0.136, 0.096, 0.204, 0.144, 0.158, 0.149, 0.258, 0.141, 0.224, 0.029, 0.707, 0.316, 0.075, 0.73, 0.014, 0.775, 0.01, 0.333, 0.192, 0.173}\n",
      "[(0, 0), '', '', '', '', '', '', '', '', '', '', '', '', '', '', '', '', '', '', '', '', '', '', '', '', '', '', '', '', '', '', '', '', '', '', '', '', '', '', '', '', '', '', '', '', '', '', '', '', '', '', '', '', '', '', '', (0, 1), '', '', '', '', '', '', '', '', '', '', '', '', '', '', '', '', '', '', '', '', '', '', '', '', '', '', '', '', '', '', '', '', '', '', '', '', '', '', '', '', '', '', '', '', '', '', '', '', '', '', '', '', '', '', '', (1, 0), '', '', '', '', '', '', '', '', '', '', '', '', '', '', '', '', '', '', '', '', '', '', '', '', '', '', '', '', '', '', '', '', '', '', '', '', '', '', '', '', '', '', '', '', '', '', '', '', '', '', '', '', '', '', '', (1, 1), '', '', '', '', '', '', '', '', '', '', '', '', '', '', '', '', '', '', '', '', '', '', '', '', '', '', '', '', '', '', '', '', '', '', '', '', '', '', '', '', '', '', '', '', '', '', '', '', '', '', '', '', '', '', '', (2, 0), '', '', '', '', '', '', '', '', '', '', '', '', '', '', '', '', '', '', '', '', '', '', '', '', '', '', '', '', '', '', '', '', '', '', '', '', '', '', '', '', '', '', '', '', '', '', '', '', '', '', '', '', '', '', '', (2, 1), '', '', '', '', '', '', '', '', '', '', '', '', '', '', '', '', '', '', '', '', '', '', '', '', '', '', '', '', '', '', '', '', '', '', '', '', '', '', '', '', '', '', '', '', '', '', '', '', '', '', '', '', '', '', '', (3, 0), '', '', '', '', '', '', '', '', '', '', '', '', '', '', '', '', '', '', '', '', '', '', '', '', '', '', '', '', '', '', '', '', '', '', '', '', '', '', '', '', '', '', '', '', '', '', '', '', '', '', '', '', '', '', '', (3, 1), '', '', '', '', '', '', '', '', '', '', '', '', '', '', '', '', '', '', '', '', '', '', '', '', '', '', '', '', '', '', '', '', '', '', '', '', '', '', '', '', '', '', '', '', '', '', '', '', '', '', '', '', '', '', '', (4, 0), '', '', '', '', '', '', '', '', '', '', '', '', '', '', '', '', '', '', '', '', '', '', '', '', '', '', '', '', '', '', '', '', '', '', '', '', '', '', '', '', '', '', '', '', '', '', '', '', '', '', '', '', '', '', '', (4, 1), '', '', '', '', '', '', '', '', '', '', '', '', '', '', '', '', '', '', '', '', '', '', '', '', '', '', '', '', '', '', '', '', '', '', '', '', '', '', '', '', '', '', '', '', '', '', '', '', '', '', '', '', '', '', '', (5, 0), '', '', '', '', '', '', '', '', '', '', '', '', '', '', '', '', '', '', '', '', '', '', '', '', '', '', '', '', '', '', '', '', '', '', '', '', '', '', '', '', '', '', '', '', '', '', '', '', '', '', '', '', '', '', '', (5, 1), '', '', '', '', '', '', '', '', '', '', '', '', '', '', '', '', '', '', '', '', '', '', '', '', '', '', '', '', '', '', '', '', '', '', '', '', '', '', '', '', '', '', '', '', '', '', '', '', '', '', '', '', '', '', '', (6, 0), '', '', '', '', '', '', '', '', '', '', '', '', '', '', '', '', '', '', '', '', '', '', '', '', '', '', '', '', '', '', '', '', '', '', '', '', '', '', '', '', '', '', '', '', '', '', '', '', '', '', '', '', '', '', '', (6, 1), '', '', '', '', '', '', '', '', '', '', '', '', '', '', '', '', '', '', '', '', '', '', '', '', '', '', '', '', '', '', '', '', '', '', '', '', '', '', '', '', '', '', '', '', '', '', '', '', '', '', '', '', '', '', '']\n",
      "['0000011', '0000101', '0000110', '0001001', '0001010', '0001100', '0010001', '0010010', '0010100', '0011000', '0100001', '0100010', '0100100', '0101000', '0110000', '1000001', '1000010', '1000100', '1001000', '1010000', '1100000']\n",
      "(21, 784)\n"
     ]
    },
    {
     "name": "stderr",
     "output_type": "stream",
     "text": [
      "/tmp/ipykernel_2005180/3345837595.py:41: DeprecationWarning: Calling np.sum(generator) is deprecated, and in the future will give a different result. Use np.sum(np.fromiter(generator)) or the python sum builtin instead.\n",
      "  num_zeros = np.sum(v.shape[0] for v in vects)\n"
     ]
    },
    {
     "data": {
      "image/png": "[encoded data removed]",
      "text/plain": [
       "<Figure size 1280x960 with 2 Axes>"
      ]
     },
     "metadata": {},
     "output_type": "display_data"
    },
    {
     "name": "stdout",
     "output_type": "stream",
     "text": [
      "y: 784 (784,)\n",
      "x: 35 35\n",
      "['0000111', '0001011', '0001101', '0001110', '0010011', '0010101', '0010110', '0011001', '0011010', '0011100', '0100011', '0100101', '0100110', '0101001', '0101010', '0101100', '0110001', '0110010', '0110100', '0111000', '1000011', '1000101', '1000110', '1001001', '1001010', '1001100', '1010001', '1010010', '1010100', '1011000', '1100001', '1100010', '1100100', '1101000', '1110000']\n",
      "[(0, 0), '', '', '', '', '', '', '', '', '', '', '', '', '', '', '', '', '', '', '', '', '', '', '', '', '', '', '', '', '', '', '', '', '', '', '', '', '', '', '', '', '', '', '', '', '', '', '', '', '', '', '', '', '', '', '', (0, 1), '', '', '', '', '', '', '', '', '', '', '', '', '', '', '', '', '', '', '', '', '', '', '', '', '', '', '', '', '', '', '', '', '', '', '', '', '', '', '', '', '', '', '', '', '', '', '', '', '', '', '', '', '', '', '', (1, 0), '', '', '', '', '', '', '', '', '', '', '', '', '', '', '', '', '', '', '', '', '', '', '', '', '', '', '', '', '', '', '', '', '', '', '', '', '', '', '', '', '', '', '', '', '', '', '', '', '', '', '', '', '', '', '', (1, 1), '', '', '', '', '', '', '', '', '', '', '', '', '', '', '', '', '', '', '', '', '', '', '', '', '', '', '', '', '', '', '', '', '', '', '', '', '', '', '', '', '', '', '', '', '', '', '', '', '', '', '', '', '', '', '', (2, 0), '', '', '', '', '', '', '', '', '', '', '', '', '', '', '', '', '', '', '', '', '', '', '', '', '', '', '', '', '', '', '', '', '', '', '', '', '', '', '', '', '', '', '', '', '', '', '', '', '', '', '', '', '', '', '', (2, 1), '', '', '', '', '', '', '', '', '', '', '', '', '', '', '', '', '', '', '', '', '', '', '', '', '', '', '', '', '', '', '', '', '', '', '', '', '', '', '', '', '', '', '', '', '', '', '', '', '', '', '', '', '', '', '', (3, 0), '', '', '', '', '', '', '', '', '', '', '', '', '', '', '', '', '', '', '', '', '', '', '', '', '', '', '', '', '', '', '', '', '', '', '', '', '', '', '', '', '', '', '', '', '', '', '', '', '', '', '', '', '', '', '', (3, 1), '', '', '', '', '', '', '', '', '', '', '', '', '', '', '', '', '', '', '', '', '', '', '', '', '', '', '', '', '', '', '', '', '', '', '', '', '', '', '', '', '', '', '', '', '', '', '', '', '', '', '', '', '', '', '', (4, 0), '', '', '', '', '', '', '', '', '', '', '', '', '', '', '', '', '', '', '', '', '', '', '', '', '', '', '', '', '', '', '', '', '', '', '', '', '', '', '', '', '', '', '', '', '', '', '', '', '', '', '', '', '', '', '', (4, 1), '', '', '', '', '', '', '', '', '', '', '', '', '', '', '', '', '', '', '', '', '', '', '', '', '', '', '', '', '', '', '', '', '', '', '', '', '', '', '', '', '', '', '', '', '', '', '', '', '', '', '', '', '', '', '', (5, 0), '', '', '', '', '', '', '', '', '', '', '', '', '', '', '', '', '', '', '', '', '', '', '', '', '', '', '', '', '', '', '', '', '', '', '', '', '', '', '', '', '', '', '', '', '', '', '', '', '', '', '', '', '', '', '', (5, 1), '', '', '', '', '', '', '', '', '', '', '', '', '', '', '', '', '', '', '', '', '', '', '', '', '', '', '', '', '', '', '', '', '', '', '', '', '', '', '', '', '', '', '', '', '', '', '', '', '', '', '', '', '', '', '', (6, 0), '', '', '', '', '', '', '', '', '', '', '', '', '', '', '', '', '', '', '', '', '', '', '', '', '', '', '', '', '', '', '', '', '', '', '', '', '', '', '', '', '', '', '', '', '', '', '', '', '', '', '', '', '', '', '', (6, 1), '', '', '', '', '', '', '', '', '', '', '', '', '', '', '', '', '', '', '', '', '', '', '', '', '', '', '', '', '', '', '', '', '', '', '', '', '', '', '', '', '', '', '', '', '', '', '', '', '', '', '', '', '', '', '']\n",
      "(784, 35)\n"
     ]
    },
    {
     "data": {
      "image/png": "[encoded data removed]",
      "text/plain": [
       "<Figure size 1280x960 with 2 Axes>"
      ]
     },
     "metadata": {},
     "output_type": "display_data"
    },
    {
     "name": "stdout",
     "output_type": "stream",
     "text": [
      "[0.999    0.998316 0.9993   0.9993   0.998508 0.9993   0.999376 0.999184\n",
      " 0.99857  0.997892 0.999298 0.999474 0.99858  0.998084 0.999076 0.99922\n",
      " 0.999764 0.99859  0.998276 0.999076 0.999076]\n"
     ]
    }
   ],
   "source": [
    "def get_cholesky_fact(A, eps_pow=15):\n",
    "    for i in range(eps_pow,1,-1):\n",
    "        print(i)\n",
    "        try:\n",
    "            curr_A = A + 10**-i * np.eye(A.shape[0])\n",
    "            return np.round(scipy.linalg.cholesky(curr_A), i-1)\n",
    "        except:\n",
    "            pass\n",
    "def decompose_cholesky(L, problem):\n",
    "    # print(problem.no_len)?\n",
    "    partials = []\n",
    "    for i in range(problem.n):\n",
    "        full_partial = L[i * problem.len: (i+1)* problem.len, i * problem.len: (i+1)* problem.len]\n",
    "        nonzero_columns = []\n",
    "        for j in range(full_partial.shape[1]):\n",
    "            v = full_partial[:, j]\n",
    "            if np.linalg.norm(v) > 10**-3:\n",
    "                # print('j', j)\n",
    "                nonzero_columns.append(v)\n",
    "        partials.append(np.array(nonzero_columns).T)\n",
    "    return partials\n",
    "\n",
    "def span_from_decomp(partials, problem):\n",
    "    I = {}\n",
    "    for j, b in itertools.product(range(problem.n), problem.alphabet):\n",
    "        I[(j, b)] = []\n",
    "        for i in range(partials[j].shape[1]):\n",
    "            v = np.zeros(problem.no_len)\n",
    "            for no_index in range(problem.no_len):\n",
    "                no = problem.no_instances[no_index]\n",
    "                if no[j] != b:\n",
    "                    # print(j, i, no_index)\n",
    "                    v[no_index] = partials[j][no_index, i]\n",
    "            I[(j,b)].append(v)\n",
    "    witnesses = []\n",
    "    for yes_index in range(problem.yes_len):\n",
    "        yes = problem.yes_instances[yes_index]\n",
    "        w = []\n",
    "        for (j, b), vects in I.items():\n",
    "            if yes[j] != b:\n",
    "                num_zeros = np.sum(v.shape[0] for v in vects)\n",
    "                w += [0] * partials[j].shape[1]\n",
    "            else:\n",
    "                w += list(partials[j][problem.no_len + yes_index, :])\n",
    "        # print(w)\n",
    "        witnesses.append(np.array(w))\n",
    "        \n",
    "    return SpanProgram(problem, I, witnesses)\n",
    "                \n",
    "X2 = np.round(X, 8)\n",
    "print('rank', np.linalg.matrix_rank(X2))\n",
    "# print(X)\n",
    "L = get_cholesky_fact(X2)\n",
    "# U, S, V = np.linalg.svd(L)\n",
    "# plt.imshow(L)\n",
    "# plt.show()\n",
    "# plt.imshow(U)\n",
    "# plt.show()\n",
    "# plt.imshow(V)\n",
    "# plt.show()\n",
    "partials = decompose_cholesky(L.T, prob)\n",
    "# print(partials[0].shape)\n",
    "# plt.imshow(L.T)\n",
    "# plt.show()\n",
    "# plt.show()\n",
    "# print(sp.A)\n",
    "# for partial in partials:\n",
    "    # plt.imshow(partial)\n",
    "    # plt.colorbar()\n",
    "    # plt.show()\n",
    "# plt.imshow()\n",
    "sp = span_from_decomp(partials, prob)\n",
    "print('yes', prob.yes_len,'no',  prob.no_len)\n",
    "# plt.imshow()\n",
    "print(set(1/np.max(sp.A) * sp.A.flatten()))\n",
    "print(set(1/np.max(np.array(sp.witnesses).flatten()) *np.array(sp.witnesses).flatten()))\n",
    "# plt.imshow(np.array(sp.witnesses).T)\n",
    "# plt.colorbar()kk\n",
    "# plt.show()\n",
    "sp.visualize_A()\n",
    "sp.visualize_witnesses()\n",
    "print(sp.A@sp.witnesses[-1].T)\n",
    "# print(np.array(sp.witnesses).T)\n",
    "# plt.imshow(np.array(sp.witnesses) - sp.A)\n",
    "# plt.colorbar()"
   ]
  },
  {
   "cell_type": "code",
   "execution_count": null,
   "id": "f7829986-b8e0-4d0b-acf2-34f357148d34",
   "metadata": {},
   "outputs": [],
   "source": []
  },
  {
   "cell_type": "code",
   "execution_count": 2,
   "id": "ec8b1531-1a7c-42d9-b4f1-903d1e3ad5e2",
   "metadata": {},
   "outputs": [
    {
     "ename": "NameError",
     "evalue": "name 'np' is not defined",
     "output_type": "error",
     "traceback": [
      "\u001b[1;31m---------------------------------------------------------------------------\u001b[0m",
      "\u001b[1;31mNameError\u001b[0m                                 Traceback (most recent call last)",
      "\u001b[1;32m~\\AppData\\Local\\Temp/ipykernel_21492/2339158350.py\u001b[0m in \u001b[0;36m<module>\u001b[1;34m\u001b[0m\n\u001b[1;32m----> 1\u001b[1;33m \u001b[0mprint\u001b[0m\u001b[1;33m(\u001b[0m\u001b[0mnp\u001b[0m\u001b[1;33m.\u001b[0m\u001b[0marray\u001b[0m\u001b[1;33m(\u001b[0m\u001b[1;33m[\u001b[0m\u001b[1;36m1\u001b[0m\u001b[1;33m,\u001b[0m\u001b[1;36m2\u001b[0m\u001b[1;33m,\u001b[0m\u001b[1;36m3\u001b[0m\u001b[1;33m]\u001b[0m\u001b[1;33m)\u001b[0m\u001b[1;33m.\u001b[0m\u001b[0mshape\u001b[0m\u001b[1;33m)\u001b[0m\u001b[1;33m\u001b[0m\u001b[1;33m\u001b[0m\u001b[0m\n\u001b[0m",
      "\u001b[1;31mNameError\u001b[0m: name 'np' is not defined"
     ]
    }
   ],
   "source": [
    "print(np.array([1,2,3]).shape)"
   ]
  },
  {
   "cell_type": "code",
   "execution_count": 3,
   "id": "f318041b-02e5-4733-9f65-dfac72e58b06",
   "metadata": {},
   "outputs": [
    {
     "ename": "NameError",
     "evalue": "name 'v' is not defined",
     "output_type": "error",
     "traceback": [
      "\u001b[1;31m---------------------------------------------------------------------------\u001b[0m",
      "\u001b[1;31mNameError\u001b[0m                                 Traceback (most recent call last)",
      "\u001b[1;32m~\\AppData\\Local\\Temp/ipykernel_21492/2752055919.py\u001b[0m in \u001b[0;36m<module>\u001b[1;34m\u001b[0m\n\u001b[1;32m----> 1\u001b[1;33m \u001b[0mprint\u001b[0m\u001b[1;33m(\u001b[0m\u001b[0mv\u001b[0m\u001b[1;33m,\u001b[0m \u001b[0mnp\u001b[0m\u001b[1;33m.\u001b[0m\u001b[0mmax\u001b[0m\u001b[1;33m(\u001b[0m\u001b[1;33m[\u001b[0m\u001b[0mX\u001b[0m\u001b[1;33m[\u001b[0m\u001b[0mi\u001b[0m\u001b[1;33m]\u001b[0m\u001b[1;33m[\u001b[0m\u001b[0mi\u001b[0m\u001b[1;33m]\u001b[0m \u001b[1;32mfor\u001b[0m \u001b[0mi\u001b[0m \u001b[1;32min\u001b[0m \u001b[0mrange\u001b[0m\u001b[1;33m(\u001b[0m\u001b[0mX\u001b[0m\u001b[1;33m.\u001b[0m\u001b[0mshape\u001b[0m\u001b[1;33m[\u001b[0m\u001b[1;36m0\u001b[0m\u001b[1;33m]\u001b[0m\u001b[1;33m)\u001b[0m\u001b[1;33m]\u001b[0m\u001b[1;33m)\u001b[0m\u001b[1;33m)\u001b[0m\u001b[1;33m\u001b[0m\u001b[1;33m\u001b[0m\u001b[0m\n\u001b[0m\u001b[0;32m      2\u001b[0m \u001b[0mprint\u001b[0m\u001b[1;33m(\u001b[0m\u001b[1;34m'norm'\u001b[0m\u001b[1;33m,\u001b[0m \u001b[0mnp\u001b[0m\u001b[1;33m.\u001b[0m\u001b[0mlinalg\u001b[0m\u001b[1;33m.\u001b[0m\u001b[0mnorm\u001b[0m\u001b[1;33m(\u001b[0m\u001b[0mX\u001b[0m\u001b[1;33m,\u001b[0m \u001b[1;36m2\u001b[0m\u001b[1;33m)\u001b[0m\u001b[1;33m)\u001b[0m\u001b[1;33m\u001b[0m\u001b[1;33m\u001b[0m\u001b[0m\n\u001b[0;32m      3\u001b[0m \u001b[0mprint\u001b[0m\u001b[1;33m(\u001b[0m\u001b[1;34m'len'\u001b[0m\u001b[1;33m,\u001b[0m \u001b[0mX\u001b[0m\u001b[1;33m.\u001b[0m\u001b[0mshape\u001b[0m\u001b[1;33m[\u001b[0m\u001b[1;36m0\u001b[0m\u001b[1;33m]\u001b[0m\u001b[1;33m)\u001b[0m\u001b[1;33m\u001b[0m\u001b[1;33m\u001b[0m\u001b[0m\n\u001b[0;32m      4\u001b[0m \u001b[0mprint\u001b[0m\u001b[1;33m(\u001b[0m\u001b[1;34m'rank'\u001b[0m\u001b[1;33m,\u001b[0m \u001b[0mnp\u001b[0m\u001b[1;33m.\u001b[0m\u001b[0mlinalg\u001b[0m\u001b[1;33m.\u001b[0m\u001b[0mmatrix_rank\u001b[0m\u001b[1;33m(\u001b[0m\u001b[0mX2\u001b[0m\u001b[1;33m)\u001b[0m\u001b[1;33m,\u001b[0m \u001b[0mnp\u001b[0m\u001b[1;33m.\u001b[0m\u001b[0mlinalg\u001b[0m\u001b[1;33m.\u001b[0m\u001b[0mmatrix_rank\u001b[0m\u001b[1;33m(\u001b[0m\u001b[0mX\u001b[0m\u001b[1;33m)\u001b[0m\u001b[1;33m)\u001b[0m\u001b[1;33m\u001b[0m\u001b[1;33m\u001b[0m\u001b[0m\n\u001b[0;32m      5\u001b[0m \u001b[0mprint\u001b[0m\u001b[1;33m(\u001b[0m\u001b[0mnp\u001b[0m\u001b[1;33m.\u001b[0m\u001b[0mtrace\u001b[0m\u001b[1;33m(\u001b[0m\u001b[0mX2\u001b[0m\u001b[1;33m)\u001b[0m\u001b[1;33m)\u001b[0m\u001b[1;33m\u001b[0m\u001b[1;33m\u001b[0m\u001b[0m\n",
      "\u001b[1;31mNameError\u001b[0m: name 'v' is not defined"
     ]
    }
   ],
   "source": [
    "print(v, np.max([X[i][i] for i in range(X.shape[0])]))\n",
    "print('norm', np.linalg.norm(X, 2))\n",
    "print('len', X.shape[0])\n",
    "print('rank', np.linalg.matrix_rank(X2), np.linalg.matrix_rank(X))\n",
    "print(np.trace(X2))\n",
    "evals, evects = np.linalg.eig(X2[:6, :6])\n",
    "visualize(evects.real, [prob.yes_instances + prob.no_instances] * 2)"
   ]
  },
  {
   "cell_type": "code",
   "execution_count": 3,
   "id": "9341a436-904b-4a38-b0d8-1dd07f58e038",
   "metadata": {},
   "outputs": [
    {
     "name": "stdout",
     "output_type": "stream",
     "text": [
      "boop1\n"
     ]
    }
   ],
   "source": [
    "print('boop1')"
   ]
  },
  {
   "cell_type": "code",
   "execution_count": 7,
   "id": "2ee59597-7d67-4e3d-8345-b698bf3135bd",
   "metadata": {},
   "outputs": [
    {
     "ename": "KeyboardInterrupt",
     "evalue": "Interrupted by user",
     "output_type": "error",
     "traceback": [
      "\u001b[1;31m---------------------------------------------------------------------------\u001b[0m",
      "\u001b[1;31mKeyboardInterrupt\u001b[0m                         Traceback (most recent call last)",
      "\u001b[1;32m~\\AppData\\Local\\Temp/ipykernel_7932/4222919956.py\u001b[0m in \u001b[0;36m<module>\u001b[1;34m\u001b[0m\n\u001b[1;32m----> 1\u001b[1;33m \u001b[0minput\u001b[0m\u001b[1;33m(\u001b[0m\u001b[1;34m'bop'\u001b[0m\u001b[1;33m)\u001b[0m\u001b[1;33m\u001b[0m\u001b[1;33m\u001b[0m\u001b[0m\n\u001b[0m\u001b[0;32m      2\u001b[0m \u001b[1;32mdef\u001b[0m \u001b[0mez_space_vects\u001b[0m\u001b[1;33m(\u001b[0m\u001b[0mproblem\u001b[0m\u001b[1;33m)\u001b[0m\u001b[1;33m:\u001b[0m\u001b[1;33m\u001b[0m\u001b[1;33m\u001b[0m\u001b[0m\n\u001b[0;32m      3\u001b[0m     \u001b[0mvects\u001b[0m \u001b[1;33m=\u001b[0m \u001b[1;33m{\u001b[0m\u001b[1;33m}\u001b[0m\u001b[1;33m\u001b[0m\u001b[1;33m\u001b[0m\u001b[0m\n\u001b[0;32m      4\u001b[0m     \u001b[1;32mfor\u001b[0m \u001b[0mj\u001b[0m \u001b[1;32min\u001b[0m \u001b[0mrange\u001b[0m\u001b[1;33m(\u001b[0m\u001b[0mproblem\u001b[0m\u001b[1;33m.\u001b[0m\u001b[0mn\u001b[0m\u001b[1;33m)\u001b[0m\u001b[1;33m:\u001b[0m\u001b[1;33m\u001b[0m\u001b[1;33m\u001b[0m\u001b[0m\n\u001b[0;32m      5\u001b[0m         \u001b[0mprint\u001b[0m\u001b[1;33m(\u001b[0m\u001b[1;34m'j'\u001b[0m\u001b[1;33m,\u001b[0m \u001b[0mj\u001b[0m\u001b[1;33m)\u001b[0m\u001b[1;33m\u001b[0m\u001b[1;33m\u001b[0m\u001b[0m\n",
      "\u001b[1;32m~\\anaconda3\\lib\\site-packages\\ipykernel\\kernelbase.py\u001b[0m in \u001b[0;36mraw_input\u001b[1;34m(self, prompt)\u001b[0m\n\u001b[0;32m   1004\u001b[0m                 \u001b[1;34m\"raw_input was called, but this frontend does not support input requests.\"\u001b[0m\u001b[1;33m\u001b[0m\u001b[1;33m\u001b[0m\u001b[0m\n\u001b[0;32m   1005\u001b[0m             )\n\u001b[1;32m-> 1006\u001b[1;33m         return self._input_request(\n\u001b[0m\u001b[0;32m   1007\u001b[0m             \u001b[0mstr\u001b[0m\u001b[1;33m(\u001b[0m\u001b[0mprompt\u001b[0m\u001b[1;33m)\u001b[0m\u001b[1;33m,\u001b[0m\u001b[1;33m\u001b[0m\u001b[1;33m\u001b[0m\u001b[0m\n\u001b[0;32m   1008\u001b[0m             \u001b[0mself\u001b[0m\u001b[1;33m.\u001b[0m\u001b[0m_parent_ident\u001b[0m\u001b[1;33m[\u001b[0m\u001b[1;34m\"shell\"\u001b[0m\u001b[1;33m]\u001b[0m\u001b[1;33m,\u001b[0m\u001b[1;33m\u001b[0m\u001b[1;33m\u001b[0m\u001b[0m\n",
      "\u001b[1;32m~\\anaconda3\\lib\\site-packages\\ipykernel\\kernelbase.py\u001b[0m in \u001b[0;36m_input_request\u001b[1;34m(self, prompt, ident, parent, password)\u001b[0m\n\u001b[0;32m   1049\u001b[0m             \u001b[1;32mexcept\u001b[0m \u001b[0mKeyboardInterrupt\u001b[0m\u001b[1;33m:\u001b[0m\u001b[1;33m\u001b[0m\u001b[1;33m\u001b[0m\u001b[0m\n\u001b[0;32m   1050\u001b[0m                 \u001b[1;31m# re-raise KeyboardInterrupt, to truncate traceback\u001b[0m\u001b[1;33m\u001b[0m\u001b[1;33m\u001b[0m\u001b[0m\n\u001b[1;32m-> 1051\u001b[1;33m                 \u001b[1;32mraise\u001b[0m \u001b[0mKeyboardInterrupt\u001b[0m\u001b[1;33m(\u001b[0m\u001b[1;34m\"Interrupted by user\"\u001b[0m\u001b[1;33m)\u001b[0m \u001b[1;32mfrom\u001b[0m \u001b[1;32mNone\u001b[0m\u001b[1;33m\u001b[0m\u001b[1;33m\u001b[0m\u001b[0m\n\u001b[0m\u001b[0;32m   1052\u001b[0m             \u001b[1;32mexcept\u001b[0m \u001b[0mException\u001b[0m\u001b[1;33m:\u001b[0m\u001b[1;33m\u001b[0m\u001b[1;33m\u001b[0m\u001b[0m\n\u001b[0;32m   1053\u001b[0m                 \u001b[0mself\u001b[0m\u001b[1;33m.\u001b[0m\u001b[0mlog\u001b[0m\u001b[1;33m.\u001b[0m\u001b[0mwarning\u001b[0m\u001b[1;33m(\u001b[0m\u001b[1;34m\"Invalid Message:\"\u001b[0m\u001b[1;33m,\u001b[0m \u001b[0mexc_info\u001b[0m\u001b[1;33m=\u001b[0m\u001b[1;32mTrue\u001b[0m\u001b[1;33m)\u001b[0m\u001b[1;33m\u001b[0m\u001b[1;33m\u001b[0m\u001b[0m\n",
      "\u001b[1;31mKeyboardInterrupt\u001b[0m: Interrupted by user"
     ]
    }
   ],
   "source": [
    "input('bop')\n",
    "def ez_space_vects(problem):\n",
    "    vects = {}\n",
    "    for j in range(problem.n):\n",
    "        print('j', j)\n",
    "        for b in problem.alphabet:\n",
    "            vects[(j,b)] = []\n",
    "            v = np.zeros(problem.no_len)\n",
    "            for no_index in range(problem.no_len):\n",
    "                no = problem.no_instances[no_index]\n",
    "                if no[j] != b:\n",
    "                    v[no_index] = 1\n",
    "                    \n",
    "            vects[(j,b)].append(v)\n",
    "    return SpanProgram( problem, vects)\n",
    "input('boop')\n",
    "prob = threshold_k(3, 2)\n",
    "print(prob)\n",
    "sp = ez_space_vects(prob)\n",
    "# sp.A[0][1] = -1"
   ]
  },
  {
   "cell_type": "code",
   "execution_count": null,
   "id": "d79989a1-68cf-4650-a541-ab171edb4ee6",
   "metadata": {},
   "outputs": [],
   "source": [
    "def find_opt_witness(span_program):\n",
    "    A = span_program.A\n",
    "    problem = span_program.problem\n",
    "    witness_vars = [cp.Variable(A.shape[1]) for _ in range(span_program.problem.yes_len)]\n",
    "    constraints = [span_program.get_activated_A(x) @ witness_vars[problem.yes_instance_to_index[x]] == np.ones(problem.no_len) for x in span_program.problem.yes_instances]\n",
    "    for x in problem.yes_instances:\n",
    "        w = witness_vars[problem.yes_instance_to_index[x]]\n",
    "        for i in range(len(x)):       \n",
    "            for b in problem.alphabet:\n",
    "                if x[i] != b:\n",
    "                    constraints += [w[j] == 0 for j in span_program.I_to_mat[(i, b)]]\n",
    "    opt_func = cp.Minimize(cp.max(cp.vstack([cp.norm(w, 2) for w in witness_vars])))\n",
    "    opt_prob = cp.Problem(opt_func, constraints)\n",
    "    opt_prob.solve(solver='SCS', verbose=True)\n",
    "    return opt_prob.value, np.array([w.value for w in witness_vars]).T\n",
    "\n",
    "v, W = find_opt_witness(sp)\n",
    "print(W)\n",
    "print(sp.A)\n",
    "sp.visualize_A()\n",
    "sp.witnesses = W\n",
    "sp.visualize_witnesses()"
   ]
  },
  {
   "cell_type": "code",
   "execution_count": 23,
   "id": "def08edc-8cc4-4896-b8b6-0fdf4b17fadd",
   "metadata": {},
   "outputs": [
    {
     "name": "stdout",
     "output_type": "stream",
     "text": [
      "[[1. 1. 1. 1. 1. 1. 1. 1. 1. 1. 1. 1. 1. 1. 1. 1. 1. 1. 1. 1. 1. 1. 1. 1.\n",
      "  1. 1. 1. 1. 1. 1. 1. 1. 1. 1. 1.]\n",
      " [1. 1. 1. 1. 1. 1. 1. 1. 1. 1. 1. 1. 1. 1. 1. 1. 1. 1. 1. 1. 1. 1. 1. 1.\n",
      "  1. 1. 1. 1. 1. 1. 1. 1. 1. 1. 1.]\n",
      " [1. 1. 1. 1. 1. 1. 1. 1. 1. 1. 1. 1. 1. 1. 1. 1. 1. 1. 1. 1. 1. 1. 1. 1.\n",
      "  1. 1. 1. 1. 1. 1. 1. 1. 1. 1. 1.]\n",
      " [1. 1. 1. 1. 1. 1. 1. 1. 1. 1. 1. 1. 1. 1. 1. 1. 1. 1. 1. 1. 1. 1. 1. 1.\n",
      "  1. 1. 1. 1. 1. 1. 1. 1. 1. 1. 1.]\n",
      " [1. 1. 1. 1. 1. 1. 1. 1. 1. 1. 1. 1. 1. 1. 1. 1. 1. 1. 1. 1. 1. 1. 1. 1.\n",
      "  1. 1. 1. 1. 1. 1. 1. 1. 1. 1. 1.]\n",
      " [1. 1. 1. 1. 1. 1. 1. 1. 1. 1. 1. 1. 1. 1. 1. 1. 1. 1. 1. 1. 1. 1. 1. 1.\n",
      "  1. 1. 1. 1. 1. 1. 1. 1. 1. 1. 1.]\n",
      " [1. 1. 1. 1. 1. 1. 1. 1. 1. 1. 1. 1. 1. 1. 1. 1. 1. 1. 1. 1. 1. 1. 1. 1.\n",
      "  1. 1. 1. 1. 1. 1. 1. 1. 1. 1. 1.]\n",
      " [1. 1. 1. 1. 1. 1. 1. 1. 1. 1. 1. 1. 1. 1. 1. 1. 1. 1. 1. 1. 1. 1. 1. 1.\n",
      "  1. 1. 1. 1. 1. 1. 1. 1. 1. 1. 1.]\n",
      " [1. 1. 1. 1. 1. 1. 1. 1. 1. 1. 1. 1. 1. 1. 1. 1. 1. 1. 1. 1. 1. 1. 1. 1.\n",
      "  1. 1. 1. 1. 1. 1. 1. 1. 1. 1. 1.]\n",
      " [1. 1. 1. 1. 1. 1. 1. 1. 1. 1. 1. 1. 1. 1. 1. 1. 1. 1. 1. 1. 1. 1. 1. 1.\n",
      "  1. 1. 1. 1. 1. 1. 1. 1. 1. 1. 1.]\n",
      " [1. 1. 1. 1. 1. 1. 1. 1. 1. 1. 1. 1. 1. 1. 1. 1. 1. 1. 1. 1. 1. 1. 1. 1.\n",
      "  1. 1. 1. 1. 1. 1. 1. 1. 1. 1. 1.]\n",
      " [1. 1. 1. 1. 1. 1. 1. 1. 1. 1. 1. 1. 1. 1. 1. 1. 1. 1. 1. 1. 1. 1. 1. 1.\n",
      "  1. 1. 1. 1. 1. 1. 1. 1. 1. 1. 1.]\n",
      " [1. 1. 1. 1. 1. 1. 1. 1. 1. 1. 1. 1. 1. 1. 1. 1. 1. 1. 1. 1. 1. 1. 1. 1.\n",
      "  1. 1. 1. 1. 1. 1. 1. 1. 1. 1. 1.]\n",
      " [1. 1. 1. 1. 1. 1. 1. 1. 1. 1. 1. 1. 1. 1. 1. 1. 1. 1. 1. 1. 1. 1. 1. 1.\n",
      "  1. 1. 1. 1. 1. 1. 1. 1. 1. 1. 1.]\n",
      " [1. 1. 1. 1. 1. 1. 1. 1. 1. 1. 1. 1. 1. 1. 1. 1. 1. 1. 1. 1. 1. 1. 1. 1.\n",
      "  1. 1. 1. 1. 1. 1. 1. 1. 1. 1. 1.]\n",
      " [1. 1. 1. 1. 1. 1. 1. 1. 1. 1. 1. 1. 1. 1. 1. 1. 1. 1. 1. 1. 1. 1. 1. 1.\n",
      "  1. 1. 1. 1. 1. 1. 1. 1. 1. 1. 1.]\n",
      " [1. 1. 1. 1. 1. 1. 1. 1. 1. 1. 1. 1. 1. 1. 1. 1. 1. 1. 1. 1. 1. 1. 1. 1.\n",
      "  1. 1. 1. 1. 1. 1. 1. 1. 1. 1. 1.]\n",
      " [1. 1. 1. 1. 1. 1. 1. 1. 1. 1. 1. 1. 1. 1. 1. 1. 1. 1. 1. 1. 1. 1. 1. 1.\n",
      "  1. 1. 1. 1. 1. 1. 1. 1. 1. 1. 1.]\n",
      " [1. 1. 1. 1. 1. 1. 1. 1. 1. 1. 1. 1. 1. 1. 1. 1. 1. 1. 1. 1. 1. 1. 1. 1.\n",
      "  1. 1. 1. 1. 1. 1. 1. 1. 1. 1. 1.]\n",
      " [1. 1. 1. 1. 1. 1. 1. 1. 1. 1. 1. 1. 1. 1. 1. 1. 1. 1. 1. 1. 1. 1. 1. 1.\n",
      "  1. 1. 1. 1. 1. 1. 1. 1. 1. 1. 1.]\n",
      " [1. 1. 1. 1. 1. 1. 1. 1. 1. 1. 1. 1. 1. 1. 1. 1. 1. 1. 1. 1. 1. 1. 1. 1.\n",
      "  1. 1. 1. 1. 1. 1. 1. 1. 1. 1. 1.]]\n"
     ]
    }
   ],
   "source": [
    "print(sp.A @W )"
   ]
  },
  {
   "cell_type": "code",
   "execution_count": 60,
   "id": "9d574755-4528-4e70-acec-e4e700a9d9a3",
   "metadata": {},
   "outputs": [],
   "source": [
    "\n",
    "def special_span_sdp(problem, d):\n",
    "    t = cp.Variable()\n",
    "    vects = {z: [cp.Variable(d) for j in range(problem.n)] for z in problem.instances}\n",
    "    constraints = []\n",
    "    for yes, no in itertools.product(problem.yes_instances, problem.no_instances):\n",
    "        constraints.append(cp.sum(\n",
    "            [cp.scalar_product(vects[yes][j], vects[no][j]) for j in range(problem.n) if yes[j] != no[j]]) == 1\n",
    "        )\n",
    "    \n",
    "    opt_func = cp.max(cp.vstack([\n",
    "        cp.sum([vects[z][j]**2 for j in range(problem.n)])\n",
    "        for z in problem.instances])\n",
    "    )\n",
    "    \n",
    "    opt_prob = cp.Problem(cp.Minimize(opt_func), constraints)\n",
    "    opt_prob.solve()\n",
    "    return opt_prob.value, [[vects[z][j].value for z in problem.instances] for j in range(problem.n)]\n",
    "    \n",
    "def test_sdp():\n",
    "    x = cp.Variable(10)\n",
    "    y = cp.Variable(10)\n",
    "    z = cp.Variable(10)\n",
    "    w = cp.Variable(10)\n",
    "    constraints = [x >= 2, y >= 3, w >= 4, z >= 5]\n",
    "    opt_prob = cp.Problem(cp.Minimize(x @ y), constraints)\n",
    "    opt_prob.solve()\n",
    "    # return opt_prob.valuex.value, y.value\n",
    "prob = threshold_k(3, 2)"
   ]
  },
  {
   "cell_type": "code",
   "execution_count": 29,
   "id": "2db04d1e-da8c-40d1-b339-a566a084826b",
   "metadata": {},
   "outputs": [
    {
     "name": "stdout",
     "output_type": "stream",
     "text": [
      "[[1.  0.5 0.5 0.  0.  0. ]\n",
      " [0.5 1.  0.5 0.  0.  0. ]\n",
      " [0.5 0.5 1.  0.5 0.  0. ]\n",
      " [0.  0.  0.5 1.  0.5 1. ]\n",
      " [0.  0.  0.  0.5 1.  1. ]\n",
      " [0.  0.  0.  1.  1.  1. ]]\n",
      "[[1. 1. 1. 1. 1. 1.]\n",
      " [1. 1. 1. 1. 1. 1.]\n",
      " [1. 1. 1. 1. 1. 1.]\n",
      " [1. 1. 1. 1. 1. 1.]\n",
      " [1. 1. 1. 1. 1. 1.]\n",
      " [1. 1. 1. 1. 1. 1.]]\n"
     ]
    },
    {
     "data": {
      "image/png": "[encoded data removed]",
      "text/plain": [
       "<Figure size 1280x960 with 2 Axes>"
      ]
     },
     "metadata": {},
     "output_type": "display_data"
    },
    {
     "name": "stdout",
     "output_type": "stream",
     "text": [
      "[ 2.74397835  2.         -0.25263587  0.77641601  0.5         0.23224151]\n",
      "[[1.  0.5 0.5 0.  0.  0. ]\n",
      " [0.5 1.  0.5 0.  0.  0. ]\n",
      " [0.5 0.5 1.  0.5 0.  0. ]\n",
      " [0.  0.  0.5 1.  0.5 1. ]\n",
      " [0.  0.  0.  0.5 1.  1. ]\n",
      " [0.  0.  0.  1.  1.  1. ]]\n",
      "[[1. 1. 1. 1. 1. 1.]\n",
      " [1. 1. 1. 1. 1. 1.]\n",
      " [1. 1. 1. 1. 1. 1.]\n",
      " [1. 1. 1. 1. 1. 1.]\n",
      " [1. 1. 1. 1. 1. 1.]\n",
      " [1. 1. 1. 1. 1. 1.]]\n",
      "0\n",
      "[[1.  0.5 0.5 0.  0.  0. ]\n",
      " [0.5 1.  0.5 0.  0.  0. ]\n",
      " [0.5 0.5 1.  0.5 0.  0. ]\n",
      " [0.  0.  0.5 1.  0.5 1. ]\n",
      " [0.  0.  0.  0.5 1.  1. ]\n",
      " [0.  0.  0.  1.  1.  1. ]]\n"
     ]
    },
    {
     "ename": "LinAlgError",
     "evalue": "Matrix is not positive definite",
     "output_type": "error",
     "traceback": [
      "\u001b[0;31m---------------------------------------------------------------------------\u001b[0m",
      "\u001b[0;31mLinAlgError\u001b[0m                               Traceback (most recent call last)",
      "Cell \u001b[0;32mIn[29], line 59\u001b[0m\n\u001b[1;32m     57\u001b[0m     \u001b[38;5;28mprint\u001b[39m(X)\n\u001b[1;32m     58\u001b[0m     X[i\u001b[38;5;241m*\u001b[39mprob\u001b[38;5;241m.\u001b[39mlen: (i\u001b[38;5;241m+\u001b[39m\u001b[38;5;241m1\u001b[39m)\u001b[38;5;241m*\u001b[39mprob\u001b[38;5;241m.\u001b[39mlen, i\u001b[38;5;241m*\u001b[39mprob\u001b[38;5;241m.\u001b[39mlen: (i\u001b[38;5;241m+\u001b[39m\u001b[38;5;241m1\u001b[39m)\u001b[38;5;241m*\u001b[39mprob\u001b[38;5;241m.\u001b[39mlen] \u001b[38;5;241m=\u001b[39m Xj\n\u001b[0;32m---> 59\u001b[0m     \u001b[38;5;28mprint\u001b[39m(\u001b[43mnp\u001b[49m\u001b[38;5;241;43m.\u001b[39;49m\u001b[43mlinalg\u001b[49m\u001b[38;5;241;43m.\u001b[39;49m\u001b[43mcholesky\u001b[49m\u001b[43m(\u001b[49m\u001b[43mXj\u001b[49m\u001b[38;5;241;43m+\u001b[39;49m\u001b[38;5;241;43m.01\u001b[39;49m\u001b[43m \u001b[49m\u001b[38;5;241;43m*\u001b[39;49m\u001b[43m \u001b[49m\u001b[43mnp\u001b[49m\u001b[38;5;241;43m.\u001b[39;49m\u001b[43meye\u001b[49m\u001b[43m(\u001b[49m\u001b[43mprob\u001b[49m\u001b[38;5;241;43m.\u001b[39;49m\u001b[43mlen\u001b[49m\u001b[43m)\u001b[49m\u001b[43m)\u001b[49m)\n\u001b[1;32m     61\u001b[0m plt\u001b[38;5;241m.\u001b[39mimshow(X)\n\u001b[1;32m     62\u001b[0m plt\u001b[38;5;241m.\u001b[39mcolorbar()\n",
      "File \u001b[0;32m<__array_function__ internals>:180\u001b[0m, in \u001b[0;36mcholesky\u001b[0;34m(*args, **kwargs)\u001b[0m\n",
      "File \u001b[0;32m~/anaconda3/lib/python3.10/site-packages/numpy/linalg/linalg.py:770\u001b[0m, in \u001b[0;36mcholesky\u001b[0;34m(a)\u001b[0m\n\u001b[1;32m    768\u001b[0m t, result_t \u001b[38;5;241m=\u001b[39m _commonType(a)\n\u001b[1;32m    769\u001b[0m signature \u001b[38;5;241m=\u001b[39m \u001b[38;5;124m'\u001b[39m\u001b[38;5;124mD->D\u001b[39m\u001b[38;5;124m'\u001b[39m \u001b[38;5;28;01mif\u001b[39;00m isComplexType(t) \u001b[38;5;28;01melse\u001b[39;00m \u001b[38;5;124m'\u001b[39m\u001b[38;5;124md->d\u001b[39m\u001b[38;5;124m'\u001b[39m\n\u001b[0;32m--> 770\u001b[0m r \u001b[38;5;241m=\u001b[39m \u001b[43mgufunc\u001b[49m\u001b[43m(\u001b[49m\u001b[43ma\u001b[49m\u001b[43m,\u001b[49m\u001b[43m \u001b[49m\u001b[43msignature\u001b[49m\u001b[38;5;241;43m=\u001b[39;49m\u001b[43msignature\u001b[49m\u001b[43m,\u001b[49m\u001b[43m \u001b[49m\u001b[43mextobj\u001b[49m\u001b[38;5;241;43m=\u001b[39;49m\u001b[43mextobj\u001b[49m\u001b[43m)\u001b[49m\n\u001b[1;32m    771\u001b[0m \u001b[38;5;28;01mreturn\u001b[39;00m wrap(r\u001b[38;5;241m.\u001b[39mastype(result_t, copy\u001b[38;5;241m=\u001b[39m\u001b[38;5;28;01mFalse\u001b[39;00m))\n",
      "File \u001b[0;32m~/anaconda3/lib/python3.10/site-packages/numpy/linalg/linalg.py:92\u001b[0m, in \u001b[0;36m_raise_linalgerror_nonposdef\u001b[0;34m(err, flag)\u001b[0m\n\u001b[1;32m     91\u001b[0m \u001b[38;5;28;01mdef\u001b[39;00m \u001b[38;5;21m_raise_linalgerror_nonposdef\u001b[39m(err, flag):\n\u001b[0;32m---> 92\u001b[0m     \u001b[38;5;28;01mraise\u001b[39;00m LinAlgError(\u001b[38;5;124m\"\u001b[39m\u001b[38;5;124mMatrix is not positive definite\u001b[39m\u001b[38;5;124m\"\u001b[39m)\n",
      "\u001b[0;31mLinAlgError\u001b[0m: Matrix is not positive definite"
     ]
    }
   ],
   "source": [
    "def dist(x,y):\n",
    "    return len([j for j in range(len(x)) if x[j]==1 and y[j]==0])\n",
    "\n",
    "def get_Xj(problem, j):\n",
    "    n = problem.n\n",
    "    k = dist(problem.yes_instances[0], [0]*n)\n",
    "    B = np.zeros((problem.len, problem.len))\n",
    "    D = np.ones((problem.len, problem.len))\n",
    "    for i in range(problem.len):\n",
    "        for p in range(problem.len):\n",
    "            inst1 = problem.instances[i]\n",
    "            inst2 = problem.instances[p]\n",
    "            if i != p:\n",
    "                # print(inst1, inst2, k)\n",
    "                v = len([l for l in range(n) if l != j and inst1[l] == 1 and inst2[l] == 1])\n",
    "                \n",
    "                B[i,p] = 1/(k-v)\n",
    "            else:\n",
    "                B[i,p] = 1\n",
    "    \n",
    "    for yes1 in problem.yes_instances:\n",
    "        yes_index1 = problem.instance_to_index[yes1]\n",
    "        for yes2 in problem.yes_instances:\n",
    "            if yes1 != yes2:\n",
    "                yes_index2 = problem.instance_to_index[yes2]\n",
    "                D[yes_index1, yes_index2] = np.sqrt((n-k+1)/k) \n",
    "        \n",
    "        for no in problem.no_instances:\n",
    "            no_index = problem.instance_to_index[no]\n",
    "            if no[j] == 0 or (no[j]==1 and yes1[j]==1):\n",
    "                B[yes_index1, no_index] = 0\n",
    "                B[no_index, yes_index1] = 0\n",
    "        \n",
    "    for no1 in problem.no_instances:\n",
    "        no_index1 = problem.instance_to_index[no1]\n",
    "        for no2 in problem.no_instances:\n",
    "            if no1 != no2:\n",
    "                no_index2 = problem.instance_to_index[no2]\n",
    "                D[no_index1, no_index2] = np.sqrt(k/(n-k+1))\n",
    "    \n",
    "    \n",
    "    print(B)\n",
    "    print(D)\n",
    "    return B * D\n",
    "n=3\n",
    "k=2\n",
    "prob = threshold_k(n, k)\n",
    "Xj = get_Xj(prob, 0)\n",
    "plt.imshow(Xj)\n",
    "plt.colorbar()\n",
    "plt.show()\n",
    "print(np.linalg.eigvals(Xj))\n",
    "X = np.zeros((n * prob.len, n * prob.len))\n",
    "for i in range(n):\n",
    "    X= get_Xj(prob, i)\n",
    "    print(i)\n",
    "    print(X)\n",
    "    X[i*prob.len: (i+1)*prob.len, i*prob.len: (i+1)*prob.len] = Xj\n",
    "    print(np.linalg.cholesky(Xj+.01 * np.eye(prob.len)))\n",
    "    \n",
    "plt.imshow(X)\n",
    "plt.colorbar()\n",
    "plt.show()\n",
    "plt.imshow(np.linalg.cholesky(X+.001 * np.eye(n * prob.len)))"
   ]
  },
  {
   "cell_type": "code",
   "execution_count": 19,
   "id": "1ccddcb3-bc8e-4e6e-a57a-2e11b1d8b4dc",
   "metadata": {},
   "outputs": [
    {
     "name": "stdout",
     "output_type": "stream",
     "text": [
      "15\n",
      "14\n",
      "13\n",
      "12\n",
      "11\n",
      "10\n",
      "9\n",
      "8\n",
      "7\n",
      "6\n",
      "5\n",
      "4\n",
      "3\n",
      "2\n",
      "None\n"
     ]
    },
    {
     "ename": "AttributeError",
     "evalue": "'NoneType' object has no attribute 'T'",
     "output_type": "error",
     "traceback": [
      "\u001b[0;31m---------------------------------------------------------------------------\u001b[0m",
      "\u001b[0;31mAttributeError\u001b[0m                            Traceback (most recent call last)",
      "Cell \u001b[0;32mIn[19], line 5\u001b[0m\n\u001b[1;32m      3\u001b[0m L \u001b[38;5;241m=\u001b[39m get_cholesky_fact(X2)\n\u001b[1;32m      4\u001b[0m \u001b[38;5;28mprint\u001b[39m(L)\n\u001b[0;32m----> 5\u001b[0m partials \u001b[38;5;241m=\u001b[39m decompose_cholesky(\u001b[43mL\u001b[49m\u001b[38;5;241;43m.\u001b[39;49m\u001b[43mT\u001b[49m, prob)\n\u001b[1;32m      6\u001b[0m \u001b[38;5;66;03m# print(partials[0].shape)\u001b[39;00m\n\u001b[1;32m      7\u001b[0m \u001b[38;5;66;03m# plt.imshow(L.T)\u001b[39;00m\n\u001b[1;32m      8\u001b[0m \u001b[38;5;66;03m# plt.show()\u001b[39;00m\n\u001b[0;32m   (...)\u001b[0m\n\u001b[1;32m     13\u001b[0m     \u001b[38;5;66;03m# plt.show()\u001b[39;00m\n\u001b[1;32m     14\u001b[0m \u001b[38;5;66;03m# plt.imshow()\u001b[39;00m\n\u001b[1;32m     15\u001b[0m sp \u001b[38;5;241m=\u001b[39m span_from_decomp(partials, prob)\n",
      "\u001b[0;31mAttributeError\u001b[0m: 'NoneType' object has no attribute 'T'"
     ]
    }
   ],
   "source": [
    "X2 = X\n",
    "# print(X)\n",
    "L = get_cholesky_fact(X2)\n",
    "print(L)\n",
    "partials = decompose_cholesky(L.T, prob)\n",
    "# print(partials[0].shape)\n",
    "# plt.imshow(L.T)\n",
    "# plt.show()\n",
    "# print(sp.A)\n",
    "# for partial in partials:\n",
    "    # plt.imshow(partial)\n",
    "    # plt.colorbar()\n",
    "    # plt.show()\n",
    "# plt.imshow()\n",
    "sp = span_from_decomp(partials, prob)\n",
    "# plt.imshow()\n",
    "print(set(sp.A.flatten()))\n",
    "plt.imshow(np.array(sp.witnesses).T)\n",
    "plt.colorbar()\n",
    "plt.show()\n",
    "sp.visualize_A()\n",
    "sp.visualize_witnesses()\n",
    "print(np.array(sp.witnesses).T)"
   ]
  },
  {
   "cell_type": "code",
   "execution_count": null,
   "id": "4af2993b-ef0b-4500-ac8b-a4c399d7343f",
   "metadata": {},
   "outputs": [],
   "source": []
  }
 ],
 "metadata": {
  "kernelspec": {
   "display_name": "Python 3 (ipykernel)",
   "language": "python",
   "name": "python3"
  },
  "language_info": {
   "codemirror_mode": {
    "name": "ipython",
    "version": 3
   },
   "file_extension": ".py",
   "mimetype": "text/x-python",
   "name": "python",
   "nbconvert_exporter": "python",
   "pygments_lexer": "ipython3",
   "version": "3.10.9"
  }
 },
 "nbformat": 4,
 "nbformat_minor": 5
}
