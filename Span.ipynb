{
 "cells": [
  {
   "cell_type": "code",
   "execution_count": 4,
   "id": "84c82d4a-b974-4a3b-9f07-d48d00356a77",
   "metadata": {},
   "outputs": [],
   "source": [
    "from Solvers import adv_solver, span_solver\n",
    "from Adversary import Adversary, Problem\n",
    "import numpy as np\n",
    "import matplotlib.pyplot as plt\n",
    "import itertools\n",
    "from Examples import exact_k, threshold_k"
   ]
  },
  {
   "cell_type": "code",
   "execution_count": 45,
   "id": "b110524d-b8aa-4c9a-ad31-d85fb6a66ad2",
   "metadata": {},
   "outputs": [],
   "source": [
    "class SpanProgram():\n",
    "    def __init__(self, problem, I_dict):\n",
    "        self.target = np.ones(problem.no_len)\n",
    "        self.num_vects = np.sum([len(v) for i, v in I_dict.items()])\n",
    "        self.ordered_I = [pair for pair in itertools.product(tuple(range(problem.n)), problem.alphabet)]\n",
    "        self.I_to_mat = {}\n",
    "        self.counter = 0\n",
    "        self.vect_list = []\n",
    "        self.ticks = []\n",
    "        for pair, v_set in I_dict.items():\n",
    "            self.ticks.append(self.counter)\n",
    "            self.I_to_mat[pair] = list(range(self.counter, self.counter + len(v_set)))\n",
    "            self.counter += len(v_set)\n",
    "            self.vect_list.append(*v_set)\n",
    "            \n",
    "        \n",
    "        self.A = np.block(self.vect_list).T \n",
    "    \n",
    "    def visualize_A(self):\n",
    "        plt.imshow(self.A)\n",
    "        plt.xticks(self.ticks, self.ordered_I)\n",
    "        plt.colorbar()\n",
    "        plt.show()\n",
    "                \n",
    "        "
   ]
  },
  {
   "cell_type": "code",
   "execution_count": 48,
   "id": "a7ded97e-e873-425d-9a01-890edbcabfbe",
   "metadata": {},
   "outputs": [],
   "source": [
    "sp = SpanProgram(exact_k(2,1), \n",
    "            {\n",
    "            (0,0): [[0]],\n",
    "            (0,1): [[1]],\n",
    "            (1,0): [[0]],\n",
    "            (1,1): [[1]]\n",
    "                          })\n",
    "\n"
   ]
  },
  {
   "cell_type": "code",
   "execution_count": 49,
   "id": "49b56730-4f17-47dc-b595-6c551b2bbab7",
   "metadata": {},
   "outputs": [
    {
     "data": {
      "image/png": "[encoded data removed]",
      "text/plain": [
       "<Figure size 432x288 with 2 Axes>"
      ]
     },
     "metadata": {
      "needs_background": "light"
     },
     "output_type": "display_data"
    }
   ],
   "source": [
    "sp.visualize_A()"
   ]
  },
  {
   "cell_type": "code",
   "execution_count": 24,
   "id": "51978a02-d0e2-49c5-b921-c821352fb747",
   "metadata": {},
   "outputs": [
    {
     "data": {
      "text/plain": [
       "<matplotlib.colorbar.Colorbar at 0x275fe0c0d90>"
      ]
     },
     "execution_count": 24,
     "metadata": {},
     "output_type": "execute_result"
    },
    {
     "data": {
      "image/png": "[encoded data removed]",
      "text/plain": [
       "<Figure size 432x288 with 2 Axes>"
      ]
     },
     "metadata": {
      "needs_background": "light"
     },
     "output_type": "display_data"
    }
   ],
   "source": [
    "S."
   ]
  },
  {
   "cell_type": "code",
   "execution_count": null,
   "id": "f318041b-02e5-4733-9f65-dfac72e58b06",
   "metadata": {},
   "outputs": [],
   "source": []
  }
 ],
 "metadata": {
  "kernelspec": {
   "display_name": "Python 3 (ipykernel)",
   "language": "python",
   "name": "python3"
  },
  "language_info": {
   "codemirror_mode": {
    "name": "ipython",
    "version": 3
   },
   "file_extension": ".py",
   "mimetype": "text/x-python",
   "name": "python",
   "nbconvert_exporter": "python",
   "pygments_lexer": "ipython3",
   "version": "3.9.7"
  }
 },
 "nbformat": 4,
 "nbformat_minor": 5
}
