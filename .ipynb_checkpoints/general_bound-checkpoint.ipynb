{
 "cells": [
  {
   "cell_type": "code",
   "execution_count": 3,
   "id": "bbdae0c3-9156-4116-9894-1266dfaaa303",
   "metadata": {
    "tags": []
   },
   "outputs": [],
   "source": [
    "import itertools\n",
    "from copy import deepcopy as copy\n",
    "\n",
    "import cvxpy as cp\n",
    "import matplotlib as mpl\n",
    "import matplotlib.pyplot as plt\n",
    "import numpy as np\n",
    "import scipy\n",
    "from Adversary import Problem, to_str, visualize\n",
    "from ElementDistinctness import ED\n",
    "from Examples import exact_k, threshold_k"
   ]
  },
  {
   "cell_type": "code",
   "execution_count": 7,
   "id": "c39fdee3-b49b-4a86-964f-99a7b05a73a8",
   "metadata": {
    "tags": []
   },
   "outputs": [
    {
     "ename": "SyntaxError",
     "evalue": "invalid syntax (3365419170.py, line 24)",
     "output_type": "error",
     "traceback": [
      "\u001b[1;36m  Cell \u001b[1;32mIn[7], line 24\u001b[1;36m\u001b[0m\n\u001b[1;33m    X =\u001b[0m\n\u001b[1;37m        ^\u001b[0m\n\u001b[1;31mSyntaxError\u001b[0m\u001b[1;31m:\u001b[0m invalid syntax\n"
     ]
    }
   ],
   "source": [
    "def get_phase_oracles(problem):\n",
    "    oracles = {}\n",
    "    n = problem.n\n",
    "    for instance in problem.instances:\n",
    "        oracle = np.zeros((n,n))\n",
    "        for i in range(n):\n",
    "            oracle[i, i] = (-1)**(problem.alphabet.index(instance[i]))\n",
    "        oracles[instance] = oracle\n",
    "    return oracles\n",
    "\n",
    "def get_oracle_diffs(oracles):\n",
    "    oracle_diffs = {} \n",
    "    for v1 in oracles:\n",
    "        for v2 in oracles:\n",
    "            oracle_diffs[(v1, v2)] = oracles[v1] - oracles[v2]\n",
    "            \n",
    "    return oracle_diffs\n",
    "    \n",
    "def get_permutation_oracles(problem):\n",
    "    oracles = {}\n",
    "    n = problem.n\n",
    "    for instance in problem.instances:\n",
    "        oracle = np.zeros(())\n",
    "    \n",
    "    \n",
    "def oracle_min_sdp(problem, oracle, eps=1/3):\n",
    "    oracle_diffs = get_oracle_diffs(oracles)\n",
    "    oracle_size = oracles[problem.instances[0]].shape[0]\n",
    "    num_instances = len(problem.instances)\n",
    "    t = cp.Variable(nonneg=True)\n",
    "    instance_pairs = list(itertools.product(problem.instances, problem.instances))\n",
    "    block_indices = list(itertools.product(problem.instances, (0,1), problem.instances, (0,1)))\n",
    "    X = {(instance1, b1, instance2, b2): cp.Variable((oracle_size, oracle_size)) for instance1, b1, instance2, b2 in block_indices}\n",
    "    Y_no = cp.Variable((num_instances, num_instances), PSD=True)\n",
    "    Y_yes = cp.Variable((num_instances, num_instances), PSD=True) \n",
    "    \n",
    "    constraints = []\n",
    "    for index1 in range(num_instances):\n",
    "        instance1 = problem.instances[index1]\n",
    "        for index2 in range(num_instance):\n",
    "            instance2 = problem.instance[index2]\n",
    "            constraints.append(\n",
    "                1-Y_no[instance1, instance2] - Y_yes[instance1, instance2] \n",
    "                   == cp.trace(X[(instance1, 0, instance2, 1)].T@oracle_diffs[instance1, instance2])\n",
    "            )\n",
    "    \n",
    "    constraints += [\n",
    "        Y_no[problem.instance_to_index[instance]] <= eps for instance in problem.yes_instances\n",
    "    ]\n",
    "    \n",
    "    constraints += [\n",
    "        Y_yes[problem.instance_to_index[instance]] <= eps for instance in problem.no_instances\n",
    "    ]\n",
    "    \n",
    "    constraints += [\n",
    "        cp.trace(X[(instance, b, instance b)]) <= t for instance, b in itertools.product(problem.instances, (0,1))\n",
    "    ]\n",
    "    \n",
    "    cp.\n",
    "    \n",
    "def oracle_max_sdp(problem, oracles, eps=1/3):\n",
    "    oracle_diffs = get_oracle_diffs(oracles)\n",
    "    oracle_size = oracles[problem.instances[0]].shape[0]\n",
    "    \n",
    "prob = threshold_k(3, 1)\n",
    "oracles = get_phase_oracles(prob)\n",
    "for instance in oracles:\n",
    "    print(instance)\n",
    "    print(oracles[instance])\n",
    "    "
   ]
  },
  {
   "cell_type": "code",
   "execution_count": null,
   "id": "e650596b-4d37-4ac8-a879-03fda7bf09bb",
   "metadata": {},
   "outputs": [],
   "source": []
  }
 ],
 "metadata": {
  "kernelspec": {
   "display_name": "Python 3 (ipykernel)",
   "language": "python",
   "name": "python3"
  },
  "language_info": {
   "codemirror_mode": {
    "name": "ipython",
    "version": 3
   },
   "file_extension": ".py",
   "mimetype": "text/x-python",
   "name": "python",
   "nbconvert_exporter": "python",
   "pygments_lexer": "ipython3",
   "version": "3.11.5"
  }
 },
 "nbformat": 4,
 "nbformat_minor": 5
}
