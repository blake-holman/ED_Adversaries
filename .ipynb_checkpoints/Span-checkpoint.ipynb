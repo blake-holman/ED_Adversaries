{
 "cells": [
  {
   "cell_type": "code",
   "execution_count": 1,
   "id": "84c82d4a-b974-4a3b-9f07-d48d00356a77",
   "metadata": {},
   "outputs": [],
   "source": [
    "from Solvers import adv_solver, span_solver, span_solver2\n",
    "from Adversary import Adversary, Problem\n",
    "import numpy as np\n",
    "import matplotlib.pyplot as plt\n",
    "import itertools\n",
    "from Examples import exact_k, threshold_k\n",
    "from ElementDistinctness import ED\n",
    "from copy import deepcopy as copy\n",
    "import scipy"
   ]
  },
  {
   "cell_type": "code",
   "execution_count": 2,
   "id": "b110524d-b8aa-4c9a-ad31-d85fb6a66ad2",
   "metadata": {},
   "outputs": [],
   "source": [
    "class SpanProgram():\n",
    "    def __init__(self, problem, I_dict):\n",
    "        self.target = np.ones(problem.no_len)\n",
    "        self.num_vects = np.sum([len(v) for i, v in I_dict.items()])\n",
    "        self.ordered_I = [pair for pair in itertools.product(tuple(range(problem.n)), problem.alphabet)]\n",
    "        self.I_to_mat = {}\n",
    "        self.counter = 0\n",
    "        self.vect_list = []\n",
    "        self.ticks = []\n",
    "        for pair, v_set in I_dict.items():\n",
    "            self.ticks.append(self.counter)\n",
    "            self.I_to_mat[pair] = list(range(self.counter, self.counter + len(v_set)))\n",
    "            self.counter += len(v_set)\n",
    "            self.vect_list.append(*v_set)\n",
    "        \n",
    "        self.A = np.block(self.vect_list).T \n",
    "    \n",
    "    def get_activated_A(self, x):\n",
    "        activated_A = np.zeros(self.A.shape)\n",
    "        for i in range(len(x)):\n",
    "            interval = self.I_to_mat[(i, x[i])]\n",
    "            activated_A[:, interval] = self.A[:, interval]\n",
    "        return activated_A\n",
    "        \n",
    "        \n",
    "    def apply(x, witness):\n",
    "        return get_activated_A(x) @ witness\n",
    "    \n",
    "    def visualize_A(self):\n",
    "        plt.imshow(self.A)\n",
    "        plt.xticks(self.ticks, self.ordered_I)\n",
    "        plt.colorbar()\n",
    "        plt.show()\n",
    "            \n",
    "        "
   ]
  },
  {
   "cell_type": "code",
   "execution_count": 3,
   "id": "a7ded97e-e873-425d-9a01-890edbcabfbe",
   "metadata": {},
   "outputs": [
    {
     "name": "stdout",
     "output_type": "stream",
     "text": [
      "[(0, 1, 2), (0, 2, 1), (1, 0, 2), (1, 2, 0), (2, 0, 1), (2, 1, 0)]\n",
      "{'verbose': True, 'qcp': True}\n",
      "===============================================================================\n",
      "                                     CVXPY                                     \n",
      "                                     v1.3.1                                    \n",
      "===============================================================================\n",
      "(CVXPY) Jul 07 05:51:50 PM: Your problem has 5185 variables, 109 constraints, and 0 parameters.\n",
      "(CVXPY) Jul 07 05:51:50 PM: It is compliant with the following grammars: DCP, DQCP\n",
      "(CVXPY) Jul 07 05:51:50 PM: (If you need to solve this problem multiple times, but with different data, consider using parameters.)\n",
      "(CVXPY) Jul 07 05:51:50 PM: CVXPY will first compile your problem; then, it will invoke a numerical solver to obtain a solution.\n",
      "-------------------------------------------------------------------------------\n",
      "                                  Compilation                                  \n",
      "-------------------------------------------------------------------------------\n",
      "(CVXPY) Jul 07 05:51:50 PM: Compiling problem (target solver=MOSEK).\n",
      "(CVXPY) Jul 07 05:51:50 PM: Reduction chain: Dcp2Cone -> CvxAttr2Constr -> ConeMatrixStuffing -> MOSEK\n",
      "(CVXPY) Jul 07 05:51:50 PM: Applying reduction Dcp2Cone\n",
      "(CVXPY) Jul 07 05:51:50 PM: Applying reduction CvxAttr2Constr\n",
      "(CVXPY) Jul 07 05:51:50 PM: Applying reduction ConeMatrixStuffing\n",
      "(CVXPY) Jul 07 05:51:50 PM: Applying reduction MOSEK\n",
      "(CVXPY) Jul 07 05:51:51 PM: Finished problem compilation (took 5.910e-01 seconds).\n",
      "-------------------------------------------------------------------------------\n",
      "                                Numerical solver                               \n",
      "-------------------------------------------------------------------------------\n",
      "(CVXPY) Jul 07 05:51:51 PM: Invoking solver MOSEK  to obtain a solution.\n",
      "\n",
      "\n",
      "(CVXPY) Jul 07 05:51:51 PM: Problem\n",
      "(CVXPY) Jul 07 05:51:51 PM:   Name                   :                 \n",
      "(CVXPY) Jul 07 05:51:51 PM:   Objective sense        : maximize        \n",
      "(CVXPY) Jul 07 05:51:51 PM:   Type                   : CONIC (conic optimization problem)\n",
      "(CVXPY) Jul 07 05:51:51 PM:   Constraints            : 2629            \n",
      "(CVXPY) Jul 07 05:51:51 PM:   Affine conic cons.     : 0               \n",
      "(CVXPY) Jul 07 05:51:51 PM:   Disjunctive cons.      : 0               \n",
      "(CVXPY) Jul 07 05:51:51 PM:   Cones                  : 0               \n",
      "(CVXPY) Jul 07 05:51:51 PM:   Scalar variables       : 109             \n",
      "(CVXPY) Jul 07 05:51:51 PM:   Matrix variables       : 1               \n",
      "(CVXPY) Jul 07 05:51:51 PM:   Integer variables      : 0               \n",
      "(CVXPY) Jul 07 05:51:51 PM: \n",
      "(CVXPY) Jul 07 05:51:51 PM: Optimizer started.\n",
      "(CVXPY) Jul 07 05:51:51 PM: Presolve started.\n",
      "(CVXPY) Jul 07 05:51:51 PM: Linear dependency checker started.\n",
      "(CVXPY) Jul 07 05:51:51 PM: Linear dependency checker terminated.\n",
      "(CVXPY) Jul 07 05:51:51 PM: Eliminator started.\n",
      "(CVXPY) Jul 07 05:51:51 PM: Freed constraints in eliminator : 0\n",
      "(CVXPY) Jul 07 05:51:51 PM: Eliminator terminated.\n",
      "(CVXPY) Jul 07 05:51:51 PM: Eliminator - tries                  : 1                 time                   : 0.00            \n",
      "(CVXPY) Jul 07 05:51:51 PM: Lin. dep.  - tries                  : 1                 time                   : 0.00            \n",
      "(CVXPY) Jul 07 05:51:51 PM: Lin. dep.  - number                 : 0               \n",
      "(CVXPY) Jul 07 05:51:51 PM: Presolve terminated. Time: 0.01    \n",
      "(CVXPY) Jul 07 05:51:51 PM: GP based matrix reordering started.\n",
      "(CVXPY) Jul 07 05:51:51 PM: GP based matrix reordering terminated.\n",
      "(CVXPY) Jul 07 05:51:51 PM: Problem\n",
      "(CVXPY) Jul 07 05:51:51 PM:   Name                   :                 \n",
      "(CVXPY) Jul 07 05:51:51 PM:   Objective sense        : maximize        \n",
      "(CVXPY) Jul 07 05:51:51 PM:   Type                   : CONIC (conic optimization problem)\n",
      "(CVXPY) Jul 07 05:51:51 PM:   Constraints            : 2629            \n",
      "(CVXPY) Jul 07 05:51:51 PM:   Affine conic cons.     : 0               \n",
      "(CVXPY) Jul 07 05:51:51 PM:   Disjunctive cons.      : 0               \n",
      "(CVXPY) Jul 07 05:51:51 PM:   Cones                  : 0               \n",
      "(CVXPY) Jul 07 05:51:51 PM:   Scalar variables       : 109             \n",
      "(CVXPY) Jul 07 05:51:51 PM:   Matrix variables       : 1               \n",
      "(CVXPY) Jul 07 05:51:51 PM:   Integer variables      : 0               \n",
      "(CVXPY) Jul 07 05:51:51 PM: \n",
      "(CVXPY) Jul 07 05:51:51 PM: Optimizer  - threads                : 4               \n",
      "(CVXPY) Jul 07 05:51:51 PM: Optimizer  - solved problem         : the primal      \n",
      "(CVXPY) Jul 07 05:51:51 PM: Optimizer  - Constraints            : 2628\n",
      "(CVXPY) Jul 07 05:51:51 PM: Optimizer  - Cones                  : 1\n",
      "(CVXPY) Jul 07 05:51:51 PM: Optimizer  - Scalar variables       : 109               conic                  : 109             \n",
      "(CVXPY) Jul 07 05:51:51 PM: Optimizer  - Semi-definite variables: 1                 scalarized             : 2628            \n",
      "(CVXPY) Jul 07 05:51:51 PM: Factor     - setup time             : 0.36              dense det. time        : 0.19            \n",
      "(CVXPY) Jul 07 05:51:51 PM: Factor     - ML order time          : 0.08              GP order time          : 0.00            \n",
      "(CVXPY) Jul 07 05:51:51 PM: Factor     - nonzeros before factor : 3.45e+06          after factor           : 3.45e+06        \n",
      "(CVXPY) Jul 07 05:51:51 PM: Factor     - dense dim.             : 0                 flops                  : 6.08e+09        \n",
      "(CVXPY) Jul 07 05:51:51 PM: ITE PFEAS    DFEAS    GFEAS    PRSTATUS   POBJ              DOBJ              MU       TIME  \n",
      "(CVXPY) Jul 07 05:51:51 PM: 0   1.0e+00  1.0e+00  1.0e+00  0.00e+00   1.000000000e+00   1.000000000e+00   1.0e+00  0.39  \n",
      "(CVXPY) Jul 07 05:51:51 PM: 1   3.2e-02  3.2e-02  8.8e-02  -9.65e-01  8.121138282e+00   1.000000000e+00   3.2e-02  0.58  \n",
      "(CVXPY) Jul 07 05:51:51 PM: 2   3.3e-05  3.3e-05  3.4e-07  7.92e-01   9.997042174e-01   1.000000000e+00   3.3e-05  0.73  \n",
      "(CVXPY) Jul 07 05:51:52 PM: 3   6.4e-15  4.7e-15  1.2e-22  9.99e-01   1.000000000e+00   1.000000000e+00   2.9e-15  0.88  \n",
      "(CVXPY) Jul 07 05:51:52 PM: Optimizer terminated. Time: 0.89    \n",
      "(CVXPY) Jul 07 05:51:52 PM: \n",
      "(CVXPY) Jul 07 05:51:52 PM: \n",
      "(CVXPY) Jul 07 05:51:52 PM: Interior-point solution summary\n",
      "(CVXPY) Jul 07 05:51:52 PM:   Problem status  : PRIMAL_AND_DUAL_FEASIBLE\n",
      "(CVXPY) Jul 07 05:51:52 PM:   Solution status : OPTIMAL\n",
      "(CVXPY) Jul 07 05:51:52 PM:   Primal.  obj: 1.0000000000e+00    nrm: 1e+00    Viol.  con: 8e-14    var: 0e+00    barvar: 0e+00  \n",
      "(CVXPY) Jul 07 05:51:52 PM:   Dual.    obj: 1.0000000000e+00    nrm: 1e+01    Viol.  con: 0e+00    var: 3e-14    barvar: 6e-14  \n",
      "-------------------------------------------------------------------------------\n",
      "                                    Summary                                    \n",
      "-------------------------------------------------------------------------------\n",
      "(CVXPY) Jul 07 05:51:52 PM: Problem status: optimal\n",
      "(CVXPY) Jul 07 05:51:52 PM: Optimal value: 1.000e+00\n",
      "(CVXPY) Jul 07 05:51:52 PM: Compilation took 5.910e-01 seconds\n",
      "(CVXPY) Jul 07 05:51:52 PM: Solver (including time spent in interface) took 9.460e-01 seconds\n"
     ]
    }
   ],
   "source": [
    "prob = ED(3)\n",
    "v, X = span_solver2(prob, solver_params={'verbose':True, 'qcp': True, 'solver': cp.SCS})\n",
    "X2 = np.round(X, 6)"
   ]
  },
  {
   "cell_type": "code",
   "execution_count": 10,
   "id": "49b56730-4f17-47dc-b595-6c551b2bbab7",
   "metadata": {},
   "outputs": [
    {
     "data": {
      "text/plain": [
       "<matplotlib.colorbar.Colorbar at 0x1f41a8a3730>"
      ]
     },
     "execution_count": 10,
     "metadata": {},
     "output_type": "execute_result"
    },
    {
     "data": {
      "image/png": "[encoded data removed]",
      "text/plain": [
       "<Figure size 432x288 with 2 Axes>"
      ]
     },
     "metadata": {
      "needs_background": "light"
     },
     "output_type": "display_data"
    }
   ],
   "source": [
    "plt.imshow(X)\n",
    "plt.colorbar()"
   ]
  },
  {
   "cell_type": "code",
   "execution_count": 6,
   "id": "f318041b-02e5-4733-9f65-dfac72e58b06",
   "metadata": {},
   "outputs": [
    {
     "name": "stdout",
     "output_type": "stream",
     "text": [
      "1.0 12.547551498480129\n",
      "len 72\n",
      "rank 72\n"
     ]
    }
   ],
   "source": [
    "print(v, np.max([X[i][i] for i in range(X.shape[0])]))\n",
    "print('len', X.shape[0])\n",
    "print('rank', np.linalg.matrix_rank(X2))\n",
    "# print(np.trace(X2))\n",
    "# print(np.real_if_close(np.linalg.eigvals(X),4)[0])"
   ]
  },
  {
   "cell_type": "code",
   "execution_count": 114,
   "id": "9341a436-904b-4a38-b0d8-1dd07f58e038",
   "metadata": {},
   "outputs": [
    {
     "data": {
      "text/plain": [
       "<matplotlib.colorbar.Colorbar at 0x7f1b20bf7580>"
      ]
     },
     "execution_count": 114,
     "metadata": {},
     "output_type": "execute_result"
    },
    {
     "data": {
      "image/png": "[encoded data removed]",
      "text/plain": [
       "<Figure size 640x480 with 2 Axes>"
      ]
     },
     "metadata": {},
     "output_type": "display_data"
    }
   ],
   "source": [
    "plt.imshow(L)\n",
    "plt.colorbar()"
   ]
  },
  {
   "cell_type": "code",
   "execution_count": null,
   "id": "2ee59597-7d67-4e3d-8345-b698bf3135bd",
   "metadata": {},
   "outputs": [],
   "source": []
  }
 ],
 "metadata": {
  "kernelspec": {
   "display_name": "Python 3 (ipykernel)",
   "language": "python",
   "name": "python3"
  },
  "language_info": {
   "codemirror_mode": {
    "name": "ipython",
    "version": 3
   },
   "file_extension": ".py",
   "mimetype": "text/x-python",
   "name": "python",
   "nbconvert_exporter": "python",
   "pygments_lexer": "ipython3",
   "version": "3.9.7"
  }
 },
 "nbformat": 4,
 "nbformat_minor": 5
}
