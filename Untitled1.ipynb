{
 "cells": [
  {
   "cell_type": "markdown",
   "id": "5be6ebc4-b64f-42c8-b36e-852bc202ee7e",
   "metadata": {},
   "source": []
  },
  {
   "cell_type": "code",
   "execution_count": 2,
   "id": "c43ee848-cbd8-43b8-afc6-faaf78ec2f23",
   "metadata": {},
   "outputs": [],
   "source": [
    "import itertools\n",
    "from copy import deepcopy as copy\n",
    "\n",
    "# from netgraph import InteactiveGraph # pip install netgraph\n",
    "from functools import reduce\n",
    "from itertools import chain, permutations, product\n",
    "from operator import itemgetter\n",
    "from time import time\n",
    "\n",
    "import cvxpy as cp\n",
    "import matplotlib as mpl\n",
    "import matplotlib.pyplot as plt\n",
    "import networkx as nx\n",
    "import numpy as np\n",
    "import scipy\n",
    "from numpy.linalg import matrix_rank as rank\n",
    "from scipy.linalg import block_diag, fractional_matrix_power\n",
    "\n",
    "from utils.Adversary import Adversary\n",
    "from utils.Conversions import hamming_dist as dist\n",
    "from utils.Conversions import (\n",
    "    mask_maker,\n",
    "    partial,\n",
    "    to_adversary_mat,\n",
    "    to_str,\n",
    "    to_str_list,\n",
    "    visualize,\n",
    ")\n",
    "from utils.Problems import ED, Problem, exact_k, threshold_k\n",
    "from utils.Solvers import (\n",
    "    adv_solver,\n",
    "    instance_mask,\n",
    "    ket,\n",
    "    relative_hadamard_norm_max,\n",
    "    type_mask,\n",
    ")\n",
    "\n",
    "mpl.rcParams[\"figure.dpi\"] = 120\n",
    "from multiprocessing.pool import ThreadPool as Pool"
   ]
  },
  {
   "cell_type": "code",
   "execution_count": 3,
   "id": "d4446ed2-9ad2-40d2-94c4-819b9c2ba9f3",
   "metadata": {},
   "outputs": [],
   "source": [
    "def get_instance_delta(x, y):\n",
    "    n = len(x)\n",
    "    mat = np.zeros((n, n))\n",
    "    for i, (a, b) in enumerate(zip(x, y)):\n",
    "        if a != b:\n",
    "            mat[i, i] = 1\n",
    "    return mat\n",
    "\n",
    "\n",
    "def get_delta(prob):\n",
    "    no_zero_size = prob.no_len * prob.n\n",
    "    yes_zero_size = prob.yes_len * prob.n\n",
    "    labels = to_str_list(\n",
    "        list(itertools.product((prob.instances), range(n)))\n",
    "    )\n",
    "    instance_mats = []\n",
    "    for no in prob.no_instances:\n",
    "        instance_mats.append([])\n",
    "        no_i = prob.instance_to_index[no]\n",
    "        for yes in prob.yes_instances:\n",
    "            yes_i = prob.instance_to_index[yes]\n",
    "            instance_mats[-1].append(get_instance_delta(no, yes))\n",
    "    instance_mats = np.block(instance_mats)\n",
    "    mat = np.block(\n",
    "        [\n",
    "            [np.zeros((no_zero_size, no_zero_size)), instance_mats],\n",
    "            [instance_mats.T, np.zeros((yes_zero_size, yes_zero_size))],\n",
    "        ]\n",
    "    )\n",
    "    return mat, labels\n",
    "\n",
    "\n",
    "def get_Dz(prob, instance):\n",
    "    instance_mat = np.zeros((prob.len, prob.len))\n",
    "    i = prob.instance_to_index[instance]\n",
    "    instance_mat[i, i] = 1\n",
    "    return np.kron(instance_mat, np.eye(prob.n))\n",
    "\n",
    "def partial_transpose(mat, dim1=None, dim2=None, NP=False):\n",
    "    assert mat.shape[0] == mat.shape[1]\n",
    "    mat_size = mat.shape[0]\n",
    "    if dim1 is None:\n",
    "        size = int(np.sqrt(mat_size))\n",
    "        dim1 = size\n",
    "        dim2 = size\n",
    "    elif dim2 is None:\n",
    "        dim2 = mat_size // dim1\n",
    "    print(\"dima=\", dim1, dim2)\n",
    "\n",
    "    assert dim2 * dim1 == mat_size, (\n",
    "        \"dim1=\" + str(dim1) + \", dim2=\" + str(dim2) + \", mat_size=\" + str(mat_size)\n",
    "    )\n",
    "\n",
    "    pt_mat = cp.bmat(\n",
    "        [\n",
    "            [\n",
    "                mat[i * dim2 : (i + 1) * dim2, j * dim2 : (j + 1) * dim2]\n",
    "                for i in range(dim1)\n",
    "            ]\n",
    "            for j in range(dim1)\n",
    "        ]\n",
    "    )\n",
    "    if NP:\n",
    "        pt_mat = [\n",
    "            [\n",
    "                mat[i * dim2 : (i + 1) * dim2, j * dim2 : (j + 1) * dim2]\n",
    "                for i in range(dim1)\n",
    "            ]\n",
    "            for j in range(dim1)\n",
    "        ]\n",
    "\n",
    "        print(pt_mat)\n",
    "        pt_mat = np.block(pt_mat)\n",
    "    return pt_mat\n",
    "\n",
    "def symmetry_projection(pairs):\n",
    "    proj = np.zeros((len(pairs), len(pairs)))\n",
    "    inv_pairs = inv_map(pairs)\n",
    "    for pair in pairs:\n",
    "        pair_i = inv_pairs[pair]\n",
    "        pair_rev = pair[::-1]\n",
    "        pair_rev_i = inv_pairs[pair_rev]\n",
    "        if not (pair == pair_rev and pair[0] != pair[1]):\n",
    "            proj[pair_i, pair_rev_i] = 1\n",
    "    return np.eye(len(pairs)) / 2 + proj / 2\n",
    "\n",
    "def get_swap_mat(pairs):\n",
    "    if isinstance(pairs, int):\n",
    "        part_size = int(np.sqrt(pairs))\n",
    "        assert part_size**2 == pairs\n",
    "        pairs = list(product(range(part_size), range(part_size)))\n",
    "\n",
    "    return 2 * symmetry_projection(pairs) - np.eye(len(pairs))\n",
    "\n",
    "def inv_map(map):\n",
    "    return {image: preimage for preimage, image in enumerate(map)}\n"
   ]
  },
  {
   "cell_type": "code",
   "execution_count": 4,
   "id": "f44bc84c-23b8-40eb-9f47-830749f0811b",
   "metadata": {},
   "outputs": [
    {
     "name": "stdout",
     "output_type": "stream",
     "text": [
      "['12', '34']\n"
     ]
    }
   ],
   "source": [
    "print(to_str_list([[1,2], [3,4]]))"
   ]
  },
  {
   "cell_type": "code",
   "execution_count": 21,
   "id": "05b17339-8db1-4c65-8d05-357629fa9291",
   "metadata": {},
   "outputs": [],
   "source": [
    "def get_delta_constraint_mats(problem, rank):\n",
    "    num_pairs = problem.no_len*problem.yes_len\n",
    "    deltas = dict()\n",
    "    delta, labels = get_delta(problem)\n",
    "    for no, yes in product(problem.no_instances, problem.yes_instances):\n",
    "        print(\"pairs\", no,  yes) \n",
    "        curr_delta = get_instance_delta(no, yes)\n",
    "        curr_delta = delta / num_pairs - np.kron(\n",
    "            instance_mask(problem, no, yes), curr_delta\n",
    "        )\n",
    "        curr_delta = np.kron(curr_delta, np.eye(rank))\n",
    "        curr_delta = np.kron(curr_delta, curr_delta)\n",
    "        deltas[(no, yes)] = curr_delta\n",
    "    return deltas\n",
    "    \n",
    "def get_D_constraint_mats(problem, rank):\n",
    "    D_mats = dict()\n",
    "    for instance in problem.instances:\n",
    "        curr_D = get_Dz(problem, instance) - np.eye(problem.len * problem.n) / prob.len\n",
    "        curr_D = np.kron(curr_D, np.eye(rank))\n",
    "        curr_D = np.kron(curr_D, curr_D)\n",
    "        D_mats[instance] = curr_D\n",
    "    return D_mats\n",
    "    \n",
    "def space_adv_psd(problem, rank):\n",
    "    num_pairs = problem.no_len*problem.yes_len\n",
    "    instances = problem.instances\n",
    "    delta, labels = get_delta(problem)\n",
    "    deltas = get_delta_constraint_mats(problem, rank)\n",
    "    pairs = list(product(labels, labels))\n",
    "    swap = get_swap_mat(pairs)\n",
    "    print(deltas.keys())\n",
    "    n = problem.n\n",
    "    D_mats = get_D_constraint_mats(problem, rank)\n",
    "    A = cp.Variable((problem.len, problem.len), symmetric=True)\n",
    "    b = cp.Variable(problem.len)\n",
    "    lam = cp.Variable()\n",
    "    delta_to_sum = [\n",
    "        A[problem.instance_to_index[no], problem.instance_to_index[yes]]\n",
    "        * deltas[no, yes]\n",
    "        for no, yes in product(problem.no_instances, problem.yes_instances)\n",
    "    ]\n",
    "\n",
    "    delta_sum = cp.sum(delta_to_sum, axis=0)\n",
    "    delta_sum = delta_sum + delta_sum.T\n",
    "    D_mats = get_D_constraint_mats(problem, rank)\n",
    "    D_to_sum = [\n",
    "        b[problem.instance_to_index[instance]] * D_mats[instance]\n",
    "        for instance in problem.instances\n",
    "    ]\n",
    "    D_sum = cp.sum(D_to_sum, axis=0)\n",
    "    M = D_sum + delta_sum -  np.kron(delta, np.eye(rank*prob.len*n*rank) * prob.len/num_pairs)\n",
    "    M = lam * np.eye(delta_sum.shape[0]) - M\n",
    "    Wsym = cp.Variable(M.shape, symmetric=True)\n",
    "    Wpt = cp.Variable(M.shape, symmetric=True)\n",
    "    constraints = [\n",
    "        cp.multiply(A, type_mask(problem)) == A,\n",
    "        M == -Wsym - Wpt,\n",
    "        Wsym + Wsym @ swap >> 0,\n",
    "        Wpt + partial_transpose(Wpt) >> 0\n",
    "    ]\n",
    "\n",
    "    opt_prob = cp.Problem(cp.Minimize(lam), constraints)\n",
    "    opt_prob.solve(solver=\"MOSEK\", verbose=True, mosek_params = {'MSK_DPAR_INTPNT_CO_TOL_REL_GAP': 1e-5})\n",
    "    print('obj', opt_prob.value)\n",
    "    return A.value, b.value, M.value"
   ]
  },
  {
   "cell_type": "code",
   "execution_count": 22,
   "id": "5f7363ef-1e22-4ddc-b051-7d601081b291",
   "metadata": {},
   "outputs": [
    {
     "name": "stdout",
     "output_type": "stream",
     "text": [
      "No:[(0, 0)]\n",
      "Yes:[(0, 1), (1, 0)]\n",
      "['(0, 0)0', '(0, 0)1', '(0, 1)0', '(0, 1)1', '(1, 0)0', '(1, 0)1']\n"
     ]
    }
   ],
   "source": [
    "n = 2\n",
    "prob = threshold_k(n, 1)\n",
    "print(prob)\n",
    "delt, labels = get_delta(prob)\n",
    "print(labels)\n",
    "# visualize(delt, (labels, labels))\n"
   ]
  },
  {
   "cell_type": "code",
   "execution_count": 24,
   "id": "a11e2636-5821-47cb-8234-e840b15df79b",
   "metadata": {},
   "outputs": [
    {
     "name": "stdout",
     "output_type": "stream",
     "text": [
      "pairs (0, 0) (0, 1)\n",
      "pairs (0, 0) (1, 0)\n",
      "dict_keys([((0, 0), (0, 1)), ((0, 0), (1, 0))])\n"
     ]
    },
    {
     "ename": "ValueError",
     "evalue": "Incompatible dimensions (324, 324) (36, 36)",
     "output_type": "error",
     "traceback": [
      "\u001b[1;31m---------------------------------------------------------------------------\u001b[0m",
      "\u001b[1;31mValueError\u001b[0m                                Traceback (most recent call last)",
      "Cell \u001b[1;32mIn[24], line 2\u001b[0m\n\u001b[0;32m      1\u001b[0m rank \u001b[38;5;241m=\u001b[39m \u001b[38;5;241m3\u001b[39m\n\u001b[1;32m----> 2\u001b[0m A, b, M \u001b[38;5;241m=\u001b[39m space_adv_psd(prob, rank)\n",
      "Cell \u001b[1;32mIn[21], line 59\u001b[0m, in \u001b[0;36mspace_adv_psd\u001b[1;34m(problem, rank)\u001b[0m\n\u001b[0;32m     54\u001b[0m Wsym \u001b[38;5;241m=\u001b[39m cp\u001b[38;5;241m.\u001b[39mVariable(M\u001b[38;5;241m.\u001b[39mshape, symmetric\u001b[38;5;241m=\u001b[39m\u001b[38;5;28;01mTrue\u001b[39;00m)\n\u001b[0;32m     55\u001b[0m Wpt \u001b[38;5;241m=\u001b[39m cp\u001b[38;5;241m.\u001b[39mVariable(M\u001b[38;5;241m.\u001b[39mshape, symmetric\u001b[38;5;241m=\u001b[39m\u001b[38;5;28;01mTrue\u001b[39;00m)\n\u001b[0;32m     56\u001b[0m constraints \u001b[38;5;241m=\u001b[39m [\n\u001b[0;32m     57\u001b[0m     cp\u001b[38;5;241m.\u001b[39mmultiply(A, type_mask(problem)) \u001b[38;5;241m==\u001b[39m A,\n\u001b[0;32m     58\u001b[0m     M \u001b[38;5;241m==\u001b[39m \u001b[38;5;241m-\u001b[39mWsym \u001b[38;5;241m-\u001b[39m Wpt,\n\u001b[1;32m---> 59\u001b[0m     Wsym \u001b[38;5;241m+\u001b[39m Wsym \u001b[38;5;241m@\u001b[39m swap \u001b[38;5;241m>>\u001b[39m \u001b[38;5;241m0\u001b[39m,\n\u001b[0;32m     60\u001b[0m     Wpt \u001b[38;5;241m+\u001b[39m partial_transpose(Wpt) \u001b[38;5;241m>>\u001b[39m \u001b[38;5;241m0\u001b[39m\n\u001b[0;32m     61\u001b[0m ]\n\u001b[0;32m     63\u001b[0m opt_prob \u001b[38;5;241m=\u001b[39m cp\u001b[38;5;241m.\u001b[39mProblem(cp\u001b[38;5;241m.\u001b[39mMinimize(lam), constraints)\n\u001b[0;32m     64\u001b[0m opt_prob\u001b[38;5;241m.\u001b[39msolve(solver\u001b[38;5;241m=\u001b[39m\u001b[38;5;124m\"\u001b[39m\u001b[38;5;124mMOSEK\u001b[39m\u001b[38;5;124m\"\u001b[39m, verbose\u001b[38;5;241m=\u001b[39m\u001b[38;5;28;01mTrue\u001b[39;00m, mosek_params \u001b[38;5;241m=\u001b[39m {\u001b[38;5;124m'\u001b[39m\u001b[38;5;124mMSK_DPAR_INTPNT_CO_TOL_REL_GAP\u001b[39m\u001b[38;5;124m'\u001b[39m: \u001b[38;5;241m1e-5\u001b[39m})\n",
      "File \u001b[1;32m~\\anaconda3\\envs\\convex\\Lib\\site-packages\\cvxpy\\expressions\\expression.py:50\u001b[0m, in \u001b[0;36m_cast_other.<locals>.cast_op\u001b[1;34m(self, other)\u001b[0m\n\u001b[0;32m     47\u001b[0m \u001b[38;5;250m\u001b[39m\u001b[38;5;124;03m\"\"\"A wrapped binary operator that can handle non-Expression arguments.\u001b[39;00m\n\u001b[0;32m     48\u001b[0m \u001b[38;5;124;03m\"\"\"\u001b[39;00m\n\u001b[0;32m     49\u001b[0m other \u001b[38;5;241m=\u001b[39m \u001b[38;5;28mself\u001b[39m\u001b[38;5;241m.\u001b[39mcast_to_const(other)\n\u001b[1;32m---> 50\u001b[0m \u001b[38;5;28;01mreturn\u001b[39;00m binary_op(\u001b[38;5;28mself\u001b[39m, other)\n",
      "File \u001b[1;32m~\\anaconda3\\envs\\convex\\Lib\\site-packages\\cvxpy\\expressions\\expression.py:670\u001b[0m, in \u001b[0;36mExpression.__matmul__\u001b[1;34m(self, other)\u001b[0m\n\u001b[0;32m    667\u001b[0m         \u001b[38;5;28;01mfrom\u001b[39;00m \u001b[38;5;21;01mcvxpy\u001b[39;00m\u001b[38;5;21;01m.\u001b[39;00m\u001b[38;5;21;01mexpressions\u001b[39;00m\u001b[38;5;21;01m.\u001b[39;00m\u001b[38;5;21;01mcvxtypes\u001b[39;00m \u001b[38;5;28;01mimport\u001b[39;00m quad_form\n\u001b[0;32m    668\u001b[0m         \u001b[38;5;28;01mreturn\u001b[39;00m quad_form()(other, \u001b[38;5;28mself\u001b[39m\u001b[38;5;241m.\u001b[39margs[\u001b[38;5;241m1\u001b[39m])\n\u001b[1;32m--> 670\u001b[0m \u001b[38;5;28;01mreturn\u001b[39;00m cvxtypes\u001b[38;5;241m.\u001b[39mmatmul_expr()(\u001b[38;5;28mself\u001b[39m, other)\n",
      "File \u001b[1;32m~\\anaconda3\\envs\\convex\\Lib\\site-packages\\cvxpy\\atoms\\affine\\binary_operators.py:53\u001b[0m, in \u001b[0;36mBinaryOperator.__init__\u001b[1;34m(self, lh_exp, rh_exp)\u001b[0m\n\u001b[0;32m     52\u001b[0m \u001b[38;5;28;01mdef\u001b[39;00m \u001b[38;5;21m__init__\u001b[39m(\u001b[38;5;28mself\u001b[39m, lh_exp, rh_exp) \u001b[38;5;241m-\u001b[39m\u001b[38;5;241m>\u001b[39m \u001b[38;5;28;01mNone\u001b[39;00m:\n\u001b[1;32m---> 53\u001b[0m     \u001b[38;5;28msuper\u001b[39m(BinaryOperator, \u001b[38;5;28mself\u001b[39m)\u001b[38;5;241m.\u001b[39m\u001b[38;5;21m__init__\u001b[39m(lh_exp, rh_exp)\n",
      "File \u001b[1;32m~\\anaconda3\\envs\\convex\\Lib\\site-packages\\cvxpy\\atoms\\atom.py:51\u001b[0m, in \u001b[0;36mAtom.__init__\u001b[1;34m(self, *args)\u001b[0m\n\u001b[0;32m     49\u001b[0m \u001b[38;5;28mself\u001b[39m\u001b[38;5;241m.\u001b[39margs \u001b[38;5;241m=\u001b[39m [Atom\u001b[38;5;241m.\u001b[39mcast_to_const(arg) \u001b[38;5;28;01mfor\u001b[39;00m arg \u001b[38;5;129;01min\u001b[39;00m args]\n\u001b[0;32m     50\u001b[0m \u001b[38;5;28mself\u001b[39m\u001b[38;5;241m.\u001b[39mvalidate_arguments()\n\u001b[1;32m---> 51\u001b[0m \u001b[38;5;28mself\u001b[39m\u001b[38;5;241m.\u001b[39m_shape \u001b[38;5;241m=\u001b[39m \u001b[38;5;28mself\u001b[39m\u001b[38;5;241m.\u001b[39mshape_from_args()\n\u001b[0;32m     52\u001b[0m \u001b[38;5;28;01mif\u001b[39;00m \u001b[38;5;28mlen\u001b[39m(\u001b[38;5;28mself\u001b[39m\u001b[38;5;241m.\u001b[39m_shape) \u001b[38;5;241m>\u001b[39m \u001b[38;5;241m2\u001b[39m:\n\u001b[0;32m     53\u001b[0m     \u001b[38;5;28;01mraise\u001b[39;00m \u001b[38;5;167;01mValueError\u001b[39;00m(\u001b[38;5;124m\"\u001b[39m\u001b[38;5;124mAtoms must be at most 2D.\u001b[39m\u001b[38;5;124m\"\u001b[39m)\n",
      "File \u001b[1;32m~\\anaconda3\\envs\\convex\\Lib\\site-packages\\cvxpy\\atoms\\affine\\binary_operators.py:123\u001b[0m, in \u001b[0;36mMulExpression.shape_from_args\u001b[1;34m(self)\u001b[0m\n\u001b[0;32m    120\u001b[0m \u001b[38;5;28;01mdef\u001b[39;00m \u001b[38;5;21mshape_from_args\u001b[39m(\u001b[38;5;28mself\u001b[39m) \u001b[38;5;241m-\u001b[39m\u001b[38;5;241m>\u001b[39m Tuple[\u001b[38;5;28mint\u001b[39m, \u001b[38;5;241m.\u001b[39m\u001b[38;5;241m.\u001b[39m\u001b[38;5;241m.\u001b[39m]:\n\u001b[0;32m    121\u001b[0m \u001b[38;5;250m    \u001b[39m\u001b[38;5;124;03m\"\"\"Returns the (row, col) shape of the expression.\u001b[39;00m\n\u001b[0;32m    122\u001b[0m \u001b[38;5;124;03m    \"\"\"\u001b[39;00m\n\u001b[1;32m--> 123\u001b[0m     \u001b[38;5;28;01mreturn\u001b[39;00m u\u001b[38;5;241m.\u001b[39mshape\u001b[38;5;241m.\u001b[39mmul_shapes(\u001b[38;5;28mself\u001b[39m\u001b[38;5;241m.\u001b[39margs[\u001b[38;5;241m0\u001b[39m]\u001b[38;5;241m.\u001b[39mshape, \u001b[38;5;28mself\u001b[39m\u001b[38;5;241m.\u001b[39margs[\u001b[38;5;241m1\u001b[39m]\u001b[38;5;241m.\u001b[39mshape)\n",
      "File \u001b[1;32m~\\anaconda3\\envs\\convex\\Lib\\site-packages\\cvxpy\\utilities\\shape.py:144\u001b[0m, in \u001b[0;36mmul_shapes\u001b[1;34m(lh_shape, rh_shape)\u001b[0m\n\u001b[0;32m    142\u001b[0m lh_old \u001b[38;5;241m=\u001b[39m lh_shape\n\u001b[0;32m    143\u001b[0m rh_old \u001b[38;5;241m=\u001b[39m rh_shape\n\u001b[1;32m--> 144\u001b[0m lh_shape, rh_shape, shape \u001b[38;5;241m=\u001b[39m mul_shapes_promote(lh_shape, rh_shape)\n\u001b[0;32m    145\u001b[0m \u001b[38;5;28;01mif\u001b[39;00m lh_shape \u001b[38;5;241m!=\u001b[39m lh_old:\n\u001b[0;32m    146\u001b[0m     shape \u001b[38;5;241m=\u001b[39m shape[\u001b[38;5;241m1\u001b[39m:]\n",
      "File \u001b[1;32m~\\anaconda3\\envs\\convex\\Lib\\site-packages\\cvxpy\\utilities\\shape.py:110\u001b[0m, in \u001b[0;36mmul_shapes_promote\u001b[1;34m(lh_shape, rh_shape)\u001b[0m\n\u001b[0;32m    108\u001b[0m rh_mat_shape \u001b[38;5;241m=\u001b[39m rh_shape[\u001b[38;5;241m-\u001b[39m\u001b[38;5;241m2\u001b[39m:]\n\u001b[0;32m    109\u001b[0m \u001b[38;5;28;01mif\u001b[39;00m lh_mat_shape[\u001b[38;5;241m1\u001b[39m] \u001b[38;5;241m!=\u001b[39m rh_mat_shape[\u001b[38;5;241m0\u001b[39m]:\n\u001b[1;32m--> 110\u001b[0m     \u001b[38;5;28;01mraise\u001b[39;00m \u001b[38;5;167;01mValueError\u001b[39;00m(\u001b[38;5;124m\"\u001b[39m\u001b[38;5;124mIncompatible dimensions \u001b[39m\u001b[38;5;132;01m%s\u001b[39;00m\u001b[38;5;124m \u001b[39m\u001b[38;5;132;01m%s\u001b[39;00m\u001b[38;5;124m\"\u001b[39m \u001b[38;5;241m%\u001b[39m (\n\u001b[0;32m    111\u001b[0m         lh_shape, rh_shape))\n\u001b[0;32m    112\u001b[0m \u001b[38;5;28;01mif\u001b[39;00m lh_shape[:\u001b[38;5;241m-\u001b[39m\u001b[38;5;241m2\u001b[39m] \u001b[38;5;241m!=\u001b[39m rh_shape[:\u001b[38;5;241m-\u001b[39m\u001b[38;5;241m2\u001b[39m]:\n\u001b[0;32m    113\u001b[0m     \u001b[38;5;28;01mraise\u001b[39;00m \u001b[38;5;167;01mValueError\u001b[39;00m(\u001b[38;5;124m\"\u001b[39m\u001b[38;5;124mIncompatible dimensions \u001b[39m\u001b[38;5;132;01m%s\u001b[39;00m\u001b[38;5;124m \u001b[39m\u001b[38;5;132;01m%s\u001b[39;00m\u001b[38;5;124m\"\u001b[39m \u001b[38;5;241m%\u001b[39m (\n\u001b[0;32m    114\u001b[0m         lh_shape, rh_shape))\n",
      "\u001b[1;31mValueError\u001b[0m: Incompatible dimensions (324, 324) (36, 36)"
     ]
    }
   ],
   "source": [
    "rank = 3\n",
    "A, b, M = space_adv_psd(prob, rank)\n"
   ]
  },
  {
   "cell_type": "code",
   "execution_count": 17,
   "id": "816d1951-11a2-4783-90b8-73736954fd50",
   "metadata": {},
   "outputs": [
    {
     "name": "stdout",
     "output_type": "stream",
     "text": [
      "[[   0.         -101.54651187    0.        ]\n",
      " [-101.54651187    0.            0.        ]\n",
      " [   0.            0.            0.        ]]\n",
      "[-1672.69256894   -63.64494406    -8.18850255]\n"
     ]
    }
   ],
   "source": [
    "print(A)\n",
    "print(b)"
   ]
  },
  {
   "cell_type": "code",
   "execution_count": 25,
   "id": "0f20e1b4-144e-448e-b775-6035cc039d12",
   "metadata": {},
   "outputs": [],
   "source": [
    "def span_program_sep_psd(problem, rank):\n",
    "    num_pairs = problem.no_len*problem.yes_len\n",
    "    delta, labels = get_delta(problem)\n",
    "    deltas = get_delta_constraint_mats(problem, rank)\n",
    "    n = problem.n\n",
    "    D_mats = get_D_constraint_mats(problem, rank)\n",
    "    X_len = problem.len * n * rank\n",
    "    X_len = X_len**2\n",
    "    X = cp.Variable((X_len, X_len), PSD=True)\n",
    "    pairs = list(product(labels, labels))\n",
    "    swap = get_swap_mat(pairs)\n",
    "    constraints = [\n",
    "        cp.trace(X) == 1,\n",
    "        partial_transpose(X) == X,\n",
    "        swap @ X == X\n",
    "    ]\n",
    "\n",
    "    constraints += [\n",
    "        cp.trace(M@X) == 0 for M in list(deltas.values()) + list(D_mats.values())\n",
    "    ]\n",
    "    obj = problem.len * cp.trace(np.kron(delta, np.eye(X.shape[0]//delta.shape[0])) @ X) / num_pairs\n",
    "    opt_prob = cp.Problem(cp.Maximize(obj), constraints)\n",
    "    opt_prob.solve(solver=\"MOSEK\", verbose=True)\n",
    "    print(\"obj\", opt_prob.value)\n",
    "    return X.value"
   ]
  },
  {
   "cell_type": "code",
   "execution_count": 26,
   "id": "53165b20-9a7d-49af-b746-4c2f7dd5865d",
   "metadata": {},
   "outputs": [
    {
     "name": "stdout",
     "output_type": "stream",
     "text": [
      "pairs (0, 0) (0, 1)\n",
      "pairs (0, 0) (1, 0)\n",
      "dima= 18 18\n"
     ]
    },
    {
     "ename": "ValueError",
     "evalue": "Incompatible dimensions (36, 36) (324, 324)",
     "output_type": "error",
     "traceback": [
      "\u001b[1;31m---------------------------------------------------------------------------\u001b[0m",
      "\u001b[1;31mValueError\u001b[0m                                Traceback (most recent call last)",
      "Cell \u001b[1;32mIn[26], line 1\u001b[0m\n\u001b[1;32m----> 1\u001b[0m X \u001b[38;5;241m=\u001b[39m span_program_sep_psd(prob, rank)\n",
      "Cell \u001b[1;32mIn[25], line 15\u001b[0m, in \u001b[0;36mspan_program_sep_psd\u001b[1;34m(problem, rank)\u001b[0m\n\u001b[0;32m     10\u001b[0m pairs \u001b[38;5;241m=\u001b[39m \u001b[38;5;28mlist\u001b[39m(product(labels, labels))\n\u001b[0;32m     11\u001b[0m swap \u001b[38;5;241m=\u001b[39m get_swap_mat(pairs)\n\u001b[0;32m     12\u001b[0m constraints \u001b[38;5;241m=\u001b[39m [\n\u001b[0;32m     13\u001b[0m     cp\u001b[38;5;241m.\u001b[39mtrace(X) \u001b[38;5;241m==\u001b[39m \u001b[38;5;241m1\u001b[39m,\n\u001b[0;32m     14\u001b[0m     partial_transpose(X) \u001b[38;5;241m==\u001b[39m X,\n\u001b[1;32m---> 15\u001b[0m     swap \u001b[38;5;241m@\u001b[39m X \u001b[38;5;241m==\u001b[39m X\n\u001b[0;32m     16\u001b[0m ]\n\u001b[0;32m     18\u001b[0m constraints \u001b[38;5;241m+\u001b[39m\u001b[38;5;241m=\u001b[39m [\n\u001b[0;32m     19\u001b[0m     cp\u001b[38;5;241m.\u001b[39mtrace(M\u001b[38;5;129m@X\u001b[39m) \u001b[38;5;241m==\u001b[39m \u001b[38;5;241m0\u001b[39m \u001b[38;5;28;01mfor\u001b[39;00m M \u001b[38;5;129;01min\u001b[39;00m \u001b[38;5;28mlist\u001b[39m(deltas\u001b[38;5;241m.\u001b[39mvalues()) \u001b[38;5;241m+\u001b[39m \u001b[38;5;28mlist\u001b[39m(D_mats\u001b[38;5;241m.\u001b[39mvalues())\n\u001b[0;32m     20\u001b[0m ]\n\u001b[0;32m     21\u001b[0m obj \u001b[38;5;241m=\u001b[39m problem\u001b[38;5;241m.\u001b[39mlen \u001b[38;5;241m*\u001b[39m cp\u001b[38;5;241m.\u001b[39mtrace(np\u001b[38;5;241m.\u001b[39mkron(delta, np\u001b[38;5;241m.\u001b[39meye(X\u001b[38;5;241m.\u001b[39mshape[\u001b[38;5;241m0\u001b[39m]\u001b[38;5;241m/\u001b[39m\u001b[38;5;241m/\u001b[39mdelta\u001b[38;5;241m.\u001b[39mshape[\u001b[38;5;241m0\u001b[39m])) \u001b[38;5;241m@\u001b[39m X) \u001b[38;5;241m/\u001b[39m num_pairs\n",
      "File \u001b[1;32m~\\anaconda3\\envs\\convex\\Lib\\site-packages\\cvxpy\\expressions\\expression.py:777\u001b[0m, in \u001b[0;36mExpression.__array_ufunc__\u001b[1;34m(self, ufunc, method, *args, **kwargs)\u001b[0m\n\u001b[0;32m    773\u001b[0m ufunc_handler \u001b[38;5;241m=\u001b[39m __BINARY_EXPRESSION_UFUNCS__[ufunc]\n\u001b[0;32m    774\u001b[0m \u001b[38;5;28;01mif\u001b[39;00m kwargs \u001b[38;5;241m==\u001b[39m {} \u001b[38;5;129;01mand\u001b[39;00m \\\n\u001b[0;32m    775\u001b[0m         \u001b[38;5;28mlen\u001b[39m(args) \u001b[38;5;241m==\u001b[39m \u001b[38;5;241m2\u001b[39m \u001b[38;5;129;01mand\u001b[39;00m \\\n\u001b[0;32m    776\u001b[0m         args[\u001b[38;5;241m1\u001b[39m] \u001b[38;5;129;01mis\u001b[39;00m \u001b[38;5;28mself\u001b[39m:\n\u001b[1;32m--> 777\u001b[0m     \u001b[38;5;28;01mreturn\u001b[39;00m ufunc_handler(\u001b[38;5;28mself\u001b[39m, args[\u001b[38;5;241m0\u001b[39m])\n\u001b[0;32m    778\u001b[0m \u001b[38;5;28;01melif\u001b[39;00m kwargs\u001b[38;5;241m.\u001b[39mkeys() \u001b[38;5;241m==\u001b[39m {\u001b[38;5;124m'\u001b[39m\u001b[38;5;124mout\u001b[39m\u001b[38;5;124m'\u001b[39m} \u001b[38;5;129;01mand\u001b[39;00m \\\n\u001b[0;32m    779\u001b[0m         \u001b[38;5;28mlen\u001b[39m(args) \u001b[38;5;241m==\u001b[39m \u001b[38;5;241m2\u001b[39m \u001b[38;5;129;01mand\u001b[39;00m \\\n\u001b[0;32m    780\u001b[0m         args[\u001b[38;5;241m1\u001b[39m] \u001b[38;5;129;01mis\u001b[39;00m \u001b[38;5;28mself\u001b[39m \u001b[38;5;129;01mand\u001b[39;00m \\\n\u001b[0;32m    781\u001b[0m         \u001b[38;5;28misinstance\u001b[39m(kwargs[\u001b[38;5;124m'\u001b[39m\u001b[38;5;124mout\u001b[39m\u001b[38;5;124m'\u001b[39m], \u001b[38;5;28mtuple\u001b[39m) \u001b[38;5;129;01mand\u001b[39;00m \\\n\u001b[0;32m    782\u001b[0m         \u001b[38;5;28mlen\u001b[39m(kwargs[\u001b[38;5;124m'\u001b[39m\u001b[38;5;124mout\u001b[39m\u001b[38;5;124m'\u001b[39m]) \u001b[38;5;241m==\u001b[39m \u001b[38;5;241m1\u001b[39m \u001b[38;5;129;01mand\u001b[39;00m \\\n\u001b[0;32m    783\u001b[0m         args[\u001b[38;5;241m0\u001b[39m] \u001b[38;5;129;01mis\u001b[39;00m kwargs[\u001b[38;5;124m'\u001b[39m\u001b[38;5;124mout\u001b[39m\u001b[38;5;124m'\u001b[39m][\u001b[38;5;241m0\u001b[39m]:\n\u001b[0;32m    784\u001b[0m     \u001b[38;5;28;01mraise\u001b[39;00m \u001b[38;5;167;01mRuntimeError\u001b[39;00m(__INPLACE_MUTATION_ERROR__)\n",
      "File \u001b[1;32m~\\anaconda3\\envs\\convex\\Lib\\site-packages\\cvxpy\\expressions\\expression.py:89\u001b[0m, in \u001b[0;36m<lambda>\u001b[1;34m(self, a)\u001b[0m\n\u001b[0;32m     71\u001b[0m __INPLACE_MUTATION_ERROR__ \u001b[38;5;241m=\u001b[39m \u001b[38;5;124m\"\"\"\u001b[39m\n\u001b[0;32m     72\u001b[0m \u001b[38;5;124mYou\u001b[39m\u001b[38;5;124m'\u001b[39m\u001b[38;5;124mre trying to mutate a CVXPY expression inplace. This is prone to errors or\u001b[39m\n\u001b[0;32m     73\u001b[0m \u001b[38;5;124mcode that doesn\u001b[39m\u001b[38;5;124m'\u001b[39m\u001b[38;5;124mt behave as expected. Consider alternatives. For example, replace\u001b[39m\n\u001b[1;32m   (...)\u001b[0m\n\u001b[0;32m     76\u001b[0m \u001b[38;5;124m    x = x + 1\u001b[39m\n\u001b[0;32m     77\u001b[0m \u001b[38;5;124m\"\"\"\u001b[39m\n\u001b[0;32m     79\u001b[0m __ABS_ERROR__ \u001b[38;5;241m=\u001b[39m \u001b[38;5;124m\"\"\"\u001b[39m\n\u001b[0;32m     80\u001b[0m \u001b[38;5;124mYou\u001b[39m\u001b[38;5;124m'\u001b[39m\u001b[38;5;124mre calling the built-in abs function on a CVXPY expression. This is not\u001b[39m\n\u001b[0;32m     81\u001b[0m \u001b[38;5;124msupported. Consider using the abs function provided by CVXPY.\u001b[39m\n\u001b[0;32m     82\u001b[0m \u001b[38;5;124m\"\"\"\u001b[39m\n\u001b[0;32m     84\u001b[0m __BINARY_EXPRESSION_UFUNCS__ \u001b[38;5;241m=\u001b[39m {\n\u001b[0;32m     85\u001b[0m         np\u001b[38;5;241m.\u001b[39madd: \u001b[38;5;28;01mlambda\u001b[39;00m \u001b[38;5;28mself\u001b[39m, a: \u001b[38;5;28mself\u001b[39m\u001b[38;5;241m.\u001b[39m\u001b[38;5;21m__radd__\u001b[39m(a),\n\u001b[0;32m     86\u001b[0m         np\u001b[38;5;241m.\u001b[39msubtract: \u001b[38;5;28;01mlambda\u001b[39;00m \u001b[38;5;28mself\u001b[39m, a: \u001b[38;5;28mself\u001b[39m\u001b[38;5;241m.\u001b[39m\u001b[38;5;21m__rsub__\u001b[39m(a),\n\u001b[0;32m     87\u001b[0m         np\u001b[38;5;241m.\u001b[39mmultiply: \u001b[38;5;28;01mlambda\u001b[39;00m \u001b[38;5;28mself\u001b[39m, a: \u001b[38;5;28mself\u001b[39m\u001b[38;5;241m.\u001b[39m\u001b[38;5;21m__rmul__\u001b[39m(a),\n\u001b[0;32m     88\u001b[0m         np\u001b[38;5;241m.\u001b[39mdivide: \u001b[38;5;28;01mlambda\u001b[39;00m \u001b[38;5;28mself\u001b[39m, a: \u001b[38;5;28mself\u001b[39m\u001b[38;5;241m.\u001b[39m__rdiv__(a),\n\u001b[1;32m---> 89\u001b[0m         np\u001b[38;5;241m.\u001b[39mmatmul: \u001b[38;5;28;01mlambda\u001b[39;00m \u001b[38;5;28mself\u001b[39m, a: \u001b[38;5;28mself\u001b[39m\u001b[38;5;241m.\u001b[39m\u001b[38;5;21m__rmatmul__\u001b[39m(a),\n\u001b[0;32m     90\u001b[0m         np\u001b[38;5;241m.\u001b[39mpower: \u001b[38;5;28;01mlambda\u001b[39;00m \u001b[38;5;28mself\u001b[39m, a: \u001b[38;5;28mself\u001b[39m\u001b[38;5;241m.\u001b[39m\u001b[38;5;21m__rpow__\u001b[39m(a),\n\u001b[0;32m     91\u001b[0m         np\u001b[38;5;241m.\u001b[39mleft_shift: \u001b[38;5;28;01mlambda\u001b[39;00m \u001b[38;5;28mself\u001b[39m, a: \u001b[38;5;28mself\u001b[39m\u001b[38;5;241m.\u001b[39m\u001b[38;5;21m__rlshift__\u001b[39m(a),\n\u001b[0;32m     92\u001b[0m         np\u001b[38;5;241m.\u001b[39mright_shift: \u001b[38;5;28;01mlambda\u001b[39;00m \u001b[38;5;28mself\u001b[39m, a: \u001b[38;5;28mself\u001b[39m\u001b[38;5;241m.\u001b[39m\u001b[38;5;21m__rrshift__\u001b[39m(a),\n\u001b[0;32m     93\u001b[0m         np\u001b[38;5;241m.\u001b[39mequal: \u001b[38;5;28;01mlambda\u001b[39;00m \u001b[38;5;28mself\u001b[39m, a: \u001b[38;5;28mself\u001b[39m\u001b[38;5;241m.\u001b[39m\u001b[38;5;21m__eq__\u001b[39m(a),\n\u001b[0;32m     94\u001b[0m         \u001b[38;5;66;03m# <= and >= are backwards because this is only called for code of the\u001b[39;00m\n\u001b[0;32m     95\u001b[0m         \u001b[38;5;66;03m# form ndarray <= Expression\u001b[39;00m\n\u001b[0;32m     96\u001b[0m         np\u001b[38;5;241m.\u001b[39mless_equal: \u001b[38;5;28;01mlambda\u001b[39;00m \u001b[38;5;28mself\u001b[39m, a: \u001b[38;5;28mself\u001b[39m\u001b[38;5;241m.\u001b[39m\u001b[38;5;21m__ge__\u001b[39m(a),\n\u001b[0;32m     97\u001b[0m         np\u001b[38;5;241m.\u001b[39mgreater_equal: \u001b[38;5;28;01mlambda\u001b[39;00m \u001b[38;5;28mself\u001b[39m, a: \u001b[38;5;28mself\u001b[39m\u001b[38;5;241m.\u001b[39m\u001b[38;5;21m__le__\u001b[39m(a),\n\u001b[0;32m     98\u001b[0m         np\u001b[38;5;241m.\u001b[39mless: \u001b[38;5;28;01mlambda\u001b[39;00m \u001b[38;5;28mself\u001b[39m, a: \u001b[38;5;28mself\u001b[39m\u001b[38;5;241m.\u001b[39m\u001b[38;5;21m__gt__\u001b[39m(a),\n\u001b[0;32m     99\u001b[0m         np\u001b[38;5;241m.\u001b[39mgreater: \u001b[38;5;28;01mlambda\u001b[39;00m \u001b[38;5;28mself\u001b[39m, a: \u001b[38;5;28mself\u001b[39m\u001b[38;5;241m.\u001b[39m\u001b[38;5;21m__lt__\u001b[39m(a),\n\u001b[0;32m    100\u001b[0m }\n\u001b[0;32m    103\u001b[0m ExpressionLike \u001b[38;5;241m=\u001b[39m \u001b[38;5;124m\"\u001b[39m\u001b[38;5;124mExpression | np.typing.ArrayLike\u001b[39m\u001b[38;5;124m\"\u001b[39m\n\u001b[0;32m    106\u001b[0m \u001b[38;5;28;01mclass\u001b[39;00m \u001b[38;5;21;01mExpression\u001b[39;00m(u\u001b[38;5;241m.\u001b[39mCanonical):\n",
      "File \u001b[1;32m~\\anaconda3\\envs\\convex\\Lib\\site-packages\\cvxpy\\expressions\\expression.py:50\u001b[0m, in \u001b[0;36m_cast_other.<locals>.cast_op\u001b[1;34m(self, other)\u001b[0m\n\u001b[0;32m     47\u001b[0m \u001b[38;5;250m\u001b[39m\u001b[38;5;124;03m\"\"\"A wrapped binary operator that can handle non-Expression arguments.\u001b[39;00m\n\u001b[0;32m     48\u001b[0m \u001b[38;5;124;03m\"\"\"\u001b[39;00m\n\u001b[0;32m     49\u001b[0m other \u001b[38;5;241m=\u001b[39m \u001b[38;5;28mself\u001b[39m\u001b[38;5;241m.\u001b[39mcast_to_const(other)\n\u001b[1;32m---> 50\u001b[0m \u001b[38;5;28;01mreturn\u001b[39;00m binary_op(\u001b[38;5;28mself\u001b[39m, other)\n",
      "File \u001b[1;32m~\\anaconda3\\envs\\convex\\Lib\\site-packages\\cvxpy\\expressions\\expression.py:713\u001b[0m, in \u001b[0;36mExpression.__rmatmul__\u001b[1;34m(self, other)\u001b[0m\n\u001b[0;32m    711\u001b[0m \u001b[38;5;28;01mif\u001b[39;00m \u001b[38;5;28mself\u001b[39m\u001b[38;5;241m.\u001b[39mshape \u001b[38;5;241m==\u001b[39m () \u001b[38;5;129;01mor\u001b[39;00m other\u001b[38;5;241m.\u001b[39mshape \u001b[38;5;241m==\u001b[39m ():\n\u001b[0;32m    712\u001b[0m     \u001b[38;5;28;01mraise\u001b[39;00m \u001b[38;5;167;01mValueError\u001b[39;00m(\u001b[38;5;124m\"\u001b[39m\u001b[38;5;124mScalar operands are not allowed, use \u001b[39m\u001b[38;5;124m'\u001b[39m\u001b[38;5;124m*\u001b[39m\u001b[38;5;124m'\u001b[39m\u001b[38;5;124m instead\u001b[39m\u001b[38;5;124m\"\u001b[39m)\n\u001b[1;32m--> 713\u001b[0m \u001b[38;5;28;01mreturn\u001b[39;00m cvxtypes\u001b[38;5;241m.\u001b[39mmatmul_expr()(other, \u001b[38;5;28mself\u001b[39m)\n",
      "File \u001b[1;32m~\\anaconda3\\envs\\convex\\Lib\\site-packages\\cvxpy\\atoms\\affine\\binary_operators.py:53\u001b[0m, in \u001b[0;36mBinaryOperator.__init__\u001b[1;34m(self, lh_exp, rh_exp)\u001b[0m\n\u001b[0;32m     52\u001b[0m \u001b[38;5;28;01mdef\u001b[39;00m \u001b[38;5;21m__init__\u001b[39m(\u001b[38;5;28mself\u001b[39m, lh_exp, rh_exp) \u001b[38;5;241m-\u001b[39m\u001b[38;5;241m>\u001b[39m \u001b[38;5;28;01mNone\u001b[39;00m:\n\u001b[1;32m---> 53\u001b[0m     \u001b[38;5;28msuper\u001b[39m(BinaryOperator, \u001b[38;5;28mself\u001b[39m)\u001b[38;5;241m.\u001b[39m\u001b[38;5;21m__init__\u001b[39m(lh_exp, rh_exp)\n",
      "File \u001b[1;32m~\\anaconda3\\envs\\convex\\Lib\\site-packages\\cvxpy\\atoms\\atom.py:51\u001b[0m, in \u001b[0;36mAtom.__init__\u001b[1;34m(self, *args)\u001b[0m\n\u001b[0;32m     49\u001b[0m \u001b[38;5;28mself\u001b[39m\u001b[38;5;241m.\u001b[39margs \u001b[38;5;241m=\u001b[39m [Atom\u001b[38;5;241m.\u001b[39mcast_to_const(arg) \u001b[38;5;28;01mfor\u001b[39;00m arg \u001b[38;5;129;01min\u001b[39;00m args]\n\u001b[0;32m     50\u001b[0m \u001b[38;5;28mself\u001b[39m\u001b[38;5;241m.\u001b[39mvalidate_arguments()\n\u001b[1;32m---> 51\u001b[0m \u001b[38;5;28mself\u001b[39m\u001b[38;5;241m.\u001b[39m_shape \u001b[38;5;241m=\u001b[39m \u001b[38;5;28mself\u001b[39m\u001b[38;5;241m.\u001b[39mshape_from_args()\n\u001b[0;32m     52\u001b[0m \u001b[38;5;28;01mif\u001b[39;00m \u001b[38;5;28mlen\u001b[39m(\u001b[38;5;28mself\u001b[39m\u001b[38;5;241m.\u001b[39m_shape) \u001b[38;5;241m>\u001b[39m \u001b[38;5;241m2\u001b[39m:\n\u001b[0;32m     53\u001b[0m     \u001b[38;5;28;01mraise\u001b[39;00m \u001b[38;5;167;01mValueError\u001b[39;00m(\u001b[38;5;124m\"\u001b[39m\u001b[38;5;124mAtoms must be at most 2D.\u001b[39m\u001b[38;5;124m\"\u001b[39m)\n",
      "File \u001b[1;32m~\\anaconda3\\envs\\convex\\Lib\\site-packages\\cvxpy\\atoms\\affine\\binary_operators.py:123\u001b[0m, in \u001b[0;36mMulExpression.shape_from_args\u001b[1;34m(self)\u001b[0m\n\u001b[0;32m    120\u001b[0m \u001b[38;5;28;01mdef\u001b[39;00m \u001b[38;5;21mshape_from_args\u001b[39m(\u001b[38;5;28mself\u001b[39m) \u001b[38;5;241m-\u001b[39m\u001b[38;5;241m>\u001b[39m Tuple[\u001b[38;5;28mint\u001b[39m, \u001b[38;5;241m.\u001b[39m\u001b[38;5;241m.\u001b[39m\u001b[38;5;241m.\u001b[39m]:\n\u001b[0;32m    121\u001b[0m \u001b[38;5;250m    \u001b[39m\u001b[38;5;124;03m\"\"\"Returns the (row, col) shape of the expression.\u001b[39;00m\n\u001b[0;32m    122\u001b[0m \u001b[38;5;124;03m    \"\"\"\u001b[39;00m\n\u001b[1;32m--> 123\u001b[0m     \u001b[38;5;28;01mreturn\u001b[39;00m u\u001b[38;5;241m.\u001b[39mshape\u001b[38;5;241m.\u001b[39mmul_shapes(\u001b[38;5;28mself\u001b[39m\u001b[38;5;241m.\u001b[39margs[\u001b[38;5;241m0\u001b[39m]\u001b[38;5;241m.\u001b[39mshape, \u001b[38;5;28mself\u001b[39m\u001b[38;5;241m.\u001b[39margs[\u001b[38;5;241m1\u001b[39m]\u001b[38;5;241m.\u001b[39mshape)\n",
      "File \u001b[1;32m~\\anaconda3\\envs\\convex\\Lib\\site-packages\\cvxpy\\utilities\\shape.py:144\u001b[0m, in \u001b[0;36mmul_shapes\u001b[1;34m(lh_shape, rh_shape)\u001b[0m\n\u001b[0;32m    142\u001b[0m lh_old \u001b[38;5;241m=\u001b[39m lh_shape\n\u001b[0;32m    143\u001b[0m rh_old \u001b[38;5;241m=\u001b[39m rh_shape\n\u001b[1;32m--> 144\u001b[0m lh_shape, rh_shape, shape \u001b[38;5;241m=\u001b[39m mul_shapes_promote(lh_shape, rh_shape)\n\u001b[0;32m    145\u001b[0m \u001b[38;5;28;01mif\u001b[39;00m lh_shape \u001b[38;5;241m!=\u001b[39m lh_old:\n\u001b[0;32m    146\u001b[0m     shape \u001b[38;5;241m=\u001b[39m shape[\u001b[38;5;241m1\u001b[39m:]\n",
      "File \u001b[1;32m~\\anaconda3\\envs\\convex\\Lib\\site-packages\\cvxpy\\utilities\\shape.py:110\u001b[0m, in \u001b[0;36mmul_shapes_promote\u001b[1;34m(lh_shape, rh_shape)\u001b[0m\n\u001b[0;32m    108\u001b[0m rh_mat_shape \u001b[38;5;241m=\u001b[39m rh_shape[\u001b[38;5;241m-\u001b[39m\u001b[38;5;241m2\u001b[39m:]\n\u001b[0;32m    109\u001b[0m \u001b[38;5;28;01mif\u001b[39;00m lh_mat_shape[\u001b[38;5;241m1\u001b[39m] \u001b[38;5;241m!=\u001b[39m rh_mat_shape[\u001b[38;5;241m0\u001b[39m]:\n\u001b[1;32m--> 110\u001b[0m     \u001b[38;5;28;01mraise\u001b[39;00m \u001b[38;5;167;01mValueError\u001b[39;00m(\u001b[38;5;124m\"\u001b[39m\u001b[38;5;124mIncompatible dimensions \u001b[39m\u001b[38;5;132;01m%s\u001b[39;00m\u001b[38;5;124m \u001b[39m\u001b[38;5;132;01m%s\u001b[39;00m\u001b[38;5;124m\"\u001b[39m \u001b[38;5;241m%\u001b[39m (\n\u001b[0;32m    111\u001b[0m         lh_shape, rh_shape))\n\u001b[0;32m    112\u001b[0m \u001b[38;5;28;01mif\u001b[39;00m lh_shape[:\u001b[38;5;241m-\u001b[39m\u001b[38;5;241m2\u001b[39m] \u001b[38;5;241m!=\u001b[39m rh_shape[:\u001b[38;5;241m-\u001b[39m\u001b[38;5;241m2\u001b[39m]:\n\u001b[0;32m    113\u001b[0m     \u001b[38;5;28;01mraise\u001b[39;00m \u001b[38;5;167;01mValueError\u001b[39;00m(\u001b[38;5;124m\"\u001b[39m\u001b[38;5;124mIncompatible dimensions \u001b[39m\u001b[38;5;132;01m%s\u001b[39;00m\u001b[38;5;124m \u001b[39m\u001b[38;5;132;01m%s\u001b[39;00m\u001b[38;5;124m\"\u001b[39m \u001b[38;5;241m%\u001b[39m (\n\u001b[0;32m    114\u001b[0m         lh_shape, rh_shape))\n",
      "\u001b[1;31mValueError\u001b[0m: Incompatible dimensions (36, 36) (324, 324)"
     ]
    }
   ],
   "source": [
    "X = span_program_sep_psd(prob, rank)"
   ]
  },
  {
   "cell_type": "code",
   "execution_count": 20,
   "id": "59ea8a14-4b42-4fb7-b4ed-bb6a4fae6beb",
   "metadata": {},
   "outputs": [
    {
     "data": {
      "image/png": "[encoded data removed]",
      "text/plain": [
       "<Figure size 768x576 with 2 Axes>"
      ]
     },
     "metadata": {},
     "output_type": "display_data"
    }
   ],
   "source": [
    "visualize(X)"
   ]
  },
  {
   "cell_type": "code",
   "execution_count": null,
   "id": "8457546f-80c5-4a27-8f29-f038f3f5e69c",
   "metadata": {},
   "outputs": [],
   "source": []
  }
 ],
 "metadata": {
  "kernelspec": {
   "display_name": "Python 3 (ipykernel)",
   "language": "python",
   "name": "python3"
  },
  "language_info": {
   "codemirror_mode": {
    "name": "ipython",
    "version": 3
   },
   "file_extension": ".py",
   "mimetype": "text/x-python",
   "name": "python",
   "nbconvert_exporter": "python",
   "pygments_lexer": "ipython3",
   "version": "3.12.7"
  }
 },
 "nbformat": 4,
 "nbformat_minor": 5
}
