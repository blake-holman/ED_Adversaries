{
 "cells": [
  {
   "cell_type": "code",
   "execution_count": 4,
   "id": "8f90aedf-9c95-4ff1-9af9-be7ac2a51c9c",
   "metadata": {},
   "outputs": [],
   "source": [
    "# Import packages.\n",
    "import cvxpy as cp\n",
    "import numpy as np\n",
    "from Adversary import Adversary, Problem\n",
    "from Examples import exact_k, threshold_k\n",
    "import matplotlib.pyplot as plt\n",
    "import itertools\n"
   ]
  },
  {
   "cell_type": "code",
   "execution_count": 5,
   "id": "a550be5d-5830-4037-8961-7cff6122a45a",
   "metadata": {},
   "outputs": [],
   "source": [
    "def partial(problem, i):\n",
    "    lang_size = problem.yes_len + problem.no_len\n",
    "    D = np.zeros((lang_size, lang_size))\n",
    "    for j in range(prob.yes_len):\n",
    "        for k in range(prob.no_len):\n",
    "            yes = problem.yes_instances[j]\n",
    "            no = problem.no_instances[k]\n",
    "            if yes[i] != no[i]:\n",
    "                D[j + problem.no_len][k] = 1\n",
    "                D[k][j + problem.no_len] = 1 \n",
    "    return D\n",
    "def big_mask_index_disagree(problem, i):\n",
    "    lang_size = problem.yes_len + problem.no_len\n",
    "    n = problem.n\n",
    "    target = [np.zeros((lang_size, lang_size))]*i + [partial(problem, i)] + [np.zeros((lang_size, lang_size))]*(n-i-1)\n",
    "    return np.block([target if j==i else [np.zeros((lang_size, lang_size))] * n for j in range(n)])\n",
    "\n",
    "\n",
    "    \n",
    "def type_mask(problem):\n",
    "    lang_size = problem.yes_len + problem.no_len\n",
    "    mask = np.zeros((lang_size, lang_size))\n",
    "    for i in range(problem.yes_len):\n",
    "        for j in range(problem.no_len):\n",
    "            mask[i + problem.no_len][j] = 1\n",
    "            mask[j][i + problem.no_len] = 1 \n",
    "    return mask\n",
    "\n",
    "def instance_mask(problem, instance):\n",
    "    lang_size = problem.yes_len + problem.no_len\n",
    "    mask = np.zeros((lang_size, lang_size))\n",
    "    mask[problem.instance_to_index[instance]][problem.instance_to_index[instance]] = 1\n",
    "    return mask \n",
    "\n",
    "def big_mask_instance(problem, instance):\n",
    "    lang_size = problem.yes_len + problem.no_len\n",
    "    n = problem.n\n",
    "    \n",
    "    # target = [np.zeros((lang_size, lang_size))]*i + [partial(problem, i)] + [np.zeros((lang_size, lang_size))]*(n-i-1)\n",
    "    return np.block([[np.zeros((lang_size, lang_size))]*i + [instance_mask(problem, instance)] + [np.zeros((lang_size, lang_size))]*(n-i-1) for i in range(n)])\n",
    "    \n",
    "def big_mask_type(problem):\n",
    "    lang_size = problem.yes_len + problem.no_len\n",
    "    n = problem.n\n",
    "\n",
    "def big_mask_index_disagree_type(problem, yes_instance, no_instance):\n",
    "    yes = problem.instance_to_index[yes_instance]\n",
    "    no = problem.instance_to_index[no_instance]\n",
    "    lang_size = problem.yes_len + problem.no_len\n",
    "    n = problem.n\n",
    "    mask = np.zeros((lang_size, lang_size))\n",
    "    mask[yes, no] = 1\n",
    "    big = []\n",
    "    for i in range(n):\n",
    "        if yes_instance[i] != no_instance[i]:\n",
    "            big.append([np.zeros((lang_size, lang_size))]*i + [mask] + [np.zeros((lang_size, lang_size))]*(n-i-1))\n",
    "        else:\n",
    "            big.append([np.zeros((lang_size, lang_size))]*n)\n",
    "    return np.block(big)\n",
    "    # target = [np.zeros((lang_size, lang_size))]*i + [partial(problem, i)] + [np.zeros((lang_size, lang_size))]*(n-i-1)\n",
    "    return np.block([[np.zeros((lang_size, lang_size))]*i + [type_mask(problem)] + [np.zeros((lang_size, lang_size))]*(n-i-1) for i in range(n)])\n",
    "def span_solver(problem):\n",
    "    lang_size = problem.yes_len + problem.no_len\n",
    "    n = problem.n\n",
    "    mat_size = lang_size * n\n",
    "    X = cp.Variable((mat_size, mat_size), symmetric=True)\n",
    "    t = cp.Variable()\n",
    "    I = np.identity(mat_size)\n",
    "    constraints = [X >> 0]\n",
    "    constraints += [cp.sum(cp.multiply(big_mask_index_disagree_type(problem, yes_i, no_i), X)) == 1 for yes_i, no_i in itertools.product(problem.yes_instances, problem.no_instances)]\n",
    "    constraints += [cp.trace(cp.multiply(big_mask_instance(problem, instance), X)) <= t for instance in problem.no_instances + problem.yes_instances]\n",
    "    prob = cp.Problem(cp.Minimize(t), constraints)\n",
    "    prob.solve()\n",
    "    return prob.value, X.value\n",
    "\n",
    "def adv_solver(problem):\n",
    "    lang_size = problem.yes_len + problem.no_len\n",
    "    n = problem.n\n",
    "    mat_size = lang_size \n",
    "    L = cp.Variable((lang_size, lang_size), symmetric=True)\n",
    "    M = cp.Variable((lang_size))\n",
    "    constraints = [cp.diag(M) >> cp.multiply(L, partial(problem, j)) for j in range(n)]\n",
    "    constraints += [cp.sum(M) == 1]\n",
    "    constraints += [M >= 0]\n",
    "    # L is an adversary matrix\n",
    "    constraints += [\n",
    "        cp.multiply(L, np.ones((mat_size, mat_size)) - type_mask(problem)) == 0 \n",
    "    ]\n",
    "    opt_func = cp.sum(\n",
    "        cp.multiply(\n",
    "            type_mask(problem), L\n",
    "        ))\n",
    "    prob = cp.Problem(cp.Maximize(opt_func), constraints)\n",
    "    prob.solve()\n",
    "    return prob.value, L.value, M.value\n",
    "    "
   ]
  },
  {
   "cell_type": "code",
   "execution_count": 7,
   "id": "0183b7a2-d929-468d-a4b6-ca0c509f309f",
   "metadata": {},
   "outputs": [
    {
     "name": "stdout",
     "output_type": "stream",
     "text": [
      "2.828447708394893\n",
      "2.8284219054578035\n",
      "[4.04918730e-07 1.00009817e-01 1.00009817e-01 1.00009817e-01\n",
      " 1.00009817e-01 1.00009817e-01 4.99950489e-02 4.99950489e-02\n",
      " 4.99950489e-02 4.99950489e-02 4.99950489e-02 4.99950489e-02\n",
      " 4.99950489e-02 4.99950489e-02 4.99950489e-02 4.99950489e-02]\n"
     ]
    },
    {
     "data": {
      "text/plain": [
       "<matplotlib.image.AxesImage at 0x242d876f1f0>"
      ]
     },
     "execution_count": 7,
     "metadata": {},
     "output_type": "execute_result"
    },
    {
     "data": {
      "image/png": "[encoded data removed]",
      "text/plain": [
       "<Figure size 432x288 with 1 Axes>"
      ]
     },
     "metadata": {
      "needs_background": "light"
     },
     "output_type": "display_data"
    }
   ],
   "source": [
    "prob = threshold_k(5, 2)\n",
    "val, L, M = adv_solver(prob)\n",
    "val2, X = span_solver(prob)\n",
    "print(val)\n",
    "print(val2)\n",
    "print(M)\n",
    "# print(prob.yes_instances)\n",
    "plt.imshow(L)\n",
    "plt.imshow(X)"
   ]
  },
  {
   "cell_type": "code",
   "execution_count": 26,
   "id": "c9a2353e-8d95-49f8-bd1a-ebd1c9f3dcb1",
   "metadata": {},
   "outputs": [
    {
     "name": "stderr",
     "output_type": "stream",
     "text": [
      "C:\\Users\\blake\\AppData\\Local\\Temp/ipykernel_25992/142844265.py:1: DeprecationWarning: Calling np.sum(generator) is deprecated, and in the future will give a different result. Use np.sum(np.fromiter(generator)) or the python sum builtin instead.\n",
      "  plt.imshow(np.sum(big_mask_partial(prob, i) for i in range(4)))\n"
     ]
    },
    {
     "data": {
      "text/plain": [
       "<matplotlib.image.AxesImage at 0x166e0f9c400>"
      ]
     },
     "execution_count": 26,
     "metadata": {},
     "output_type": "execute_result"
    },
    {
     "data": {
      "image/png": "[encoded data removed]",
      "text/plain": [
       "<Figure size 432x288 with 1 Axes>"
      ]
     },
     "metadata": {
      "needs_background": "light"
     },
     "output_type": "display_data"
    }
   ],
   "source": [
    "# plt.imshow()"
   ]
  },
  {
   "cell_type": "code",
   "execution_count": 54,
   "id": "c2c50b9e-d73c-4638-94ab-20f93b3add69",
   "metadata": {},
   "outputs": [
    {
     "name": "stdout",
     "output_type": "stream",
     "text": [
      "{1: 'a', 2: 'b'}\n"
     ]
    }
   ],
   "source": [
    "a = {1:'a'}\n",
    "a.update({2: 'b'})\n",
    "print(a)"
   ]
  },
  {
   "cell_type": "code",
   "execution_count": null,
   "id": "c9976fbd-8107-44cb-abde-4ccca932c9f7",
   "metadata": {},
   "outputs": [],
   "source": []
  }
 ],
 "metadata": {
  "kernelspec": {
   "display_name": "Python 3 (ipykernel)",
   "language": "python",
   "name": "python3"
  },
  "language_info": {
   "codemirror_mode": {
    "name": "ipython",
    "version": 3
   },
   "file_extension": ".py",
   "mimetype": "text/x-python",
   "name": "python",
   "nbconvert_exporter": "python",
   "pygments_lexer": "ipython3",
   "version": "3.10.9"
  }
 },
 "nbformat": 4,
 "nbformat_minor": 5
}
