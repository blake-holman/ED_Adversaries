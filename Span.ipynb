{
 "cells": [
  {
   "cell_type": "code",
   "execution_count": 1,
   "id": "84c82d4a-b974-4a3b-9f07-d48d00356a77",
   "metadata": {},
   "outputs": [],
   "source": [
    "from Solvers import adv_solver, span_solver, span_solver2\n",
    "from Adversary import Adversary, Problem\n",
    "import numpy as np\n",
    "import matplotlib.pyplot as plt\n",
    "import itertools\n",
    "from Examples import exact_k, threshold_k\n",
    "from ElementDistinctness import ED\n",
    "from copy import deepcopy as copy\n",
    "import scipy\n",
    "import cvxpy as cp\n",
    "import itertools\n",
    "import matplotlib as mpl\n",
    "mpl.rcParams['figure.dpi'] =100"
   ]
  },
  {
   "cell_type": "code",
   "execution_count": 2,
   "id": "b110524d-b8aa-4c9a-ad31-d85fb6a66ad2",
   "metadata": {},
   "outputs": [],
   "source": [
    "class SpanProgram():\n",
    "    def __init__(self, problem, I_dict):\n",
    "        self.target = np.ones(problem.no_len)\n",
    "        self.num_vects = np.sum([len(v) for i, v in I_dict.items()])\n",
    "        self.ordered_I = [pair for pair in itertools.product(tuple(range(problem.n)), problem.alphabet)]\n",
    "        self.I_to_mat = {}\n",
    "        self.counter = 0\n",
    "        self.vect_list = []\n",
    "        self.ticks = []\n",
    "        for pair, v_set in I_dict.items():\n",
    "            self.ticks.append(self.counter)\n",
    "            self.I_to_mat[pair] = list(range(self.counter, self.counter + len(v_set)))\n",
    "            self.counter += len(v_set)\n",
    "            self.vect_list.append(*v_set)\n",
    "        \n",
    "        self.A = np.block(self.vect_list).T \n",
    "    \n",
    "    def get_activated_A(self, x):\n",
    "        activated_A = np.zeros(self.A.shape)\n",
    "        for i in range(len(x)):\n",
    "            interval = self.I_to_mat[(i, x[i])]\n",
    "            activated_A[:, interval] = self.A[:, interval]\n",
    "        return activated_A\n",
    "        \n",
    "        \n",
    "    def apply(x, witness):\n",
    "        return get_activated_A(x) @ witness\n",
    "    \n",
    "    def visualize_A(self):\n",
    "        plt.imshow(self.A)\n",
    "        plt.xticks(self.ticks, self.ordered_I)\n",
    "        plt.colorbar()\n",
    "        plt.show()\n",
    "            \n",
    "        "
   ]
  },
  {
   "cell_type": "code",
   "execution_count": 3,
   "id": "a7ded97e-e873-425d-9a01-890edbcabfbe",
   "metadata": {},
   "outputs": [],
   "source": [
    "def rand_function(n, alpha='01'):\n",
    "    yes = []\n",
    "    no = []\n",
    "    for s in itertools.product(*[alpha]*n):\n",
    "        if np.random.randint(2):\n",
    "            yes.append(s)\n",
    "        else:\n",
    "            no.append(s)\n",
    "    return Problem(no, yes)"
   ]
  },
  {
   "cell_type": "code",
   "execution_count": 4,
   "id": "79d868ef-7a0d-4698-842b-bf82b9ee0d81",
   "metadata": {},
   "outputs": [
    {
     "name": "stdout",
     "output_type": "stream",
     "text": [
      "No:[('0', '0', '0', '0'), ('0', '0', '0', '1'), ('0', '1', '0', '0'), ('1', '0', '0', '0'), ('1', '0', '1', '0'), ('1', '1', '1', '1')]\n",
      "Yes:[('0', '0', '1', '0'), ('0', '0', '1', '1'), ('0', '1', '0', '1'), ('0', '1', '1', '0'), ('0', '1', '1', '1'), ('1', '0', '0', '1'), ('1', '0', '1', '1'), ('1', '1', '0', '0'), ('1', '1', '0', '1'), ('1', '1', '1', '0')]\n"
     ]
    }
   ],
   "source": [
    "prob = rand_function(4)\n",
    "print(prob)\n",
    "# 2.1753284295786104"
   ]
  },
  {
   "cell_type": "code",
   "execution_count": 5,
   "id": "49b56730-4f17-47dc-b595-6c551b2bbab7",
   "metadata": {},
   "outputs": [
    {
     "name": "stdout",
     "output_type": "stream",
     "text": [
      "0\n",
      "===============================================================================\n",
      "                                     CVXPY                                     \n",
      "                                     v1.3.1                                    \n",
      "===============================================================================\n",
      "(CVXPY) Jul 10 06:44:52 PM: Your problem has 4097 variables, 79 constraints, and 0 parameters.\n",
      "(CVXPY) Jul 10 06:44:52 PM: It is compliant with the following grammars: DCP, DQCP\n",
      "(CVXPY) Jul 10 06:44:52 PM: (If you need to solve this problem multiple times, but with different data, consider using parameters.)\n",
      "(CVXPY) Jul 10 06:44:52 PM: CVXPY will first compile your problem; then, it will invoke a numerical solver to obtain a solution.\n",
      "-------------------------------------------------------------------------------\n",
      "                                  Compilation                                  \n",
      "-------------------------------------------------------------------------------\n",
      "(CVXPY) Jul 10 06:44:52 PM: Compiling problem (target solver=MOSEK).\n",
      "(CVXPY) Jul 10 06:44:52 PM: Reduction chain: Dcp2Cone -> CvxAttr2Constr -> ConeMatrixStuffing -> MOSEK\n",
      "(CVXPY) Jul 10 06:44:52 PM: Applying reduction Dcp2Cone\n",
      "(CVXPY) Jul 10 06:44:52 PM: Applying reduction CvxAttr2Constr\n",
      "(CVXPY) Jul 10 06:44:52 PM: Applying reduction ConeMatrixStuffing\n",
      "(CVXPY) Jul 10 06:44:53 PM: Applying reduction MOSEK\n",
      "(CVXPY) Jul 10 06:44:53 PM: Finished problem compilation (took 4.816e-01 seconds).\n",
      "-------------------------------------------------------------------------------\n",
      "                                Numerical solver                               \n",
      "-------------------------------------------------------------------------------\n",
      "(CVXPY) Jul 10 06:44:53 PM: Invoking solver MOSEK  to obtain a solution.\n",
      "\n",
      "\n",
      "(CVXPY) Jul 10 06:44:53 PM: Problem\n",
      "(CVXPY) Jul 10 06:44:53 PM:   Name                   :                 \n",
      "(CVXPY) Jul 10 06:44:53 PM:   Objective sense        : maximize        \n",
      "(CVXPY) Jul 10 06:44:53 PM:   Type                   : CONIC (conic optimization problem)\n",
      "(CVXPY) Jul 10 06:44:53 PM:   Constraints            : 2081            \n",
      "(CVXPY) Jul 10 06:44:53 PM:   Affine conic cons.     : 0               \n",
      "(CVXPY) Jul 10 06:44:53 PM:   Disjunctive cons.      : 0               \n",
      "(CVXPY) Jul 10 06:44:53 PM:   Cones                  : 0               \n",
      "(CVXPY) Jul 10 06:44:53 PM:   Scalar variables       : 79              \n",
      "(CVXPY) Jul 10 06:44:53 PM:   Matrix variables       : 1               \n",
      "(CVXPY) Jul 10 06:44:53 PM:   Integer variables      : 0               \n",
      "(CVXPY) Jul 10 06:44:53 PM: \n",
      "(CVXPY) Jul 10 06:44:53 PM: Optimizer started.\n",
      "(CVXPY) Jul 10 06:44:53 PM: Presolve started.\n",
      "(CVXPY) Jul 10 06:44:53 PM: Linear dependency checker started.\n",
      "(CVXPY) Jul 10 06:44:53 PM: Linear dependency checker terminated.\n",
      "(CVXPY) Jul 10 06:44:53 PM: Eliminator started.\n",
      "(CVXPY) Jul 10 06:44:53 PM: Freed constraints in eliminator : 0\n",
      "(CVXPY) Jul 10 06:44:53 PM: Eliminator terminated.\n",
      "(CVXPY) Jul 10 06:44:53 PM: Eliminator - tries                  : 1                 time                   : 0.00            \n",
      "(CVXPY) Jul 10 06:44:53 PM: Lin. dep.  - tries                  : 1                 time                   : 0.00            \n",
      "(CVXPY) Jul 10 06:44:53 PM: Lin. dep.  - number                 : 0               \n",
      "(CVXPY) Jul 10 06:44:53 PM: Presolve terminated. Time: 0.00    \n",
      "(CVXPY) Jul 10 06:44:53 PM: GP based matrix reordering started.\n",
      "(CVXPY) Jul 10 06:44:53 PM: GP based matrix reordering terminated.\n",
      "(CVXPY) Jul 10 06:44:53 PM: Problem\n",
      "(CVXPY) Jul 10 06:44:53 PM:   Name                   :                 \n",
      "(CVXPY) Jul 10 06:44:53 PM:   Objective sense        : maximize        \n",
      "(CVXPY) Jul 10 06:44:53 PM:   Type                   : CONIC (conic optimization problem)\n",
      "(CVXPY) Jul 10 06:44:53 PM:   Constraints            : 2081            \n",
      "(CVXPY) Jul 10 06:44:53 PM:   Affine conic cons.     : 0               \n",
      "(CVXPY) Jul 10 06:44:53 PM:   Disjunctive cons.      : 0               \n",
      "(CVXPY) Jul 10 06:44:53 PM:   Cones                  : 0               \n",
      "(CVXPY) Jul 10 06:44:53 PM:   Scalar variables       : 79              \n",
      "(CVXPY) Jul 10 06:44:53 PM:   Matrix variables       : 1               \n",
      "(CVXPY) Jul 10 06:44:53 PM:   Integer variables      : 0               \n",
      "(CVXPY) Jul 10 06:44:53 PM: \n",
      "(CVXPY) Jul 10 06:44:53 PM: Optimizer  - threads                : 4               \n",
      "(CVXPY) Jul 10 06:44:53 PM: Optimizer  - solved problem         : the primal      \n",
      "(CVXPY) Jul 10 06:44:53 PM: Optimizer  - Constraints            : 2081\n",
      "(CVXPY) Jul 10 06:44:53 PM: Optimizer  - Cones                  : 1\n",
      "(CVXPY) Jul 10 06:44:53 PM: Optimizer  - Scalar variables       : 80                conic                  : 64              \n",
      "(CVXPY) Jul 10 06:44:53 PM: Optimizer  - Semi-definite variables: 1                 scalarized             : 2080            \n",
      "(CVXPY) Jul 10 06:44:53 PM: Factor     - setup time             : 0.39              dense det. time        : 0.20            \n",
      "(CVXPY) Jul 10 06:44:53 PM: Factor     - ML order time          : 0.03              GP order time          : 0.00            \n",
      "(CVXPY) Jul 10 06:44:53 PM: Factor     - nonzeros before factor : 2.16e+06          after factor           : 2.16e+06        \n",
      "(CVXPY) Jul 10 06:44:53 PM: Factor     - dense dim.             : 0                 flops                  : 3.02e+09        \n",
      "(CVXPY) Jul 10 06:44:53 PM: ITE PFEAS    DFEAS    GFEAS    PRSTATUS   POBJ              DOBJ              MU       TIME  \n",
      "(CVXPY) Jul 10 06:44:53 PM: 0   1.0e+00  1.0e+00  1.0e+00  0.00e+00   0.000000000e+00   0.000000000e+00   1.0e+00  0.41  \n",
      "(CVXPY) Jul 10 06:44:54 PM: 1   1.7e-01  1.7e-01  1.8e-01  -6.40e-01  9.725333842e+00   8.946027437e+00   1.7e-01  0.61  \n",
      "(CVXPY) Jul 10 06:44:54 PM: 2   2.5e-02  2.5e-02  4.2e-03  2.61e+00   2.835023081e+00   2.824216316e+00   2.5e-02  0.75  \n",
      "(CVXPY) Jul 10 06:44:54 PM: 3   4.2e-03  4.2e-03  7.6e-05  1.19e+00   2.577807461e+00   2.579972892e+00   4.2e-03  0.91  \n",
      "(CVXPY) Jul 10 06:44:54 PM: 4   4.4e-04  4.4e-04  2.5e-06  1.04e+00   2.542620988e+00   2.542845651e+00   4.4e-04  1.06  \n",
      "(CVXPY) Jul 10 06:44:54 PM: 5   6.5e-05  6.5e-05  1.4e-07  1.00e+00   2.538984449e+00   2.539017572e+00   6.5e-05  1.20  \n",
      "(CVXPY) Jul 10 06:44:54 PM: 6   3.0e-06  3.0e-06  2.1e-09  1.00e+00   2.538370932e+00   2.538372133e+00   3.0e-06  1.34  \n",
      "(CVXPY) Jul 10 06:44:54 PM: 7   1.5e-06  1.5e-06  8.3e-10  9.98e-01   2.538362993e+00   2.538363528e+00   1.5e-06  1.45  \n",
      "(CVXPY) Jul 10 06:44:55 PM: 8   2.0e-07  2.0e-07  4.6e-11  9.99e-01   2.538352597e+00   2.538352658e+00   2.0e-07  1.61  \n",
      "(CVXPY) Jul 10 06:44:55 PM: 9   2.9e-08  2.9e-08  2.5e-12  1.00e+00   2.538351190e+00   2.538351199e+00   2.9e-08  1.74  \n",
      "(CVXPY) Jul 10 06:44:55 PM: Optimizer terminated. Time: 1.77    \n",
      "(CVXPY) Jul 10 06:44:55 PM: \n",
      "(CVXPY) Jul 10 06:44:55 PM: \n",
      "(CVXPY) Jul 10 06:44:55 PM: Interior-point solution summary\n",
      "(CVXPY) Jul 10 06:44:55 PM:   Problem status  : PRIMAL_AND_DUAL_FEASIBLE\n",
      "(CVXPY) Jul 10 06:44:55 PM:   Solution status : OPTIMAL\n",
      "(CVXPY) Jul 10 06:44:55 PM:   Primal.  obj: 2.5383511900e+00    nrm: 1e+00    Viol.  con: 2e-08    var: 0e+00    barvar: 0e+00  \n",
      "(CVXPY) Jul 10 06:44:55 PM:   Dual.    obj: 2.5383511986e+00    nrm: 3e+00    Viol.  con: 0e+00    var: 2e-08    barvar: 2e-08  \n",
      "-------------------------------------------------------------------------------\n",
      "                                    Summary                                    \n",
      "-------------------------------------------------------------------------------\n",
      "(CVXPY) Jul 10 06:44:55 PM: Problem status: optimal\n",
      "(CVXPY) Jul 10 06:44:55 PM: Optimal value: 2.538e+00\n",
      "(CVXPY) Jul 10 06:44:55 PM: Compilation took 4.816e-01 seconds\n",
      "(CVXPY) Jul 10 06:44:55 PM: Solver (including time spent in interface) took 1.814e+00 seconds\n"
     ]
    },
    {
     "data": {
      "image/png": "[encoded data removed]",
      "text/plain": [
       "<Figure size 600x400 with 2 Axes>"
      ]
     },
     "metadata": {
      "needs_background": "light"
     },
     "output_type": "display_data"
    },
    {
     "name": "stdout",
     "output_type": "stream",
     "text": [
      "{'solver': 'MOSEK', 'verbose': True}\n",
      "===============================================================================\n",
      "                                     CVXPY                                     \n",
      "                                     v1.3.1                                    \n",
      "===============================================================================\n",
      "(CVXPY) Jul 10 06:44:55 PM: Your problem has 4097 variables, 81 constraints, and 0 parameters.\n",
      "(CVXPY) Jul 10 06:44:55 PM: It is compliant with the following grammars: DCP, DQCP\n",
      "(CVXPY) Jul 10 06:44:55 PM: (If you need to solve this problem multiple times, but with different data, consider using parameters.)\n",
      "(CVXPY) Jul 10 06:44:55 PM: CVXPY will first compile your problem; then, it will invoke a numerical solver to obtain a solution.\n",
      "-------------------------------------------------------------------------------\n",
      "                                  Compilation                                  \n",
      "-------------------------------------------------------------------------------\n",
      "(CVXPY) Jul 10 06:44:55 PM: Compiling problem (target solver=MOSEK).\n",
      "(CVXPY) Jul 10 06:44:55 PM: Reduction chain: Dcp2Cone -> CvxAttr2Constr -> ConeMatrixStuffing -> MOSEK\n",
      "(CVXPY) Jul 10 06:44:55 PM: Applying reduction Dcp2Cone\n",
      "(CVXPY) Jul 10 06:44:55 PM: Applying reduction CvxAttr2Constr\n",
      "(CVXPY) Jul 10 06:44:55 PM: Applying reduction ConeMatrixStuffing\n",
      "(CVXPY) Jul 10 06:44:55 PM: Applying reduction MOSEK\n",
      "(CVXPY) Jul 10 06:44:56 PM: Finished problem compilation (took 6.850e-01 seconds).\n",
      "-------------------------------------------------------------------------------\n",
      "                                Numerical solver                               \n",
      "-------------------------------------------------------------------------------\n",
      "(CVXPY) Jul 10 06:44:56 PM: Invoking solver MOSEK  to obtain a solution.\n",
      "\n",
      "\n",
      "(CVXPY) Jul 10 06:44:56 PM: Problem\n",
      "(CVXPY) Jul 10 06:44:56 PM:   Name                   :                 \n",
      "(CVXPY) Jul 10 06:44:56 PM:   Objective sense        : maximize        \n",
      "(CVXPY) Jul 10 06:44:56 PM:   Type                   : CONIC (conic optimization problem)\n",
      "(CVXPY) Jul 10 06:44:56 PM:   Constraints            : 2081            \n",
      "(CVXPY) Jul 10 06:44:56 PM:   Affine conic cons.     : 0               \n",
      "(CVXPY) Jul 10 06:44:56 PM:   Disjunctive cons.      : 0               \n",
      "(CVXPY) Jul 10 06:44:56 PM:   Cones                  : 0               \n",
      "(CVXPY) Jul 10 06:44:56 PM:   Scalar variables       : 8271            \n",
      "(CVXPY) Jul 10 06:44:56 PM:   Matrix variables       : 1               \n",
      "(CVXPY) Jul 10 06:44:56 PM:   Integer variables      : 0               \n",
      "(CVXPY) Jul 10 06:44:56 PM: \n",
      "(CVXPY) Jul 10 06:44:56 PM: Optimizer started.\n",
      "(CVXPY) Jul 10 06:44:56 PM: Presolve started.\n",
      "(CVXPY) Jul 10 06:44:56 PM: Linear dependency checker started.\n",
      "(CVXPY) Jul 10 06:44:56 PM: Linear dependency checker terminated.\n",
      "(CVXPY) Jul 10 06:44:56 PM: Eliminator started.\n",
      "(CVXPY) Jul 10 06:44:56 PM: Freed constraints in eliminator : 0\n",
      "(CVXPY) Jul 10 06:44:56 PM: Eliminator terminated.\n",
      "(CVXPY) Jul 10 06:44:56 PM: Eliminator started.\n",
      "(CVXPY) Jul 10 06:44:56 PM: Freed constraints in eliminator : 0\n",
      "(CVXPY) Jul 10 06:44:56 PM: Eliminator terminated.\n",
      "(CVXPY) Jul 10 06:44:56 PM: Eliminator - tries                  : 2                 time                   : 0.00            \n",
      "(CVXPY) Jul 10 06:44:56 PM: Lin. dep.  - tries                  : 1                 time                   : 0.00            \n",
      "(CVXPY) Jul 10 06:44:56 PM: Lin. dep.  - number                 : 0               \n",
      "(CVXPY) Jul 10 06:44:56 PM: Presolve terminated. Time: 0.02    \n",
      "(CVXPY) Jul 10 06:44:56 PM: GP based matrix reordering started.\n",
      "(CVXPY) Jul 10 06:44:56 PM: GP based matrix reordering terminated.\n",
      "(CVXPY) Jul 10 06:44:56 PM: Problem\n",
      "(CVXPY) Jul 10 06:44:56 PM:   Name                   :                 \n",
      "(CVXPY) Jul 10 06:44:56 PM:   Objective sense        : maximize        \n",
      "(CVXPY) Jul 10 06:44:56 PM:   Type                   : CONIC (conic optimization problem)\n",
      "(CVXPY) Jul 10 06:44:56 PM:   Constraints            : 2081            \n",
      "(CVXPY) Jul 10 06:44:56 PM:   Affine conic cons.     : 0               \n",
      "(CVXPY) Jul 10 06:44:56 PM:   Disjunctive cons.      : 0               \n",
      "(CVXPY) Jul 10 06:44:56 PM:   Cones                  : 0               \n",
      "(CVXPY) Jul 10 06:44:56 PM:   Scalar variables       : 8271            \n",
      "(CVXPY) Jul 10 06:44:56 PM:   Matrix variables       : 1               \n",
      "(CVXPY) Jul 10 06:44:56 PM:   Integer variables      : 0               \n",
      "(CVXPY) Jul 10 06:44:56 PM: \n",
      "(CVXPY) Jul 10 06:44:56 PM: Optimizer  - threads                : 4               \n",
      "(CVXPY) Jul 10 06:44:56 PM: Optimizer  - solved problem         : the primal      \n",
      "(CVXPY) Jul 10 06:44:56 PM: Optimizer  - Constraints            : 2081\n",
      "(CVXPY) Jul 10 06:44:56 PM: Optimizer  - Cones                  : 1\n",
      "(CVXPY) Jul 10 06:44:56 PM: Optimizer  - Scalar variables       : 6784              conic                  : 3136            \n",
      "(CVXPY) Jul 10 06:44:56 PM: Optimizer  - Semi-definite variables: 1                 scalarized             : 2080            \n",
      "(CVXPY) Jul 10 06:44:56 PM: Factor     - setup time             : 0.52              dense det. time        : 0.17            \n",
      "(CVXPY) Jul 10 06:44:56 PM: Factor     - ML order time          : 0.00              GP order time          : 0.00            \n",
      "(CVXPY) Jul 10 06:44:56 PM: Factor     - nonzeros before factor : 2.16e+06          after factor           : 2.16e+06        \n",
      "(CVXPY) Jul 10 06:44:56 PM: Factor     - dense dim.             : 0                 flops                  : 3.02e+09        \n",
      "(CVXPY) Jul 10 06:44:56 PM: ITE PFEAS    DFEAS    GFEAS    PRSTATUS   POBJ              DOBJ              MU       TIME  \n",
      "(CVXPY) Jul 10 06:44:56 PM: 0   1.0e+00  1.0e+00  1.0e+00  0.00e+00   0.000000000e+00   0.000000000e+00   1.0e+00  0.55  \n",
      "(CVXPY) Jul 10 06:44:57 PM: 1   9.9e-01  9.9e-01  9.8e-01  6.63e-01   7.235088704e-02   7.483365083e-02   9.9e-01  0.70  \n",
      "(CVXPY) Jul 10 06:44:57 PM: 2   9.4e-01  9.4e-01  8.1e-01  -1.77e-01  3.296620414e-01   4.378648469e-01   9.4e-01  0.81  \n",
      "(CVXPY) Jul 10 06:44:57 PM: 3   7.2e-01  7.2e-01  3.8e-01  4.26e-01   1.443349367e+00   1.657867870e+00   7.2e-01  0.92  \n",
      "(CVXPY) Jul 10 06:44:57 PM: 4   6.0e-01  6.0e-01  3.0e-01  7.55e-01   1.988093256e+00   2.170202924e+00   6.0e-01  1.02  \n",
      "(CVXPY) Jul 10 06:44:57 PM: 5   1.2e-01  1.2e-01  1.3e-02  1.06e+00   3.809858733e+00   3.869251418e+00   1.2e-01  1.09  \n",
      "(CVXPY) Jul 10 06:44:57 PM: 6   1.5e-02  1.5e-02  9.5e-04  1.35e+00   3.040128334e+00   3.043179293e+00   1.5e-02  1.17  \n",
      "(CVXPY) Jul 10 06:44:57 PM: 7   1.1e-02  1.1e-02  5.6e-04  1.18e+00   2.865962717e+00   2.868133956e+00   1.1e-02  1.24  \n",
      "(CVXPY) Jul 10 06:44:57 PM: 8   3.4e-03  3.4e-03  9.1e-05  1.12e+00   2.640521913e+00   2.641292212e+00   3.4e-03  1.31  \n",
      "(CVXPY) Jul 10 06:44:57 PM: 9   3.7e-04  3.7e-04  2.2e-06  1.06e+00   2.552744487e+00   2.552858035e+00   3.7e-04  1.41  \n",
      "(CVXPY) Jul 10 06:44:57 PM: 10  2.6e-04  2.6e-04  1.4e-06  1.05e+00   2.548442319e+00   2.548521151e+00   2.6e-04  1.49  \n",
      "(CVXPY) Jul 10 06:44:57 PM: 11  1.0e-04  1.0e-04  3.6e-07  1.03e+00   2.541856370e+00   2.541884910e+00   1.0e-04  1.55  \n",
      "(CVXPY) Jul 10 06:44:58 PM: 12  3.9e-05  3.9e-05  8.5e-08  1.02e+00   2.539708013e+00   2.539718411e+00   3.9e-05  1.62  \n",
      "(CVXPY) Jul 10 06:44:58 PM: 13  4.7e-06  4.7e-06  3.5e-09  1.01e+00   2.538759686e+00   2.538760936e+00   4.7e-06  1.74  \n",
      "(CVXPY) Jul 10 06:44:58 PM: 14  4.4e-06  4.4e-06  3.2e-09  1.00e+00   2.538753831e+00   2.538755003e+00   4.4e-06  1.80  \n",
      "(CVXPY) Jul 10 06:44:58 PM: 15  3.3e-06  3.3e-06  2.1e-09  1.01e+00   2.538725723e+00   2.538726584e+00   3.3e-06  1.88  \n",
      "(CVXPY) Jul 10 06:44:58 PM: 16  1.6e-06  1.6e-06  7.4e-10  1.01e+00   2.538685033e+00   2.538685450e+00   1.6e-06  1.94  \n",
      "(CVXPY) Jul 10 06:44:58 PM: 17  4.1e-07  4.1e-07  9.4e-11  1.00e+00   2.538655845e+00   2.538655952e+00   4.1e-07  2.02  \n",
      "(CVXPY) Jul 10 06:44:58 PM: 18  1.4e-07  1.4e-07  1.8e-11  1.00e+00   2.538648663e+00   2.538648698e+00   1.4e-07  2.12  \n",
      "(CVXPY) Jul 10 06:44:58 PM: 19  1.1e-07  5.9e-08  5.3e-12  1.00e+00   2.538646574e+00   2.538646589e+00   5.9e-08  2.19  \n",
      "(CVXPY) Jul 10 06:44:58 PM: 20  1.1e-07  5.9e-08  5.3e-12  1.00e+00   2.538646574e+00   2.538646589e+00   5.9e-08  2.28  \n",
      "(CVXPY) Jul 10 06:44:58 PM: 21  9.2e-08  4.2e-08  3.2e-12  1.00e+00   2.538646135e+00   2.538646146e+00   4.2e-08  2.36  \n",
      "(CVXPY) Jul 10 06:44:58 PM: 22  4.5e-08  1.5e-08  6.3e-13  1.00e+00   2.538645441e+00   2.538645445e+00   1.4e-08  2.44  \n",
      "(CVXPY) Jul 10 06:44:58 PM: Optimizer terminated. Time: 2.45    \n",
      "(CVXPY) Jul 10 06:44:58 PM: \n",
      "(CVXPY) Jul 10 06:44:58 PM: \n",
      "(CVXPY) Jul 10 06:44:58 PM: Interior-point solution summary\n",
      "(CVXPY) Jul 10 06:44:58 PM:   Problem status  : PRIMAL_AND_DUAL_FEASIBLE\n",
      "(CVXPY) Jul 10 06:44:58 PM:   Solution status : OPTIMAL\n",
      "(CVXPY) Jul 10 06:44:58 PM:   Primal.  obj: 2.5386454412e+00    nrm: 1e+00    Viol.  con: 2e-08    var: 4e-09    barvar: 0e+00  \n",
      "(CVXPY) Jul 10 06:44:58 PM:   Dual.    obj: 2.5386454447e+00    nrm: 3e+00    Viol.  con: 0e+00    var: 6e-09    barvar: 6e-09  \n",
      "-------------------------------------------------------------------------------\n",
      "                                    Summary                                    \n",
      "-------------------------------------------------------------------------------\n",
      "(CVXPY) Jul 10 06:44:58 PM: Problem status: optimal\n",
      "(CVXPY) Jul 10 06:44:58 PM: Optimal value: 2.539e+00\n",
      "(CVXPY) Jul 10 06:44:58 PM: Compilation took 6.850e-01 seconds\n",
      "(CVXPY) Jul 10 06:44:58 PM: Solver (including time spent in interface) took 2.509e+00 seconds\n"
     ]
    }
   ],
   "source": [
    "diffs = []\n",
    "vals = []\n",
    "for i in range(1):\n",
    "    print(i)\n",
    "    prob = rand_function(4)\n",
    "    v, X = span_solver(prob)\n",
    "    v2, X2 = span_solver2(prob)\n",
    "    diffs.append(v - v2)\n",
    "    vals.append((X, X2))\n",
    "# X2 = np.round(X, 6)\n",
    "# plt.imshow(X)\n",
    "# plt.colorbar()"
   ]
  },
  {
   "cell_type": "code",
   "execution_count": 6,
   "id": "ec8b1531-1a7c-42d9-b4f1-903d1e3ad5e2",
   "metadata": {},
   "outputs": [
    {
     "name": "stdout",
     "output_type": "stream",
     "text": [
      "[-0.00029424609976747007]\n",
      "(array([[ 1.05419685e+00,  1.05419225e+00, -1.03596396e-15, ...,\n",
      "        -6.68865717e-16, -4.65502752e-16, -4.64538699e-16],\n",
      "       [ 1.05419225e+00,  1.05420373e+00, -1.03650393e-15, ...,\n",
      "        -6.68945660e-16, -4.65897523e-16, -4.64931615e-16],\n",
      "       [-1.03596396e-15, -1.03650393e-15,  9.10294111e-01, ...,\n",
      "        -4.67489171e-16,  2.49632624e-16,  2.52808167e-16],\n",
      "       ...,\n",
      "       [-6.68865717e-16, -6.68945660e-16, -4.67489171e-16, ...,\n",
      "         7.35235313e-01,  6.14274511e-01,  6.14161277e-01],\n",
      "       [-4.65502752e-16, -4.65897523e-16,  2.49632624e-16, ...,\n",
      "         6.14274511e-01,  6.14259149e-01,  6.14244645e-01],\n",
      "       [-4.64538699e-16, -4.64931615e-16,  2.52808167e-16, ...,\n",
      "         6.14161277e-01,  6.14244645e-01,  6.14232851e-01]]), array([[1.05439129e+00, 1.05439086e+00, 4.23575029e-01, ...,\n",
      "        9.88457447e-11, 9.89385078e-11, 9.88857483e-11],\n",
      "       [1.05439086e+00, 1.05439212e+00, 4.23593236e-01, ...,\n",
      "        9.86935097e-11, 9.87691367e-11, 9.87230677e-11],\n",
      "       [4.23575029e-01, 4.23593236e-01, 9.06112777e-01, ...,\n",
      "        9.86096504e-11, 9.86489191e-11, 9.83668838e-11],\n",
      "       ...,\n",
      "       [9.88457447e-11, 9.86935097e-11, 9.86096504e-11, ...,\n",
      "        7.27446296e-01, 6.12461314e-01, 6.12507284e-01],\n",
      "       [9.89385078e-11, 9.87691367e-11, 9.86489191e-11, ...,\n",
      "        6.12461314e-01, 6.12543677e-01, 6.12523991e-01],\n",
      "       [9.88857483e-11, 9.87230677e-11, 9.83668838e-11, ...,\n",
      "        6.12507284e-01, 6.12523991e-01, 6.12546434e-01]]))\n"
     ]
    },
    {
     "data": {
      "image/png": "[encoded data removed]",
      "text/plain": [
       "<Figure size 600x400 with 2 Axes>"
      ]
     },
     "metadata": {
      "needs_background": "light"
     },
     "output_type": "display_data"
    },
    {
     "data": {
      "image/png": "[encoded data removed]",
      "text/plain": [
       "<Figure size 600x400 with 2 Axes>"
      ]
     },
     "metadata": {
      "needs_background": "light"
     },
     "output_type": "display_data"
    }
   ],
   "source": [
    "print(diffs)\n",
    "for val in vals:\n",
    "    print(val)\n",
    "plt.imshow(vals[0][0])\n",
    "plt.colorbar()\n",
    "plt.show()\n",
    "plt.imshow(vals[0][1])\n",
    "plt.colorbar()\n",
    "plt.show()"
   ]
  },
  {
   "cell_type": "code",
   "execution_count": 7,
   "id": "f318041b-02e5-4733-9f65-dfac72e58b06",
   "metadata": {},
   "outputs": [
    {
     "name": "stdout",
     "output_type": "stream",
     "text": [
      "2.5383511985992837 1.6280472774727246\n",
      "norm 10.575319113157422\n",
      "len 64\n",
      "rank 64 64\n",
      "40.33360738429352\n"
     ]
    }
   ],
   "source": [
    "print(v, np.max([X[i][i] for i in range(X.shape[0])]))\n",
    "print('norm', np.linalg.norm(X, 2))\n",
    "print('len', X.shape[0])\n",
    "print('rank', np.linalg.matrix_rank(X2), np.linalg.matrix_rank(X))\n",
    "print(np.trace(X2))\n",
    "# print(np.real_if_close(np.linalg.eigvals(X),4)[0])"
   ]
  },
  {
   "cell_type": "code",
   "execution_count": 114,
   "id": "9341a436-904b-4a38-b0d8-1dd07f58e038",
   "metadata": {},
   "outputs": [
    {
     "data": {
      "text/plain": [
       "<matplotlib.colorbar.Colorbar at 0x7f1b20bf7580>"
      ]
     },
     "execution_count": 114,
     "metadata": {},
     "output_type": "execute_result"
    },
    {
     "data": {
      "image/png": "[encoded data removed]",
      "text/plain": [
       "<Figure size 640x480 with 2 Axes>"
      ]
     },
     "metadata": {},
     "output_type": "display_data"
    }
   ],
   "source": [
    "plt.imshow(L)\n",
    "plt.colorbar()"
   ]
  },
  {
   "cell_type": "code",
   "execution_count": null,
   "id": "2ee59597-7d67-4e3d-8345-b698bf3135bd",
   "metadata": {},
   "outputs": [],
   "source": []
  }
 ],
 "metadata": {
  "kernelspec": {
   "display_name": "Python 3 (ipykernel)",
   "language": "python",
   "name": "python3"
  },
  "language_info": {
   "codemirror_mode": {
    "name": "ipython",
    "version": 3
   },
   "file_extension": ".py",
   "mimetype": "text/x-python",
   "name": "python",
   "nbconvert_exporter": "python",
   "pygments_lexer": "ipython3",
   "version": "3.9.7"
  }
 },
 "nbformat": 4,
 "nbformat_minor": 5
}
