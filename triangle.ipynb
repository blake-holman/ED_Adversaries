{
 "cells": [
  {
   "cell_type": "code",
   "execution_count": 1,
   "id": "2322171a-fa66-4429-89eb-baee5233b741",
   "metadata": {},
   "outputs": [],
   "source": [
    "from Solvers import adv_solver, span_solver, span_solver2\n",
    "from Adversary import Adversary, Problem, to_str, visualize\n",
    "import numpy as np\n",
    "import matplotlib.pyplot as plt\n",
    "import itertools\n",
    "from Examples import exact_k, threshold_k\n",
    "from ElementDistinctness import ED\n",
    "from copy import deepcopy as copy\n",
    "import scipy\n",
    "import cvxpy as cp\n",
    "import itertools\n",
    "import matplotlib as mpl\n",
    "mpl.rcParams['figure.dpi'] =200\n",
    "import networkx as nx"
   ]
  },
  {
   "cell_type": "code",
   "execution_count": 2,
   "id": "d779295f-36a9-4c3f-b063-1f952a442cd1",
   "metadata": {},
   "outputs": [],
   "source": [
    "def matrix_triangle(n, k):\n",
    "    num_nodes = 3 * n\n",
    "    left = list(range(2*n))\n",
    "    right = list(range(2*n, 3*n))\n",
    "    paired_assignments = []\n",
    "    no_mats = []\n",
    "    for node_assignment in itertools.combinations(right, k):\n",
    "        node_nodes = set(node_assignment)\n",
    "        pair_nodes_range = set(right) - node_nodes\n",
    "        for pair_assignment in itertools.combinations(pair_nodes_range, k):\n",
    "            paired_assignments.append((tuple(node_assignment), tuple(pair_assignment)))\n",
    "    paired_assignments = list(set(paired_assignments))\n",
    "    # print(paired_assignments)\n",
    "    # print(len(list(itertools.combinations_with_replacement(paired_assignments, n))))\n",
    "    for endpoints in itertools.combinations_with_replacement(paired_assignments, n):\n",
    "        adj_mat = np.zeros((num_nodes, num_nodes))\n",
    "        # print(endpoints)\n",
    "        # print(adj_mat)\n",
    "   \n",
    "        for node in range(0,2*n, 2):\n",
    "            node1_neighbors, node2_neighbors = endpoints[node // 2]\n",
    "            # print(node1_neighbors, 'd')\n",
    "            adj_mat[node, node+1] = 1\n",
    "            for neighbor in node1_neighbors:\n",
    "                adj_mat[node, neighbor] = 1\n",
    "            for neighbor in node2_neighbors:\n",
    "                adj_mat[node+1, neighbor] = 1\n",
    "        # print('here')\n",
    "        no_mats.append(adj_mat)\n",
    "    yes_mats = []\n",
    "    for endpoints in itertools.combinations_with_replacement(paired_assignments, n):\n",
    "        for target_pair in range(0, 2*n, 2):\n",
    "            # target_endpoints = endpoints[target_pair // 2]\n",
    "            # curr_endpoints = endpoints[: target_pair//2] + endpoints[target_pair//2+1:]\n",
    "            for target_endpoint in range(k):\n",
    "                mat = np.zeros((num_nodes, num_nodes))\n",
    "                for node in range(0,2*n, 2):\n",
    "                    node1_neighbors, node2_neighbors = endpoints[node // 2]\n",
    "                    if node == target_pair:\n",
    "                        node1_neighbors = list(node1_neighbors)\n",
    "                        node2_neighbors = list(node2_neighbors)\n",
    "                        node2_neighbors[target_endpoint] = node1_neighbors[target_endpoint]\n",
    "                        \n",
    "                    # print(node1_neighbors, 'd')\n",
    "                    adj_mat[node, node+1] = 1\n",
    "                    for neighbor in node1_neighbors:\n",
    "                        adj_mat[node, neighbor] = 1\n",
    "                    for neighbor in node2_neighbors:\n",
    "                        adj_mat[node+1, neighbor] = 1\n",
    "                yes_mats.append(mat)\n",
    "    return yes_mats, no_mats"
   ]
  },
  {
   "cell_type": "code",
   "execution_count": 3,
   "id": "b1e10346-17d0-4b6d-bac9-3011e740162d",
   "metadata": {},
   "outputs": [
    {
     "data": {
      "image/png": "[encoded data removed]",
      "text/plain": [
       "<Figure size 1280x960 with 1 Axes>"
      ]
     },
     "metadata": {},
     "output_type": "display_data"
    }
   ],
   "source": [
    "yes_mats, no_mats = matrix_triangle(2,1)\n",
    "G = nx.from_numpy_array(yes_mats[0])\n",
    "nx.draw_networkx(G)"
   ]
  },
  {
   "cell_type": "code",
   "execution_count": 6,
   "id": "8bbf94ec-1e04-4b40-8c64-d13e1da77d50",
   "metadata": {},
   "outputs": [
    {
     "data": {
      "text/plain": [
       "{0, 1, 2, 3, 4}"
      ]
     },
     "execution_count": 6,
     "metadata": {},
     "output_type": "execute_result"
    }
   ],
   "source": [
    "set(range(5))"
   ]
  },
  {
   "cell_type": "code",
   "execution_count": 31,
   "id": "f5f2ed9c-1b27-4783-a893-015ba645351f",
   "metadata": {},
   "outputs": [
    {
     "data": {
      "text/plain": [
       "[(1, 3, 1, 3, 1, 3),\n",
       " (1, 3, 1, 3, 1, 4),\n",
       " (1, 3, 1, 3, 2, 3),\n",
       " (1, 3, 1, 3, 2, 4),\n",
       " (1, 3, 1, 4, 1, 3),\n",
       " (1, 3, 1, 4, 1, 4),\n",
       " (1, 3, 1, 4, 2, 3),\n",
       " (1, 3, 1, 4, 2, 4),\n",
       " (1, 3, 2, 3, 1, 3),\n",
       " (1, 3, 2, 3, 1, 4),\n",
       " (1, 3, 2, 3, 2, 3),\n",
       " (1, 3, 2, 3, 2, 4),\n",
       " (1, 3, 2, 4, 1, 3),\n",
       " (1, 3, 2, 4, 1, 4),\n",
       " (1, 3, 2, 4, 2, 3),\n",
       " (1, 3, 2, 4, 2, 4),\n",
       " (1, 4, 1, 3, 1, 3),\n",
       " (1, 4, 1, 3, 1, 4),\n",
       " (1, 4, 1, 3, 2, 3),\n",
       " (1, 4, 1, 3, 2, 4),\n",
       " (1, 4, 1, 4, 1, 3),\n",
       " (1, 4, 1, 4, 1, 4),\n",
       " (1, 4, 1, 4, 2, 3),\n",
       " (1, 4, 1, 4, 2, 4),\n",
       " (1, 4, 2, 3, 1, 3),\n",
       " (1, 4, 2, 3, 1, 4),\n",
       " (1, 4, 2, 3, 2, 3),\n",
       " (1, 4, 2, 3, 2, 4),\n",
       " (1, 4, 2, 4, 1, 3),\n",
       " (1, 4, 2, 4, 1, 4),\n",
       " (1, 4, 2, 4, 2, 3),\n",
       " (1, 4, 2, 4, 2, 4),\n",
       " (2, 3, 1, 3, 1, 3),\n",
       " (2, 3, 1, 3, 1, 4),\n",
       " (2, 3, 1, 3, 2, 3),\n",
       " (2, 3, 1, 3, 2, 4),\n",
       " (2, 3, 1, 4, 1, 3),\n",
       " (2, 3, 1, 4, 1, 4),\n",
       " (2, 3, 1, 4, 2, 3),\n",
       " (2, 3, 1, 4, 2, 4),\n",
       " (2, 3, 2, 3, 1, 3),\n",
       " (2, 3, 2, 3, 1, 4),\n",
       " (2, 3, 2, 3, 2, 3),\n",
       " (2, 3, 2, 3, 2, 4),\n",
       " (2, 3, 2, 4, 1, 3),\n",
       " (2, 3, 2, 4, 1, 4),\n",
       " (2, 3, 2, 4, 2, 3),\n",
       " (2, 3, 2, 4, 2, 4),\n",
       " (2, 4, 1, 3, 1, 3),\n",
       " (2, 4, 1, 3, 1, 4),\n",
       " (2, 4, 1, 3, 2, 3),\n",
       " (2, 4, 1, 3, 2, 4),\n",
       " (2, 4, 1, 4, 1, 3),\n",
       " (2, 4, 1, 4, 1, 4),\n",
       " (2, 4, 1, 4, 2, 3),\n",
       " (2, 4, 1, 4, 2, 4),\n",
       " (2, 4, 2, 3, 1, 3),\n",
       " (2, 4, 2, 3, 1, 4),\n",
       " (2, 4, 2, 3, 2, 3),\n",
       " (2, 4, 2, 3, 2, 4),\n",
       " (2, 4, 2, 4, 1, 3),\n",
       " (2, 4, 2, 4, 1, 4),\n",
       " (2, 4, 2, 4, 2, 3),\n",
       " (2, 4, 2, 4, 2, 4)]"
      ]
     },
     "execution_count": 31,
     "metadata": {},
     "output_type": "execute_result"
    }
   ],
   "source": [
    "list(itertools.product(*([[1,2], [3,4]]*3)))"
   ]
  },
  {
   "cell_type": "code",
   "execution_count": null,
   "id": "4395b1f4-a514-4b1b-bf55-9577b9d22c8e",
   "metadata": {},
   "outputs": [],
   "source": []
  }
 ],
 "metadata": {
  "kernelspec": {
   "display_name": "Python 3 (ipykernel)",
   "language": "python",
   "name": "python3"
  },
  "language_info": {
   "codemirror_mode": {
    "name": "ipython",
    "version": 3
   },
   "file_extension": ".py",
   "mimetype": "text/x-python",
   "name": "python",
   "nbconvert_exporter": "python",
   "pygments_lexer": "ipython3",
   "version": "3.10.9"
  }
 },
 "nbformat": 4,
 "nbformat_minor": 5
}
