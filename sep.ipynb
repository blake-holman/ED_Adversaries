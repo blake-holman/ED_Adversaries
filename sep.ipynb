{
 "cells": [
  {
   "cell_type": "markdown",
   "id": "a492c87c-426d-47ca-b460-e2df31b4e64d",
   "metadata": {},
   "source": [
    "#  "
   ]
  },
  {
   "cell_type": "code",
   "execution_count": 1,
   "id": "00571e90-1ed5-4187-a6e2-a05986848030",
   "metadata": {},
   "outputs": [],
   "source": [
    "import cvxpy as cp\n",
    "from copy import deepcopy as copy\n",
    "from scipy.linalg import fractional_matrix_power, block_diag\n",
    "import networkx as nx\n",
    "import cvxpy as cp\n",
    "import matplotlib as mpl\n",
    "import matplotlib.pyplot as plt \n",
    "import numpy as np\n",
    "from operator import itemgetter\n",
    "# from netgraph import InteactiveGraph # pip install netgraph\n",
    "from functools import reduce\n",
    "import scipy \n",
    "from numpy.linalg import matrix_rank as rank \n",
    "from Adversary import Problem, to_str, visualize, Adversary, hamming_dist as dist\n",
    "from Solvers import type_mask, partial, ket, instance_mask, adv_solver\n",
    "from Examples import exact_k, threshold_k\n",
    "from functools import reduce\n",
    "from itertools import product"
   ]
  },
  {
   "cell_type": "code",
   "execution_count": 2,
   "id": "65ceccae-8a8c-459a-9592-5a06a1181023",
   "metadata": {},
   "outputs": [],
   "source": [
    "def partial_identity(size, id_size, index):\n",
    "    sub_mat = np.zeros((size, size))\n",
    "    sub_mat[index, index] = 1\n",
    "    return np.kron(sub_mat, np.eye(id_size))\n",
    "\n",
    "def delta_mat(x, y, lang_size):\n",
    "    n = len(x)\n",
    "    mat = np.zeros((n,n))\n",
    "    for i in range(n):\n",
    "        for j in range(n):\n",
    "            if x[i] == x[j]:\n",
    "                mat[i,j] = 1\n",
    "    loc_mat = np.zeros((lang_size, lang_size))\n",
    "    loc_mat[i,j] = 1\n",
    "    return np.kron(loc_mat, mat)\n",
    "\n",
    "\n",
    "def partial_transpose(mat, dim1=None, dim2=None):\n",
    "    assert mat.shape[0] == mat.shape[1]\n",
    "    mat_size = mat.shape[0]\n",
    "    if dim1 is None:\n",
    "        size = int(np.sqrt(mat_size))  \n",
    "        dim1 = size\n",
    "        dim2 = size\n",
    "        \n",
    "    elif dim2 is None:\n",
    "        dim2 = mat_size // dim1\n",
    "    \n",
    "    assert dim2 * dim1 == mat_size, (\"dim1=\" + str(dim1) + \", dim2=\" + \n",
    "                                     str(dim2) +\", mat_size=\" + str(mat_size))\n",
    "    \n",
    "    pt_mat = cp.bmat(\n",
    "        [\n",
    "            [\n",
    "                mat[i*dim2:(i+1)*dim2, j*dim2:(j+1)*dim2].T for i in range(dim1)\n",
    "            ] for j in range(dim1)\n",
    "        ]\n",
    "    )\n",
    "\n",
    "    return pt_mat\n",
    "        \n",
    "def ppt_span_bound(problem, p, r):\n",
    "    n = problem.n\n",
    "    lang_size = problem.len\n",
    "    orig_size = n * lang_size\n",
    "    pure_size = orig_size * r\n",
    "    sep_size = pure_size * pure_size \n",
    "    print(\"sep_size\", sep_size, pure_size, orig_size, lang_size, n)\n",
    "    X = cp.Variable((sep_size, sep_size), PSD=True)\n",
    "    D = [partial_identity(lang_size, n, i) for i in range(lang_size)]\n",
    "    Delta = [delta_mat(inst1, inst2, problem.len) for inst1, inst2 in \n",
    "        list(product(problem.yes_instances, problem.no_instances))\n",
    "        ]\n",
    "    \n",
    "    big_D = [reduce(np.kron, \n",
    "                    [d, np.eye(r), np.ones((pure_size, pure_size))]) - np.eye(sep_size)/lang_size for d in D]\n",
    "    big_Delta = [reduce(np.kron, [mat, np.eye(r), np.ones((pure_size, pure_size))]) - p*np.eye(sep_size) for mat in Delta]\n",
    "    constraints = [cp.trace(X)==1, partial_transpose(X) >> 0]\n",
    "    partial_inner = partial_inner_mat([pure_size, pure_size], 0)\n",
    "\n",
    "    constraints += [\n",
    "        partial_inner @ cp.multiply(mat, X) @ partial_inner.T == 0 for mat in big_Delta\n",
    "    ] \n",
    "\n",
    "    opt_prob = cp.Problem(cp.Minimize(0), constraints)\n",
    "    opt_prob.solve(solver=\"SCS\", verbose=True)\n",
    "    return X.value\n",
    "\n",
    "def partial_inner_mat(dims, i):\n",
    "    left_I = np.eye(int(np.prod(dims[:i])))\n",
    "    right_I = np.eye(int(np.prod(dims[i+1:])))\n",
    "    left = reduce(np.kron, [left_I, np.ones((1, dims[i])), right_I])\n",
    "    right = reduce(np.kron, [left_I, np.ones((dims[i], 1)), right_I])\n",
    "    # print(big_A.shape, B.shape, left.shape, right.shape)\n",
    "    return left \n",
    "#<A,B>\n",
    "def inner_mats(A,B):\n",
    "    C = A*B\n",
    "    return (np.ones((1, A.shape[1])) @ C @  np.ones((B.shape[0], 1)))[0,0]\n",
    "    \n",
    "# A is dims[i] by dims[i], B is \\otimes_j dims[j] square\n",
    "# want to apply <A,.> to the ith component of B  \n",
    "\n",
    "    "
   ]
  },
  {
   "cell_type": "code",
   "execution_count": null,
   "id": "74289ee2-6db7-4fd9-a782-1fd704dcf51a",
   "metadata": {},
   "outputs": [
    {
     "name": "stdout",
     "output_type": "stream",
     "text": [
      "sep_size 1296 36 18 6 3\n",
      "===============================================================================\n",
      "                                     CVXPY                                     \n",
      "                                     v1.4.2                                    \n",
      "===============================================================================\n",
      "(CVXPY) Nov 17 02:22:55 PM: Your problem has 1679616 variables, 11 constraints, and 0 parameters.\n",
      "(CVXPY) Nov 17 02:22:55 PM: It is compliant with the following grammars: DCP, DQCP\n",
      "(CVXPY) Nov 17 02:22:55 PM: (If you need to solve this problem multiple times, but with different data, consider using parameters.)\n",
      "(CVXPY) Nov 17 02:22:55 PM: CVXPY will first compile your problem; then, it will invoke a numerical solver to obtain a solution.\n",
      "(CVXPY) Nov 17 02:22:55 PM: Your problem is compiled with the CPP canonicalization backend.\n",
      "-------------------------------------------------------------------------------\n",
      "                                  Compilation                                  \n",
      "-------------------------------------------------------------------------------\n",
      "(CVXPY) Nov 17 02:22:55 PM: Compiling problem (target solver=SCS).\n",
      "(CVXPY) Nov 17 02:22:55 PM: Reduction chain: Dcp2Cone -> CvxAttr2Constr -> ConeMatrixStuffing -> SCS\n",
      "(CVXPY) Nov 17 02:22:55 PM: Applying reduction Dcp2Cone\n",
      "(CVXPY) Nov 17 02:22:55 PM: Applying reduction CvxAttr2Constr\n",
      "(CVXPY) Nov 17 02:22:57 PM: Applying reduction ConeMatrixStuffing\n"
     ]
    }
   ],
   "source": [
    "prob = threshold_k(3,2)\n",
    "\n",
    "X = ppt_span_bound(prob,1.7, 2)\n",
    "print(np.trace(X))"
   ]
  },
  {
   "cell_type": "code",
   "execution_count": 19,
   "id": "2f0a5b8a-362f-4335-bbcc-0b3f05c8a454",
   "metadata": {},
   "outputs": [
    {
     "name": "stdout",
     "output_type": "stream",
     "text": [
      "0.12357044921616976\n"
     ]
    },
    {
     "data": {
      "image/png": "[encoded data removed]",
      "text/plain": [
       "<Figure size 640x480 with 2 Axes>"
      ]
     },
     "metadata": {},
     "output_type": "display_data"
    }
   ],
   "source": [
    "print(np.linalg.norm(X))\n",
    "visualize(X)\n"
   ]
  },
  {
   "cell_type": "code",
   "execution_count": null,
   "id": "7959695a-bbf4-4c49-9ab6-a31f603d16ec",
   "metadata": {},
   "outputs": [],
   "source": []
  }
 ],
 "metadata": {
  "kernelspec": {
   "display_name": "Python 3 (ipykernel)",
   "language": "python",
   "name": "python3"
  },
  "language_info": {
   "codemirror_mode": {
    "name": "ipython",
    "version": 3
   },
   "file_extension": ".py",
   "mimetype": "text/x-python",
   "name": "python",
   "nbconvert_exporter": "python",
   "pygments_lexer": "ipython3",
   "version": "3.11.5"
  }
 },
 "nbformat": 4,
 "nbformat_minor": 5
}
