{
 "cells": [
  {
   "cell_type": "code",
   "execution_count": 1,
   "id": "84c82d4a-b974-4a3b-9f07-d48d00356a77",
   "metadata": {},
   "outputs": [],
   "source": [
    "from Solvers import adv_solver, span_solver, span_solver2\n",
    "from Adversary import Adversary, Problem, to_str\n",
    "import numpy as np\n",
    "import matplotlib.pyplot as plt\n",
    "import itertools\n",
    "from Examples import exact_k, threshold_k\n",
    "from ElementDistinctness import ED\n",
    "from copy import deepcopy as copy\n",
    "import scipy\n",
    "import cvxpy as cp\n",
    "import itertools\n",
    "import matplotlib as mpl\n",
    "mpl.rcParams['figure.dpi'] =100"
   ]
  },
  {
   "cell_type": "code",
   "execution_count": 61,
   "id": "b110524d-b8aa-4c9a-ad31-d85fb6a66ad2",
   "metadata": {},
   "outputs": [],
   "source": [
    "class SpanProgram():\n",
    "    def __init__(self, problem, I_dict):\n",
    "        self.target = np.ones(problem.no_len)\n",
    "        self.num_vects = np.sum([len(v) for i, v in I_dict.items()])\n",
    "        self.ordered_I = [pair for pair in itertools.product(tuple(range(problem.n)), problem.alphabet)]\n",
    "        self.I_to_mat = {}\n",
    "        self.counter = 0\n",
    "        self.vect_list = []\n",
    "        self.ticks = []\n",
    "        self.problem = problem\n",
    "        for pair, v_set in I_dict.items():\n",
    "            self.ticks.append(self.counter)\n",
    "            self.I_to_mat[pair] = list(range(self.counter, self.counter + len(v_set)))\n",
    "            self.counter += len(v_set)\n",
    "            for vect in v_set:\n",
    "                self.vect_list.append(vect)\n",
    "            # self.vect_list.append(*v_set)\n",
    "        \n",
    "        self.A = np.array(self.vect_list).T \n",
    "    \n",
    "    def get_activated_A(self, x):\n",
    "        activated_A = np.zeros(self.A.shape)\n",
    "        for i in range(len(x)):\n",
    "            interval = self.I_to_mat[(i, x[i])]\n",
    "            activated_A[:, interval] = self.A[:, interval]\n",
    "        return activated_A\n",
    "        \n",
    "        \n",
    "    def apply(x, witness):\n",
    "        return get_activated_A(x) @ witness\n",
    "    \n",
    "    def visualize_A(self):\n",
    "        plt.imshow(self.A)\n",
    "        plt.xticks(self.ticks, self.ordered_I)\n",
    "        plt.yticks(list(range(self.problem.no_len)), self.problem.no_instances)\n",
    "        plt.colorbar()\n",
    "        plt.show()\n",
    "            \n",
    "        "
   ]
  },
  {
   "cell_type": "code",
   "execution_count": 62,
   "id": "a7ded97e-e873-425d-9a01-890edbcabfbe",
   "metadata": {},
   "outputs": [],
   "source": [
    "def rand_function(n, alpha='01'):\n",
    "    yes = []\n",
    "    no = []\n",
    "    for s in itertools.product(*[alpha]*n):\n",
    "        if np.random.randint(2):\n",
    "            yes.append(s)\n",
    "        else:\n",
    "            no.append(s)\n",
    "    return Problem(no, yes)"
   ]
  },
  {
   "cell_type": "code",
   "execution_count": 63,
   "id": "79d868ef-7a0d-4698-842b-bf82b9ee0d81",
   "metadata": {},
   "outputs": [
    {
     "name": "stdout",
     "output_type": "stream",
     "text": [
      "No:[(0, 0, 1), (0, 1, 0), (1, 0, 0)]\n",
      "Yes:[(0, 1, 1), (1, 0, 1), (1, 1, 0)]\n"
     ]
    }
   ],
   "source": [
    "prob = threshold_k(3, 2)\n",
    "print(prob)\n",
    "v, X = span_solver(prob, {'solver': 'MOSEK', 'verbose': False})"
   ]
  },
  {
   "cell_type": "code",
   "execution_count": 64,
   "id": "49b56730-4f17-47dc-b595-6c551b2bbab7",
   "metadata": {
    "tags": []
   },
   "outputs": [
    {
     "name": "stdout",
     "output_type": "stream",
     "text": [
      "15\n"
     ]
    },
    {
     "data": {
      "image/png": "[encoded data removed]",
      "text/plain": [
       "<Figure size 640x480 with 2 Axes>"
      ]
     },
     "metadata": {},
     "output_type": "display_data"
    }
   ],
   "source": [
    "def get_cholesky_fact(A, eps_pow=15):\n",
    "    for i in range(eps_pow,1,-1):\n",
    "        print(i)\n",
    "        try:\n",
    "            curr_A = A + 10**-i * np.eye(A.shape[0])\n",
    "            return np.round(scipy.linalg.cholesky(curr_A), i-1)\n",
    "        except:\n",
    "            pass\n",
    "def decompose_cholesky(L, problem):\n",
    "    partials = []\n",
    "    for i in range(problem.n):\n",
    "        full_partial = L[i * problem.len: (i+1)* problem.len, i * problem.len: (i+1)* problem.len][:problem.no_len, :]\n",
    "        nonzero_columns = []\n",
    "        for j in range(full_partial.shape[1]):\n",
    "            v = full_partial[:, j]\n",
    "            if np.linalg.norm(v) > 10**-6:\n",
    "                # print('j', j)\n",
    "                nonzero_columns.append(v.T)\n",
    "        partials.append(np.array(nonzero_columns))\n",
    "    return partials\n",
    "\n",
    "def span_from_decomp(partials, problem):\n",
    "    I = {}\n",
    "    for j, b in itertools.product(range(problem.n), problem.alphabet):\n",
    "        I[(j, b)] = []\n",
    "        for i in range(partials[j].shape[1]):\n",
    "            I[(j, b)].append(partials[j][i, :])\n",
    "    return SpanProgram(problem, I)\n",
    "                \n",
    "X2 = np.round(X, 5)\n",
    "# print(X)\n",
    "L = get_cholesky_fact(X2)\n",
    "partials = decompose_cholesky(L, prob)\n",
    "sp = span_from_decomp(partials, prob)\n",
    "sp.visualize_A()"
   ]
  },
  {
   "cell_type": "code",
   "execution_count": 8,
   "id": "ec8b1531-1a7c-42d9-b4f1-903d1e3ad5e2",
   "metadata": {},
   "outputs": [
    {
     "ename": "NameError",
     "evalue": "name 'diffs' is not defined",
     "output_type": "error",
     "traceback": [
      "\u001b[0;31m---------------------------------------------------------------------------\u001b[0m",
      "\u001b[0;31mNameError\u001b[0m                                 Traceback (most recent call last)",
      "Cell \u001b[0;32mIn[8], line 1\u001b[0m\n\u001b[0;32m----> 1\u001b[0m \u001b[38;5;28mprint\u001b[39m(\u001b[43mdiffs\u001b[49m)\n\u001b[1;32m      2\u001b[0m \u001b[38;5;28;01mfor\u001b[39;00m val \u001b[38;5;129;01min\u001b[39;00m vals:\n\u001b[1;32m      3\u001b[0m     \u001b[38;5;28mprint\u001b[39m(val)\n",
      "\u001b[0;31mNameError\u001b[0m: name 'diffs' is not defined"
     ]
    }
   ],
   "source": [
    "print(diffs)\n",
    "for val in vals:\n",
    "    print(val)\n",
    "plt.imshow(vals[0][0])\n",
    "plt.colorbar()\n",
    "plt.show()\n",
    "plt.imshow(vals[0][1])\n",
    "plt.colorbar()\n",
    "plt.show()"
   ]
  },
  {
   "cell_type": "code",
   "execution_count": null,
   "id": "f318041b-02e5-4733-9f65-dfac72e58b06",
   "metadata": {},
   "outputs": [
    {
     "name": "stdout",
     "output_type": "stream",
     "text": [
      "2.7013095245292558 1.6811874863360203\n",
      "norm 7.668838684516012\n",
      "len 64\n",
      "rank 64 64\n",
      "42.96227356412673\n"
     ]
    }
   ],
   "source": [
    "print(v, np.max([X[i][i] for i in range(X.shape[0])]))\n",
    "print('norm', np.linalg.norm(X, 2))\n",
    "print('len', X.shape[0])\n",
    "print('rank', np.linalg.matrix_rank(X2), np.linalg.matrix_rank(X))\n",
    "print(np.trace(X2))\n",
    "# print(np.real_if_close(np.linalg.eigvals(X),4)[0])"
   ]
  },
  {
   "cell_type": "code",
   "execution_count": 9,
   "id": "9341a436-904b-4a38-b0d8-1dd07f58e038",
   "metadata": {},
   "outputs": [
    {
     "ename": "NameError",
     "evalue": "name 'L' is not defined",
     "output_type": "error",
     "traceback": [
      "\u001b[0;31m---------------------------------------------------------------------------\u001b[0m",
      "\u001b[0;31mNameError\u001b[0m                                 Traceback (most recent call last)",
      "Cell \u001b[0;32mIn[9], line 1\u001b[0m\n\u001b[0;32m----> 1\u001b[0m plt\u001b[38;5;241m.\u001b[39mimshow(\u001b[43mL\u001b[49m)\n\u001b[1;32m      2\u001b[0m plt\u001b[38;5;241m.\u001b[39mcolorbar()\n",
      "\u001b[0;31mNameError\u001b[0m: name 'L' is not defined"
     ]
    }
   ],
   "source": [
    "plt.imshow(L)\n",
    "plt.colorbar()"
   ]
  },
  {
   "cell_type": "code",
   "execution_count": null,
   "id": "2ee59597-7d67-4e3d-8345-b698bf3135bd",
   "metadata": {},
   "outputs": [],
   "source": []
  }
 ],
 "metadata": {
  "kernelspec": {
   "display_name": "Python 3 (ipykernel)",
   "language": "python",
   "name": "python3"
  },
  "language_info": {
   "codemirror_mode": {
    "name": "ipython",
    "version": 3
   },
   "file_extension": ".py",
   "mimetype": "text/x-python",
   "name": "python",
   "nbconvert_exporter": "python",
   "pygments_lexer": "ipython3",
   "version": "3.10.9"
  }
 },
 "nbformat": 4,
 "nbformat_minor": 5
}
