{
 "cells": [
  {
   "cell_type": "code",
   "execution_count": 102,
   "id": "38843f97-8da8-402f-9874-05f444fa6573",
   "metadata": {},
   "outputs": [],
   "source": [
    "import numpy as np\n",
    "import matplotlib.pylab as plt\n",
    "import seaborn as sns\n",
    "import matplotlib as mpl\n",
    "import matplotlib\n",
    "matplotlib.rcParams['mathtext.fontset'] = 'stix'\n",
    "matplotlib.rcParams['font.family'] = 'STIXGeneral'\n",
    "# matplotlib.pyplot.title(r'ABC123 vs $\\mathrm{ABC123}^{123}$')\n",
    "mpl.rcParams['figure.dpi'] =300\n",
    "plt.figure(figsize=(20,10))\n",
    "\n",
    "def f(s, n):\n",
    "    if s <= n**(1/3):\n",
    "        return np.sqrt(n/s)\n",
    "    else:\n",
    "        return n**(1/3)\n",
    "\n",
    "n=100\n",
    "X = np.arange(1, n**(1/3+.1), .01)\n",
    "Q = [f(x, n)  for x in X]\n",
    "C = [np.sqrt(n) for _ in X]\n",
    "# print(X, Q, C)\n",
    "fig, ax = plt.subplots()\n",
    "plt.xlabel('Allowable Space', fontsize=20)\n",
    "plt.ylabel('Time', fontsize=20)\n",
    "plt.plot(X, Q, label='Quantum', linewidth=3)\n",
    "plt.plot(X, C, label='Classical', linewidth=3)\n",
    "\n",
    "plt.legend()\n",
    "ax.set_xticks([1, n**(1/3)])\n",
    "ax.set_xticklabels([r'$\\log N$', r'$N^{1/3}\\log N$'])\n",
    "ax.set_yticks([n**(1/2), n**(1/3)])\n",
    "ax.set_yticklabels([r'$\\sqrt{N}$', r'$N^{1/3}$'])\n",
    "ax.set_ylim((n**(1/4), 1.2 * n**(1/2)))\n",
    "plt.xticks(fontsize=20)\n",
    "plt.yticks(fontsize=20)\n",
    "# plt.savefig('')\n",
    "plt.savefig('time.png', facecolor='w', )"
   ]
  },
  {
   "cell_type": "code",
   "execution_count": 104,
   "id": "4ec1c8f2-6c5c-4a61-bcdb-a1979f3cac82",
   "metadata": {},
   "outputs": [
    {
     "name": "stdout",
     "output_type": "stream",
     "text": [
      "[ 1.   1.1  1.2  1.3  1.4  1.5  1.6  1.7  1.8  1.9  2.   2.1  2.2  2.3\n",
      "  2.4  2.5  2.6  2.7  2.8  2.9  3.   3.1  3.2  3.3  3.4  3.5  3.6  3.7\n",
      "  3.8  3.9  4.   4.1  4.2  4.3  4.4  4.5  4.6  4.7  4.8  4.9  5.   5.1\n",
      "  5.2  5.3  5.4  5.5  5.6  5.7  5.8  5.9  6.   6.1  6.2  6.3  6.4  6.5\n",
      "  6.6  6.7  6.8  6.9  7.   7.1  7.2  7.3  7.4  7.5  7.6  7.7  7.8  7.9\n",
      "  8.   8.1  8.2  8.3  8.4  8.5  8.6  8.7  8.8  8.9  9.   9.1  9.2  9.3\n",
      "  9.4  9.5  9.6  9.7  9.8  9.9 10.  10.1 10.2 10.3 10.4 10.5 10.6 10.7\n",
      " 10.8 10.9 11.  11.1 11.2 11.3 11.4 11.5 11.6 11.7 11.8 11.9 12.  12.1\n",
      " 12.2 12.3 12.4 12.5 12.6 12.7 12.8 12.9 13.  13.1 13.2 13.3 13.4 13.5\n",
      " 13.6 13.7 13.8 13.9 14.  14.1 14.2 14.3 14.4 14.5 14.6 14.7 14.8 14.9\n",
      " 15.  15.1 15.2 15.3 15.4 15.5 15.6 15.7 15.8 15.9 16.  16.1 16.2 16.3\n",
      " 16.4 16.5 16.6 16.7 16.8 16.9 17.  17.1 17.2 17.3 17.4 17.5 17.6 17.7\n",
      " 17.8 17.9 18.  18.1 18.2 18.3 18.4 18.5 18.6 18.7 18.8 18.9 19.  19.1\n",
      " 19.2 19.3 19.4 19.5 19.6 19.7 19.8 19.9 20.  20.1 20.2 20.3 20.4 20.5\n",
      " 20.6 20.7 20.8 20.9 21.  21.1 21.2 21.3 21.4 21.5 21.6 21.7 21.8 21.9\n",
      " 22.  22.1 22.2 22.3 22.4 22.5 22.6 22.7 22.8 22.9 23.  23.1 23.2 23.3\n",
      " 23.4 23.5 23.6 23.7 23.8 23.9 24.  24.1 24.2 24.3 24.4 24.5 24.6 24.7\n",
      " 24.8 24.9 25.  25.1 25.2 25.3 25.4 25.5 25.6 25.7 25.8 25.9 26.  26.1\n",
      " 26.2 26.3 26.4 26.5 26.6 26.7 26.8 26.9 27.  27.1 27.2 27.3 27.4 27.5\n",
      " 27.6 27.7 27.8 27.9 28.  28.1 28.2 28.3 28.4 28.5 28.6 28.7 28.8 28.9\n",
      " 29.  29.1 29.2 29.3 29.4 29.5 29.6 29.7 29.8 29.9 30.  30.1 30.2 30.3\n",
      " 30.4 30.5 30.6 30.7 30.8 30.9 31.  31.1 31.2 31.3 31.4 31.5 31.6 31.7\n",
      " 31.8 31.9 32.  32.1 32.2 32.3]\n",
      "13.287712379549449 21.544346900318832\n"
     ]
    }
   ],
   "source": [
    "\n",
    "n=10000\n",
    "X = np.arange(1, n**(1/3)*1.5, .1)\n",
    "print(X)\n",
    "Q = [f(x, n) * np.min([x, n**(1/3)])   for x in X]\n",
    "C = [np.sqrt(n) for _ in X]\n",
    "# print(X, Q, C)\n",
    "fig, ax = plt.subplots()\n",
    "plt.plot(X, Q, label='Quantum', linewidth=3)\n",
    "plt.plot(X, C, label='Classical', linewidth=3)\n",
    "print(np.log2(n), n**(1/3))\n",
    "ax.legend()\n",
    "ax.set_xticks([1, n**(1/3)])\n",
    "ax.set_xticklabels([r'$\\log N$', r'$N^{1/3}\\log N$'])\n",
    "ax.set_yticks([n**(1/2), n**(2/3)])\n",
    "ax.set_yticklabels([r'$\\sqrt{N}\\log N$', r'$N^{2/3}\\log N$'])\n",
    "ax.set_ylim((n**(1/2)*.8, n**(2/3)* 1.1))\n",
    "# ax.set_xlim((np.log(n), X[-1]))\n",
    "plt.xlabel('Allowable Space', fontsize=20)\n",
    "plt.ylabel('Space-Time', fontsize=20)\n",
    "plt.xticks(fontsize=20)\n",
    "plt.yticks(fontsize=20)\n",
    "plt.savefig('spacetime.png', bbox_inches='tight')"
   ]
  },
  {
   "cell_type": "code",
   "execution_count": null,
   "id": "f2c73082-e877-4328-b65e-29024a96a3ed",
   "metadata": {},
   "outputs": [],
   "source": []
  }
 ],
 "metadata": {
  "kernelspec": {
   "display_name": "Python 3 (ipykernel)",
   "language": "python",
   "name": "python3"
  },
  "language_info": {
   "codemirror_mode": {
    "name": "ipython",
    "version": 3
   },
   "file_extension": ".py",
   "mimetype": "text/x-python",
   "name": "python",
   "nbconvert_exporter": "python",
   "pygments_lexer": "ipython3",
   "version": "3.9.7"
  }
 },
 "nbformat": 4,
 "nbformat_minor": 5
}
